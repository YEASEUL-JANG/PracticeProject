{
 "cells": [
  {
   "cell_type": "code",
   "execution_count": 4,
   "id": "2e332a5c-7e7e-4e8d-9dfa-a0a5d62dc20b",
   "metadata": {
    "tags": []
   },
   "outputs": [
    {
     "name": "stdin",
     "output_type": "stream",
     "text": [
      " 6 11\n",
      " 1\n"
     ]
    },
    {
     "name": "stdout",
     "output_type": "stream",
     "text": [
      "0\n",
      "2\n",
      "3\n",
      "1\n",
      "2\n",
      "4\n"
     ]
    }
   ],
   "source": [
    "## 기본 다익스트라 알고리즘\n",
    "\n",
    "#무한을 의미 (10억)\n",
    "INF = int(1e9)\n",
    "\n",
    "#노드의 갯수(n), 간선의 갯수(m)\n",
    "n,m = map(int,input().split())\n",
    "#시작노드\n",
    "start = int(input())\n",
    "#각 노드에 연결되어있는 노드에 대한 정보리스트\n",
    "graph = [[]for _ in range(n+1)]\n",
    "#방문한적이 있는지 체크\n",
    "visited = [False] * (n+1)\n",
    "#최단거리 테이블 (모두 무한으로 초기화) \n",
    "distance = [INF] * (n+1)\n",
    "\n",
    "#모든 간선의 정보 입력받기\n",
    "# for _ in range(m):\n",
    "#     #a번 노드에서 b번 노드로 가는 비용이 c\n",
    "#     a,b,c = map(int,input().split())\n",
    "#     graph[a].append((b,c))\n",
    "graph = [[], [(2, 2), (3, 5), (4, 1)], [(3, 3), (4, 2)], [(2, 3), (6, 5)], [(3, 3), (5, 1)], [(3, 1), (6, 2)], []]\n",
    "\n",
    "    \n",
    "#방문하지 않은 노드중에서 가장 최단거리가 짧은 노드의 번호를 반환\n",
    "def get_smallest_node():\n",
    "    min_value = INF\n",
    "    index = 0\n",
    "    #방문하지 않은 노드중 가장 최단거리가 짧은 노드\n",
    "    for i in range(1,n+1):\n",
    "        if distance[i] < min_value and not visited[i]:\n",
    "            min_value = distance[i]\n",
    "            index = i\n",
    "    return index\n",
    "\n",
    "\n",
    "def dijkstra(start):\n",
    "    #시작 노드에 대해 초기화\n",
    "    distance[start] = 0\n",
    "    visited[start] = True\n",
    "    for j in graph[start]:\n",
    "        #시작노드에서 j[0]번 노드를 가는 비용 저장\n",
    "        distance[j[0]] = j[1]\n",
    "    #시작노드를 제외한 전체 n-1개의 노드에 대해 반복\n",
    "    for i in range(n-1):\n",
    "        #현재 최단거리가 가장 짧은 노드를 꺼내 방문\n",
    "        now = get_smallest_node()\n",
    "        visited[now] = True\n",
    "        #현재 노드와 연결된 다른 노드 비용 확인\n",
    "        for j in graph[now]:\n",
    "            cost = distance[now]+ j[1]\n",
    "            #현재 노드를 거쳐 다른 노드로 이동하는 거리가 더 짧은 경우\n",
    "            if cost < distance[j[0]]:\n",
    "                distance[j[0]] = cost\n",
    "\n",
    "dijkstra(start)\n",
    "\n",
    "for i in range(1,n+1):\n",
    "    if distance[i] == INF:\n",
    "        print(\"infinity\")\n",
    "    else:\n",
    "        print(distance[i])\n",
    "            \n",
    "        \n",
    "\n"
   ]
  },
  {
   "cell_type": "code",
   "execution_count": 8,
   "id": "be689ff7-e66e-41ce-9cb5-58dc3d091168",
   "metadata": {
    "tags": []
   },
   "outputs": [
    {
     "name": "stdin",
     "output_type": "stream",
     "text": [
      " 6 11\n",
      " 1\n"
     ]
    },
    {
     "name": "stdout",
     "output_type": "stream",
     "text": [
      "0\n",
      "2\n",
      "3\n",
      "1\n",
      "2\n",
      "4\n"
     ]
    }
   ],
   "source": [
    "##개선된 다익스트라 알고리즘 (우선순위큐)\n",
    "\n",
    "import heapq\n",
    "\n",
    "INF = int(1e9)\n",
    "\n",
    "# n : 노드의 갯수 , m : 간선의 갯수\n",
    "n, m = map(int, input().split())\n",
    "start = int(input())\n",
    "graph = [[] for _ in range(n+1)]\n",
    "distance = [INF] * (n+1)\n",
    "\n",
    "# for _ in range(m):\n",
    "#     a, b, c = map(int, input().split())\n",
    "#     graph[a].append((b, c))\n",
    "graph = [[], [(2, 2), (3, 5), (4, 1)], [(3, 3), (4, 2)], [(2, 3), (6, 5)], [(3, 3), (5, 1)], [(3, 1), (6, 2)], []]\n",
    "\n",
    "def dijkstra(start):\n",
    "    h = []\n",
    "    # 우선순위큐에 출발지 저장\n",
    "    heapq.heappush(h, (0, start))\n",
    "    # 거리 저장\n",
    "    distance[start] = 0\n",
    "    \n",
    "    # 우선순위 큐에서 제일 거리가 짧은 노드 출력\n",
    "    while h:\n",
    "        dist, now = heapq.heappop(h)\n",
    "        # now노드까지의 더 짧은 경로가 이미 있는경우는 무시\n",
    "        if distance[now] < dist:\n",
    "            continue\n",
    "        for i in graph[now]:\n",
    "            cost = i[1] + dist\n",
    "            if distance[i[0]] > cost:\n",
    "                distance[i[0]] = cost\n",
    "                heapq.heappush(h, (cost, i[0]))\n",
    "\n",
    "dijkstra(start)\n",
    "\n",
    "for i in range(1, n+1):\n",
    "    if distance[i] == INF:\n",
    "        print(\"INF\")\n",
    "    else:\n",
    "        print(distance[i])"
   ]
  },
  {
   "cell_type": "code",
   "execution_count": null,
   "id": "3c5773cd-7734-45db-8a9f-cda3638bbebc",
   "metadata": {},
   "outputs": [],
   "source": [
    "# ##문제1. 미래도시\n",
    "# 공중 미래도시에는 1번부터 n번까지의 회사가 있는데 \n",
    "# 특정회사끼리는 서로 도로를 통해 연결되어 있다. \n",
    "# 방문 판매원 A는 현재 1번 회사에 위치해 있으며, \n",
    "# x번 회사에 방문해 물건을 판매하고자 한다. \n",
    "\n",
    "# 공중 미래도시에서는 회사끼리 연결되어 있는 도로를 통해 \n",
    "# 양뱡향으로 이동가능하고 특정회사와 다른 회사가 도로로 \n",
    "# 연결되어 있다면 1만큼의 시간이 소요된다. \n",
    "# A는 오늘 또한 K번 회사에 가서 커피를 마신 후 X번 \n",
    "# 회사에 물건을 판매하러 가고자 한다. ( 1→ K → X )  \n",
    "# 이때 A가 이동하게 되는 최소 시간을 계산하는 프로그램을 작성하시오. \n",
    "\n",
    "# 예를들어 N=5, X=4, K=5 이고 회사간 도로가 7개면서 \n",
    "# 각 도로가 다음과 같이 연결되어 있다면 \n",
    "# (1번,2번), (1번,3번), (1번,4번), (2번,4번), \n",
    "# (3번, 4번), (3번, 5번), (4번, 5번) \n",
    "# 이때 A가 최종적으로 4번 회사에 가는 경로를 \n",
    "# (1번 → 3번→ 5번→ 4번)으로 설정하면 총 3만큼의 시간으로 \n",
    "# 이동할 수 있다."
   ]
  },
  {
   "cell_type": "code",
   "execution_count": 25,
   "id": "5f67c56e-31d0-4e47-a732-a350dc7441f8",
   "metadata": {
    "tags": []
   },
   "outputs": [
    {
     "name": "stdout",
     "output_type": "stream",
     "text": [
      "Infinity\n"
     ]
    }
   ],
   "source": [
    "#N,M = map(int,input().split())\n",
    "# graph = []\n",
    "# for _ in range(M):\n",
    "#     a,b = map(int,input().split())\n",
    "#     ##양방향연결이므로 둘 다 넣는다.\n",
    "#     graph.append((a,b))\n",
    "#     graph.append((b,a))\n",
    "# X,K = map(int,input().split())\n",
    "\n",
    "import heapq\n",
    "\n",
    "N,M = (4,2)\n",
    "graph = [(1,3),(2,4)]\n",
    "sorted_graph = [[]for _ in range(N+1)]\n",
    "for i in graph:\n",
    "    sorted_graph[i[0]].append(i[1])\n",
    "X,K = (3,4)\n",
    "INF = int(1e9)\n",
    "\n",
    "def dijkstra(start):\n",
    "    distance = [INF] * (n+1)\n",
    "    h = []\n",
    "    heapq.heappush(h,(0,start))\n",
    "    distance[start] = 0\n",
    "    \n",
    "    while h:\n",
    "        # a:거리, b:현재노드\n",
    "        a,b = heapq.heappop(h)\n",
    "    \n",
    "        if distance[b]<a:\n",
    "            continue\n",
    "    \n",
    "        for i in sorted_graph[b]: #[2,3,4]\n",
    "            cost = 1\n",
    "            if cost<distance[i]:\n",
    "                distance[i] = cost\n",
    "                heapq.heappush(h,(cost,i))\n",
    "    return distance\n",
    "                       \n",
    "        \n",
    "# 1번 노드에서 K번 노드까지의 최단 거리\n",
    "distance_from_1 = dijkstra(1)\n",
    "distance_1_to_K = distance_from_1[K]\n",
    "\n",
    "# K번 노드에서 X번 노드까지의 최단 거리\n",
    "distance_from_K = dijkstra(K)\n",
    "distance_K_to_X = distance_from_K[X]\n",
    "\n",
    "# 총 거리\n",
    "total_distance = distance_1_to_K + distance_K_to_X\n",
    "\n",
    "if total_distance >= INF:\n",
    "    print(\"Infinity\")\n",
    "else:\n",
    "    print(total_distance)\n",
    "\n",
    "\n"
   ]
  },
  {
   "cell_type": "code",
   "execution_count": 27,
   "id": "ecb22b20-4d35-4193-b7fc-8d048726c2a7",
   "metadata": {
    "tags": []
   },
   "outputs": [],
   "source": [
    "## 문제 2. 전보\n",
    "# N개의 도시가 있다. 그리고 각 도시는 보내고자 하는 메시지가 \n",
    "# 있는경우 전보를 보내서 다른 도시로 전송할 수 있다. \n",
    "# 하지만 X라는 도시에서 Y라는 도시로 전보를 보내고자 한다면 \n",
    "# 도시 X에서 Y로 향하는 통로(M)가 설치되어 있어야 한다. \n",
    "\n",
    "# 어느날 C라는 도시에서 출발하여 각 도시 사이에 설치된 통로를 거쳐 \n",
    "# 최대한 많이 퍼뜨릴 때 도시 C에서 보낸 메시지를 받게되는 \n",
    "# 도시의 갯수는 총 몇개이며 도시들이 모두 메시지를 받는데까지 \n",
    "# 걸리는 시간은 얼마인지 계산하시오."
   ]
  },
  {
   "cell_type": "code",
   "execution_count": 40,
   "id": "bbda7441-5ad5-49b6-b955-e93dabd35190",
   "metadata": {
    "tags": []
   },
   "outputs": [
    {
     "name": "stdin",
     "output_type": "stream",
     "text": [
      " 3 2 1\n",
      " 1 2 4\n",
      " 1 3 2\n"
     ]
    },
    {
     "name": "stdout",
     "output_type": "stream",
     "text": [
      "[1000000000, 0, 4, 2]\n",
      "2 4\n"
     ]
    }
   ],
   "source": [
    "import heapq\n",
    "\n",
    "N,M,C = map(int,input().split())\n",
    "graph = [[] for _ in range(N+1)]\n",
    "for i in range(M):\n",
    "    a,b,c = map(int,input().split())\n",
    "    graph[a].append((b,c))\n",
    "\n",
    "#C에서 다른 도시로 메시지를 보내는데 걸리는 시간\n",
    "INF = int(1e9)\n",
    "distance = [INF]*(N+1)\n",
    "\n",
    "def dijkstra(start):\n",
    "    h = []\n",
    "    heapq.heappush(h,(0,start))\n",
    "    distance[start] = 0\n",
    "    \n",
    "    while h:\n",
    "        #a:걸리는시간, b:도시\n",
    "        a,b = heapq.heappop(h)\n",
    "        if distance[b]<a:\n",
    "            continue\n",
    "        for i in graph[b]:\n",
    "            cost = a+i[1]\n",
    "            if distance[i[0]] > cost:\n",
    "                distance[i[0]] = cost\n",
    "                heapq.heappush(h,(cost,i[0]))\n",
    "\n",
    "dijkstra(C)\n",
    "\n",
    "count = 0\n",
    "answer = 0\n",
    "\n",
    "print(distance)\n",
    "for i in range(1,N+1):\n",
    "    if distance[i]>0 and distance[i]!=INF:\n",
    "        count += 1\n",
    "        answer = max(answer,distance[i])\n",
    "\n",
    "print(count,answer)\n",
    "\n"
   ]
  },
  {
   "cell_type": "code",
   "execution_count": null,
   "id": "38658bce-bf11-49c2-85cc-86f1239209f9",
   "metadata": {},
   "outputs": [],
   "source": []
  }
 ],
 "metadata": {
  "kernelspec": {
   "display_name": "Python 3 (ipykernel)",
   "language": "python",
   "name": "python3"
  },
  "language_info": {
   "codemirror_mode": {
    "name": "ipython",
    "version": 3
   },
   "file_extension": ".py",
   "mimetype": "text/x-python",
   "name": "python",
   "nbconvert_exporter": "python",
   "pygments_lexer": "ipython3",
   "version": "3.11.5"
  }
 },
 "nbformat": 4,
 "nbformat_minor": 5
}

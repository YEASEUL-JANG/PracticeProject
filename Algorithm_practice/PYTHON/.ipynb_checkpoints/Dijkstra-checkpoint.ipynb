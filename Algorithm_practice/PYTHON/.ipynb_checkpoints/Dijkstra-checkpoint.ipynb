{
 "cells": [
  {
   "cell_type": "code",
   "execution_count": 4,
   "id": "2e332a5c-7e7e-4e8d-9dfa-a0a5d62dc20b",
   "metadata": {
    "tags": []
   },
   "outputs": [
    {
     "name": "stdin",
     "output_type": "stream",
     "text": [
      " 6 11\n",
      " 1\n"
     ]
    },
    {
     "name": "stdout",
     "output_type": "stream",
     "text": [
      "0\n",
      "2\n",
      "3\n",
      "1\n",
      "2\n",
      "4\n"
     ]
    }
   ],
   "source": [
    "## 기본 다익스트라 알고리즘\n",
    "\n",
    "#무한을 의미 (10억)\n",
    "INF = int(1e9)\n",
    "\n",
    "#노드의 갯수(n), 간선의 갯수(m)\n",
    "n,m = map(int,input().split())\n",
    "#시작노드\n",
    "start = int(input())\n",
    "#각 노드에 연결되어있는 노드에 대한 정보리스트\n",
    "graph = [[]for _ in range(n+1)]\n",
    "#방문한적이 있는지 체크\n",
    "visited = [False] * (n+1)\n",
    "#최단거리 테이블 (모두 무한으로 초기화) \n",
    "distance = [INF] * (n+1)\n",
    "\n",
    "#모든 간선의 정보 입력받기\n",
    "# for _ in range(m):\n",
    "#     #a번 노드에서 b번 노드로 가는 비용이 c\n",
    "#     a,b,c = map(int,input().split())\n",
    "#     graph[a].append((b,c))\n",
    "graph = [[], [(2, 2), (3, 5), (4, 1)], [(3, 3), (4, 2)], [(2, 3), (6, 5)], [(3, 3), (5, 1)], [(3, 1), (6, 2)], []]\n",
    "\n",
    "    \n",
    "#방문하지 않은 노드중에서 가장 최단거리가 짧은 노드의 번호를 반환\n",
    "def get_smallest_node():\n",
    "    min_value = INF\n",
    "    index = 0\n",
    "    #방문하지 않은 노드중 가장 최단거리가 짧은 노드\n",
    "    for i in range(1,n+1):\n",
    "        if distance[i] < min_value and not visited[i]:\n",
    "            min_value = distance[i]\n",
    "            index = i\n",
    "    return index\n",
    "\n",
    "\n",
    "def dijkstra(start):\n",
    "    #시작 노드에 대해 초기화\n",
    "    distance[start] = 0\n",
    "    visited[start] = True\n",
    "    for j in graph[start]:\n",
    "        #시작노드에서 j[0]번 노드를 가는 비용 저장\n",
    "        distance[j[0]] = j[1]\n",
    "    #시작노드를 제외한 전체 n-1개의 노드에 대해 반복\n",
    "    for i in range(n-1):\n",
    "        #현재 최단거리가 가장 짧은 노드를 꺼내 방문\n",
    "        now = get_smallest_node()\n",
    "        visited[now] = True\n",
    "        #현재 노드와 연결된 다른 노드 비용 확인\n",
    "        for j in graph[now]:\n",
    "            cost = distance[now]+ j[1]\n",
    "            #현재 노드를 거쳐 다른 노드로 이동하는 거리가 더 짧은 경우\n",
    "            if cost < distance[j[0]]:\n",
    "                distance[j[0]] = cost\n",
    "\n",
    "dijkstra(start)\n",
    "\n",
    "for i in range(1,n+1):\n",
    "    if distance[i] == INF:\n",
    "        print(\"infinity\")\n",
    "    else:\n",
    "        print(distance[i])\n",
    "            \n",
    "        \n",
    "\n"
   ]
  },
  {
   "cell_type": "code",
   "execution_count": 8,
   "id": "be689ff7-e66e-41ce-9cb5-58dc3d091168",
   "metadata": {
    "tags": []
   },
   "outputs": [
    {
     "name": "stdin",
     "output_type": "stream",
     "text": [
      " 6 11\n",
      " 1\n"
     ]
    },
    {
     "name": "stdout",
     "output_type": "stream",
     "text": [
      "0\n",
      "2\n",
      "3\n",
      "1\n",
      "2\n",
      "4\n"
     ]
    }
   ],
   "source": [
    "import heapq\n",
    "\n",
    "INF = int(1e9)\n",
    "\n",
    "# n : 노드의 갯수 , m : 간선의 갯수\n",
    "n, m = map(int, input().split())\n",
    "start = int(input())\n",
    "graph = [[] for _ in range(n+1)]\n",
    "distance = [INF] * (n+1)\n",
    "\n",
    "# for _ in range(m):\n",
    "#     a, b, c = map(int, input().split())\n",
    "#     graph[a].append((b, c))\n",
    "graph = [[], [(2, 2), (3, 5), (4, 1)], [(3, 3), (4, 2)], [(2, 3), (6, 5)], [(3, 3), (5, 1)], [(3, 1), (6, 2)], []]\n",
    "\n",
    "def dijkstra(start):\n",
    "    h = []\n",
    "    # 우선순위큐에 출발지 저장\n",
    "    heapq.heappush(h, (0, start))\n",
    "    # 거리 저장\n",
    "    distance[start] = 0\n",
    "    \n",
    "    # 우선순위 큐에서 제일 거리가 짧은 노드 출력\n",
    "    while h:\n",
    "        dist, now = heapq.heappop(h)\n",
    "        # now노드까지의 더 짧은 경로가 이미 있는경우는 무시\n",
    "        if distance[now] < dist:\n",
    "            continue\n",
    "        for i in graph[now]:\n",
    "            cost = i[1] + dist\n",
    "            if distance[i[0]] > cost:\n",
    "                distance[i[0]] = cost\n",
    "                heapq.heappush(h, (cost, i[0]))\n",
    "\n",
    "dijkstra(start)\n",
    "\n",
    "for i in range(1, n+1):\n",
    "    if distance[i] == INF:\n",
    "        print(\"INF\")\n",
    "    else:\n",
    "        print(distance[i])"
   ]
  },
  {
   "cell_type": "code",
   "execution_count": null,
   "id": "cfc0891b-7e46-40fe-a633-306c154a787a",
   "metadata": {},
   "outputs": [],
   "source": []
  }
 ],
 "metadata": {
  "kernelspec": {
   "display_name": "Python 3 (ipykernel)",
   "language": "python",
   "name": "python3"
  },
  "language_info": {
   "codemirror_mode": {
    "name": "ipython",
    "version": 3
   },
   "file_extension": ".py",
   "mimetype": "text/x-python",
   "name": "python",
   "nbconvert_exporter": "python",
   "pygments_lexer": "ipython3",
   "version": "3.11.5"
  }
 },
 "nbformat": 4,
 "nbformat_minor": 5
}

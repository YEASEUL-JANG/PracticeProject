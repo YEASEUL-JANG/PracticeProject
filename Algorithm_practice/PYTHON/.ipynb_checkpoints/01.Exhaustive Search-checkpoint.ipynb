{
 "cells": [
  {
   "cell_type": "code",
   "execution_count": 2,
   "id": "41954173",
   "metadata": {},
   "outputs": [
    {
     "name": "stdout",
     "output_type": "stream",
     "text": [
      "1500035500153\n",
      "NO\n"
     ]
    }
   ],
   "source": [
    "## 모든 소인수가 1,000,000 보다 크다면 'YES'그렇지 않으면 'NO'\n",
    "\n",
    "TC = int(input()) # 1000036000099\n",
    "\n",
    "for i in range(2,1_000_001):\n",
    "    if TC % i ==0:\n",
    "        print('NO')\n",
    "        break\n",
    "    if i == 1_000_000:\n",
    "        print('YES')\n",
    "        break"
   ]
  },
  {
   "cell_type": "code",
   "execution_count": 6,
   "id": "cb0d117d",
   "metadata": {},
   "outputs": [
    {
     "name": "stdout",
     "output_type": "stream",
     "text": [
      "6\n",
      "1\n"
     ]
    }
   ],
   "source": [
    "## 6개의 사탕 분배하기\n",
    "\n",
    "candy = int(input()) #6\n",
    "answer = 0\n",
    "for A in range(0,candy+1):\n",
    "    for B in range(0,candy+1):\n",
    "        for C in range(0,candy+1):\n",
    "            if A+B+C==candy:\n",
    "                if A >= B+2 :\n",
    "                    if A != 0 and B !=0 and C !=0 :\n",
    "                        if C%2==0:\n",
    "                            answer+=1\n",
    "print(answer)"
   ]
  },
  {
   "cell_type": "code",
   "execution_count": 3,
   "id": "7b781022",
   "metadata": {},
   "outputs": [
    {
     "name": "stdout",
     "output_type": "stream",
     "text": [
      "2 -1\n"
     ]
    }
   ],
   "source": [
    "dict1 = {'A':1,'B':3,'C':-1,'D':4,'E':1,'F':7}\n",
    "\n",
    "for x in range(-10000,10001):\n",
    "    for y in range(-10000,10001):\n",
    "        if dict1['A']*x + dict1['B']*y == dict1['C']:\n",
    "            if dict1['D'] * x + dict1['E'] * y == dict1['F']:\n",
    "                print(x,y)\n"
   ]
  },
  {
   "cell_type": "code",
   "execution_count": 20,
   "id": "05bd2d2a",
   "metadata": {},
   "outputs": [
    {
     "name": "stdout",
     "output_type": "stream",
     "text": [
      "2\n"
     ]
    }
   ],
   "source": [
    "counter = 4\n",
    "# numbers = [list(map(str, input().split())) for _ in range(counter)]\n",
    "numbers = [\n",
    "    [\"123\", 1, 1],\n",
    "    [\"356\", 1, 0],\n",
    "    [\"327\", 2, 0],\n",
    "    [\"489\", 0, 1]\n",
    "]\n",
    "answer = 0\n",
    "\n",
    "for a in range(1, 10):\n",
    "    for b in range(1, 10):\n",
    "        for c in range(1, 10):\n",
    "            if a == b or b == c or c == a:\n",
    "                continue\n",
    "                \n",
    "            # 각 경우마다 count 값 초기화    \n",
    "            count = 0\n",
    "            \n",
    "            for array in numbers:\n",
    "                num, strike, ball = array\n",
    "                strike_count = 0\n",
    "                ball_count = 0\n",
    "                \n",
    "                # 정답에 포함되어 있고, 자리도 동일하다면 1 Strike\n",
    "                if int(num[0]) == a:\n",
    "                    strike_count += 1\n",
    "                if int(num[1]) == b:\n",
    "                    strike_count += 1\n",
    "                if int(num[2]) == c:\n",
    "                    strike_count += 1\n",
    "                    \n",
    "                # 정답에 포함되어 있다면 1 Ball\n",
    "                if a in [int(num[1]), int(num[2])]:\n",
    "                    ball_count += 1\n",
    "                if b in [int(num[0]), int(num[2])]:\n",
    "                    ball_count += 1\n",
    "                if c in [int(num[0]), int(num[1])]:\n",
    "                    ball_count += 1\n",
    "                    \n",
    "                if strike == strike_count and ball == ball_count:\n",
    "                    count += 1\n",
    "                \n",
    "            if counter == count:\n",
    "                answer += 1\n",
    "\n",
    "print(answer)\n"
   ]
  }
 ],
 "metadata": {
  "kernelspec": {
   "display_name": "Python 3 (ipykernel)",
   "language": "python",
   "name": "python3"
  },
  "language_info": {
   "codemirror_mode": {
    "name": "ipython",
    "version": 3
   },
   "file_extension": ".py",
   "mimetype": "text/x-python",
   "name": "python",
   "nbconvert_exporter": "python",
   "pygments_lexer": "ipython3",
   "version": "3.11.5"
  }
 },
 "nbformat": 4,
 "nbformat_minor": 5
}

{
 "cells": [
  {
   "cell_type": "code",
   "execution_count": null,
   "id": "68d8adfa",
   "metadata": {},
   "outputs": [],
   "source": [
    "#08 괄호 짝 맞추기\n",
    "\n",
    "s = '(())()'\n",
    "\n",
    "def solution(s):\n",
    "    if(s[0]==')'):\n",
    "        return False\n",
    "    left = 0\n",
    "    right = 0\n",
    "    for i in s:\n",
    "        if i=='(':\n",
    "            left+=1\n",
    "        else:\n",
    "            right+=1\n",
    "            if left>0:\n",
    "                left-=1\n",
    "                right-=1\n",
    "    if left==0 and right==0:\n",
    "        return True\n",
    "    else:\n",
    "        return False\n",
    "    \n",
    "print(solution(s))"
   ]
  },
  {
   "cell_type": "code",
   "execution_count": null,
   "id": "3623da4b",
   "metadata": {},
   "outputs": [],
   "source": [
    "#09 10진수를 2진수로 변환하기\n",
    "\n",
    "decimal = 12345\n",
    "\n",
    "def solution(decimal):\n",
    "    stack = []\n",
    "    while decimal > 0:\n",
    "        a = decimal % 2\n",
    "        stack.append(a)\n",
    "        decimal = decimal // 2\n",
    "    b_string = ''\n",
    "    while stack:\n",
    "        b_string += str(stack.pop())\n",
    "    return b_string\n",
    "\n",
    "print(solution(decimal))\n"
   ]
  },
  {
   "cell_type": "code",
   "execution_count": 7,
   "id": "17c0e829",
   "metadata": {},
   "outputs": [
    {
     "name": "stdout",
     "output_type": "stream",
     "text": [
      "2\n"
     ]
    }
   ],
   "source": [
    "#10 괄호 회전하기\n",
    "left = ['[','(','{']\n",
    "right = [']',')','}']\n",
    "s = '}]()[{'\n",
    "\n",
    "def check(arr):\n",
    "    stack = []\n",
    "    for a in arr:\n",
    "        if a in right:\n",
    "            if not stack:\n",
    "                return False\n",
    "            idx = right.index(a)\n",
    "            if left.index(stack[-1])==idx:\n",
    "                stack.pop()\n",
    "            else:\n",
    "                return False\n",
    "        else:\n",
    "            stack.append(a)\n",
    "    return len(stack)==0\n",
    "\n",
    "def solution(s):\n",
    "    count = 0\n",
    "    result = 0\n",
    "    arr = list(s)\n",
    "    while count<len(arr):\n",
    "        #올바른 괄호 문자열 확인\n",
    "        if(check(arr)):\n",
    "            result +=1\n",
    "        #왼쪽 회전\n",
    "        a = arr.pop(0)\n",
    "        arr.append(a)\n",
    "        count+=1\n",
    "    return result\n",
    "\n",
    "print(solution(s))\n"
   ]
  }
 ],
 "metadata": {
  "kernelspec": {
   "display_name": "Python 3 (ipykernel)",
   "language": "python",
   "name": "python3"
  },
  "language_info": {
   "codemirror_mode": {
    "name": "ipython",
    "version": 3
   },
   "file_extension": ".py",
   "mimetype": "text/x-python",
   "name": "python",
   "nbconvert_exporter": "python",
   "pygments_lexer": "ipython3",
   "version": "3.11.5"
  }
 },
 "nbformat": 4,
 "nbformat_minor": 5
}

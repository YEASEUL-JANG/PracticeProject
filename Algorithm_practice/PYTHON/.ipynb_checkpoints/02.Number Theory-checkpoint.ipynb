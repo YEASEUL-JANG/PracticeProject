{
 "cells": [
  {
   "cell_type": "code",
   "execution_count": 1,
   "id": "fd9c0831",
   "metadata": {},
   "outputs": [
    {
     "name": "stdout",
     "output_type": "stream",
     "text": [
      "36\n",
      "6\n"
     ]
    }
   ],
   "source": [
    "## 제곱수를 구하는 문제\n",
    "num = int(input())\n",
    "answer = int(num**0.5)\n",
    "print(answer)"
   ]
  },
  {
   "cell_type": "code",
   "execution_count": 9,
   "id": "edee86f3",
   "metadata": {},
   "outputs": [
    {
     "name": "stdout",
     "output_type": "stream",
     "text": [
      "100\n",
      "2 50\n",
      "4 25\n",
      "5 20\n",
      "10 10\n",
      "[2, 4, 5, 10, 20, 25, 50]\n"
     ]
    }
   ],
   "source": [
    "## 약수 빠르게 구하기\n",
    "num = int(input())\n",
    "answer = set()\n",
    "for i in range(2,int(num**0.5)+1):\n",
    "    if num%i==0:\n",
    "        print(i,num//i)\n",
    "        answer.update([i,num//i])\n",
    "print(sorted(list(answer)))"
   ]
  },
  {
   "cell_type": "code",
   "execution_count": 15,
   "id": "b8c222a3",
   "metadata": {},
   "outputs": [
    {
     "name": "stdout",
     "output_type": "stream",
     "text": [
      "18\n"
     ]
    }
   ],
   "source": [
    "## 20! 에는 2 가 몇번 곱해져 있을까? \n",
    "answer = 0\n",
    "for i in range(1,21):\n",
    "    j = i\n",
    "    while j%2== 0:\n",
    "        answer += 1\n",
    "        j = j//2\n",
    "print(answer)"
   ]
  },
  {
   "cell_type": "code",
   "execution_count": 1,
   "id": "5cd3cb60",
   "metadata": {},
   "outputs": [
    {
     "name": "stdout",
     "output_type": "stream",
     "text": [
      "30 36\n",
      "6\n",
      "180\n"
     ]
    }
   ],
   "source": [
    "##두 수 A, B가 주어졌을 때 두 수의 최대공약수와 최소공배수를 계산\n",
    "A,B = map(int,input().split())\n",
    "\n",
    "##최대공약수\n",
    "ans1 = []\n",
    "for i in range(2,A+1):\n",
    "    if A % i ==0 and B % i ==0:\n",
    "        ans1.append(i)\n",
    "        ans1.sort(reverse=True)\n",
    "print(ans1[0])        \n",
    "        \n",
    "##최소공배수\n",
    "ans2 = 0\n",
    "for i in range(1,99):\n",
    "    if A < B:\n",
    "        if (A*i) % B == 0:\n",
    "            ans2 = A * i\n",
    "            break\n",
    "        else:\n",
    "            if(B*i)%A == 0:\n",
    "                ans2 = B*i\n",
    "                break\n",
    "print(ans2)"
   ]
  },
  {
   "cell_type": "code",
   "execution_count": 2,
   "id": "31c149f8",
   "metadata": {},
   "outputs": [
    {
     "data": {
      "text/plain": [
       "6"
      ]
     },
     "execution_count": 2,
     "metadata": {},
     "output_type": "execute_result"
    }
   ],
   "source": [
    "def gcd(a,b):\n",
    "    while a % b != 0:\n",
    "        tmp = a%b\n",
    "        a = b\n",
    "        b = tmp\n",
    "    return b\n",
    "\n",
    "gcd(30,36)"
   ]
  },
  {
   "cell_type": "code",
   "execution_count": 3,
   "id": "fbe44ba1",
   "metadata": {},
   "outputs": [
    {
     "data": {
      "text/plain": [
       "180.0"
      ]
     },
     "execution_count": 3,
     "metadata": {},
     "output_type": "execute_result"
    }
   ],
   "source": [
    "def lcm(a,b):\n",
    "    return a*b/gcd(a,b)\n",
    "\n",
    "lcm(30,36)"
   ]
  },
  {
   "cell_type": "code",
   "execution_count": 4,
   "id": "d44a9988",
   "metadata": {},
   "outputs": [
    {
     "name": "stdout",
     "output_type": "stream",
     "text": [
      "3\n"
     ]
    }
   ],
   "source": [
    "list1 = [17,42,2184,2200]\n",
    "\n",
    "count = 0\n",
    "for i in range(len(list1)-1): #0,1,2\n",
    "    a = int(list1[i])\n",
    "    b = int(list1[i+1])\n",
    "    \n",
    "    if gcd(a,b)== 1:\n",
    "        continue\n",
    "    else:\n",
    "        for j in range(a+1,b):\n",
    "            if gcd(a,j)==1 and gcd(j,b) ==1:\n",
    "                count += 1\n",
    "                break\n",
    "            if j == b-1:\n",
    "                count += 2\n",
    "print(count)"
   ]
  }
 ],
 "metadata": {
  "kernelspec": {
   "display_name": "Python 3 (ipykernel)",
   "language": "python",
   "name": "python3"
  },
  "language_info": {
   "codemirror_mode": {
    "name": "ipython",
    "version": 3
   },
   "file_extension": ".py",
   "mimetype": "text/x-python",
   "name": "python",
   "nbconvert_exporter": "python",
   "pygments_lexer": "ipython3",
   "version": "3.11.5"
  }
 },
 "nbformat": 4,
 "nbformat_minor": 5
}

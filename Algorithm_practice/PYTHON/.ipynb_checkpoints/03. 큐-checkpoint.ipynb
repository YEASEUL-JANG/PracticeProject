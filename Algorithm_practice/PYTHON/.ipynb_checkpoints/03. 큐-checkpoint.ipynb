{
 "cells": [
  {
   "cell_type": "code",
   "execution_count": 16,
   "id": "6ccaa370",
   "metadata": {},
   "outputs": [
    {
     "name": "stdout",
     "output_type": "stream",
     "text": [
      "3\n"
     ]
    }
   ],
   "source": [
    "#15 요세푸스 문제\n",
    "N,K = 5,2\n",
    "\n",
    "def getNext(next,delete):\n",
    "    while True:\n",
    "        if next in delete:\n",
    "            next += 1\n",
    "            next = next % N\n",
    "            if next==0:\n",
    "                next = N\n",
    "        else:\n",
    "            break\n",
    "    return next\n",
    "\n",
    "def solution(N,K):\n",
    "    delete = [K]\n",
    "    mid = K\n",
    "    while len(delete)< N-1:\n",
    "        \n",
    "        #없앤사람의 다음사람 확인\n",
    "        next = (mid+1) % N\n",
    "        if next==0:\n",
    "            next = N\n",
    "        next = getNext(next,delete)\n",
    "        \n",
    "        #다음사람의 K번째 사람구하기\n",
    "        for _ in range(K-1):\n",
    "            kill = (next+1) % N\n",
    "            if kill==0:\n",
    "                kill = N\n",
    "            kill = getNext(kill,delete)\n",
    "            \n",
    "        #없애기\n",
    "        delete.append(kill)\n",
    "        mid = kill\n",
    "    if len(delete)==N-1:\n",
    "        for a in range(1,N):\n",
    "            if a not in delete:\n",
    "                return a\n",
    "    return 0\n",
    "\n",
    "#print(solution(N,K))\n",
    "                \n",
    "\n",
    "#deque의 rotate 를 통한 풀이\n",
    "from collections import deque\n",
    "\n",
    "def solution2(N,K):\n",
    "    q = deque(range(1,N+1)) #[1,2,3,4,5]\n",
    "    while len(q)>1:\n",
    "        q.rotate(-(K-1))\n",
    "        q.popleft()\n",
    "    return q[0]\n",
    "\n",
    "print(solution2(N,K))"
   ]
  },
  {
   "cell_type": "code",
   "execution_count": 29,
   "id": "93782854",
   "metadata": {},
   "outputs": [
    {
     "name": "stdout",
     "output_type": "stream",
     "text": [
      "[2, 1]\n"
     ]
    }
   ],
   "source": [
    "#16. 기능개발\n",
    "from collections import deque\n",
    "\n",
    "# progressess = [95,90,99,99,80,99]\n",
    "# speeds = [1,1,1,1,1,1]\n",
    "\n",
    "progressess = [93,30,55]\n",
    "speeds = [1,30,5]\n",
    "\n",
    "def solutions(progressess,speeds):\n",
    "    ready = [0 for _ in range(len(progressess))]\n",
    "    for index,pro in enumerate(progressess):\n",
    "        quant = (100-pro)//speeds[index]\n",
    "        if ((100-pro) % speeds[index]) >0:\n",
    "            quant += 1\n",
    "        ready[index] = quant\n",
    "    q = deque(ready)\n",
    "    result = []\n",
    "    count = 1\n",
    "    while q:\n",
    "        first = q.popleft()\n",
    "        if len(q)==0:\n",
    "            result.append(count)\n",
    "            break\n",
    "        if q[0]>first:\n",
    "            result.append(count)\n",
    "            count = 1\n",
    "        else:\n",
    "            count+=1\n",
    "    return result\n",
    "    \n",
    "    \n",
    "    \n",
    "print(solutions(progressess,speeds))"
   ]
  },
  {
   "cell_type": "code",
   "execution_count": 34,
   "id": "998b6ae8",
   "metadata": {},
   "outputs": [
    {
     "name": "stdout",
     "output_type": "stream",
     "text": [
      "cards1:  ['water', 'drink']\n",
      "cards2:  ['want', 'to']\n",
      "cards1:  ['water', 'drink']\n",
      "cards2:  ['to']\n",
      "cards1:  ['water', 'drink']\n",
      "cards2:  []\n",
      "No\n"
     ]
    }
   ],
   "source": [
    "#17. 카드뭉치\n",
    "from collections import deque\n",
    "\n",
    "cards1 = [\"i\",\"water\",\"drink\"]\n",
    "cards2 = [\"want\",\"to\"]\n",
    "goal = [\"i\",\"want\",\"to\",\"drink\",\"water\"]\n",
    "\n",
    "def solution(cards1,cards2,goal):\n",
    "    q1 = deque(cards1)\n",
    "    q2 = deque(cards2)\n",
    "    for word in goal:\n",
    "        if q1 and q1[0]==word:\n",
    "            q1.popleft()\n",
    "        elif q2 and q2[0]==word:\n",
    "            q2.popleft()\n",
    "        else:\n",
    "            return \"No\"\n",
    "        \n",
    "    if len(list(q1))==len(list(q2))==0:\n",
    "        return \"Yes\"\n",
    "    else:\n",
    "        return \"No\"\n",
    "    \n",
    "print(solution(cards1,cards2,goal))"
   ]
  }
 ],
 "metadata": {
  "kernelspec": {
   "display_name": "Python 3 (ipykernel)",
   "language": "python",
   "name": "python3"
  },
  "language_info": {
   "codemirror_mode": {
    "name": "ipython",
    "version": 3
   },
   "file_extension": ".py",
   "mimetype": "text/x-python",
   "name": "python",
   "nbconvert_exporter": "python",
   "pygments_lexer": "ipython3",
   "version": "3.11.5"
  }
 },
 "nbformat": 4,
 "nbformat_minor": 5
}

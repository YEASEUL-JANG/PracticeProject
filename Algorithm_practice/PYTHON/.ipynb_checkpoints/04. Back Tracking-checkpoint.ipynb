{
 "cells": [
  {
   "cell_type": "code",
   "execution_count": 3,
   "id": "541c04eb",
   "metadata": {},
   "outputs": [
    {
     "name": "stdout",
     "output_type": "stream",
     "text": [
      "1 1\n",
      "1 2\n",
      "1 3\n",
      "1 4\n",
      "2 1\n",
      "2 2\n",
      "2 3\n",
      "2 4\n",
      "3 1\n",
      "3 2\n",
      "3 3\n",
      "3 4\n",
      "4 1\n",
      "4 2\n",
      "4 3\n",
      "4 4\n"
     ]
    }
   ],
   "source": [
    "## 자연수 N과 M이 주어졌을 때 길이가 M인 수열을 모두 구하기\n",
    "for i in range(1,5):\n",
    "    for j in range(1,5):\n",
    "        print(i,j)"
   ]
  },
  {
   "cell_type": "code",
   "execution_count": 4,
   "id": "759f58f3",
   "metadata": {},
   "outputs": [
    {
     "name": "stdout",
     "output_type": "stream",
     "text": [
      "4 2\n",
      "[1, 1]\n",
      "[1, 2]\n",
      "[1, 3]\n",
      "[1, 4]\n",
      "[2, 1]\n",
      "[2, 2]\n",
      "[2, 3]\n",
      "[2, 4]\n",
      "[3, 1]\n",
      "[3, 2]\n",
      "[3, 3]\n",
      "[3, 4]\n",
      "[4, 1]\n",
      "[4, 2]\n",
      "[4, 3]\n",
      "[4, 4]\n"
     ]
    }
   ],
   "source": [
    "## 재귀함수 사용\n",
    "N,M = map(int,input().split())\n",
    "arr = []\n",
    "#N까지 M개를 고르는 경우의 수\n",
    "def recur(count):\n",
    "    if count == M:\n",
    "        print(arr)\n",
    "        return\n",
    "    for i in range(1,N+1):\n",
    "        arr.append(i)\n",
    "        recur(count+1)\n",
    "        arr.pop()\n",
    "recur(0)"
   ]
  },
  {
   "cell_type": "code",
   "execution_count": 5,
   "id": "ecd43a4a",
   "metadata": {},
   "outputs": [
    {
     "name": "stdout",
     "output_type": "stream",
     "text": [
      "4 2\n",
      "[1, 2]\n",
      "[1, 3]\n",
      "[1, 4]\n",
      "[2, 1]\n",
      "[2, 3]\n",
      "[2, 4]\n",
      "[3, 1]\n",
      "[3, 2]\n",
      "[3, 4]\n",
      "[4, 1]\n",
      "[4, 2]\n",
      "[4, 3]\n"
     ]
    }
   ],
   "source": [
    "# 1부터 N까지의 자연수 중에서 중복 없이 M개를 고른 수열\n",
    "N,M = map(int,input().split())\n",
    "arr = []\n",
    "#N까지 M개를 고르는 경우의 수\n",
    "def recur(count):\n",
    "    if count == M:\n",
    "        print(arr)\n",
    "        return\n",
    "    for i in range(1,N+1):\n",
    "        if i in arr:\n",
    "            continue\n",
    "        arr.append(i)\n",
    "        recur(count+1)\n",
    "        arr.pop()\n",
    "recur(0)"
   ]
  },
  {
   "cell_type": "code",
   "execution_count": 6,
   "id": "e79973a1",
   "metadata": {},
   "outputs": [
    {
     "name": "stdout",
     "output_type": "stream",
     "text": [
      "4 2\n",
      "[1, 2]\n",
      "[1, 3]\n",
      "[1, 4]\n",
      "[2, 3]\n",
      "[2, 4]\n",
      "[3, 4]\n"
     ]
    }
   ],
   "source": [
    "## 1부터 N까지의 자연수 중에서 중복 없이 오름차순으로 M개를 고른 수열\n",
    "N, M = map(int, input().split())\n",
    "arr = []\n",
    "\n",
    "def recur(count):\n",
    "    if count == M:\n",
    "        print(arr)\n",
    "        return\n",
    "    for i in range(1, N + 1):\n",
    "        if i in arr or (count>0 and arr[count-1] > i):\n",
    "            continue\n",
    "        arr.append(i)\n",
    "        recur(count + 1)\n",
    "        arr.pop()\n",
    "\n",
    "recur(0)"
   ]
  },
  {
   "cell_type": "code",
   "execution_count": 7,
   "id": "1a597835",
   "metadata": {},
   "outputs": [
    {
     "name": "stdout",
     "output_type": "stream",
     "text": [
      "4 2\n",
      "[2, 1]\n",
      "[3, 1]\n",
      "[3, 2]\n",
      "[4, 1]\n",
      "[4, 2]\n",
      "[4, 3]\n"
     ]
    }
   ],
   "source": [
    "## 1부터 N까지의 자연수 중에서 중복 없이 내림차순으로 M개를 고른 수열\n",
    "N, M = map(int, input().split())\n",
    "arr = []\n",
    "\n",
    "def recur(count):\n",
    "    if count == M:\n",
    "        print(arr)\n",
    "        return\n",
    "    for i in range(1, N + 1):\n",
    "        if i in arr or (count>0 and arr[count-1] < i):\n",
    "            continue\n",
    "        arr.append(i)\n",
    "        recur(count + 1)\n",
    "        arr.pop()\n",
    "\n",
    "recur(0)"
   ]
  },
  {
   "cell_type": "code",
   "execution_count": 10,
   "id": "b0d0f992",
   "metadata": {},
   "outputs": [
    {
     "name": "stdout",
     "output_type": "stream",
     "text": [
      "2\n"
     ]
    }
   ],
   "source": [
    "## 1강에서 푼 숫자야구 재귀함수를 사용해서 풀기\n",
    "\n",
    "import sys\n",
    "sys.setrecursionlimit(9999999)\n",
    "\n",
    "\n",
    "def checker(idx,number):\n",
    "    _number = hint[idx][0]\n",
    "    _strike = hint[idx][1]\n",
    "    _ball = hint[idx][2]\n",
    "\n",
    "    strike = 0\n",
    "    ball = 0\n",
    "    \n",
    "    ## hint 속 각 자리 수\n",
    "    _A = int(str(_number)[0]) \n",
    "    _B = int(str(_number)[1]) \n",
    "    _C = int(str(_number)[2]) \n",
    "\n",
    "    ## 비교 수의 각 자리 수\n",
    "    A = int(str(number)[0]) \n",
    "    B = int(str(number)[1]) \n",
    "    C = int(str(number)[2]) \n",
    "\n",
    "    if A == 0 or B == 0 or C == 0:\n",
    "        return False\n",
    "\n",
    "    if A == B or A == C or B == C:\n",
    "        return False\n",
    "    \n",
    "    ## strike check\n",
    "    if A == _A:\n",
    "        strike+= 1\n",
    "    if B == _B:\n",
    "        strike+= 1\n",
    "    if C == _C:\n",
    "        strike+= 1\n",
    "    \n",
    "    ## ball check\n",
    "    if A == _B or A == _C:\n",
    "        ball += 1\n",
    "    if B == _A or B == _C:\n",
    "        ball += 1\n",
    "    if C == _A or C == _B:\n",
    "        ball += 1\n",
    "    \n",
    "    if strike == _strike and ball == _ball:\n",
    "        return True\n",
    "\n",
    "    return False\n",
    "\n",
    "\n",
    "def recur(idx, number):\n",
    "    global answer\n",
    "\n",
    "    if idx == n:\n",
    "        answer += 1\n",
    "        # print(number)\n",
    "        recur(0, number+1)\n",
    "        return\n",
    "    \n",
    "    if number == 1000:\n",
    "        return\n",
    "    \n",
    "    if checker(idx,number):\n",
    "        recur(idx+1, number)\n",
    "    else:\n",
    "        recur(0, number+1)\n",
    "\n",
    "n = 4\n",
    "#hint = [list(map(int,input().split())) for _ in range(n)]\n",
    "hint = [[123,1,1],[356,1,0],[327,2,0],[489,0,1]]\n",
    "answer = 0\n",
    "recur(0, 100)\n",
    "print(answer)\n",
    "\n"
   ]
  }
 ],
 "metadata": {
  "kernelspec": {
   "display_name": "Python 3 (ipykernel)",
   "language": "python",
   "name": "python3"
  },
  "language_info": {
   "codemirror_mode": {
    "name": "ipython",
    "version": 3
   },
   "file_extension": ".py",
   "mimetype": "text/x-python",
   "name": "python",
   "nbconvert_exporter": "python",
   "pygments_lexer": "ipython3",
   "version": "3.11.5"
  }
 },
 "nbformat": 4,
 "nbformat_minor": 5
}

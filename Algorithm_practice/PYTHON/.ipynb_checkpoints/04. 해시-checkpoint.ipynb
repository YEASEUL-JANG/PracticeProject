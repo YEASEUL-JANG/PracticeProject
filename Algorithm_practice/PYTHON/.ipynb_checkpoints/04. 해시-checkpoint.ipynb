{
 "cells": [
  {
   "cell_type": "code",
   "execution_count": 7,
   "id": "c2c1bd65",
   "metadata": {},
   "outputs": [
    {
     "name": "stdout",
     "output_type": "stream",
     "text": [
      "False\n"
     ]
    }
   ],
   "source": [
    "#18. 두개의 수로 특정값 만들기\n",
    "from itertools import combinations\n",
    "\n",
    "arr = [2,3,4,9]\n",
    "target = 10\n",
    "\n",
    "def solution(arr,target):\n",
    "    com_list = list(combinations(arr,2))\n",
    "    sum_list = [sum(x) for x in com_list]\n",
    "    if target in sum_list:\n",
    "        return True\n",
    "    else:\n",
    "        return False\n",
    "\n",
    "\n",
    "print(solution(arr,target))\n"
   ]
  },
  {
   "cell_type": "code",
   "execution_count": 9,
   "id": "d6aa3e2a",
   "metadata": {},
   "outputs": [
    {
     "name": "stdout",
     "output_type": "stream",
     "text": [
      "[True, False, False, True]\n"
     ]
    }
   ],
   "source": [
    "#19. 문자열 해싱을 이용한 검색 함수 만들기\n",
    "\n",
    "def poly_hash(s, base=31, mod=10**9+7):\n",
    "    hash_val = 0\n",
    "    for char in s:\n",
    "        hash_val = (hash_val * base + ord(char)) % mod\n",
    "    return hash_val\n",
    "\n",
    "string_list = [\"apple\",\"banana\",\"cherry\"]\n",
    "query_list = [\"banana\",\"kiwi\",\"melon\",\"apple\"]\n",
    "\n",
    "def solution(string_list,query_list):\n",
    "    string_hash = [poly_hash(x) for x in string_list]\n",
    "    query_hash = [poly_hash(x) for x in query_list]\n",
    "    result = []\n",
    "    for h in query_hash:\n",
    "        if h in string_hash:\n",
    "            result.append(True)\n",
    "        else:\n",
    "            result.append(False)\n",
    "    return result\n",
    "            \n",
    "    \n",
    "print(solution(string_list,query_list))"
   ]
  },
  {
   "cell_type": "code",
   "execution_count": 15,
   "id": "80d58077",
   "metadata": {},
   "outputs": [
    {
     "name": "stdout",
     "output_type": "stream",
     "text": [
      "leo\n"
     ]
    }
   ],
   "source": [
    "#20 완주하지 못한 선수 \n",
    "participant = [\"leo\",\"kiki\",\"eden\",\"leo\"]\n",
    "completion = [\"eden\",\"kiki\"]\n",
    "\n",
    "def solution(participant, completion):\n",
    "    dic = {}\n",
    "    for part in participant:\n",
    "        if part in dic:\n",
    "            dic[part] += 1\n",
    "        else:\n",
    "            dic[part] = 1\n",
    "    for com in completion:\n",
    "        if com in dic:\n",
    "            dic[com] -= 1\n",
    "\n",
    "    return [k for k,v in dic.items() if v != 0][0]\n",
    "    \n",
    "\n",
    "print(solution(participant, completion))\n"
   ]
  }
 ],
 "metadata": {
  "kernelspec": {
   "display_name": "Python 3 (ipykernel)",
   "language": "python",
   "name": "python3"
  },
  "language_info": {
   "codemirror_mode": {
    "name": "ipython",
    "version": 3
   },
   "file_extension": ".py",
   "mimetype": "text/x-python",
   "name": "python",
   "nbconvert_exporter": "python",
   "pygments_lexer": "ipython3",
   "version": "3.11.5"
  }
 },
 "nbformat": 4,
 "nbformat_minor": 5
}

{
 "cells": [
  {
   "cell_type": "code",
   "execution_count": 1,
   "id": "bafca9fb",
   "metadata": {},
   "outputs": [
    {
     "name": "stdout",
     "output_type": "stream",
     "text": [
      "[4, 6, 5, 5, 39, 43, 48, 52, 58, 65, 330, 371, 423, 496, 3014]\n"
     ]
    }
   ],
   "source": [
    "##단맛과 짠맛의 차이가 가장 적은 경우의 수 \n",
    "arr = [[2,6],[1,7],[3,8],[4,9]]\n",
    "\n",
    "def calculate(arr_list):\n",
    "    dan = 0\n",
    "    jjan = 1\n",
    "    for a in arr_list:\n",
    "        dan += a[0]\n",
    "        jjan *= a[1]\n",
    "    return abs(dan - jjan)\n",
    "\n",
    "def choose(index, count, list1, answer):\n",
    "    if len(list1) == count:\n",
    "        answer.append(calculate(list1))\n",
    "        return\n",
    "    for i in range(index, len(arr)):\n",
    "        choose(i+1, count, list1 + [arr[i]], answer)\n",
    "\n",
    "answer = []\n",
    "for i in range(1, len(arr) + 1):\n",
    "    choose(0, i, [], answer)\n",
    "\n",
    "print(min(answer))"
   ]
  },
  {
   "cell_type": "code",
   "execution_count": 12,
   "id": "3da89bf3",
   "metadata": {},
   "outputs": [
    {
     "name": "stdout",
     "output_type": "stream",
     "text": [
      "taste: 3014\n",
      "taste: 330\n",
      "taste: 371\n",
      "taste: 39\n",
      "taste: 496\n",
      "taste: 52\n",
      "taste: 58\n",
      "taste: 6\n",
      "taste: 423\n",
      "taste: 43\n",
      "taste: 48\n",
      "taste: 4\n",
      "taste: 65\n",
      "taste: 5\n",
      "taste: 5\n",
      "taste: 1\n",
      "1\n"
     ]
    }
   ],
   "source": [
    "\n",
    "arr = [[1,7],[2,6],[3,8],[4,9]] #각 재료의 단맛,짠맛\n",
    "\n",
    "## 재료를 사용하거나, 안하거나\n",
    "n = len(arr)\n",
    "answer = []\n",
    "def recur(index,dan,jjan):\n",
    "    \n",
    "    ## 마지막 재료의 순서까지 왔을때\n",
    "    if index == n:\n",
    "        taste = abs(dan-jjan)\n",
    "        answer.append(taste)\n",
    "        print('taste:',taste)\n",
    "        return\n",
    "    \n",
    "    # 재료를 사용했다면\n",
    "    recur(index+1, dan+arr[index][0],jjan*arr[index][1])\n",
    "\n",
    "    # 사용하지 않았다면\n",
    "    recur(index+1,dan,jjan)\n",
    "\n",
    "\n",
    "recur(0,0,1)\n",
    "print(min(answer))"
   ]
  },
  {
   "cell_type": "code",
   "execution_count": null,
   "id": "f00f0f53",
   "metadata": {},
   "outputs": [],
   "source": [
    "##가장 싼 가격으로 채워야 하는 영양소를 채웠을 때 해당 가격 계산\n",
    "\n",
    "A,B,C,D = (100,70,90,10)\n",
    "arr = [[30,55,10,8,100],\n",
    "        [60,10,10,2,70],\n",
    "        [10,80,50,0,50],\n",
    "        [40,30,30,8,60],\n",
    "        [60,10,70,2,120],\n",
    "        [20,70,50,4,4]]\n",
    "n = 6\n",
    "answer = []\n",
    "def calculate(arr_list):\n",
    "    print(arr_list)\n",
    "    aa,bb,cc,dd,ee = (0,0,0,0,0)\n",
    "    for i in arr_list:\n",
    "        aa += i[0]\n",
    "        bb += i[1]\n",
    "        cc += i[2]\n",
    "        dd += i[3]\n",
    "        ee += i[4]\n",
    "    if aa>=A and bb>=B and cc>=C and dd>=D:\n",
    "        answer.append(ee)\n",
    "\n",
    "\n",
    "list1= []\n",
    "def choose(index,count):\n",
    "    for i in range(index,len(arr)):#0,1,2,3\n",
    "        if arr[i] in list1:\n",
    "            continue\n",
    "        list1.append(arr[i])\n",
    "        ##개수만큼 사용했으면\n",
    "        if len(list1) == count:\n",
    "            ##총 영양가 계산\n",
    "            calculate(list1)\n",
    "            list1.pop()\n",
    "        else: \n",
    "            choose(i+1,count)\n",
    "            list1.pop()\n",
    "            \n",
    "            \n",
    "for i in range(1,len(arr)+1): #1,2,3,4,5,6\n",
    "    choose(0,i)\n",
    "print(min(answer))"
   ]
  },
  {
   "cell_type": "code",
   "execution_count": 3,
   "id": "fa45ee64",
   "metadata": {},
   "outputs": [
    {
     "name": "stdout",
     "output_type": "stream",
     "text": [
      "95\n"
     ]
    }
   ],
   "source": [
    "## N일 동안 상담을 할 수있을 때,가장 돈을 많이 받도록 상담을 하는 경우의 수 (금액출력)\n",
    "\n",
    "arr = [[4,10],[1,20],[3,30],[1,40],[2,35],[3,150],[2,10]]\n",
    "\n",
    "## 모든날에 대하여 상담을 받거나, 안받거나\n",
    "n = len(arr)\n",
    "answer = []\n",
    "def recur(index,price):\n",
    "    ## 소요일자를 다 채웠다면\n",
    "    if index == n:\n",
    "        answer.append(price)\n",
    "        return\n",
    "    if index > n:\n",
    "        return\n",
    "    # 해당날에 상담을 한다면-> 소요일동안 다른 상담을 할 수 없음\n",
    "    recur(index+arr[index][0], price+arr[index][1])\n",
    "\n",
    "    # 해당날에 상담을 안했다면-> 다음일자 넘김\n",
    "    recur(index+1,price)\n",
    "\n",
    "\n",
    "recur(0,0)\n",
    "print(max(answer))"
   ]
  },
  {
   "cell_type": "code",
   "execution_count": 8,
   "id": "fac2f4c0",
   "metadata": {},
   "outputs": [
    {
     "name": "stdout",
     "output_type": "stream",
     "text": [
      "무게: 6 가치 :  13\n",
      "무게: 7 가치 :  14\n",
      "무게: 4 가치 :  8\n",
      "무게: 3 가치 :  6\n",
      "무게: 5 가치 :  12\n",
      "무게: 0 가치 :  0\n",
      "[13, 14, 8, 6, 12, 0]\n"
     ]
    }
   ],
   "source": [
    "## 배낭에 담은 물건의 가치가 가장 큰 경우\n",
    "A,B = (4,7) #물건의 수 A, 배낭의 무게 B\n",
    "arr = [[6,13],[4,8],[3,6],[5,12]] #물건의 무게와 가치\n",
    "\n",
    "## 물건을 담거나, 안담거나\n",
    "n = A\n",
    "answer = []\n",
    "def recur(index,weight,value):\n",
    "    \n",
    "     ## 무게가 배낭무게보다 클때\n",
    "    if weight > B:\n",
    "        return\n",
    "    \n",
    "    ## 마지막 물건의 순서까지 왔을때\n",
    "    if index == n:\n",
    "        answer.append(value)\n",
    "        print('무게:',weight,'가치 : ',value)\n",
    "        return\n",
    "    \n",
    "    # 물건을 담았다면,\n",
    "    recur(index+1, weight+arr[index][0], value+arr[index][1])\n",
    "\n",
    "    # 물건을 안 담았다면,\n",
    "    recur(index+1,weight,value)\n",
    "\n",
    "\n",
    "recur(0,0,0)\n",
    "print(answer)"
   ]
  }
 ],
 "metadata": {
  "kernelspec": {
   "display_name": "Python 3 (ipykernel)",
   "language": "python",
   "name": "python3"
  },
  "language_info": {
   "codemirror_mode": {
    "name": "ipython",
    "version": 3
   },
   "file_extension": ".py",
   "mimetype": "text/x-python",
   "name": "python",
   "nbconvert_exporter": "python",
   "pygments_lexer": "ipython3",
   "version": "3.11.5"
  }
 },
 "nbformat": 4,
 "nbformat_minor": 5
}

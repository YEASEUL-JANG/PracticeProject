{
 "cells": [
  {
   "cell_type": "code",
   "execution_count": 6,
   "id": "c7585bf0",
   "metadata": {},
   "outputs": [
    {
     "name": "stdout",
     "output_type": "stream",
     "text": [
      "['1 2 4 5 3 6 7', '4 2 5 1 6 3 7', '4 5 2 6 7 3 1']\n"
     ]
    }
   ],
   "source": [
    "#26 트리 순회\n",
    "\n",
    "##노드 클래스 정의\n",
    "class Node:\n",
    "    def __init__(self,val): #생성자\n",
    "        self.val = val\n",
    "        self.left = None\n",
    "        self.right = None\n",
    "\n",
    "##트리구조 만들기\n",
    "def build_tree(nodes,index):\n",
    "    if index >= len(nodes):\n",
    "        return None\n",
    "    node = Node(nodes[index])\n",
    "    node.left = build_tree(nodes,2*index+1)\n",
    "    node.right = build_tree(nodes,2*index+2)\n",
    "    return node\n",
    "\n",
    "##전위\n",
    "def preorder(node,result):\n",
    "    if node:\n",
    "        result.append(str(node.val))\n",
    "        preorder(node.left,result)\n",
    "        preorder(node.right,result)\n",
    "    \n",
    "##중위\n",
    "def inorder(node,result):\n",
    "    if node:\n",
    "        inorder(node.left,result)\n",
    "        result.append(str(node.val))\n",
    "        inorder(node.right,result)\n",
    "        \n",
    "##후위\n",
    "def postorder(node,result):\n",
    "    if node:\n",
    "        postorder(node.left,result)\n",
    "        postorder(node.right,result)\n",
    "        result.append(str(node.val))\n",
    "\n",
    "def solution():\n",
    "    nodes = [1,2,3,4,5,6,7]\n",
    "    node = build_tree(nodes,0)\n",
    "    \n",
    "    pre_res = []\n",
    "    in_res = []\n",
    "    post_res = []\n",
    "    \n",
    "    preorder(node,pre_res)\n",
    "    inorder(node,in_res)\n",
    "    postorder(node,post_res)\n",
    "    \n",
    "    pre_str = \" \".join(pre_res)\n",
    "    in_str = \" \".join(in_res)\n",
    "    post_str = \" \".join(post_res)\n",
    "    \n",
    "    return [pre_str,in_str,post_str]\n",
    "\n",
    "print(solution())\n",
    "    "
   ]
  },
  {
   "cell_type": "code",
   "execution_count": 26,
   "id": "c08694b8",
   "metadata": {},
   "outputs": [
    {
     "name": "stdout",
     "output_type": "stream",
     "text": [
      "[True, True, True, False]\n"
     ]
    }
   ],
   "source": [
    "#27 이진 탐색 트리 구현\n",
    "\n",
    "lst = [5,3,8,4,2,1,7,10]\n",
    "search_lst = [1,2,5,6]\n",
    "\n",
    "class Node:\n",
    "    def __init__(self,val):\n",
    "        self.val = val\n",
    "        self.left = None\n",
    "        self.right= None\n",
    "        \n",
    "def insert_tree(tree,val):\n",
    "    if tree is None:\n",
    "        return Node(val)\n",
    "    \n",
    "    elif tree.val > val:\n",
    "        tree.left = insert_tree(tree.left,val)\n",
    "    else:\n",
    "        tree.right = insert_tree(tree.right,val)\n",
    "    return tree\n",
    "        \n",
    "def search_tree(tree,val):\n",
    "    if tree is None:\n",
    "        return False\n",
    "    if tree.val == val:\n",
    "        return True\n",
    "    elif tree.val < val:\n",
    "        return search_tree(tree.right,val)\n",
    "    else:\n",
    "        return search_tree(tree.left,val)\n",
    "    \n",
    "        \n",
    "def solution(lst,search_lst):\n",
    "    lst.sort()\n",
    "    result = []\n",
    "    tree = None\n",
    "    for a in lst:\n",
    "        tree = insert_tree(tree,a)\n",
    "    for s in search_lst:\n",
    "        result.append(search_tree(tree,s))\n",
    "    return result\n",
    "\n",
    "print(solution(lst,search_lst))"
   ]
  },
  {
   "cell_type": "code",
   "execution_count": 31,
   "id": "cfece2f9",
   "metadata": {},
   "outputs": [
    {
     "name": "stdout",
     "output_type": "stream",
     "text": [
      "3\n"
     ]
    }
   ],
   "source": [
    "#28 예상대진표\n",
    "N,A,B = 8,4,7\n",
    "\n",
    "def find_AB(A):\n",
    "    if A%2==0: ##짝수\n",
    "        AB = A//2\n",
    "    else:##홀수\n",
    "        AB = (A+1)//2\n",
    "    \n",
    "    return AB\n",
    "\n",
    "def solution(N,A,B,result):\n",
    "    AA = find_AB(A)\n",
    "    BB = find_AB(B)\n",
    "    if AA != BB:\n",
    "        return solution(N,AA,BB,result+1)\n",
    "    else:\n",
    "        return result+1\n",
    "\n",
    "print(solution(N,A,B,0))\n",
    "    "
   ]
  },
  {
   "cell_type": "code",
   "execution_count": 33,
   "id": "2cb78c35",
   "metadata": {},
   "outputs": [
    {
     "name": "stdout",
     "output_type": "stream",
     "text": [
      "[360, 958, 108, 0, 450, 18, 180, 1080]\n"
     ]
    }
   ],
   "source": [
    "#29 다단계 칫솔 판매\n",
    "\n",
    "enroll = [\"john\",\"mary\",\"edward\",\"sam\",\"emily\",\"jaimie\",\"tod\",\"young\"]\n",
    "referral = [\"-\",\"-\",\"mary\",\"edward\",\"mary\",\"mary\",\"jaimie\",\"edward\"]\n",
    "seller = [\"young\",\"john\",\"tod\",\"emily\",\"mary\"]\n",
    "amount = [12,4,2,5,10]\n",
    "\n",
    "def solution(enroll,referral,seller,amount):\n",
    "    result = []\n",
    "    parent = dict(zip(enroll,referral))\n",
    "    total = {x:0 for x in enroll}\n",
    "    \n",
    "    for i in range(len(seller)):\n",
    "        money = amount[i]*100\n",
    "        seller_name = seller[i]\n",
    "        while seller_name != \"-\" and money > 0:\n",
    "            total[seller_name] += money - money//10\n",
    "            seller_name = parent[seller_name]\n",
    "            money = money // 10\n",
    "    result = [total[x] for x in enroll]    \n",
    "    return result\n",
    "\n",
    "print(solution(enroll,referral,seller,amount))\n"
   ]
  },
  {
   "cell_type": "code",
   "execution_count": 44,
   "id": "887668f3",
   "metadata": {},
   "outputs": [
    {
     "name": "stdout",
     "output_type": "stream",
     "text": [
      "16\n"
     ]
    }
   ],
   "source": [
    "#30 미로 탈출\n",
    "from collections import deque\n",
    "\n",
    "maps = [\"SOOOL\",\"XXXXO\",\"OOOOO\",\"OXXXX\",\"OOOOE\"]\n",
    "\n",
    "def move(start,find_word,map):\n",
    "    n = len(map)\n",
    "    m = len(map[0])\n",
    "    i,j = start\n",
    "    q = deque([(i,j,0)])\n",
    "    visited = [[False] * m for _ in range(n)]\n",
    "    while q:\n",
    "        \n",
    "        four = [(1,0),(0,1),(-1,0),(0,-1)]\n",
    "        x,y,count = q.popleft()\n",
    "        \n",
    "        if map[x][y] == find_word:\n",
    "            return count\n",
    "        for a,b in four:\n",
    "            mx,my = (x+a,y+b)\n",
    "            #범위 안\n",
    "            if 0<= mx<n and 0<=my<m and not visited[mx][my] and map[mx][my] != 'X':\n",
    "                visited[mx][my] = True\n",
    "                q.append((mx, my, count + 1))\n",
    "                \n",
    "    return -1\n",
    "\n",
    "def solutions(maps):\n",
    "    map = [list(x) for x in maps]\n",
    "    start = (0,0)\n",
    "    lever = (0,0)\n",
    "    #start 위치 파악\n",
    "    for i in range(len(map)):\n",
    "        for j in range(len(map[0])):\n",
    "            if map[i][j]=='S':\n",
    "                start =(i,j)\n",
    "            elif map[i][j]=='L':\n",
    "                lever = (i,j)\n",
    "                \n",
    "    #출발지점에서 이동 시작\n",
    "    \n",
    "    result_L = move(start,'L',map)\n",
    "    result_E = move(lever,'E',map)\n",
    "    \n",
    "    if -1 in [result_L,result_E]:\n",
    "        return -1\n",
    "    else:\n",
    "        return result_L+result_E\n",
    "    \n",
    "    \n",
    "        \n",
    "    \n",
    "print(solutions(maps))"
   ]
  },
  {
   "cell_type": "code",
   "execution_count": 4,
   "id": "e0b74078",
   "metadata": {},
   "outputs": [
    {
     "name": "stdout",
     "output_type": "stream",
     "text": [
      "{0: [1, 8], 1: [2, 4], 8: [7, 9], 9: [10, 11], 4: [3, 6], 6: [5]}\n"
     ]
    }
   ],
   "source": [
    "#31 양과늑대\n",
    "from collections import deque\n",
    "#각 부모노드 별로 dic 을 만들고 자식노드들을 for문으로 탐색\n",
    "#루트노트에서부터 bfs 방식으로 넓은 탐색 시작. -> 늑대count,양count,visited\n",
    "#노드방문 시 늑대>=양이거나 자식노드가 없으면 현재까지의 양의 숫자 result 저장 => return\n",
    "#최종 result의 max값 반환\n",
    "\n",
    "info = [0,0,1,1,1,0,1,0,1,0,1,1]\n",
    "edges = [[0,1],[1,2],[1,4],[0,8],[8,7],[9,10],[9,11],[4,3],[6,5],[4,6],[8,9]]\n",
    "\n",
    "def solution(info,edges):\n",
    "    parent = {}\n",
    "    for a,b in edges:\n",
    "        if a not in parent:\n",
    "            parent[a]=[b]\n",
    "        else:\n",
    "            parent[a].append(b)\n",
    "    \n",
    "    q = deque([(0,1,0,set())])\n",
    "    while q:\n",
    "        node,sheep,wolf,visited = q.popleft()\n",
    "        for next_node in parent[node]:\n",
    "            #늑대일 경우\n",
    "            if info[next_node]==1:\n",
    "                q.append((next_node,sheep,wolf+1,visited-{next_node}))\n",
    "    \n",
    "    \n",
    "solution(info,edges)"
   ]
  },
  {
   "cell_type": "code",
   "execution_count": 23,
   "id": "af306ba4",
   "metadata": {},
   "outputs": [
    {
     "name": "stdout",
     "output_type": "stream",
     "text": [
      "[(6, [(8, 7)]), (5, [(3, 3), (11, 8)]), (3, [(1, 1), (5, 4), (13, 9)]), (2, [(2, 2), (7, 6)]), (1, [(6, 5)])]\n"
     ]
    }
   ],
   "source": [
    "#32 길찾기 게임\n",
    "from collections import deque\n",
    "\n",
    "class Node():\n",
    "    def __init__(self,val):\n",
    "        self.val = val\n",
    "        self.left = None\n",
    "        self.right = None\n",
    "#(x,y)\n",
    "nodeinfo = [[5,3],[11,5],[13,3],[3,5],[6,1],[1,3],[8,6],[7,2],[2,2]]\n",
    "\n",
    "def insert_tree(tree,val,q):\n",
    "    if tree is None:\n",
    "        tree = Node(val)\n",
    "    while q:\n",
    "        a = q.popleft()\n",
    "        if tree.left is None and a<val[0]:\n",
    "            tree.left=v[1]\n",
    "            val2.pop(index)\n",
    "        elif tree.right is None and val[0]<=v[0]:\n",
    "            tree.right = v[1]\n",
    "            val2.pop(index)\n",
    "        \n",
    "        \n",
    "def solution(nodeinfo):\n",
    "    nodeinfo.sort(key=lambda x:x[0])\n",
    "    map = {}\n",
    "    for i,x in enumerate(nodeinfo):\n",
    "        if x[1] not in map:\n",
    "            map[x[1]] = [(x[0],i+1)]\n",
    "        else:\n",
    "            map[x[1]].append((x[0],i+1))\n",
    "    map_sort = sorted(map.items(),key=lambda x:(-x[0]))\n",
    "    print(map_sort)\n",
    "    \n",
    "    \n",
    "    \n",
    "    #이진트리 생성\n",
    "    tree = None\n",
    "    for i,val in enumerate(map_sort):\n",
    "        if i<len(map_sort)-1:\n",
    "            q = deque(map_sort[i+1])#다음 y의 좌표들\n",
    "            tree = insert_tree(tree,val,q)\n",
    "            \n",
    "    \n",
    "    \n",
    "solution(nodeinfo)\n",
    "    \n"
   ]
  }
 ],
 "metadata": {
  "kernelspec": {
   "display_name": "Python 3 (ipykernel)",
   "language": "python",
   "name": "python3"
  },
  "language_info": {
   "codemirror_mode": {
    "name": "ipython",
    "version": 3
   },
   "file_extension": ".py",
   "mimetype": "text/x-python",
   "name": "python",
   "nbconvert_exporter": "python",
   "pygments_lexer": "ipython3",
   "version": "3.11.5"
  }
 },
 "nbformat": 4,
 "nbformat_minor": 5
}

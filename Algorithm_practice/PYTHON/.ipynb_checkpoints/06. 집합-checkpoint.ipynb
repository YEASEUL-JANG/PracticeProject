{
 "cells": [
  {
   "cell_type": "code",
   "execution_count": 6,
   "id": "04355a16",
   "metadata": {},
   "outputs": [
    {
     "name": "stdout",
     "output_type": "stream",
     "text": [
      "2\n"
     ]
    }
   ],
   "source": [
    "#33 간단한 유니온-파인드 알고리즘 구현하기\n",
    "\n",
    "operations = [['u',0,1],['u',2,3],['f',0]]\n",
    "k = 4\n",
    "\n",
    "#루트 노드 찾기\n",
    "def find(parents,a):\n",
    "    if parents[a]!= a:\n",
    "        parents[a] = find(parents,parents[a])\n",
    "    return parents[a]\n",
    "\n",
    "#두 집합 합치기\n",
    "def union(parents,a,b):\n",
    "    parent_a = find(parents,a)\n",
    "    parent_b = find(parents,b)\n",
    "    if parent_a<parent_b:\n",
    "        parents[a] = parent_b\n",
    "    else:\n",
    "        parents[b] = parent_b\n",
    "    \n",
    "    \n",
    "\n",
    "def solutions(k,operations):\n",
    "    parents = list(range(k))\n",
    "    \n",
    "    for op in operations:\n",
    "        if op[0]=='u':\n",
    "            union(parents,op[1],op[2])\n",
    "        else:\n",
    "            find(parents,op[1])\n",
    "    n = set()\n",
    "    for i in range(k):\n",
    "        n.add(find(parents,i))\n",
    "    return len(n)\n",
    "\n",
    "print(solutions(k,operations))\n",
    "    "
   ]
  },
  {
   "cell_type": "code",
   "execution_count": 8,
   "id": "a524dee9",
   "metadata": {},
   "outputs": [
    {
     "name": "stdout",
     "output_type": "stream",
     "text": [
      "2\n"
     ]
    }
   ],
   "source": [
    "#34 폰켓몬\n",
    "nums = [3,3,3,2,2,2]\n",
    "def solutions(nums):\n",
    "    num = len(nums)//2\n",
    "    set_num = set(nums) #2,3,4\n",
    "    if num<=len(set_num):\n",
    "        return num\n",
    "    else:\n",
    "        return len(set_num)\n",
    "    \n",
    "print(solutions(nums))"
   ]
  },
  {
   "cell_type": "code",
   "execution_count": 19,
   "id": "8c1d9818",
   "metadata": {},
   "outputs": [
    {
     "name": "stdout",
     "output_type": "stream",
     "text": [
      "[3, 3]\n"
     ]
    }
   ],
   "source": [
    "#35 영어 끝말잇기\n",
    "words = [\"tank\",\"kick\",\"know\",\"wheel\",\"land\",\"dream\",\"mother\",\"robot\",\"tank\"]\n",
    "n = 3\n",
    "def solutions(words,n):\n",
    "    check = [words[0]]\n",
    "    for i in range(1,len(words)):\n",
    "        if words[i-1][-1] != words[i][0] or words[i] in check:\n",
    "            if (i+1)%n==0:#나누어 떨어짐\n",
    "                return [n,(i+1)//n]\n",
    "            else:\n",
    "                return [(i+1)%n,((i+1)//n)+1]\n",
    "        else:\n",
    "            check.append(words[i])\n",
    "    return [0,0]\n",
    "\n",
    "print(solutions(words,n))"
   ]
  },
  {
   "cell_type": "code",
   "execution_count": 22,
   "id": "2b500e76",
   "metadata": {},
   "outputs": [
    {
     "name": "stdout",
     "output_type": "stream",
     "text": [
      "False\n"
     ]
    }
   ],
   "source": [
    "#36 전화번호 목록\n",
    "phone_book = [\"97674223\",\"119\",\"1195524421\"]\n",
    "\n",
    "def solutions(phone_book):\n",
    "    phone_book.sort()\n",
    "    for i in range(len(phone_boot)-1):\n",
    "        if phone_book[i+1].startswith(phone_book[i]):\n",
    "            return False\n",
    "    return True\n",
    "\n",
    "print(solutions(phone_book))\n",
    "    \n",
    "    "
   ]
  },
  {
   "cell_type": "code",
   "execution_count": null,
   "id": "3ebab16a",
   "metadata": {},
   "outputs": [],
   "source": [
    "#37 섬 연결하기 \n",
    "#최소비용으로 모든연결 => 최소신장트리\n",
    "n = 4\n",
    "costs = [[0,1,1],[0,2,2],[1,2,5],[1,3,1],[2,3,8]]\n",
    "\n",
    "def solutions(n,costs):\n",
    "    \n"
   ]
  }
 ],
 "metadata": {
  "kernelspec": {
   "display_name": "Python 3 (ipykernel)",
   "language": "python",
   "name": "python3"
  },
  "language_info": {
   "codemirror_mode": {
    "name": "ipython",
    "version": 3
   },
   "file_extension": ".py",
   "mimetype": "text/x-python",
   "name": "python",
   "nbconvert_exporter": "python",
   "pygments_lexer": "ipython3",
   "version": "3.11.5"
  }
 },
 "nbformat": 4,
 "nbformat_minor": 5
}

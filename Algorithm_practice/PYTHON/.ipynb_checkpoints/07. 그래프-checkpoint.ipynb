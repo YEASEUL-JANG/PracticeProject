{
 "cells": [
  {
   "cell_type": "code",
   "execution_count": 19,
   "id": "e9f74129",
   "metadata": {},
   "outputs": [
    {
     "name": "stdout",
     "output_type": "stream",
     "text": [
      "['A', 'B', 'D', 'E', 'F', 'C']\n"
     ]
    }
   ],
   "source": [
    "#38 깊이우선탐색\n",
    "\n",
    "graph = [['A','B'],['A','C'],['B','D'],['B','E'],['C','E'],['E','F']]\n",
    "start= 'A'\n",
    "\n",
    "def dfs(arr,result,start):\n",
    "    if start not in result:\n",
    "        result.append(start)\n",
    "    if start in arr:\n",
    "        for node in arr[start]: #'B','C'\n",
    "            dfs(arr,result,node)\n",
    "            \n",
    "    return result\n",
    "        \n",
    "\n",
    "def solutions(graph,start):\n",
    "    arr = {}\n",
    "    visited = {}\n",
    "    for a,b in graph:\n",
    "        if a in arr:\n",
    "            arr[a].append(b)\n",
    "        else:\n",
    "            arr[a]=[b]\n",
    "    result = []\n",
    "    return dfs(arr,result,start)\n",
    "\n",
    "print(solutions(graph,start))\n",
    "    "
   ]
  },
  {
   "cell_type": "code",
   "execution_count": 27,
   "id": "8fbbf19c",
   "metadata": {},
   "outputs": [
    {
     "name": "stdout",
     "output_type": "stream",
     "text": [
      "dic {1: [2, 3], 2: [4, 5], 3: [6, 7], 4: [8], 5: [8], 6: [9], 7: [9]}\n",
      "[1, 2, 3, 4, 5, 6, 7, 8, 9]\n"
     ]
    }
   ],
   "source": [
    "#39 너비우선탐색\n",
    "from collections import deque\n",
    "\n",
    "graph = [(1,2),(1,3),(2,4),(2,5),(3,6),(3,7),(4,8),(5,8),(6,9),(7,9)]\n",
    "start= 1\n",
    "\n",
    "def solutions(graph,start):\n",
    "    \n",
    "    dic = {}\n",
    "    for a,b in graph:\n",
    "        if a in dic:\n",
    "            dic[a].append(b)\n",
    "        else:\n",
    "            dic[a]=[b]\n",
    "    q = deque([start])\n",
    "    visited=[start]\n",
    "    while q:\n",
    "        node = q.popleft()\n",
    "        if node in dic:\n",
    "            for n in dic[node]:\n",
    "                if n not in visited:\n",
    "                    visited.append(n)\n",
    "                    q.append(n)\n",
    "    return visited\n",
    "               \n",
    "    \n",
    "    \n",
    "    \n",
    "print(solutions(graph,start))"
   ]
  },
  {
   "cell_type": "code",
   "execution_count": 3,
   "id": "69495e42",
   "metadata": {},
   "outputs": [
    {
     "name": "stdout",
     "output_type": "stream",
     "text": [
      "({'A': 0, 'B': 4, 'C': 3}, {'A': ['A'], 'B': ['A', 'C', 'B'], 'C': ['A', 'C']})\n"
     ]
    }
   ],
   "source": [
    "#40 다익스트라 알고리즘\n",
    "import heapq\n",
    "graph = {'A':{'B':9,'C':3}, 'B':{'A':5},'C':{'B':1}}\n",
    "start = 'A'\n",
    "#각 노드까지 최소비용으로 가는 경로\n",
    "def solutions(graph,start):\n",
    "    INF = float('inf')\n",
    "    cost = {}#각 노드에 대한 가중치 저장\n",
    "    result = {}#각 노드까지 가는 경로 저장\n",
    "    for g in graph.keys():\n",
    "        cost[g]=INF\n",
    "        result[g] = []\n",
    "    \n",
    "    cost[start] = 0\n",
    "    result[start] = [start]\n",
    "    h = []\n",
    "    heapq.heappush(h,(0,start))\n",
    "    while h:\n",
    "        a,b = heapq.heappop(h)\n",
    "        if a > cost[b]:\n",
    "            continue\n",
    "        if b in graph:\n",
    "            for node,c in graph[b].items():\n",
    "                if cost[node]>a+c:\n",
    "                    cost[node]=a+c\n",
    "                    result[node] = result[b]+[node]\n",
    "                    heapq.heappush(h,(a+c,node))\n",
    "                    \n",
    "    return cost,result\n",
    "\n",
    "print(solutions(graph,start))\n"
   ]
  },
  {
   "cell_type": "code",
   "execution_count": 7,
   "id": "9275ba96",
   "metadata": {},
   "outputs": [
    {
     "name": "stdout",
     "output_type": "stream",
     "text": [
      "11\n"
     ]
    }
   ],
   "source": [
    "#42 게임 맵 최단거리\n",
    "from collections import deque\n",
    "\n",
    "maps = [[1,0,1,1,1],[1,0,1,0,1],[1,0,1,1,1],[1,1,1,0,1],[0,0,0,0,1]]\n",
    "\n",
    "def solutions(maps):\n",
    "    #[0,0]에서 출발해서 [4,4]로 도착하는 최단 이동경로\n",
    "    yy = len(maps)\n",
    "    xx = len(maps[0])\n",
    "    q = deque([(0,0,1)])\n",
    "    visited = [[False]*xx for _ in range(yy)]\n",
    "    \n",
    "    while q:\n",
    "        a,b,cost = q.popleft()\n",
    "        #4방향이동\n",
    "        directions = [(1,0),(-1,0),(0,1),(0,-1)]\n",
    "        for x,y in directions:\n",
    "            mx,my = (a+x,b+y)\n",
    "            #이동가능한 경우\n",
    "            if 0<=mx<yy and 0<=my<xx and maps[mx][my]==1 and not visited[mx][my]:\n",
    "                if mx==yy-1 and my==xx-1:\n",
    "                    return cost+1\n",
    "                visited[mx][my] = True\n",
    "                q.append((mx,my,cost+1))\n",
    "    return -1\n",
    "\n",
    "print(solutions(maps))"
   ]
  },
  {
   "cell_type": "code",
   "execution_count": 14,
   "id": "e5ddef04",
   "metadata": {},
   "outputs": [
    {
     "name": "stdout",
     "output_type": "stream",
     "text": [
      "2\n"
     ]
    }
   ],
   "source": [
    "#43 네트워크\n",
    "n = 3\n",
    "computers = [[1,1,0],[1,1,0],[0,0,1]]\n",
    "def dfs(computers,visited,n):\n",
    "    visited[n] = True\n",
    "    for index,node in enumerate(computers[n]):\n",
    "        if node and visited[node] is False:\n",
    "            visited[node] = True\n",
    "            dfs(computers,visited,index)\n",
    "        \n",
    "def solution(n,computers):\n",
    "    visited = [False]*n\n",
    "    answer = 0\n",
    "    for i in range(n):\n",
    "        if not visited[i]:\n",
    "            dfs(computers,visited,i)\n",
    "            answer+=1\n",
    "    return answer\n",
    "    \n",
    "    \n",
    "print(solutions(n,computers))"
   ]
  },
  {
   "cell_type": "code",
   "execution_count": 30,
   "id": "90f7c71d",
   "metadata": {},
   "outputs": [
    {
     "name": "stdout",
     "output_type": "stream",
     "text": [
      "4\n"
     ]
    }
   ],
   "source": [
    "import heapq\n",
    "\n",
    "road = [[1,2,1],[2,3,3],[5,2,2],[1,4,2],[5,3,1],[5,4,2]]\n",
    "N,K = 5,3\n",
    "    \n",
    "\n",
    "def solution(road,N,K):\n",
    "    INF = float('inf')\n",
    "    maps = [[]for _ in range(N+1)]\n",
    "    result = [INF]*(N+1)\n",
    "    for r in road:\n",
    "        a,b,cost = r\n",
    "        maps[a].append((b,cost))\n",
    "        maps[b].append((a,cost))\n",
    "    #1에서 출발해서 N번까지 도착하는 최소경로 \n",
    "    h = []\n",
    "    result[1]=0\n",
    "    heapq.heappush(h,(0,1))#cost,n\n",
    "    while h:\n",
    "        c,node = heapq.heappop(h)\n",
    "        if result[node]<c:\n",
    "            continue\n",
    "        for next_node,edge_cost in maps[node]:\n",
    "            if result[next_node]>c+edge_cost:\n",
    "                    result[next_node] = c+edge_cost\n",
    "                    heapq.heappush(h,(c+edge_cost,next_node))\n",
    "    count = 0\n",
    "    for n in result:\n",
    "        if n<=K:\n",
    "            count+=1\n",
    "    return count\n",
    "            \n",
    "    \n",
    "print(solution(road,N,K))\n",
    "        \n"
   ]
  },
  {
   "cell_type": "code",
   "execution_count": 40,
   "id": "4939766a",
   "metadata": {},
   "outputs": [
    {
     "name": "stdout",
     "output_type": "stream",
     "text": [
      "3800\n"
     ]
    }
   ],
   "source": [
    "import heapq\n",
    "board = [[0,0,0,0,0,0,0,1],\n",
    "         [0,0,0,0,0,0,0,0],\n",
    "         [0,0,0,0,0,1,0,0],\n",
    "         [0,0,0,0,1,0,0,0],\n",
    "         [0,0,0,1,0,0,0,1],\n",
    "         [0,0,1,0,0,0,1,0],\n",
    "         [0,1,0,0,0,1,0,0],\n",
    "         [1,0,0,0,0,0,0,0]]\n",
    "\n",
    "def solution(board):\n",
    "    n = len(board) #행\n",
    "    m = len(board[0]) #열\n",
    "    INF = float('inf')\n",
    "    cost = [[INF]*m for _ in range(n)]\n",
    "    cost[0][0] = 0\n",
    "    heap = [(cost[0][0],(0,0,None))]\n",
    "    direction = ['q','w','e','r']\n",
    "    maps = [(-1,0),(1,0),(0,1),(0,-1)]\n",
    "    \n",
    "    while heap:\n",
    "        current_cost,(a,b,c) = heapq.heappop(heap)\n",
    "        #도착\n",
    "        if (a,b)==(n-1,m-1):\n",
    "            return current_cost\n",
    "        \n",
    "        if current_cost > cost[a][b]:\n",
    "            continue\n",
    "            \n",
    "        for x,y in maps:\n",
    "            mx,my = x+a, y+b\n",
    "            d = direction[maps.index((x, y))]\n",
    "            if 0<=mx<n and 0<=my<m and board[mx][my]!=1:\n",
    "                #회전계산\n",
    "                corner =0\n",
    "                if c is not None and c != d:\n",
    "                    corner = 500\n",
    "                next_cost = current_cost + 100 + corner\n",
    "                if cost[mx][my]>next_cost:\n",
    "                    cost[mx][my]=next_cost\n",
    "                    heapq.heappush(heap,(next_cost,(mx,my,d)))\n",
    "    return cost\n",
    "\n",
    "print(solution(board))\n",
    "    \n",
    "    "
   ]
  },
  {
   "cell_type": "code",
   "execution_count": 57,
   "id": "6dfd15cc",
   "metadata": {},
   "outputs": [
    {
     "name": "stdout",
     "output_type": "stream",
     "text": [
      "3\n"
     ]
    }
   ],
   "source": [
    "import copy\n",
    "\n",
    "wires = [[1,3],[2,3],[3,4],[4,5],[4,6],[4,7],[7,8],[7,9]] \n",
    "n = 9\n",
    "def searchTreeCount(graph,start,count,visited):\n",
    "    \n",
    "    for node in graph[start]:\n",
    "        if not visited[node]:\n",
    "            visited[node]=True\n",
    "            count = searchTreeCount(graph,node,count+1,visited)\n",
    "    \n",
    "    return count\n",
    "        \n",
    "    \n",
    "def solution(wires,n):\n",
    "    graph = [[]for _ in range(n+1)]\n",
    "    for a,b in wires:\n",
    "        graph[a].append(b)\n",
    "        graph[b].append(a)\n",
    "        \n",
    "    result = []\n",
    "    for a,b in wires:\n",
    "        new_graph = copy.deepcopy(graph)\n",
    "        new_graph[a].remove(b)\n",
    "        new_graph[b].remove(a)\n",
    "        visited = [False]*(n+1)\n",
    "        visited[a] = True\n",
    "        count = searchTreeCount(new_graph,a,1,visited)\n",
    "        dif = abs(n-(2*count))\n",
    "        result.append(dif)\n",
    "    return min(result)\n",
    "\n",
    "print(solution(wires,n))"
   ]
  }
 ],
 "metadata": {
  "kernelspec": {
   "display_name": "Python 3 (ipykernel)",
   "language": "python",
   "name": "python3"
  },
  "language_info": {
   "codemirror_mode": {
    "name": "ipython",
    "version": 3
   },
   "file_extension": ".py",
   "mimetype": "text/x-python",
   "name": "python",
   "nbconvert_exporter": "python",
   "pygments_lexer": "ipython3",
   "version": "3.11.5"
  }
 },
 "nbformat": 4,
 "nbformat_minor": 5
}

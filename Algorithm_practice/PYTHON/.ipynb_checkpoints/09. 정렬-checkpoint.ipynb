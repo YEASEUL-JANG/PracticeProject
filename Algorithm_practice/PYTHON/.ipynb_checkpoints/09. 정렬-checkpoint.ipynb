{
 "cells": [
  {
   "cell_type": "code",
   "execution_count": 4,
   "id": "e9d71086",
   "metadata": {},
   "outputs": [
    {
     "name": "stdout",
     "output_type": "stream",
     "text": [
      "ehllo\n"
     ]
    }
   ],
   "source": [
    "#54 계수정렬\n",
    "\n",
    "s = \"hello\"\n",
    "\n",
    "def solution(s):\n",
    "    arr = [0]*26\n",
    "    result = \"\"\n",
    "    for a in s:\n",
    "        arr[ord(a)-ord(\"a\")] +=1\n",
    "    \n",
    "    for a in range(len(arr)):\n",
    "        result += chr(a + ord(\"a\")) * arr[a]\n",
    "    return result\n",
    "\n",
    "print(solution(s))"
   ]
  },
  {
   "cell_type": "code",
   "execution_count": 5,
   "id": "68c16467",
   "metadata": {},
   "outputs": [
    {
     "name": "stdout",
     "output_type": "stream",
     "text": [
      "[1, 2, 3, 4, 5, 6]\n"
     ]
    }
   ],
   "source": [
    "#55 정렬이 완료된 두 배열 합치기 (병합정렬)\n",
    "arr1 = [1,3,5]\n",
    "arr2 = [2,4,6]\n",
    "\n",
    "def solution(aa,bb):\n",
    "    i,j = 0,0\n",
    "    merged = []\n",
    "    while i<len(aa) and j<len(bb):\n",
    "        if aa[i]<bb[j]:\n",
    "            merged.append(aa[i])\n",
    "            i+=1\n",
    "        else:\n",
    "            merged.append(bb[j])\n",
    "            j+=1\n",
    "            \n",
    "    #마지막 원소가 남음\n",
    "    while i < len(aa):\n",
    "        merged.append(aa[i])\n",
    "        i+=1\n",
    "    while j < len(bb):\n",
    "        merged.append(bb[j])\n",
    "        j+=1\n",
    "        \n",
    "    return merged\n",
    "        \n",
    "\n",
    "print(solution(arr1,arr2))"
   ]
  },
  {
   "cell_type": "code",
   "execution_count": 8,
   "id": "8f099ca1",
   "metadata": {},
   "outputs": [
    {
     "name": "stdout",
     "output_type": "stream",
     "text": [
      "['car', 'bed', 'sun']\n"
     ]
    }
   ],
   "source": [
    "#56 문자열 내 마음대로 정렬하기 \n",
    "\n",
    "strings = [\"sun\",\"bed\",\"car\"]\n",
    "n = 1\n",
    "\n",
    "def solution(strings,n):\n",
    "    return sorted(strings,key=lambda x:x[n])\n",
    "\n",
    "print(solution(strings,n))"
   ]
  },
  {
   "cell_type": "code",
   "execution_count": 16,
   "id": "e65e9b77",
   "metadata": {},
   "outputs": [
    {
     "name": "stdout",
     "output_type": "stream",
     "text": [
      "873211\n"
     ]
    }
   ],
   "source": [
    "#57 정수 내림차순으로 배치\n",
    "n = 118372\n",
    "\n",
    "def solution(n):\n",
    "    return int(\"\".join(sorted(list(str(n)),reverse=True)))\n",
    "\n",
    "print(solution(n))"
   ]
  },
  {
   "cell_type": "code",
   "execution_count": 20,
   "id": "d9793158",
   "metadata": {},
   "outputs": [
    {
     "name": "stdout",
     "output_type": "stream",
     "text": [
      "[5, 6, 3]\n"
     ]
    }
   ],
   "source": [
    "#58 K번째 수\n",
    "array = [1,5,2,6,3,7,4]\n",
    "commands = [[2,5,3],[4,4,1],[1,7,3]]\n",
    "\n",
    "def solution(array,commands):\n",
    "    result = []\n",
    "    for command in commands:\n",
    "        i,j,k = command\n",
    "        result.append(sorted(array[i-1:j])[k-1])\n",
    "    return result\n",
    "\n",
    "print(solution(array,commands))\n",
    "    "
   ]
  },
  {
   "cell_type": "code",
   "execution_count": 29,
   "id": "511b5dd5",
   "metadata": {},
   "outputs": [
    {
     "name": "stdout",
     "output_type": "stream",
     "text": [
      "9534330\n"
     ]
    }
   ],
   "source": [
    "#59 가장 큰 수\n",
    "from itertools import permutations\n",
    "\n",
    "numbers = [3,30,34,5,9]\n",
    "\n",
    "def solution(numbers):\n",
    "    result = []\n",
    "    arr = list(permutations(numbers,len(numbers)))\n",
    "    for x in arr:\n",
    "        result.append(int(\"\".join([str(a) for a in x])))\n",
    "    return max(result)\n",
    "\n",
    "print(solution(numbers))\n",
    "    "
   ]
  },
  {
   "cell_type": "code",
   "execution_count": 15,
   "id": "85b845ae",
   "metadata": {},
   "outputs": [
    {
     "name": "stdout",
     "output_type": "stream",
     "text": [
      "['3', '2', '4', '1']\n"
     ]
    }
   ],
   "source": [
    "#60 튜플\n",
    "s = \"{{4,2,3},{3},{2,3,4,1},{2,3}}\"\n",
    "def solution(s):\n",
    "    arr = s[2:-2].split(\"},{\")\n",
    "    sorted_arr = sorted(arr,key=lambda x:len(x))\n",
    "    result = []\n",
    "    for l in sorted_arr:\n",
    "        ar = l.split(',')\n",
    "        for b in ar:\n",
    "            if b not in result:\n",
    "                result.append(b)\n",
    "            \n",
    "    return result\n",
    "        \n",
    "print(solution(s))"
   ]
  },
  {
   "cell_type": "code",
   "execution_count": 28,
   "id": "db5d793e",
   "metadata": {},
   "outputs": [
    {
     "name": "stdout",
     "output_type": "stream",
     "text": [
      "15\n"
     ]
    }
   ],
   "source": [
    "#61 지형이동\n",
    "import heapq\n",
    "\n",
    "land = [[1, 4, 8, 10], [5, 5, 5, 5], [10, 10, 10, 10], [10, 10, 10, 20]]\n",
    "height = 3\n",
    "\n",
    "#1행 1열에서 고정 출발\n",
    "\n",
    "def start(land,height):\n",
    "    h = [(0,0,0)]\n",
    "    cost = 0\n",
    "    visited = [[False]*len(land[0]) for _ in range(len(land))]\n",
    "    direction = [(1,0),(-1,0),(0,1),(0,-1)]\n",
    "    \n",
    "    while h:\n",
    "        current_c,a,b = heapq.heappop(h)\n",
    "        if not visited[a][b]:\n",
    "            visited[a][b]=True\n",
    "            cost += current_c\n",
    "            for x,y in direction:\n",
    "                mx,my = a+x,b+y\n",
    "                if 0<=mx<len(land) and 0<=my<len(land[0]):\n",
    "                    new_cost = 0\n",
    "                    if abs(land[a][b]-land[mx][my])>height:\n",
    "                        #사다리 비용 발생\n",
    "                        new_cost = abs(land[a][b]-land[mx][my])\n",
    "                    heapq.heappush(h,(new_cost,mx,my))\n",
    "    return cost\n",
    "\n",
    "print(start(land,height))"
   ]
  }
 ],
 "metadata": {
  "kernelspec": {
   "display_name": "Python 3 (ipykernel)",
   "language": "python",
   "name": "python3"
  },
  "language_info": {
   "codemirror_mode": {
    "name": "ipython",
    "version": 3
   },
   "file_extension": ".py",
   "mimetype": "text/x-python",
   "name": "python",
   "nbconvert_exporter": "python",
   "pygments_lexer": "ipython3",
   "version": "3.11.5"
  }
 },
 "nbformat": 4,
 "nbformat_minor": 5
}

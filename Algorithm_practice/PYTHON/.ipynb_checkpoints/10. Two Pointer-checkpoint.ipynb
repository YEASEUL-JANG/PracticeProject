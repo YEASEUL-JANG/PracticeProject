{
 "cells": [
  {
   "cell_type": "code",
   "execution_count": null,
   "id": "acbdf1fa-96b6-405b-bbfe-bdc29cdd1282",
   "metadata": {},
   "outputs": [],
   "source": [
    "##제공된 수열에서 두 수를 합해서 x 가 나오는 모든 결과의 경우의 수\n",
    "\n",
    "#n = int(input())\n",
    "n = 9\n",
    "#arr = sorted(list(map(int,input().split())))\n",
    "arr = sorted([5,12,7,10,9,1,2,3,11])\n",
    "#x = int(input())\n",
    "x = 13\n",
    "\n",
    "#투포인터 생성\n",
    "s = 0\n",
    "e = n-1\n",
    "count = 0\n",
    "while s<e:\n",
    "    result = arr[s]+arr[e]\n",
    "    if result == x:\n",
    "        count += 1\n",
    "    \n",
    "    if result >= x:\n",
    "        e -= 1\n",
    "    else:\n",
    "        s += 1\n",
    "\n",
    "print(count)"
   ]
  }
 ],
 "metadata": {
  "kernelspec": {
   "display_name": "Python 3 (ipykernel)",
   "language": "python",
   "name": "python3"
  },
  "language_info": {
   "codemirror_mode": {
    "name": "ipython",
    "version": 3
   },
   "file_extension": ".py",
   "mimetype": "text/x-python",
   "name": "python",
   "nbconvert_exporter": "python",
   "pygments_lexer": "ipython3",
   "version": "3.11.5"
  }
 },
 "nbformat": 4,
 "nbformat_minor": 5
}

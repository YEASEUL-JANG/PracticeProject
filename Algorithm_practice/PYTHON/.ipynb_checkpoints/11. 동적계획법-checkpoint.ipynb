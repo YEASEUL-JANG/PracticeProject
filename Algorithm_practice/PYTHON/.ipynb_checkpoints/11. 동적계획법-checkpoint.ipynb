{
 "cells": [
  {
   "cell_type": "code",
   "execution_count": 1,
   "id": "eac788cd",
   "metadata": {},
   "outputs": [
    {
     "name": "stdout",
     "output_type": "stream",
     "text": [
      "5\n"
     ]
    }
   ],
   "source": [
    "#71 LIS 길이 계산하기 \n",
    "nums = [1,4,2,3,1,5,7,3]\n",
    "\n",
    "def solution(nums):\n",
    "    #dp[i]는 nums[i]를 마지막으로 하는 LIS의 길이\n",
    "    dp = [1]*len(nums)\n",
    "    \n",
    "    for i in range(1,len(nums)):\n",
    "        for j in range(i):\n",
    "            if nums[i]>nums[j]:\n",
    "                dp[i]= max(dp[i],dp[j]+1)\n",
    "    return max(dp)\n",
    "\n",
    "print(solution(nums))"
   ]
  }
 ],
 "metadata": {
  "kernelspec": {
   "display_name": "Python 3 (ipykernel)",
   "language": "python",
   "name": "python3"
  },
  "language_info": {
   "codemirror_mode": {
    "name": "ipython",
    "version": 3
   },
   "file_extension": ".py",
   "mimetype": "text/x-python",
   "name": "python",
   "nbconvert_exporter": "python",
   "pygments_lexer": "ipython3",
   "version": "3.11.5"
  }
 },
 "nbformat": 4,
 "nbformat_minor": 5
}

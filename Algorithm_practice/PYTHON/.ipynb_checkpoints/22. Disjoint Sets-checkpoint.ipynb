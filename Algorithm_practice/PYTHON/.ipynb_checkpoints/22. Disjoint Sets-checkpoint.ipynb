{
 "cells": [
  {
   "cell_type": "code",
   "execution_count": 5,
   "id": "7b6f6b53-f715-48fc-8b34-312471162a32",
   "metadata": {
    "tags": []
   },
   "outputs": [
    {
     "name": "stdin",
     "output_type": "stream",
     "text": [
      " 6 4\n",
      " 1 4\n",
      " 2 3\n",
      " 2 4\n",
      " 5 6\n"
     ]
    },
    {
     "name": "stdout",
     "output_type": "stream",
     "text": [
      "[0, 1, 1, 1, 1, 5, 5]\n"
     ]
    }
   ],
   "source": [
    "##서로소 집합 알고리즘\n",
    "\n",
    "#v:노드의 갯수, e: 간선(union)의 갯수\n",
    "v,e = map(int,input().split())\n",
    "#부모노드 테이블\n",
    "parent = [0] * (v+1)\n",
    "\n",
    "#각 노드의 부모를 자기자신으로 초기화\n",
    "for i in range(1,v+1):\n",
    "    parent[i] = i\n",
    "    \n",
    "## 특정 원소가 속한 집합찾기\n",
    "def find_parent(parent,a):\n",
    "    #루트노드가 아니라면 찾을때까지 재귀적 호출\n",
    "    if parent[a]!=a: ##부모노드가 자기자신과 같다면 최종부모\n",
    "        parent[a] = find_parent(parent,parent[a])\n",
    "    return parent[a]\n",
    "    \n",
    "    \n",
    "## 두 원소가 속한 집합합치기\n",
    "def union_parent(parent,a,b):\n",
    "    a = find_parent(parent,a)\n",
    "    b = find_parent(parent,b)\n",
    "    if a < b:\n",
    "        parent[b] = a\n",
    "    else:\n",
    "        parent[a] = b\n",
    "    \n",
    "    \n",
    "#union연산을 수행\n",
    "for i in range(e):\n",
    "    a,b = map(int,input().split())\n",
    "    union_parent(parent,a,b)\n",
    "\n",
    "# 각 노드의 최종 부모를 찾기\n",
    "for i in range(1, v + 1):\n",
    "    parent[i] = find_parent(parent, i)\n",
    "\n",
    "    \n",
    "\n",
    "print(parent)"
   ]
  },
  {
   "cell_type": "code",
   "execution_count": 6,
   "id": "21eee493-7057-4846-b2e5-5a5787fada73",
   "metadata": {
    "tags": []
   },
   "outputs": [
    {
     "name": "stdin",
     "output_type": "stream",
     "text": [
      " 7 9\n",
      " 1 2 29\n",
      " 1 5 75\n",
      " 2 3 35\n",
      " 2 6 34\n",
      " 3 4 7\n",
      " 4 6 23\n",
      " 4 7 13\n",
      " 5 6 53\n",
      " 6 7 25\n"
     ]
    },
    {
     "name": "stdout",
     "output_type": "stream",
     "text": [
      "159\n"
     ]
    }
   ],
   "source": [
    "## 크루스칼 알고리즘\n",
    "\n",
    "#v:노드의 갯수, e: 간선(union)의 갯수\n",
    "v,e = map(int,input().split())\n",
    "#부모노드 테이블\n",
    "parent = [0] * (v+1)\n",
    "\n",
    "#각 노드의 부모를 자기자신으로 초기화\n",
    "for i in range(1,v+1):\n",
    "    parent[i] = i\n",
    "\n",
    "    \n",
    "## 특정 원소가 속한 집합찾기\n",
    "def find_parent(parent,a):\n",
    "    #루트노드가 아니라면 찾을때까지 재귀적 호출\n",
    "    if parent[a]!=a: ##부모노드가 자기자신과 같다면 최종부모\n",
    "        parent[a] = find_parent(parent,parent[a])\n",
    "    return parent[a]\n",
    "    \n",
    "    \n",
    "## 두 원소가 속한 집합합치기\n",
    "def union_parent(parent,a,b):\n",
    "    a = find_parent(parent,a)\n",
    "    b = find_parent(parent,b)\n",
    "    if a < b:\n",
    "        parent[b] = a\n",
    "    else:\n",
    "        parent[a] = b\n",
    "    \n",
    "\n",
    "#모든 간선을 담을 리스트와 최종비용 변수\n",
    "edges = []\n",
    "result = 0\n",
    "\n",
    "#모든 간선에 대한 정보 입력받기\n",
    "for _ in range(e):\n",
    "    a,b,cost = map(int,input().split())\n",
    "    edges.append((cost,a,b))\n",
    "\n",
    "#비용순 정렬\n",
    "edges.sort()\n",
    "    \n",
    "#간선을 확인하면서 사이클이 발생않는 경우에만 집합에 포함\n",
    "for edge in edges:\n",
    "    cost,a,b = edge\n",
    "    if find_parent(parent,a) != find_parent(parent,b):\n",
    "        union_parent(parent,a,b)\n",
    "        result += cost\n",
    "\n",
    "\n",
    "print(result)\n"
   ]
  },
  {
   "cell_type": "code",
   "execution_count": 8,
   "id": "55f23110-06ca-4537-959a-7206a134d7a0",
   "metadata": {
    "tags": []
   },
   "outputs": [
    {
     "name": "stdin",
     "output_type": "stream",
     "text": [
      " 7 8\n",
      " 1 2\n",
      " 1 5\n",
      " 2 3\n",
      " 2 6\n",
      " 3 4\n",
      " 4 7\n",
      " 5 6\n",
      " 6 4\n"
     ]
    },
    {
     "name": "stdout",
     "output_type": "stream",
     "text": [
      "1 2 5 3 6 4 7 "
     ]
    }
   ],
   "source": [
    "from collections import deque\n",
    "\n",
    "#v:노드의 갯수, e:간선의 갯수\n",
    "v,e = map(int,input().split())\n",
    "\n",
    "# 노드들에 대한 진입차수 테이블 (0으로 초기화)\n",
    "indegree = [0] * (v+1)\n",
    "\n",
    "#각 노드에 연결된 간선 정보\n",
    "graph = [[]for _ in range(v+1)]\n",
    "\n",
    "for _ in range(e):\n",
    "    a,b = map(int,input().split())\n",
    "    graph[a].append(b) # a-> b순서\n",
    "    indegree[b] += 1 #b의 진입차수가 증가\n",
    "    \n",
    "def topology_sort():\n",
    "    q = deque()\n",
    "    result = []\n",
    "    \n",
    "    #큐에 진입차수가 0 인값을 먼저 넣음\n",
    "    for i in range(1,v+1):\n",
    "        if indegree[i] == 0:\n",
    "            q.append(i)\n",
    "    \n",
    "    #큐가 빌때까지 실행\n",
    "    while q:\n",
    "        now = q.popleft()\n",
    "        result.append(now)\n",
    "        #연결된 원소의 진입차수 하나 빼기\n",
    "        for i in graph[now]:\n",
    "            indegree[i] -= 1\n",
    "            if indegree[i] == 0:\n",
    "                q.append(i)\n",
    "                \n",
    "    for i in result:\n",
    "        print(i,end=' ')\n",
    "        \n",
    "topology_sort()\n"
   ]
  },
  {
   "cell_type": "code",
   "execution_count": null,
   "id": "a62db32a-1922-4467-a989-ea0757e88b25",
   "metadata": {},
   "outputs": [],
   "source": [
    "# 학교에서 학생들에게 0번부터 n번까지의 번호를 부여한다. 처음에는 모든 학생이 서로 다른 팀으로 구분되어 총 n+1 개의 팀이 존재한다. 이때 선생님은 팀합치기 연산과 같은 팀 여부 확인 연산을 사용할 수 있다. \n",
    "\n",
    "# 1. 팀 합치기 연산은 두 팀을 합치는 연산이다.\n",
    "# 2. 같은 팀 여부 확인 연산은 특정한 두 학생이 같은 팀에 속하는지를 확인하는 연산이다. \n",
    "\n",
    "# 선생님이 m개의 연산을 수행할 수 있을 때 같은 팀여부 확인 연산에 대한 연산 결과를 출력하는 프로그램을 작성하시오. \n",
    "\n",
    "# - 팀 합치기 : 0 a b 형태(a와 b번 학생이 속한 팀을 합침)\n",
    "# - 같은 팀 여부 확인 : 1 a b 형태 (a와 b번 학생이 서로 같은 팀에 속해있는지 확인)\n",
    "# - 같은팀 여부 확인 연산에서 한줄에 하나씩 YES 혹은 NO로 결과를 출력한다."
   ]
  },
  {
   "cell_type": "code",
   "execution_count": 9,
   "id": "ece979bf-42b5-40d9-ad02-c0465c0f2507",
   "metadata": {
    "tags": []
   },
   "outputs": [
    {
     "name": "stdin",
     "output_type": "stream",
     "text": [
      " 7 8\n",
      " 0 1 3\n",
      " 1 1 7\n"
     ]
    },
    {
     "name": "stdout",
     "output_type": "stream",
     "text": [
      "NO\n"
     ]
    },
    {
     "name": "stdin",
     "output_type": "stream",
     "text": [
      " 0 7 6\n",
      " 1 7 1\n"
     ]
    },
    {
     "name": "stdout",
     "output_type": "stream",
     "text": [
      "NO\n"
     ]
    },
    {
     "name": "stdin",
     "output_type": "stream",
     "text": [
      " 0 3 7\n",
      " 0 4 2\n",
      " 0 1 1\n",
      " 1 1 1\n"
     ]
    },
    {
     "name": "stdout",
     "output_type": "stream",
     "text": [
      "YES\n"
     ]
    }
   ],
   "source": [
    "def find_parent(parent,x):\n",
    "    if parent[x] != x:\n",
    "        parent[x] = find_parent(parent,parent[x])\n",
    "    return parent[x]\n",
    "\n",
    "def union_parent(parent,a,b):\n",
    "    a = find_parent(parent,a)\n",
    "    b = find_parent(parent,b)\n",
    "    if a<b:\n",
    "        parent[b] = a\n",
    "    else:\n",
    "        parent[a] = b\n",
    "\n",
    "n,m = map(int,input().split())\n",
    "parent = [0] * (n+1)\n",
    "\n",
    "for i in range(0,n+1):\n",
    "    parent[i] = i\n",
    "\n",
    "for i in range(m):\n",
    "    oper, a,b = map(int,input().split())\n",
    "    if oper == 0:\n",
    "        union_parent(parent,a,b)\n",
    "    elif oper == 1:\n",
    "        if find_parent(parent,a) == find_parent(parent,b):\n",
    "            print(\"YES\")\n",
    "        else:\n",
    "            print(\"NO\")"
   ]
  },
  {
   "cell_type": "code",
   "execution_count": null,
   "id": "8c9958aa-bec5-43fd-9966-5990c88a85be",
   "metadata": {},
   "outputs": [],
   "source": [
    "## 문제2. 도시분할계획\n",
    "\n",
    "# 어느 한 마을은 n개의 집과 그 집을 연결하는 m개의 길로 이루어져 있다. 길은 양방향이며 길마다 유지비가 있다. \n",
    "\n",
    "# 마을의 이장은 마을을 2개의 분리된 마을로 분할하고자 한다. 분할된 마을은 각각 서로 연결되어야 한다. 그리고 마을에는 무조건 집이 하나이상 있어야 한다. 유지비의 합을 최소로 하고자 하며, 분리된 마을 사이의 길들은 없앨 수 있다. 이것을 구하는 프로그램을 작성하고 길을 없애고 남은 유지비 합의 최솟값을 출력하시오. \n",
    "\n",
    "# ⇒ 2개의 최소 신장트리를 만들어야 하는 문제"
   ]
  },
  {
   "cell_type": "code",
   "execution_count": null,
   "id": "f3b7a7c5-74a0-414b-94da-37126165e19a",
   "metadata": {},
   "outputs": [],
   "source": [
    "def find_parent(parent,x):\n",
    "    if parent[x] != x:\n",
    "        parent[x] = find_parent(parent,parent[x])\n",
    "    return parent[x]\n",
    "\n",
    "def union_parent(parent,a,b):\n",
    "    a = find_parent(parent,a)\n",
    "    b = find_parent(parent,b)\n",
    "    if a<b:\n",
    "        parent[b] = a\n",
    "    else:\n",
    "        parent[a] = b\n",
    "        \n",
    "n,m = map(int,input().split())\n",
    "parent = [0] * (n+1)\n",
    "result = 0\n",
    "edges = []\n",
    "\n",
    "for _ in range(m):\n",
    "    A,B,C = map(int,input().split())\n",
    "    edges.append((C,A,B))\n",
    "\n",
    "edges.sort()\n",
    "last = 0 # 최소 신장트리에 포함되는 간선 중 가장 비용이 큰 간선\n",
    "for edge in edges:\n",
    "    cost,a,b = edge\n",
    "    #A집과 B집의 부모가 같지 않은경우에만 union\n",
    "    if find_parent(parent,a) != find_parent(parent,b):\n",
    "        union_parent(parent,A,B)\n",
    "        result += cost\n",
    "        last = cost\n",
    "\n",
    "# 최소 신장 트리의 전체 비용에서 가장 큰 비용의 간선을 제거한 값\n",
    "print(result - last)\n",
    "        "
   ]
  },
  {
   "cell_type": "code",
   "execution_count": null,
   "id": "003e7d98",
   "metadata": {},
   "outputs": [],
   "source": [
    "# ## 문제3. 커리큘럼\n",
    "\n",
    "# 온라인 강의를 들으려고 한다. 각 온라인 강의는 선수강의가 있을 수 있다. \n",
    "\n",
    "# 총 N개의 강의를 듣고자 할 때 (1번 ~ N번) 동시에 여러개의 강의를 들을 수 있다. \n",
    "\n",
    "# 예를들어 N=3일때 3번 강의의 선수 강의로 1번과 2번이 있고 1,2번강의는 선수강의가 없다고 가정하자\n",
    "\n",
    "# - 1번강의 : 30시간\n",
    "# - 2번강의 : 20시간\n",
    "# - 3번강의 : 40시간\n",
    "\n",
    "# 이 때 3번강의를 수강하기까지의 최소시간은 70시간이 된다. \n",
    "\n",
    "# 듣고자 하는 N개의 강의정보가 주어졌을 때, N개의 강의에 대하여 수강하기까지 걸리는 최소시간을 각각 출력하는 프로그램을 작성하시오."
   ]
  },
  {
   "cell_type": "code",
   "execution_count": 7,
   "id": "64d2696c",
   "metadata": {
    "scrolled": true
   },
   "outputs": [
    {
     "name": "stdout",
     "output_type": "stream",
     "text": [
      "5\n",
      "10 -1\n",
      "10 1 -1\n",
      "4 1 -1\n",
      "4 3 1 -1\n",
      "3 3 -1\n",
      "[0, 10, 20, 14, 18, 17]\n"
     ]
    }
   ],
   "source": [
    "from collections import deque\n",
    "import copy\n",
    "\n",
    "N = int(input())\n",
    "subject = [[]for _ in range(N+1)]\n",
    "indegree = [0] * (N+1)\n",
    "time = [0] * (N+1)\n",
    "\n",
    "for j in range(1,N+1):\n",
    "    array = list(map(int,input().split()))\n",
    "    \n",
    "    #각 강의 당 소요시간 저장\n",
    "    time[j] = array[0]\n",
    "    \n",
    "    for i in array[1:-1]:\n",
    "        indegree[j]+=1\n",
    "        #i-> j 순서로 진행\n",
    "        subject[i].append(j)\n",
    "\n",
    "def topology_sort():\n",
    "    q = deque()\n",
    "    result = copy.deepcopy(time)\n",
    "    \n",
    "    #진입차수가 0 인값을 먼저 큐에 넣는다. \n",
    "    for i in range(1,N+1):\n",
    "        if indegree[i] == 0:\n",
    "            q.append(i)\n",
    "    \n",
    "    while q:\n",
    "        now = q.popleft()\n",
    "        #now와 연결된 다음 요소의 진입차수 -1\n",
    "        for i in subject[now]:\n",
    "            indegree[i] -= 1\n",
    "            #이전 강의시간과 다음 강의시간의 합을 저장하되, 이전에 저장된 경로가 있다면\n",
    "            #비교하여 더 큰 값으로 저장한다. (최종 소요시간)\n",
    "            result[i] = max(result[i],result[now]+time[i])\n",
    "            #새롭게 진입차수가 0 이되는 강의를 q에 넣음\n",
    "            if indegree[i] == 0:\n",
    "                q.append(i)\n",
    "    \n",
    "    print(result)\n",
    "    \n",
    "    \n",
    "topology_sort()   \n",
    "\n",
    "\n",
    "\n",
    "    "
   ]
  }
 ],
 "metadata": {
  "kernelspec": {
   "display_name": "Python 3 (ipykernel)",
   "language": "python",
   "name": "python3"
  },
  "language_info": {
   "codemirror_mode": {
    "name": "ipython",
    "version": 3
   },
   "file_extension": ".py",
   "mimetype": "text/x-python",
   "name": "python",
   "nbconvert_exporter": "python",
   "pygments_lexer": "ipython3",
   "version": "3.11.5"
  }
 },
 "nbformat": 4,
 "nbformat_minor": 5
}

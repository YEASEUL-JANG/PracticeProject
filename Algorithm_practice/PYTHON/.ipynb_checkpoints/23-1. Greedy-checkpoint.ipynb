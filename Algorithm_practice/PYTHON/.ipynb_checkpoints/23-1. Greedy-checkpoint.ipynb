{
 "cells": [
  {
   "cell_type": "code",
   "execution_count": 9,
   "id": "818a4994",
   "metadata": {},
   "outputs": [
    {
     "name": "stdout",
     "output_type": "stream",
     "text": [
      "2\n"
     ]
    }
   ],
   "source": [
    "from collections import deque\n",
    "n = 5\n",
    "arr = [2,3,1,2,2] #1,2,2,2,3\n",
    "q = deque(sorted(arr))\n",
    "\n",
    "def make_group(q):\n",
    "    count = 0\n",
    "    while q:\n",
    "        #제일 큰수를 뽑고\n",
    "        max_num = q.pop()\n",
    "        #그룹만들기\n",
    "        if len(q)>=max_num-1:\n",
    "            count+=1\n",
    "            for _ in range(max_num-1):#0,1\n",
    "                q.popleft()\n",
    "                \n",
    "        else:\n",
    "            break\n",
    "    return count\n",
    "print(make_group(q))\n"
   ]
  },
  {
   "cell_type": "code",
   "execution_count": 16,
   "id": "4722a13c",
   "metadata": {},
   "outputs": [
    {
     "name": "stdout",
     "output_type": "stream",
     "text": [
      "num :  2 ,result :  2\n",
      "num :  9 ,result :  18\n",
      "num :  8 ,result :  144\n",
      "num :  4 ,result :  576\n",
      "576\n"
     ]
    }
   ],
   "source": [
    "arr = '02984'\n",
    "count = len(arr)\n",
    "result = int(arr[0])\n",
    "\n",
    "for i in range(1,count):\n",
    "    num = int(arr[i])\n",
    "    if result == 0:\n",
    "        result += num\n",
    "    else:\n",
    "        result *= num\n",
    "print(result)"
   ]
  },
  {
   "cell_type": "code",
   "execution_count": 3,
   "id": "15a24639",
   "metadata": {},
   "outputs": [
    {
     "name": "stdout",
     "output_type": "stream",
     "text": [
      "1\n"
     ]
    }
   ],
   "source": [
    "arr = '0001100'\n",
    "zero = 0\n",
    "one = 0\n",
    "for i in range(len(arr)-1):\n",
    "    num = int(arr[i])\n",
    "    if num==0 and int(arr[i+1]) != 0:\n",
    "        zero+=1\n",
    "    elif num ==1 and int(arr[i+1]) !=1:\n",
    "        one +=1\n",
    "        \n",
    "if int(arr[-1])==0:\n",
    "    zero +=1\n",
    "else:\n",
    "    one +=1\n",
    "    \n",
    "print(min(zero,one))"
   ]
  },
  {
   "cell_type": "code",
   "execution_count": 12,
   "id": "129830d3",
   "metadata": {},
   "outputs": [
    {
     "name": "stdout",
     "output_type": "stream",
     "text": [
      "no :  8\n"
     ]
    }
   ],
   "source": [
    "from itertools import combinations\n",
    "n = 5\n",
    "arr = [3,2,1,1,9]\n",
    "#만들수 있는 금액은?\n",
    "arr.sort()\n",
    "money = set()\n",
    "for i in range(1,n+1):\n",
    "    sumlist = combinations(arr,i)\n",
    "    for s in sumlist:\n",
    "        money.add(sum(s))\n",
    "            \n",
    "#없는 금액 출력\n",
    "for i in range(1,max(money)):\n",
    "    if i not in money:\n",
    "        print(\"no : \",i)\n"
   ]
  },
  {
   "cell_type": "code",
   "execution_count": 23,
   "id": "cc71f31b",
   "metadata": {},
   "outputs": [
    {
     "name": "stdout",
     "output_type": "stream",
     "text": [
      "8\n"
     ]
    }
   ],
   "source": [
    "from itertools import combinations\n",
    "N = 5\n",
    "M = 3\n",
    "arr =[1,3,2,3,2]\n",
    "\n",
    "sample = []\n",
    "#5개의 볼링공을 고르는 리스트\n",
    "for i in range(1,N+1):\n",
    "    sample.append(i)\n",
    "\n",
    "arrlist = combinations(sample,2)\n",
    "result = 0\n",
    "for i,j in arrlist:\n",
    "    if arr[i-1]!=arr[j-1]:\n",
    "        result += 1\n",
    "print(result)"
   ]
  },
  {
   "cell_type": "code",
   "execution_count": 31,
   "id": "cbbfb8d5",
   "metadata": {},
   "outputs": [
    {
     "name": "stdout",
     "output_type": "stream",
     "text": [
      "1\n"
     ]
    }
   ],
   "source": [
    "food_times = [3,1,2] \n",
    "k = 5 ##5초에 네트워크 장애발생\n",
    "\n",
    "\n",
    "\n",
    "\n",
    "def print_time():\n",
    "    index = 0\n",
    "    x = 0\n",
    "    while x<k+1: #1~5초까지\n",
    "        x += 1\n",
    "        if food_times[index]>0:\n",
    "            #먹기\n",
    "            food_times[index] -=1\n",
    "            index=(index+1)%3\n",
    "        else:\n",
    "            index=(index+1)%3\n",
    "        \n",
    "    if sum(food_times)==0:\n",
    "        return -1\n",
    "    \n",
    "    while True:\n",
    "        if food_times[(index+1)%3]!=0:\n",
    "            return (index+1)%3 +1\n",
    "        else:\n",
    "            index=(index+1)%3\n",
    "\n",
    "print(print_time())            "
   ]
  }
 ],
 "metadata": {
  "kernelspec": {
   "display_name": "Python 3 (ipykernel)",
   "language": "python",
   "name": "python3"
  },
  "language_info": {
   "codemirror_mode": {
    "name": "ipython",
    "version": 3
   },
   "file_extension": ".py",
   "mimetype": "text/x-python",
   "name": "python",
   "nbconvert_exporter": "python",
   "pygments_lexer": "ipython3",
   "version": "3.11.5"
  }
 },
 "nbformat": 4,
 "nbformat_minor": 5
}

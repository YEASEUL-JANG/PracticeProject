{
 "cells": [
  {
   "cell_type": "code",
   "execution_count": 7,
   "id": "2bb30904",
   "metadata": {},
   "outputs": [
    {
     "name": "stdout",
     "output_type": "stream",
     "text": [
      "LUCKY\n"
     ]
    }
   ],
   "source": [
    "arr = '123402'\n",
    "n = len(arr)\n",
    "arr_int = []\n",
    "for i in arr:\n",
    "    arr_int.append(int(i))\n",
    "if sum(arr_int[0:int(n/2)])==sum(arr_int[int(n/2):]):\n",
    "    print(\"LUCKY\")\n",
    "else:\n",
    "    print(\"READY\")"
   ]
  },
  {
   "cell_type": "code",
   "execution_count": 16,
   "id": "dc80d9ad",
   "metadata": {},
   "outputs": [
    {
     "name": "stdout",
     "output_type": "stream",
     "text": [
      "ABCKK13\n"
     ]
    }
   ],
   "source": [
    "arr = 'K1KA5CB7'\n",
    "group_1 = []\n",
    "group_2 = []\n",
    "for i in arr:\n",
    "    if i.isdigit():\n",
    "        group_2.append(int(i))\n",
    "    else:\n",
    "        group_1.append(i)\n",
    "group_1.sort()\n",
    "\n",
    "print(\"\".join(group_1)+str(sum(group_2)))\n",
    "        "
   ]
  },
  {
   "cell_type": "code",
   "execution_count": 29,
   "id": "a805afa6",
   "metadata": {
    "scrolled": true
   },
   "outputs": [
    {
     "name": "stdout",
     "output_type": "stream",
     "text": [
      "9\n"
     ]
    }
   ],
   "source": [
    "arr = 'ababcdcdababcdcd'\n",
    "n = len(arr)\n",
    "num_result = set()\n",
    "#1부터 n까지의 단위로 자르기\n",
    "for i in range(1,n//2+1):\n",
    "    index = 0\n",
    "    result = []\n",
    "    num = 1\n",
    "    while (index+2*i) < n+1:\n",
    "        if arr[index:index+i]==arr[index+i:index+2*i]:\n",
    "            num+=1\n",
    "        else:\n",
    "            if num>1:\n",
    "                result.append(str(num))\n",
    "            result.append(arr[index:index+i])\n",
    "            num = 1    \n",
    "        index += i\n",
    "    if num != 1:\n",
    "        result.append(str(num)+arr[index:index+i])\n",
    "    else:\n",
    "        result.append(arr[index:])\n",
    "    num_result.add(len(\"\".join(result)))\n",
    "print(min(num_result))\n",
    "                "
   ]
  },
  {
   "cell_type": "code",
   "execution_count": 30,
   "id": "b1b9b347",
   "metadata": {},
   "outputs": [
    {
     "name": "stdout",
     "output_type": "stream",
     "text": [
      "False\n"
     ]
    }
   ],
   "source": [
    "import copy\n",
    "\n",
    "key = [[0, 0, 0], \n",
    "       [1, 0, 0], \n",
    "       [0, 1, 1]]\n",
    "lock = [[1, 1, 1], \n",
    "        [1, 1, 0], \n",
    "        [1, 0, 1]]\n",
    "M = len(key)\n",
    "N = len(lock)\n",
    "def rotate(key):\n",
    "    rotated_key = [[0] * M for _ in range(M)]\n",
    "    for i in range(M):\n",
    "        for j in range(M):\n",
    "            rotated_key[j][M-1-i] = key[i][j] \n",
    "    return rotated_key\n",
    "\n",
    "def move(key):\n",
    "    for i in range(4):\n",
    "        #90도회전\n",
    "        key = rotate(key)\n",
    "        #가능한 이동\n",
    "        index = 0\n",
    "        while index<N:\n",
    "            index+=1\n",
    "            dx = [0,0,-index,index]\n",
    "            dy = [-index,index,0,0]\n",
    "            \n",
    "            for m in range(4):#4방향 이동\n",
    "                new_key = copy.deepcopy(key)\n",
    "                for k in range(M):\n",
    "                    for j in range(M):\n",
    "                        mx = dx[m]+k\n",
    "                        my = dy[m]+j\n",
    "                        if 0<=mx<M and 0<=my<M:\n",
    "                            new_key[k][j] = new_key[mx][my]\n",
    "                #열쇠맞춰보기\n",
    "                result = True\n",
    "                for a in range(N):\n",
    "                    for b in range(N):\n",
    "                        sum_result = 0\n",
    "                        if a>=M or b>=M:\n",
    "                            sum_result = sum(new_key[a][b],lock[a][b])\n",
    "                        else:\n",
    "                            sum_result = lock[a][b]\n",
    "                        if sum_result!=1:\n",
    "                            result = False\n",
    "                if result:\n",
    "                    return True\n",
    "    return False\n",
    "                    \n",
    "    \n",
    "print(move(key))\n",
    "                    \n",
    "                            \n",
    "        \n",
    "\n",
    "\n"
   ]
  },
  {
   "cell_type": "code",
   "execution_count": 32,
   "id": "876f84cf",
   "metadata": {},
   "outputs": [
    {
     "name": "stdout",
     "output_type": "stream",
     "text": [
      "9\n"
     ]
    }
   ],
   "source": [
    "from collections import deque\n",
    "\n",
    "N = 6\n",
    "K = 3\n",
    "apple=[[3,4],[2,5],[5,3]]\n",
    "L = 3\n",
    "rotate = [[3,\"D\"],[15,\"L\"],[17,\"D\"]] #X초 후 L:왼쪽, D:오른쪽 90도\n",
    "directions = [(0,1),(1,0),(0,-1),(-1,0)]\n",
    "board = [[0]*(N+1)for _ in range(N+1)]\n",
    "\n",
    "for i in apple:\n",
    "    (a,b) = i\n",
    "    board[a][b] = 1\n",
    "    \n",
    "#처음위치\n",
    "(a,b) = (1,1)\n",
    "x = 0\n",
    "direction = 0\n",
    "q = deque([a,b])\n",
    "\n",
    "while True:\n",
    "    x+=1\n",
    "    #이동\n",
    "    aa,bb = (a+directions[direction][0],b+directions[direction][1])\n",
    "    #게임종료조건\n",
    "    if not (1<=aa<=N and 1<=bb<N):\n",
    "        break\n",
    "        \n",
    "    #몸과 만났는지 확인\n",
    "    if(aa,bb) in q:\n",
    "        break\n",
    "    #사과있는지 확인\n",
    "    if board[aa][bb]==1:\n",
    "        board[aa][bb]== 0\n",
    "    else:\n",
    "        q.popleft()\n",
    "    q.append((aa,bb))\n",
    "    a,b = aa,bb\n",
    "    \n",
    "    #회전\n",
    "    if rotate and rotate[0][0]==x:\n",
    "        _,c = rotate.pop(0)\n",
    "        if c==\"D\":#오른쪽\n",
    "            direction = (direction+1)%4\n",
    "        else:\n",
    "            direction = (direction-1)%4\n",
    "\n",
    "            \n",
    "print(x)\n",
    "    "
   ]
  },
  {
   "cell_type": "code",
   "execution_count": 36,
   "id": "54a2cf72",
   "metadata": {
    "scrolled": true
   },
   "outputs": [
    {
     "name": "stdout",
     "output_type": "stream",
     "text": [
      "10\n"
     ]
    }
   ],
   "source": [
    "N = 5\n",
    "M = 2\n",
    "city = [[0,2,0,1,0],\n",
    "        [1,0,1,0,0],\n",
    "        [0,0,0,0,0],\n",
    "        [2,0,0,1,1],\n",
    "        [2,2,0,1,2]]\n",
    "house = []\n",
    "chicken = []\n",
    "selected_chicken = []\n",
    "distance = int(1e9)\n",
    "\n",
    "for i in range(N):\n",
    "    for j in range(N):\n",
    "        if city[i][j] ==2:\n",
    "            chicken.append((i,j))\n",
    "        elif city[i][j]==1:\n",
    "            house.append((i,j))\n",
    "            \n",
    "\n",
    "def cal(selected_chicken):\n",
    "    min_dist= [[0]*(N)for _ in range(N)]\n",
    "    result = 0\n",
    "    for a,b in house:\n",
    "        min_dist[a][b] = int(1e9)\n",
    "        for c,d in selected_chicken:\n",
    "            min_dist[a][b] = min(min_dist[a][b],abs(a-c)+abs(b-d))\n",
    "        result += min_dist[a][b]\n",
    "    return result\n",
    "    \n",
    "\n",
    "def select(start,count):\n",
    "    global distance\n",
    "    if len(selected_chicken)==M:\n",
    "        distance = min(distance,cal(selected_chicken))\n",
    "        return\n",
    "        \n",
    "    for i in range(start,len(chicken)):\n",
    "        (a,b) = chicken[i]\n",
    "        selected_chicken.append((a,b))\n",
    "        select(i+1,count+1)\n",
    "        selected_chicken.pop()\n",
    "\n",
    "select(0,0)\n",
    "print(distance)"
   ]
  },
  {
   "cell_type": "code",
   "execution_count": 38,
   "id": "6a051192",
   "metadata": {},
   "outputs": [
    {
     "name": "stdout",
     "output_type": "stream",
     "text": [
      "2\n"
     ]
    }
   ],
   "source": [
    "from itertools import permutations\n",
    "import copy\n",
    "n = 12\n",
    "weak = [1,5,6,10]\n",
    "dist = [1,2,3,4]\n",
    "def solution(n,weak,dist):\n",
    "    week_length = len(weak)\n",
    "    answer = len(dist)+1\n",
    "    \n",
    "    extended_weak = copy.deepcopy(weak)\n",
    "    for a in weak:\n",
    "        extended_weak.append(n+a)\n",
    "    \n",
    "    for start in range(week_length):\n",
    "        for friends in permutations(dist):\n",
    "            count = 1\n",
    "            position = extended_weak[start] + friends[count-1]\n",
    "            \n",
    "            for index in range(start,start+week_length):\n",
    "                if position < extended_weak[index]:\n",
    "                    count+=1\n",
    "                    if count > len(friends):\n",
    "                        break\n",
    "                    position = extended_weak[index]+friends[count-1]\n",
    "            answer = min(answer,count)\n",
    "    if answer> len(dist):\n",
    "        return -1\n",
    "    return answer\n",
    "\n",
    "print(solution(n,weak,dist))\n",
    "                \n",
    "        "
   ]
  }
 ],
 "metadata": {
  "kernelspec": {
   "display_name": "Python 3 (ipykernel)",
   "language": "python",
   "name": "python3"
  },
  "language_info": {
   "codemirror_mode": {
    "name": "ipython",
    "version": 3
   },
   "file_extension": ".py",
   "mimetype": "text/x-python",
   "name": "python",
   "nbconvert_exporter": "python",
   "pygments_lexer": "ipython3",
   "version": "3.11.5"
  }
 },
 "nbformat": 4,
 "nbformat_minor": 5
}

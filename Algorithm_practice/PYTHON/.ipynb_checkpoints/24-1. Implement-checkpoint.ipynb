{
 "cells": [
  {
   "cell_type": "code",
   "execution_count": 7,
   "id": "ca4e8d5b",
   "metadata": {},
   "outputs": [
    {
     "name": "stdout",
     "output_type": "stream",
     "text": [
      "LUCKY\n"
     ]
    }
   ],
   "source": [
    "arr = '123402'\n",
    "n = len(arr)\n",
    "arr_int = []\n",
    "for i in arr:\n",
    "    arr_int.append(int(i))\n",
    "if sum(arr_int[0:int(n/2)])==sum(arr_int[int(n/2):]):\n",
    "    print(\"LUCKY\")\n",
    "else:\n",
    "    print(\"READY\")"
   ]
  },
  {
   "cell_type": "code",
   "execution_count": 16,
   "id": "cf893d65",
   "metadata": {},
   "outputs": [
    {
     "name": "stdout",
     "output_type": "stream",
     "text": [
      "ABCKK13\n"
     ]
    }
   ],
   "source": [
    "arr = 'K1KA5CB7'\n",
    "group_1 = []\n",
    "group_2 = []\n",
    "for i in arr:\n",
    "    if i.isdigit():\n",
    "        group_2.append(int(i))\n",
    "    else:\n",
    "        group_1.append(i)\n",
    "group_1.sort()\n",
    "\n",
    "print(\"\".join(group_1)+str(sum(group_2)))\n",
    "        "
   ]
  },
  {
   "cell_type": "code",
   "execution_count": 29,
   "id": "28c89ea2",
   "metadata": {},
   "outputs": [
    {
     "name": "stdout",
     "output_type": "stream",
     "text": [
      "9\n"
     ]
    }
   ],
   "source": [
    "arr = 'ababcdcdababcdcd'\n",
    "n = len(arr)\n",
    "num_result = set()\n",
    "#1부터 n까지의 단위로 자르기\n",
    "for i in range(1,n//2+1):\n",
    "    index = 0\n",
    "    result = []\n",
    "    num = 1\n",
    "    while (index+2*i) < n+1:\n",
    "        if arr[index:index+i]==arr[index+i:index+2*i]:\n",
    "            num+=1\n",
    "        else:\n",
    "            if num>1:\n",
    "                result.append(str(num))\n",
    "            result.append(arr[index:index+i])\n",
    "            num = 1    \n",
    "        index += i\n",
    "    if num != 1:\n",
    "        result.append(str(num)+arr[index:index+i])\n",
    "    else:\n",
    "        result.append(arr[index:])\n",
    "    num_result.add(len(\"\".join(result)))\n",
    "print(min(num_result))\n",
    "                "
   ]
  },
  {
   "cell_type": "code",
   "execution_count": 30,
   "id": "6b5bdad7",
   "metadata": {},
   "outputs": [
    {
     "name": "stdout",
     "output_type": "stream",
     "text": [
      "False\n"
     ]
    }
   ],
   "source": [
    "import copy\n",
    "\n",
    "key = [[0, 0, 0], \n",
    "       [1, 0, 0], \n",
    "       [0, 1, 1]]\n",
    "lock = [[1, 1, 1], \n",
    "        [1, 1, 0], \n",
    "        [1, 0, 1]]\n",
    "M = len(key)\n",
    "N = len(lock)\n",
    "def rotate(key):\n",
    "    for i in range(M):\n",
    "        for j in range(M):\n",
    "            key[i][j] = key[M-j-1][i]\n",
    "    return key\n",
    "\n",
    "def move(key):\n",
    "    \n",
    "    for i in range(4):\n",
    "        #90도회전\n",
    "        key = rotate(key)\n",
    "        #가능한 이동\n",
    "        index = 0\n",
    "        while index<N:\n",
    "            index+=1\n",
    "            dx = [0,0,-index,index]\n",
    "            dy = [-index,index,0,0]\n",
    "            \n",
    "            for m in range(4):#4방향 이동\n",
    "                new_key = copy.deepcopy(key)\n",
    "                for k in range(M):\n",
    "                    for j in range(M):\n",
    "                        mx = dx[m]+k\n",
    "                        my = dy[m]+j\n",
    "                        if 0<=mx<M and 0<=my<M:\n",
    "                            new_key[k][j] = new_key[mx][my]\n",
    "                #열쇠맞춰보기\n",
    "                result = True\n",
    "                for a in range(N):\n",
    "                    for b in range(N):\n",
    "                        sum_result = 0\n",
    "                        if a>=M or b>=M:\n",
    "                            sum_result = sum(new_key[a][b],lock[a][b])\n",
    "                        else:\n",
    "                            sum_result = lock[a][b]\n",
    "                        if sum_result!=1:\n",
    "                            result = False\n",
    "                if result:\n",
    "                    return True\n",
    "    return False\n",
    "                    \n",
    "    \n",
    "print(move(key))\n",
    "                    \n",
    "                            \n",
    "        \n",
    "\n",
    "\n"
   ]
  }
 ],
 "metadata": {
  "kernelspec": {
   "display_name": "Python 3 (ipykernel)",
   "language": "python",
   "name": "python3"
  },
  "language_info": {
   "codemirror_mode": {
    "name": "ipython",
    "version": 3
   },
   "file_extension": ".py",
   "mimetype": "text/x-python",
   "name": "python",
   "nbconvert_exporter": "python",
   "pygments_lexer": "ipython3",
   "version": "3.11.5"
  }
 },
 "nbformat": 4,
 "nbformat_minor": 5
}

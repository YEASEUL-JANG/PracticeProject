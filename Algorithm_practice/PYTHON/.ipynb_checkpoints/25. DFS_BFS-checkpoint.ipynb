{
 "cells": [
  {
   "cell_type": "code",
   "execution_count": 10,
   "id": "4cb47b38",
   "metadata": {},
   "outputs": [
    {
     "name": "stdout",
     "output_type": "stream",
     "text": [
      "4 4 1 1\n",
      "1 2\n",
      "1 3\n",
      "2 3\n",
      "2 4\n",
      "2\n",
      "3\n"
     ]
    }
   ],
   "source": [
    "N,M,K,X = map(int,input().split())\n",
    "graph = [[]for _ in range(N+1)]\n",
    "for i in range(M):\n",
    "    a,b = map(int,input().split())\n",
    "    graph[a].append(b)\n",
    "\n",
    "distance=[1e9]*(N+1)\n",
    "\n",
    "def dfs(node,count):\n",
    "    for i in graph[node]: #2(1),3(1)->3(1),4(2)\n",
    "        distance[i] = min(distance[i],count+1)\n",
    "        dfs(i,count+1)\n",
    "    return\n",
    "dfs(1,0)\n",
    "\n",
    "for i in range(1,N+1):\n",
    "    if distance[i] == K:\n",
    "        print(i)\n",
    "\n",
    "if K not in distance:\n",
    "    print(-1)\n",
    "\n",
    "    \n"
   ]
  },
  {
   "cell_type": "code",
   "execution_count": 1,
   "id": "7cc6627f",
   "metadata": {},
   "outputs": [
    {
     "name": "stdout",
     "output_type": "stream",
     "text": [
      "27\n"
     ]
    }
   ],
   "source": [
    "import copy\n",
    "\n",
    "# 벽 3개를 세우는 모든 조합\n",
    "N,M = (7,7)\n",
    "graph = []\n",
    "# for _ in range(N):\n",
    "#     graph.append(list(map(int,input().split())))\n",
    "graph = [[2, 0, 0, 0, 1, 1, 0], [0, 0, 1, 0, 1, 2, 0], [0, 1, 1, 0, 1, 0, 0], [0, 1, 0, 0, 0, 0, 0], [0, 0, 0, 0, 0, 1, 1], [0, 1, 0, 0, 0, 0, 0], [0, 1, 0, 0, 0, 0, 0]]\n",
    "#바이러스 찾기\n",
    "virus = []\n",
    "for i in range(N):\n",
    "    for j in range(M):\n",
    "        if graph[i][j]==2:\n",
    "            virus.append((i,j))\n",
    "safezone = 0\n",
    "\n",
    "#바이러스 퍼뜨리기\n",
    "def govirus(graph):\n",
    "    dx = [-1, 1, 0, 0]\n",
    "    dy = [0, 0, -1, 1]\n",
    "    temp_graph = copy.deepcopy(graph)\n",
    "    \n",
    "    for v in virus:\n",
    "        a,b = v\n",
    "        queue = [(a,b)]\n",
    "        while queue:\n",
    "            n,m = queue.pop(0)\n",
    "             #4방향 이동\n",
    "            for i in range(4):\n",
    "                rx = n+dx[i]\n",
    "                ry = m+dy[i]\n",
    "                #안전영역(0)은 감염대상\n",
    "                if 0 <= rx < N and 0 <= ry < M and temp_graph[rx][ry]==0:\n",
    "                    temp_graph[rx][ry]=2\n",
    "                    queue.append((rx,ry))\n",
    "    return temp_graph\n",
    "       \n",
    "    \n",
    "            \n",
    "def calculate_safezone(graph):\n",
    "    answer = 0\n",
    "    for i in range(N):\n",
    "        for j in range(M):\n",
    "            if graph[i][j]==0:\n",
    "                answer += 1\n",
    "    return answer\n",
    "\n",
    "#벽세우기 \n",
    "def wall(graph,count):\n",
    "    global safezone\n",
    "    \n",
    "    #바이러스 퍼뜨리기\n",
    "    if count==3:\n",
    "        temp_graph = govirus(graph)\n",
    "        safezone = max(safezone,calculate_safezone(temp_graph))\n",
    "        return\n",
    "        \n",
    "    for i in range(N):\n",
    "        for j in range(M):  \n",
    "            #안전영역이면 벽을 세운다. \n",
    "            if graph[i][j]==0:\n",
    "                graph[i][j]=1\n",
    "                wall(graph,count+1)\n",
    "                graph[i][j] = 0\n",
    "            \n",
    "        \n",
    "        \n",
    "wall(graph,0)\n",
    "print(safezone)\n",
    "\n",
    "            "
   ]
  },
  {
   "cell_type": "code",
   "execution_count": null,
   "id": "32e2f2ea",
   "metadata": {},
   "outputs": [],
   "source": []
  }
 ],
 "metadata": {
  "kernelspec": {
   "display_name": "Python 3 (ipykernel)",
   "language": "python",
   "name": "python3"
  },
  "language_info": {
   "codemirror_mode": {
    "name": "ipython",
    "version": 3
   },
   "file_extension": ".py",
   "mimetype": "text/x-python",
   "name": "python",
   "nbconvert_exporter": "python",
   "pygments_lexer": "ipython3",
   "version": "3.11.5"
  }
 },
 "nbformat": 4,
 "nbformat_minor": 5
}

{
 "cells": [
  {
   "cell_type": "code",
   "execution_count": 2,
   "id": "4b25dde3",
   "metadata": {},
   "outputs": [
    {
     "name": "stdout",
     "output_type": "stream",
     "text": [
      "6\n",
      "2\n"
     ]
    }
   ],
   "source": [
    "from bisect import bisect_right,bisect_left\n",
    "\n",
    "N,x = (7,2)\n",
    "array = [1,1,2,2,2,2,3] #2,5\n",
    "print(bisect_right(array,x)-bisect_left(array,x))\n"
   ]
  },
  {
   "cell_type": "code",
   "execution_count": 3,
   "id": "9fa36775",
   "metadata": {},
   "outputs": [
    {
     "name": "stdout",
     "output_type": "stream",
     "text": [
      "4\n"
     ]
    }
   ],
   "source": [
    "N,x = (7,2)\n",
    "array = [1,1,2,2,2,2,3] #2,5\n",
    "last = len(array)-1\n",
    "def getFirst(array,x,start,last):\n",
    "    if start>last:\n",
    "        return None\n",
    "    mid = (start+last)//2\n",
    "    if array[mid-1]<x and array[mid]==x:\n",
    "        return mid\n",
    "    elif array[mid]>=x:\n",
    "        return getFirst(array,x,start,mid-1)\n",
    "    else:\n",
    "        return getFirst(array,x,mid+1,last)\n",
    "def getLast(array,x,start,last):\n",
    "    if start>last:\n",
    "        return None\n",
    "    mid = (start+last)//2\n",
    "    if array[mid+1]>x and array[mid]==x:\n",
    "        return mid\n",
    "    elif array[mid]<=x:\n",
    "        return getLast(array,x,mid+1,last)\n",
    "    else:\n",
    "        return getLast(array,x,start,mid-1)\n",
    "\n",
    "def getAnwser(array,x):\n",
    "    first_i = getFirst(array,x,0,last)\n",
    "    last_i = getLast(array,x,0,last)\n",
    "    if first_i is None or last_i is None:\n",
    "        return -1\n",
    "    return last_i - first_i +1\n",
    "    \n",
    "print(getAnwser(array,x))"
   ]
  },
  {
   "cell_type": "code",
   "execution_count": 10,
   "id": "4b51910e",
   "metadata": {},
   "outputs": [
    {
     "name": "stdout",
     "output_type": "stream",
     "text": [
      "3\n"
     ]
    }
   ],
   "source": [
    "from bisect import bisect_left\n",
    "array = [-15,-6,1,3,7]\n",
    "last = len(array)\n",
    "def findx(array,start,last):\n",
    "    \n",
    "    if start>last:\n",
    "        return None\n",
    "    mid = (start+last) //2\n",
    "    if array[mid]==mid:\n",
    "        return mid\n",
    "    elif array[mid]<mid:\n",
    "        return findx(array,mid+1,last)\n",
    "    else:\n",
    "        return findx(array,start,mid-1)\n",
    "    \n",
    "\n",
    "if findx(array,0,last) is not None:\n",
    "    print(findx(array,0,last))\n",
    "else:\n",
    "    print(-1)\n",
    "    \n"
   ]
  },
  {
   "cell_type": "code",
   "execution_count": 14,
   "id": "341e4038",
   "metadata": {},
   "outputs": [
    {
     "name": "stdout",
     "output_type": "stream",
     "text": [
      "5 3\n",
      "1\n",
      "2\n",
      "8\n",
      "4\n",
      "9\n",
      "3\n"
     ]
    }
   ],
   "source": [
    "\n",
    "def can_place(house,distance,C):\n",
    "    count=1\n",
    "    start = house[0]\n",
    "    for i in range(1,len(house)):\n",
    "        if house[i]-start >= distance:\n",
    "            count+=1\n",
    "            start = house[i]\n",
    "        if count >= C:\n",
    "            return True\n",
    "    return False\n",
    "\n",
    "def find_distance(house,C):\n",
    "    house.sort()#1,2,4,8,9\n",
    "    start = 1 # 가능한 최소거리\n",
    "    last = house[-1]-house[0] #가능한 최대거리\n",
    "    result = 0\n",
    "    \n",
    "    while start<=last:\n",
    "        mid = (start+last)//2 # 두 공유기간 거리\n",
    "        if can_place(house,mid,C):\n",
    "            result = mid\n",
    "            start=mid+1\n",
    "        else:\n",
    "            last= mid-1\n",
    "    return result\n",
    "\n",
    "\n",
    "N,C = map(int,input().split())\n",
    "house = []\n",
    "for _ in range(N):\n",
    "    house.append(int(input()))\n",
    "\n",
    "print(find_distance(house,C))"
   ]
  },
  {
   "cell_type": "code",
   "execution_count": 17,
   "id": "883cf1ef",
   "metadata": {},
   "outputs": [
    {
     "name": "stdout",
     "output_type": "stream",
     "text": [
      "[3, 2, 4, 1, 0]\n"
     ]
    }
   ],
   "source": [
    "words = [\"frodo\", \"front\", \"frost\", \"frozen\", \"frame\", \"kakao\"]\n",
    "queries = [\"fro??\", \"????o\", \"fr???\", \"fro???\", \"pro?\"]\n",
    "result = [0]*(len(queries))\n",
    "for index in range(len(queries)):\n",
    "    for word in words:\n",
    "        if len(word)==len(queries[index]):\n",
    "            isMatch = True\n",
    "            for i in range(len(queries[index])):\n",
    "                if queries[index][i]=='?':\n",
    "                    continue\n",
    "                if queries[index][i]==word[i]:\n",
    "                    continue\n",
    "                else:\n",
    "                    isMatch = False\n",
    "                    break\n",
    "            if isMatch:\n",
    "                result[index]+=1\n",
    "print(result)\n",
    "        "
   ]
  }
 ],
 "metadata": {
  "kernelspec": {
   "display_name": "Python 3 (ipykernel)",
   "language": "python",
   "name": "python3"
  },
  "language_info": {
   "codemirror_mode": {
    "name": "ipython",
    "version": 3
   },
   "file_extension": ".py",
   "mimetype": "text/x-python",
   "name": "python",
   "nbconvert_exporter": "python",
   "pygments_lexer": "ipython3",
   "version": "3.11.5"
  }
 },
 "nbformat": 4,
 "nbformat_minor": 5
}

{
 "cells": [
  {
   "cell_type": "code",
   "execution_count": 4,
   "id": "47efcb2e",
   "metadata": {},
   "outputs": [
    {
     "name": "stdout",
     "output_type": "stream",
     "text": [
      "4\n"
     ]
    }
   ],
   "source": [
    "N,x = (7,2)\n",
    "array = [1,1,2,2,2,2,3] #2,5\n",
    "last = len(array)-1\n",
    "\n",
    "#이진탐색으로 x가 처음으로 나오는 인덱스 찾기\n",
    "def getFirst(array,x,start,last):\n",
    "    if start>last:\n",
    "        return None\n",
    "    mid = (start+last)//2\n",
    "    if (mid==0 or x>array[mid-1]) and array[mid]==x:\n",
    "        return mid\n",
    "    elif array[mid]>=x:\n",
    "        return getFirst(array,x,start,mid-1)\n",
    "    else:\n",
    "        return getFirst(array,x,mid+1,last)\n",
    "    \n",
    "#이진탐색으로 x가 마지막으로 나오는 인덱스 찾기\n",
    "def getLast(array,x,start,last):\n",
    "    mid = (start+last)//2\n",
    "    if (mid==last or x<array[mid+1]) and array[mid]==x:\n",
    "        return mid\n",
    "    elif array[mid]<=x:\n",
    "        return getLast(array,x,mid+1,last)\n",
    "    else:\n",
    "        return getLast(array,x,start,mid-1)\n",
    "\n",
    "#배열에서 처음과 마지막 인덱스로 개수 구하기\n",
    "def getxCount(array,x):\n",
    "    first_i = getFirst(array,x,0,last)\n",
    "    if first_i is None:\n",
    "        return 0\n",
    "    last_i= getLast(array,x,0,last)\n",
    "    if last_i is None:\n",
    "        return 0\n",
    "    answer = last_i-first_i+1\n",
    "    return answer\n",
    "\n",
    "if getxCount(array,x)==0:\n",
    "    print(-1)\n",
    "else:\n",
    "    print(getxCount(array,x))"
   ]
  },
  {
   "cell_type": "code",
   "execution_count": 6,
   "id": "77315ed5",
   "metadata": {},
   "outputs": [
    {
     "name": "stdout",
     "output_type": "stream",
     "text": [
      "4\n"
     ]
    }
   ],
   "source": [
    "from bisect import bisect_left,bisect_right\n",
    "\n",
    "N,x = (7,2)\n",
    "array = [1,1,2,2,2,2,3] #2,6\n",
    "last = len(array)-1\n",
    "\n",
    "#배열에서 처음과 마지막 인덱스로 개수 구하기\n",
    "def getxCount(array,x):\n",
    "    first_i = bisect_left(array,x)\n",
    "    last_i= bisect_right(array,x)\n",
    "    answer = last_i-first_i\n",
    "    return answer\n",
    "\n",
    "if getxCount(array,x)==0:\n",
    "    print(-1)\n",
    "else:\n",
    "    print(getxCount(array,x))"
   ]
  },
  {
   "cell_type": "code",
   "execution_count": 7,
   "id": "ba173112",
   "metadata": {},
   "outputs": [
    {
     "name": "stdout",
     "output_type": "stream",
     "text": [
      "3\n"
     ]
    }
   ],
   "source": [
    "from bisect import bisect_left,bisect_right\n",
    "array = [-15,-6,1,3,7]\n",
    "\n",
    "def findx(array,start,end):\n",
    "    if start>end:\n",
    "        return -1\n",
    "    mid = (start+end)//2\n",
    "    if array[mid]==mid:\n",
    "        return mid\n",
    "    if array[mid]<mid: #1<2\n",
    "        return findx(array,mid+1,end)\n",
    "    else:\n",
    "        return findx(array,start,mid-1)\n",
    "    \n",
    "\n",
    "print(findx(array,0,len(array)))\n"
   ]
  },
  {
   "cell_type": "code",
   "execution_count": 12,
   "id": "019172c6",
   "metadata": {},
   "outputs": [
    {
     "name": "stdout",
     "output_type": "stream",
     "text": [
      "3\n"
     ]
    }
   ],
   "source": [
    "from itertools import combinations\n",
    "\n",
    "N = 5\n",
    "C = 3\n",
    "house = [1,2,8,4,9]\n",
    "\n",
    "house.sort() #1,2,4,8,9\n",
    "\n",
    "def shortest(array):\n",
    "    answer = 1e9\n",
    "    for i in range(len(array)-1):\n",
    "        answer = min(answer,array[i+1]-array[i])\n",
    "    return answer\n",
    "        \n",
    "\n",
    "houses = list(combinations(house,3))\n",
    "\n",
    "def gethouse(houses):\n",
    "    answer = 0\n",
    "    for h in houses:\n",
    "        answer = max(answer,shortest(h))\n",
    "    return answer\n",
    "\n",
    "print(gethouse(houses))\n"
   ]
  }
 ],
 "metadata": {
  "kernelspec": {
   "display_name": "Python 3 (ipykernel)",
   "language": "python",
   "name": "python3"
  },
  "language_info": {
   "codemirror_mode": {
    "name": "ipython",
    "version": 3
   },
   "file_extension": ".py",
   "mimetype": "text/x-python",
   "name": "python",
   "nbconvert_exporter": "python",
   "pygments_lexer": "ipython3",
   "version": "3.11.5"
  }
 },
 "nbformat": 4,
 "nbformat_minor": 5
}

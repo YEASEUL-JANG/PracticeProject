{
 "cells": [
  {
   "cell_type": "code",
   "execution_count": 6,
   "id": "b84ac759",
   "metadata": {},
   "outputs": [
    {
     "name": "stdout",
     "output_type": "stream",
     "text": [
      "1 3 3 2 2 1 4 1 0 6 4 7\n",
      "19\n"
     ]
    }
   ],
   "source": [
    "n,m = 3,4\n",
    "arr = list(map(int,input().split()))\n",
    "arrlist = []\n",
    "for i in range(3):\n",
    "    arrlist.append(arr[m*i:m*(i+1)])\n",
    "answer = [[0]*m for _ in range(n)]\n",
    "#첫번째 열 초기화 \n",
    "for i in range(n):\n",
    "    answer[i][0]=arrlist[i][0]\n",
    "    \n",
    "\n",
    "for i in range(1,n): #열 선택(0,1,2)\n",
    "    for j in range(1,m): #m번 이동(0,1,2,3)\n",
    "        #오른쪽 위 or 오른쪽 아래 or오른쪽\n",
    "        if i+1<n:\n",
    "            answer[i][j] = max(answer[i+1][j-1]+arrlist[i][j],answer[i][j])\n",
    "    \n",
    "        answer[i][j] = max(answer[i][j-1]+arrlist[i][j],answer[i][j])\n",
    "        if i-1>=0:\n",
    "            answer[i][j] = max(answer[i-1][j-1]+arrlist[i][j],answer[i][j])\n",
    "max_result = 0\n",
    "for i in range(n):\n",
    "    for j in range(m):\n",
    "        max_result = max(answer[i][j],max_result)\n",
    "print(max_result)"
   ]
  },
  {
   "cell_type": "code",
   "execution_count": 12,
   "id": "e16e70d2",
   "metadata": {},
   "outputs": [
    {
     "name": "stdout",
     "output_type": "stream",
     "text": [
      "30\n"
     ]
    }
   ],
   "source": [
    "n = 5\n",
    "graph = [\n",
    "[7, 0, 0, 0, 0], \n",
    "[3, 8, 0, 0, 0], \n",
    "[8, 1, 0, 0, 0], \n",
    "[2, 7, 4, 4, 0], \n",
    "[4, 5, 2, 6, 5]]\n",
    "dp = [[0]*n for _ in range(n)]\n",
    "dp[0][0] = graph[0][0]\n",
    "\n",
    "for i in range(1,n):#1,2,3,4\n",
    "    for j in range(i+1):\n",
    "        dp[i][j] = max(dp[i-1][j]+graph[i][j],dp[i][j])\n",
    "        if j-1>=0:\n",
    "            dp[i][j] = max(dp[i-1][j-1]+graph[i][j],dp[i][j])\n",
    "print(max(max(dp)))"
   ]
  },
  {
   "cell_type": "code",
   "execution_count": 16,
   "id": "c84dafff",
   "metadata": {
    "scrolled": true
   },
   "outputs": [
    {
     "name": "stdout",
     "output_type": "stream",
     "text": [
      "7\n",
      "3 10\n",
      "5 20\n",
      "1 10\n",
      "1 20\n",
      "2 15\n",
      "4 40\n",
      "2 200\n",
      "45\n"
     ]
    }
   ],
   "source": [
    "N = int(input())\n",
    "interview = []\n",
    "for _ in range(N):\n",
    "    interview.append(list(map(int,input().split())))\n",
    "x = 0\n",
    "dp = [0]*N\n",
    "def gointerview(day):\n",
    "    if day>=N:\n",
    "        return 0\n",
    "    \n",
    "    if day+interview[day][0]<=N:\n",
    "        #상담을 하는경우와 안하는경우 선택가능\n",
    "        dp[day] = max(gointerview(day+interview[day][0])+interview[day][1],\n",
    "                  gointerview(day+1))\n",
    "    else:\n",
    "        #상담을 못하므로 다음날로 뛰어넘음\n",
    "        dp[day] = gointerview(day+1)\n",
    "    return dp[day]\n",
    "gointerview(0)\n",
    "print(max(dp))        "
   ]
  },
  {
   "cell_type": "code",
   "execution_count": 31,
   "id": "74ddfd97",
   "metadata": {},
   "outputs": [
    {
     "name": "stdout",
     "output_type": "stream",
     "text": [
      "7\n",
      "15 11 4 8 5 2 4\n",
      "[1, 2, 3, 3, 4, 5, 5]\n"
     ]
    }
   ],
   "source": [
    "N = int(input())\n",
    "arr = list(map(int,input().split()))\n",
    "dp = [1]*N\n",
    "for i in range(1,N):\n",
    "    for j in range(i):\n",
    "        #j값이 i보다 클 경우에만 dp값이 업데이트 됨.\n",
    "        if arr[j]>arr[i]:\n",
    "            dp[i] = max(dp[i],dp[j]+1)\n",
    "            \n",
    "print(dp)"
   ]
  },
  {
   "cell_type": "code",
   "execution_count": 43,
   "id": "f255c728",
   "metadata": {},
   "outputs": [
    {
     "name": "stdout",
     "output_type": "stream",
     "text": [
      "12\n"
     ]
    }
   ],
   "source": [
    "import heapq\n",
    "ugly = [2,3,5]\n",
    "N = 10\n",
    "h = []\n",
    "seen = [1]\n",
    "answer = []\n",
    "heapq.heappush(h,1)\n",
    "while len(answer)<N:\n",
    "    a = heapq.heappop(h)\n",
    "    \n",
    "    for u in ugly:\n",
    "        new_ugly = u*a\n",
    "        if new_ugly not in seen:\n",
    "            seen.append(new_ugly)\n",
    "            heapq.heappush(h,new_ugly)\n",
    "    answer.append(a)\n",
    "print(answer[-1])\n"
   ]
  },
  {
   "cell_type": "code",
   "execution_count": 66,
   "id": "de55ba61",
   "metadata": {},
   "outputs": [
    {
     "name": "stdout",
     "output_type": "stream",
     "text": [
      "0 s s\n",
      "0 u a\n",
      "1 u t\n",
      "2 u u\n",
      "2 n r\n",
      "3 d d\n",
      "3 a a\n",
      "3 y y\n",
      "3\n"
     ]
    }
   ],
   "source": [
    "A = list(\"sunday\")\n",
    "B = list(\"saturday\")\n",
    "count = 0\n",
    "#항상 B가 길게 함\n",
    "if len(A)>len(B):\n",
    "    A,B = B,A\n",
    "    \n",
    "i = 0\n",
    "while i < len(A):\n",
    "    if A[i]==B[i]:\n",
    "        i+=1\n",
    "    else:\n",
    "        count+=1\n",
    "        if len(A)<len(B):\n",
    "            B.pop(i)\n",
    "        else:\n",
    "            i+=1\n",
    "    \n",
    "        \n",
    "                \n",
    "print(count)\n",
    "                \n",
    "        "
   ]
  }
 ],
 "metadata": {
  "kernelspec": {
   "display_name": "Python 3 (ipykernel)",
   "language": "python",
   "name": "python3"
  },
  "language_info": {
   "codemirror_mode": {
    "name": "ipython",
    "version": 3
   },
   "file_extension": ".py",
   "mimetype": "text/x-python",
   "name": "python",
   "nbconvert_exporter": "python",
   "pygments_lexer": "ipython3",
   "version": "3.11.5"
  }
 },
 "nbformat": 4,
 "nbformat_minor": 5
}

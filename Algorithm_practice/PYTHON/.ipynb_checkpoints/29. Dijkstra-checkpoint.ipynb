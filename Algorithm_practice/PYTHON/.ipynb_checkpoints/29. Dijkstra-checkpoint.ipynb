{
 "cells": [
  {
   "cell_type": "code",
   "execution_count": null,
   "id": "66c9df73",
   "metadata": {},
   "outputs": [],
   "source": [
    "##플루이드 워셜 알고리즘\n",
    "INF = int(1e9)\n",
    "\n",
    "#노드의 개수, 간선의 개수 입력받기\n",
    "n = int(input())\n",
    "m = int(input())\n",
    "\n",
    "#2차원 그래프를 만들고 무한으로 초기화\n",
    "graph = [[INF]*(n+1) for _ in range(n+1)]\n",
    "\n",
    "#자기 자신에서 자기 자신으로 가는 비용 0 으로 초기화\n",
    "for a in range(n+1):\n",
    "    for b in range(n+1):\n",
    "        if a==b:\n",
    "            graph[a][b]=0\n",
    "            \n",
    "#각 간선에 대한 정보를 입력받아 그 값으로 초기화\n",
    "for _ in range(m):\n",
    "    a,b,c = map(int,input().split())\n",
    "    graph[a][b] = c\n",
    "    \n",
    "#점화식에 따라 플로이드 워셜 알고리즘 수행\n",
    "for k in range(1,n+1):\n",
    "    for a in range(1,n+1):\n",
    "        for b in range(1,n+1):\n",
    "            graph[a][b] = min(graph[a][b],graph[a][k]+graph[k][b])\n",
    "            \n",
    "#수행결과 출력\n",
    "for a in range(1,n+1):\n",
    "    for b in range(1,n+1):\n",
    "        if graph[a][b] ==INF:\n",
    "            print(\"INF\")\n",
    "        else:\n",
    "            print(graph[a][b],end=\" \")\n",
    "\n"
   ]
  },
  {
   "cell_type": "code",
   "execution_count": 8,
   "id": "29317d8c",
   "metadata": {},
   "outputs": [
    {
     "name": "stdout",
     "output_type": "stream",
     "text": [
      "0 2 3 2 5 \n",
      "12 0 15 2 5 \n",
      "8 9 0 2 5 \n",
      "10 7 13 0 3 \n",
      "7 4 10 6 0 \n"
     ]
    }
   ],
   "source": [
    "INF = int(1e9)\n",
    "n = 5\n",
    "m = 14\n",
    "\n",
    "# graph = [[0]*(n+1) for _ in range(n+1)]\n",
    "graph = [[INF, INF, INF, INF, INF, INF], [INF, INF, 2, 3, 2, 10], [INF, INF, INF, INF, 2, INF], [INF, 8, INF, INF, 2, 10], [INF, INF, INF, INF, INF, 3], [INF, 7, 4, INF, INF, INF]]\n",
    "# for _ in range(m):\n",
    "#     a,b,c = map(int,input().split())\n",
    "#     graph[a][b] = c\n",
    "\n",
    "for a in range(1,n+1):\n",
    "    for b in range(1,n+1):\n",
    "        if a==b:\n",
    "            graph[a][b] = 0\n",
    "\n",
    "\n",
    "for k in range(1,n+1):\n",
    "    for a in range(1,n+1):\n",
    "        for b in range(1,n+1):\n",
    "            graph[a][b] = min(graph[a][b],graph[a][k]+graph[k][b])\n",
    "            \n",
    "for i in range(1,n+1):\n",
    "    for j in range(1,n+1):\n",
    "        print(graph[i][j],end=\" \")\n",
    "        \n",
    "    print()"
   ]
  },
  {
   "cell_type": "code",
   "execution_count": 2,
   "id": "20c08f9f",
   "metadata": {},
   "outputs": [
    {
     "name": "stdout",
     "output_type": "stream",
     "text": [
      "1\n"
     ]
    }
   ],
   "source": [
    "from collections import deque\n",
    "\n",
    "N = 6 #학생수\n",
    "\n",
    "#i번 학생보다 점수가 높은 학생의 그래프\n",
    "graph = [[]for _ in range(N+1)]\n",
    "#i번 학생보다 점수가 낮은 학생의 그래프\n",
    "rev_graph = [[]for _ in range(N+1)]\n",
    "\n",
    "data = [[0]for _ in range(N+1)]\n",
    "# for _ in range(N):\n",
    "#     a,b = map(int,input().split())\n",
    "#     graph[a].append(b)\n",
    "#     rev_graph[b].append(a)\n",
    "graph = [[], [5], [], [4], [2, 6], [2, 4], []] \n",
    "rev_graph = [[], [], [4, 5], [], [3, 5], [1], [4]]\n",
    "\n",
    "\n",
    "def bfs(start,graph):\n",
    "    q = deque([start])\n",
    "    visited = [False] * (N+1)\n",
    "    visited[start] = True\n",
    "    count = 0\n",
    "    while q:\n",
    "        node = q.popleft()\n",
    "        for a in graph[node]:\n",
    "            if visited[a]!=True:\n",
    "                visited[a] = True\n",
    "                q.append(a)\n",
    "                count+=1\n",
    "    return count\n",
    "\n",
    "def getAnswer(graph,rev_graph):\n",
    "    answer = 0\n",
    "    for i in range(1,N+1):\n",
    "        #점수가 높은\n",
    "        high_count = bfs(i,graph)\n",
    "        lower_count = bfs(i,rev_graph)\n",
    "        if high_count+lower_count==N-1:\n",
    "            answer+=1\n",
    "    return answer\n",
    "            \n",
    "print(getAnswer(graph,rev_graph))"
   ]
  },
  {
   "cell_type": "code",
   "execution_count": 3,
   "id": "0f5bf1ea",
   "metadata": {},
   "outputs": [
    {
     "name": "stdout",
     "output_type": "stream",
     "text": [
      "[5, 10, 14]\n",
      "[8, 17, 15]\n",
      "[11, 13, 20]\n"
     ]
    }
   ],
   "source": [
    "import heapq\n",
    "\n",
    "N = 3\n",
    "INF = int(1e9)\n",
    "graph = [[5,5,4],\n",
    "         [3,9,1],\n",
    "         [3,2,7]]\n",
    "dp = [[INF]*(N)for _ in range(N)]\n",
    "\n",
    "#위치에서 상하좌우 이동가능\n",
    "\n",
    "def move(x,y):     \n",
    "    dx = [0,0,+1,-1]\n",
    "    dy = [-1,1,0,0]\n",
    "    q = []\n",
    "    heapq.heappush(q,(graph[x][y],x,y))\n",
    "    dp[x][y] = graph[x][y]\n",
    "    \n",
    "    while q:\n",
    "        cost,a,b = heapq.heappop(q)\n",
    "        #더 적은 경로비용이 이미 있는경우\n",
    "        if dp[a][b] < cost:\n",
    "            continue\n",
    "        \n",
    "        for i in range(4):\n",
    "            mx = dx[i]+a\n",
    "            my = dy[i]+b\n",
    "            if 0<=mx<N and 0<=my<N:\n",
    "                if dp[a][b]+graph[mx][my]<dp[mx][my]:\n",
    "                    dp[mx][my] = dp[a][b]+graph[mx][my]\n",
    "                    heapq.heappush(q,(dp[mx][my],mx,my))\n",
    "                \n",
    "def getAnswer():\n",
    "    move(0,0)\n",
    "    return dp\n",
    "\n",
    "result = getAnswer()\n",
    "for row in result:\n",
    "    print(row)\n",
    "    "
   ]
  },
  {
   "cell_type": "code",
   "execution_count": 10,
   "id": "8857ad50",
   "metadata": {},
   "outputs": [
    {
     "name": "stdout",
     "output_type": "stream",
     "text": [
      "4 2 3\n"
     ]
    }
   ],
   "source": [
    "import heapq\n",
    "\n",
    "INF = int(1e9)\n",
    "N = 6\n",
    "graph = [[]for _ in range(N+1)]\n",
    "# for _ in range(7):\n",
    "#     a,b = map(int,input().split())\n",
    "#     graph[a].append(b)\n",
    "#     graph[b].append(a)\n",
    "graph = [[], [3, 2], [3, 1, 4, 5], [6, 4, 2, 1], [3, 2], [2], [3]]\n",
    "distance = [INF]*(N+1)\n",
    "\n",
    "def dijkstra(x,dist):\n",
    "    h = []\n",
    "    heapq.heappush(h,(dist,x))\n",
    "    distance[x] = dist\n",
    "    \n",
    "    while h:\n",
    "        cost,node = heapq.heappop(h)\n",
    "        if distance[node]<cost:\n",
    "            continue\n",
    "        for n in graph[node]:\n",
    "            new_dist = cost+1\n",
    "            if distance[n]>new_dist:\n",
    "                distance[n] = new_dist\n",
    "                heapq.heappush(h,(new_dist,n))\n",
    "dijkstra(1,0)\n",
    "max_distance = max(distance[1:])\n",
    "result = []\n",
    "for i in range(1,N+1):\n",
    "    if distance[i]==max_distance:\n",
    "        result.append(i)\n",
    "\n",
    "print(result[0],max_distance,len(result))\n",
    "        "
   ]
  }
 ],
 "metadata": {
  "kernelspec": {
   "display_name": "Python 3 (ipykernel)",
   "language": "python",
   "name": "python3"
  },
  "language_info": {
   "codemirror_mode": {
    "name": "ipython",
    "version": 3
   },
   "file_extension": ".py",
   "mimetype": "text/x-python",
   "name": "python",
   "nbconvert_exporter": "python",
   "pygments_lexer": "ipython3",
   "version": "3.11.5"
  }
 },
 "nbformat": 4,
 "nbformat_minor": 5
}

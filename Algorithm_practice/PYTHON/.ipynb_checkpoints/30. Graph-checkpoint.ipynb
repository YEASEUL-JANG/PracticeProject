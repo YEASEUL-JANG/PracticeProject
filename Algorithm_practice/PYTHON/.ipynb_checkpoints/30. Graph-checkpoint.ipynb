{
 "cells": [
  {
   "cell_type": "code",
   "execution_count": 6,
   "id": "cf2b9938",
   "metadata": {},
   "outputs": [
    {
     "name": "stdout",
     "output_type": "stream",
     "text": [
      "True\n"
     ]
    }
   ],
   "source": [
    "from collections import deque\n",
    "\n",
    "N = 5\n",
    "graph = [[0,1,0,1,1],\n",
    "         [1,0,1,1,0],\n",
    "         [0,1,0,0,0],\n",
    "         [1,1,0,0,0],\n",
    "         [1,0,0,0,0]]\n",
    "dist = [2,3,4,3]\n",
    "parents = [0] * (N+1)\n",
    "\n",
    "#각 노드의 부모를 자기자신으로 초기화 \n",
    "for i in range(1,N+1):\n",
    "    parents[i] = i\n",
    "\n",
    "    \n",
    "\n",
    "connection = [[]for _ in range(N+1)]\n",
    "\n",
    "def find(parents,a):\n",
    "    if parents[a] != a:\n",
    "        parents[a]=find(parents,parents[a])\n",
    "    return parents[a]\n",
    "        \n",
    "def union(parents,a,b):\n",
    "    par_a = find(parents,a)\n",
    "    par_b = find(parents,b)\n",
    "    if par_a<par_b:\n",
    "        #각 조상을 하나로 합침\n",
    "        parents[par_b] = par_a\n",
    "    else:\n",
    "        parents[par_a] = par_b\n",
    "        \n",
    "\n",
    "for i in range(N):\n",
    "    for j in range(N):\n",
    "        if graph[i][j]==1:\n",
    "            union(parents,i+1,j+1)\n",
    "result = True\n",
    "for i in range(len(dist)-1):\n",
    "    if find(parents,dist[i]) != find(parents, dist[i + 1]):\n",
    "        result = False\n",
    "        break\n",
    "\n",
    "        \n",
    "print(result)\n",
    "            \n",
    "\n",
    "\n",
    "\n"
   ]
  }
 ],
 "metadata": {
  "kernelspec": {
   "display_name": "Python 3 (ipykernel)",
   "language": "python",
   "name": "python3"
  },
  "language_info": {
   "codemirror_mode": {
    "name": "ipython",
    "version": 3
   },
   "file_extension": ".py",
   "mimetype": "text/x-python",
   "name": "python",
   "nbconvert_exporter": "python",
   "pygments_lexer": "ipython3",
   "version": "3.11.5"
  }
 },
 "nbformat": 4,
 "nbformat_minor": 5
}

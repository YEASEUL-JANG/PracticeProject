{
 "cells": [
  {
   "cell_type": "code",
   "execution_count": 31,
   "id": "58781e27",
   "metadata": {},
   "outputs": [
    {
     "name": "stdout",
     "output_type": "stream",
     "text": [
      "4 7\n",
      "6 13\n",
      "4 8\n",
      "3 6\n",
      "5 12\n",
      "14\n"
     ]
    }
   ],
   "source": [
    "A, B = map(int, input().split())  # 물건의 수 A, 배낭의 최대 무게 B\n",
    "arr = []\n",
    "for i in range(A):\n",
    "    arr.append(list(map(int, input().split())))\n",
    "\n",
    "# DP 테이블 초기화: dp[i]는 무게 i일 때의 최대 가치를 저장\n",
    "dp = [0] * (B + 1)\n",
    "\n",
    "# 물건 하나씩 처리\n",
    "for weight, value in arr:\n",
    "    # 무게를 뒤에서부터 탐색하여 dp 테이블 갱신 (중복 사용 방지)\n",
    "    for i in range(B, weight - 1, -1):#7,6,5,4\n",
    "        #max(물건을 안넣을경우, 넣을경우(넣기전 최대가치 + 새물건가치)\n",
    "        dp[i] = max(dp[i], dp[i - weight] + value)\n",
    "\n",
    "# 답은 dp 테이블에서 배낭의 최대 무게 B까지 채울 수 있는 최대 가치\n",
    "print(dp[B])"
   ]
  },
  {
   "cell_type": "code",
   "execution_count": 36,
   "id": "1225cbec",
   "metadata": {},
   "outputs": [
    {
     "name": "stdout",
     "output_type": "stream",
     "text": [
      "7\n",
      "1\n",
      "5\n",
      "2\n",
      "10\n",
      "-99\n",
      "7\n",
      "5\n",
      "1\n",
      "1\n",
      "2\n",
      "2\n",
      "2\n",
      "2\n",
      "5\n"
     ]
    }
   ],
   "source": [
    "import bisect\n",
    "\n",
    "N = int(input())\n",
    "array = []#1,2,5,2\n",
    "answer = []\n",
    "for i in range(N):\n",
    "    num = int(input())\n",
    "    bisect.insort(array,num)\n",
    "    half = len(array)//2\n",
    "    if len(array)%2==0:#짝수\n",
    "        half -= 1\n",
    "    answer.append(array[half])\n",
    "    \n",
    "for a in answer:\n",
    "    print(a)"
   ]
  },
  {
   "cell_type": "code",
   "execution_count": 38,
   "id": "73ca9b49",
   "metadata": {},
   "outputs": [
    {
     "name": "stdout",
     "output_type": "stream",
     "text": [
      "[1, 2, 4, 5]\n"
     ]
    }
   ],
   "source": [
    "import bisect\n",
    "arr = [1,4,5]\n",
    "bisect.insort(arr,2)\n",
    "print(arr)"
   ]
  },
  {
   "cell_type": "code",
   "execution_count": 40,
   "id": "24b4ca60",
   "metadata": {},
   "outputs": [
    {
     "name": "stdout",
     "output_type": "stream",
     "text": [
      "[[1, 1, 778, 778], [1, 1, 778, 778], [746, 746, 790, 790], [746, 746, 790, 790], [772, 772, 792, 792]]\n"
     ]
    }
   ],
   "source": [
    "H,W,N,M = 5,4,1,1\n",
    "\n",
    "graph = [[0]*W for _ in range(H)]\n",
    "dp = [[0]*W for _ in range(H)]\n",
    "\n",
    "def roof(graph,a,b,people):\n",
    "    if a>=H or b>=W:\n",
    "        return \n",
    "    #이미 앉았으면 리턴\n",
    "    if graph[a][b] == 1:\n",
    "        return\n",
    "    \n",
    "    \n",
    "            #앉는경우\n",
    "            graph[a][b] = 1\n",
    "            dp[a][b] = people+1\n",
    "            #세로 N칸\n",
    "            roof(graph,a+N+1,b,dp[i][j])\n",
    "            #가로 M칸\n",
    "            roof(graph,a,b+M+1,dp[i][j])\n",
    "            #앉지않을경우\n",
    "            graph[i][j] = 0\n",
    "            \n",
    "roof(graph,0,0,0)\n",
    "print(dp)\n",
    "        "
   ]
  },
  {
   "cell_type": "code",
   "execution_count": 43,
   "id": "2e3b4244",
   "metadata": {},
   "outputs": [
    {
     "name": "stdout",
     "output_type": "stream",
     "text": [
      "7 7 7\n",
      "6 5 4\n",
      "3 2 5\n",
      "6 2 6\n",
      "0 0 0\n",
      "Equilateral\n",
      "Scalene\n",
      "Invalid\n",
      "Scalene\n"
     ]
    }
   ],
   "source": [
    "arrlist = []\n",
    "while True:\n",
    "    a,b,c = map(int,input().split())\n",
    "    if a==0 and b == 0 and c == 0:\n",
    "        break\n",
    "    arrlist.append([a,b,c])\n",
    "for arr in arrlist:\n",
    "    arr.sort()\n",
    "    max_d = arr[-1]\n",
    "    if sum(arr)-max_d>max_d:\n",
    "        \n",
    "        if arr[0]==arr[1]==arr[2]:\n",
    "            print(\"Equilateral\")\n",
    "        elif arr[0] == arr[1] or arr[1] == arr[2] or arr[0] == arr[2]:\n",
    "            print(\"Isosceles\")\n",
    "        else:\n",
    "            print(\"Scalene\")\n",
    "    else:\n",
    "        print(\"Invalid\")"
   ]
  }
 ],
 "metadata": {
  "kernelspec": {
   "display_name": "Python 3 (ipykernel)",
   "language": "python",
   "name": "python3"
  },
  "language_info": {
   "codemirror_mode": {
    "name": "ipython",
    "version": 3
   },
   "file_extension": ".py",
   "mimetype": "text/x-python",
   "name": "python",
   "nbconvert_exporter": "python",
   "pygments_lexer": "ipython3",
   "version": "3.11.5"
  }
 },
 "nbformat": 4,
 "nbformat_minor": 5
}

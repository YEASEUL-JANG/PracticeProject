{
 "cells": [
  {
   "cell_type": "code",
   "execution_count": 1,
   "id": "4824964c",
   "metadata": {},
   "outputs": [
    {
     "name": "stdout",
     "output_type": "stream",
     "text": [
      "1000036000099\n",
      "YES\n"
     ]
    }
   ],
   "source": [
    "TC = int(input()) # 1000036000099\n",
    "\n",
    "for i in range(2,1_000_001):\n",
    "    if TC % i ==0:\n",
    "        print('NO')\n",
    "        break\n",
    "    if i == 1_000_000:\n",
    "        print('YES')\n",
    "        break"
   ]
  }
 ],
 "metadata": {
  "kernelspec": {
   "display_name": "Python 3 (ipykernel)",
   "language": "python",
   "name": "python3"
  },
  "language_info": {
   "codemirror_mode": {
    "name": "ipython",
    "version": 3
   },
   "file_extension": ".py",
   "mimetype": "text/x-python",
   "name": "python",
   "nbconvert_exporter": "python",
   "pygments_lexer": "ipython3",
   "version": "3.11.5"
  }
 },
 "nbformat": 4,
 "nbformat_minor": 5
}

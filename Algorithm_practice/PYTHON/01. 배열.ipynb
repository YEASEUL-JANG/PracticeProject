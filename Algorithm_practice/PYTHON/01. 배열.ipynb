{
 "cells": [
  {
   "cell_type": "code",
   "execution_count": 1,
   "id": "1d09597a",
   "metadata": {},
   "outputs": [
    {
     "name": "stdout",
     "output_type": "stream",
     "text": [
      "[-5, 1, 2, 3, 4]\n"
     ]
    }
   ],
   "source": [
    "# 01.배열 정렬하기\n",
    "array = [1,-5,2,4,3]\n",
    "\n",
    "def solution(array):\n",
    "    return sorted(array)\n",
    "\n",
    "print(solution(array))"
   ]
  },
  {
   "cell_type": "code",
   "execution_count": 3,
   "id": "e5b0162c",
   "metadata": {},
   "outputs": [
    {
     "name": "stdout",
     "output_type": "stream",
     "text": [
      "[4, 3, 2, 1]\n"
     ]
    }
   ],
   "source": [
    "# 02. 배열 제어하기\n",
    "arr = [4,2,2,1,3,4]\n",
    "\n",
    "def solution(arr):\n",
    "    new_arr = set(arr)\n",
    "    return sorted(new_arr,reverse=True)\n",
    "\n",
    "print(solution(arr))"
   ]
  },
  {
   "cell_type": "code",
   "execution_count": 10,
   "id": "47b9cdbc",
   "metadata": {},
   "outputs": [
    {
     "name": "stdout",
     "output_type": "stream",
     "text": [
      "[2, 5, 7, 9, 12]\n"
     ]
    }
   ],
   "source": [
    "# 03. 두개 뽑아서 더하기\n",
    "from itertools import combinations\n",
    "numbers = [5,0,2,7]\n",
    "def solution(n):\n",
    "    arr = list(combinations(numbers,2))\n",
    "    return sorted(list(set([sum(a) for a in arr])))\n",
    "    \n",
    "\n",
    "print(solution(numbers))"
   ]
  },
  {
   "cell_type": "code",
   "execution_count": 16,
   "id": "dc1221c9",
   "metadata": {},
   "outputs": [
    {
     "name": "stdout",
     "output_type": "stream",
     "text": [
      "[1, 2, 3]\n"
     ]
    }
   ],
   "source": [
    "#04. 모의고사\n",
    "arr1 = [1,2,3,4,5]\n",
    "arr2 = [2,1,2,3,2,4,2,5]\n",
    "arr3 = [3,3,1,1,2,2,4,4,5,5]\n",
    "pattern = [arr1,arr2,arr3]\n",
    "\n",
    "\n",
    "\n",
    "def solution(arr):\n",
    "    answer = [0,0,0]\n",
    "    for i,value in enumerate(arr):\n",
    "        for j in range(3): #0,1,2\n",
    "            if (value==pattern[j][i%len(pattern[j])]):\n",
    "                answer[j]+=1\n",
    "    return answer\n",
    "\n",
    "arr = [1,3,2,4,2]\n",
    "result = solution(arr)\n",
    "max_num = max(result)\n",
    "answer = []\n",
    "for i,value in enumerate(result):\n",
    "    if value == max_num:\n",
    "        answer.append(i+1)\n",
    "print(answer)\n",
    "            \n",
    "\n"
   ]
  }
 ],
 "metadata": {
  "kernelspec": {
   "display_name": "Python 3 (ipykernel)",
   "language": "python",
   "name": "python3"
  },
  "language_info": {
   "codemirror_mode": {
    "name": "ipython",
    "version": 3
   },
   "file_extension": ".py",
   "mimetype": "text/x-python",
   "name": "python",
   "nbconvert_exporter": "python",
   "pygments_lexer": "ipython3",
   "version": "3.11.5"
  }
 },
 "nbformat": 4,
 "nbformat_minor": 5
}

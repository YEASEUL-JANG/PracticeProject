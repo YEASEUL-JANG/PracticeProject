{
 "cells": [
  {
   "cell_type": "code",
   "execution_count": 1,
   "id": "8c5c2a7f",
   "metadata": {},
   "outputs": [
    {
     "name": "stdout",
     "output_type": "stream",
     "text": [
      "[-5, 1, 2, 3, 4]\n"
     ]
    }
   ],
   "source": [
    "# 01.배열 정렬하기\n",
    "array = [1,-5,2,4,3]\n",
    "\n",
    "def solution(array):\n",
    "    return sorted(array)\n",
    "\n",
    "print(solution(array))"
   ]
  },
  {
   "cell_type": "code",
   "execution_count": 10,
   "id": "a8bb7cc7",
   "metadata": {},
   "outputs": [
    {
     "name": "stdout",
     "output_type": "stream",
     "text": [
      "[4, 3, 2, 1]\n"
     ]
    }
   ],
   "source": [
    "# 02. 배열 제어하기\n",
    "arr = [4,2,2,1,3,4]\n",
    "\n",
    "def solution(arr):\n",
    "    new_arr = set(arr)\n",
    "    return sorted(new_arr,reverse=True)\n",
    "\n",
    "print(solution(arr))"
   ]
  },
  {
   "cell_type": "code",
   "execution_count": 8,
   "id": "e7cffa67",
   "metadata": {},
   "outputs": [
    {
     "name": "stdout",
     "output_type": "stream",
     "text": [
      "[2, 5, 7, 9, 12]\n"
     ]
    }
   ],
   "source": [
    "# 03. 두개 뽑아서 더하기\n",
    "from itertools import combinations\n",
    "numbers = [5,0,2,7]\n",
    "def solution(n):\n",
    "    arr = list(combinations(numbers,2))\n",
    "    return sorted(set([sum(a) for a in arr]))\n",
    "\n",
    "print(solution(numbers))"
   ]
  },
  {
   "cell_type": "code",
   "execution_count": 16,
   "id": "ac40c08a",
   "metadata": {},
   "outputs": [
    {
     "name": "stdout",
     "output_type": "stream",
     "text": [
      "[1, 2, 3]\n"
     ]
    }
   ],
   "source": [
    "#04. 모의고사\n",
    "arr1 = [1,2,3,4,5]\n",
    "arr2 = [2,1,2,3,2,4,2,5]\n",
    "arr3 = [3,3,1,1,2,2,4,4,5,5]\n",
    "pattern = [arr1,arr2,arr3]\n",
    "answers = [1,3,2,4,2]\n",
    "\n",
    "\n",
    "def solution(answers):\n",
    "    answer = [0,0,0]\n",
    "    for i,value in enumerate(answers):\n",
    "        for j in range(3): #0,1,2\n",
    "            if (value==pattern[j][i%len(pattern[j])]):\n",
    "                answer[j]+=1\n",
    "    return answer\n",
    "\n",
    "\n",
    "result = solution(answers)\n",
    "max_num = max(result)\n",
    "answer = []\n",
    "for i,value in enumerate(result):\n",
    "    if value == max_num:\n",
    "        answer.append(i+1)\n",
    "print(answer)"
   ]
  },
  {
   "cell_type": "code",
   "execution_count": 19,
   "id": "30ccb9d6",
   "metadata": {},
   "outputs": [
    {
     "name": "stdout",
     "output_type": "stream",
     "text": [
      "[[15, 15], [15, 15], [15, 15]]\n"
     ]
    }
   ],
   "source": [
    "#05. 행렬의 곱셈\n",
    "arr1=[[1,4],[3,2],[4,1]]\n",
    "arr2=[[3,3],[3,3]]\n",
    "\n",
    "def solution(arr1,arr2):\n",
    "    a = len(arr1)\n",
    "    b = len(arr1[0])\n",
    "    c = len(arr2)\n",
    "    answer = [[0 for _ in range(b)] for _ in range(a)]\n",
    "    for i in range(a):#0,1,2\n",
    "        for j in range(b):#0,1\n",
    "            for k in range(c):#0,1\n",
    "                answer[i][j] += arr1[i][k]*arr2[k][j]\n",
    "    return answer\n",
    "\n",
    "print(solution(arr1,arr2))"
   ]
  },
  {
   "cell_type": "code",
   "execution_count": 24,
   "id": "963e9481",
   "metadata": {},
   "outputs": [
    {
     "name": "stdout",
     "output_type": "stream",
     "text": [
      "[3, 4, 2, 1, 5]\n"
     ]
    }
   ],
   "source": [
    "#06. 실패율\n",
    "def solutions(stage,N):\n",
    "    #아직 클리어 하지 못한 사용자\n",
    "    notclear = [0] * (N+2)\n",
    "    for s in stage:\n",
    "        notclear[s] += 1\n",
    "    #스테이지 별 도전자\n",
    "    challenger = [len(stage)] * (N+2)\n",
    "    #실패율\n",
    "    fail = []\n",
    "    for n in range(1,N+1):\n",
    "        challenger[n] = challenger[n-1] - notclear[n-1]\n",
    "        #실패율구하기 \n",
    "        fail.append((n,notclear[n]/challenger[n]))\n",
    "        \n",
    "    fail.sort(key=lambda x:(-x[1],x[0]))\n",
    "    \n",
    "    return [f[0] for f in fail]\n",
    "\n",
    "stage=[2,1,2,6,2,4,3,3]\n",
    "N = 5\n",
    "print(solutions(stage,N))\n"
   ]
  },
  {
   "cell_type": "code",
   "execution_count": 24,
   "id": "cec83d1f",
   "metadata": {},
   "outputs": [
    {
     "name": "stdout",
     "output_type": "stream",
     "text": [
      "7\n"
     ]
    }
   ],
   "source": [
    "#07 방문 길이\n",
    "dirs = 'LULLLLLLU'\n",
    "dp = []\n",
    "\n",
    "def solution(dirs):\n",
    "    dx,dy = (0,0)\n",
    "    mx,my = (0,0)\n",
    "    answer = 0\n",
    "    for a in dirs:\n",
    "        op =''\n",
    "        if a == 'U' and dy < 5:\n",
    "            my = dy +1\n",
    "            op = 'D'\n",
    "        elif a == 'D'and dy > -5:\n",
    "            my = dy -1\n",
    "            op = 'U'\n",
    "        elif a == 'L'and dx > -5:\n",
    "            mx = dx -1\n",
    "            op = 'R'\n",
    "        elif a == 'R'and dx < 5:\n",
    "            mx = dx +1\n",
    "            op = 'L'\n",
    "        else:\n",
    "            continue\n",
    "        if (dx,dy,a) not in dp:\n",
    "            dp.append((dx,dy,a))\n",
    "            dp.append((mx,my,op))\n",
    "            answer += 1\n",
    "        dx,dy = mx,my\n",
    "    return answer\n",
    "    \n",
    "    \n",
    "\n",
    "print(solution(dirs))"
   ]
  }
 ],
 "metadata": {
  "kernelspec": {
   "display_name": "Python 3 (ipykernel)",
   "language": "python",
   "name": "python3"
  },
  "language_info": {
   "codemirror_mode": {
    "name": "ipython",
    "version": 3
   },
   "file_extension": ".py",
   "mimetype": "text/x-python",
   "name": "python",
   "nbconvert_exporter": "python",
   "pygments_lexer": "ipython3",
   "version": "3.11.5"
  }
 },
 "nbformat": 4,
 "nbformat_minor": 5
}

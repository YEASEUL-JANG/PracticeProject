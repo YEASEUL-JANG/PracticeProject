{
 "cells": [
  {
   "cell_type": "code",
   "execution_count": null,
   "id": "68d8adfa",
   "metadata": {},
   "outputs": [],
   "source": [
    "#08 괄호 짝 맞추기\n",
    "\n",
    "s = '(())()'\n",
    "\n",
    "def solution(s):\n",
    "    if(s[0]==')'):\n",
    "        return False\n",
    "    left = 0\n",
    "    right = 0\n",
    "    for i in s:\n",
    "        if i=='(':\n",
    "            left+=1\n",
    "        else:\n",
    "            right+=1\n",
    "            if left>0:\n",
    "                left-=1\n",
    "                right-=1\n",
    "    if left==0 and right==0:\n",
    "        return True\n",
    "    else:\n",
    "        return False\n",
    "    \n",
    "print(solution(s))"
   ]
  },
  {
   "cell_type": "code",
   "execution_count": null,
   "id": "3623da4b",
   "metadata": {},
   "outputs": [],
   "source": [
    "#09 10진수를 2진수로 변환하기\n",
    "\n",
    "decimal = 12345\n",
    "\n",
    "def solution(decimal):\n",
    "    stack = []\n",
    "    while decimal > 0:\n",
    "        a = decimal % 2\n",
    "        stack.append(a)\n",
    "        decimal = decimal // 2\n",
    "    b_string = ''\n",
    "    while stack:\n",
    "        b_string += str(stack.pop())\n",
    "    return b_string\n",
    "\n",
    "print(solution(decimal))\n"
   ]
  },
  {
   "cell_type": "code",
   "execution_count": 7,
   "id": "17c0e829",
   "metadata": {},
   "outputs": [
    {
     "name": "stdout",
     "output_type": "stream",
     "text": [
      "2\n"
     ]
    }
   ],
   "source": [
    "#10 괄호 회전하기\n",
    "left = ['[','(','{']\n",
    "right = [']',')','}']\n",
    "s = '}]()[{'\n",
    "\n",
    "def check(arr):\n",
    "    stack = []\n",
    "    for a in arr:\n",
    "        if a in right:\n",
    "            if not stack:\n",
    "                return False\n",
    "            idx = right.index(a)\n",
    "            if left.index(stack[-1])==idx:\n",
    "                stack.pop()\n",
    "            else:\n",
    "                return False\n",
    "        else:\n",
    "            stack.append(a)\n",
    "    return len(stack)==0\n",
    "\n",
    "def solution(s):\n",
    "    count = 0\n",
    "    result = 0\n",
    "    arr = list(s)\n",
    "    while count<len(arr):\n",
    "        #올바른 괄호 문자열 확인\n",
    "        if(check(arr)):\n",
    "            result +=1\n",
    "        #왼쪽 회전\n",
    "        a = arr.pop(0)\n",
    "        arr.append(a)\n",
    "        count+=1\n",
    "    return result\n",
    "\n",
    "print(solution(s))\n"
   ]
  },
  {
   "cell_type": "code",
   "execution_count": 13,
   "id": "9765d960",
   "metadata": {},
   "outputs": [
    {
     "name": "stdout",
     "output_type": "stream",
     "text": [
      "0\n"
     ]
    }
   ],
   "source": [
    "#11 짝지어 제거하기\n",
    "\n",
    "arr = \"cdcd\"\n",
    "\n",
    "def solution(arr):\n",
    "    stack = [arr[0]]\n",
    "    for index,a in enumerate(arr[1:],1):\n",
    "        if len(stack)==0 or stack[-1] != a:\n",
    "            stack.append(a)\n",
    "        else:\n",
    "            stack.pop()\n",
    "    if len(stack)==0:\n",
    "        return 1\n",
    "    else:\n",
    "        return 0\n",
    "        \n",
    "print(solution(arr))"
   ]
  },
  {
   "cell_type": "code",
   "execution_count": 55,
   "id": "dbf84e32",
   "metadata": {},
   "outputs": [
    {
     "name": "stdout",
     "output_type": "stream",
     "text": [
      "[4, 3, 1, 1, 0]\n",
      "[4, 3, 1, 1, 0]\n"
     ]
    }
   ],
   "source": [
    "#12 주식가격\n",
    "\n",
    "price = [1,2,3,2,3]\n",
    "\n",
    "def solution(price):\n",
    "    r = len(price)\n",
    "    result = []\n",
    "    for a in range(r-1):\n",
    "        answer = 0\n",
    "        for b in range(a+1,r):\n",
    "            if price[a]<=price[b]:\n",
    "                answer+=1\n",
    "            else:\n",
    "                answer+=1\n",
    "                break\n",
    "        result.append(answer)\n",
    "    result.append(0)\n",
    "    return result\n",
    "            \n",
    "    \n",
    "        \n",
    "print(solution(price))\n",
    "\n",
    "## =>  시간복잡도(O^n)으로 풀기\n",
    "def solution2(price):\n",
    "    n = len(price)\n",
    "    answer = [0] * n\n",
    "    stack = [0] #stack 에는 index 를 저장한다. \n",
    "    for i in range(1,n):\n",
    "        #현재 가격과 스택에 마지막으로 쌓은 가격 비교\n",
    "        while stack and price[i]< price[stack[-1]]:\n",
    "            # 가격이 떨어졌으므로 이전 가격의 기간 계산\n",
    "            j = stack.pop()\n",
    "            answer[j] = i-j\n",
    "        stack.append(i)\n",
    "    #스택에 남아있는 가격들은 가격이 떨어지지 않은경우\n",
    "    while stack:\n",
    "        j = stack.pop()\n",
    "        answer[j] = n-1-j\n",
    "    return answer\n",
    "\n",
    "print(solution2(price))"
   ]
  },
  {
   "cell_type": "code",
   "execution_count": 36,
   "id": "39640c9f",
   "metadata": {},
   "outputs": [
    {
     "name": "stdout",
     "output_type": "stream",
     "text": [
      "0 2\n",
      "1 1\n",
      "2 2\n",
      "3 1\n"
     ]
    }
   ],
   "source": [
    "#13 크레인 인형 뽑기 게임\n",
    "board = [[0,0,0,0,0],[0,0,1,0,3],[0,2,5,0,1],[4,2,4,4,2],[3,5,1,3,1]]\n",
    "moves = [1,5,3,5,1,2,1,4]\n",
    "\n",
    "def solution(board,moves):\n",
    "    items = [[]for _ in range(len(board))]\n",
    "    for a in range(len(board)-1,-1,-1):\n",
    "        for b in range(len(board)):\n",
    "            items[b].append(board[a][b])\n",
    "    stack = []\n",
    "    result = 0\n",
    "    for m in moves:\n",
    "        index = m-1\n",
    "        item = 0\n",
    "        while items[index]:\n",
    "            item = items[index].pop()\n",
    "            if item != 0:\n",
    "                break\n",
    "        if item == 0:\n",
    "            continue\n",
    "            \n",
    "        if stack and stack[-1]==item:\n",
    "            stack.pop()\n",
    "            result +=2\n",
    "        else:\n",
    "            stack.append(item)\n",
    "    \n",
    "    return result\n",
    "\n",
    "print(solution(board,moves))"
   ]
  },
  {
   "cell_type": "code",
   "execution_count": null,
   "id": "1b6f7194",
   "metadata": {},
   "outputs": [],
   "source": [
    "#14 표편집\n",
    "n,k = 8,2\n",
    "cmd = [\"D 2\",\"C\",\"U 3\",\"C\",\"D 4\",\"C\",\"U 2\",\"Z\",\"Z\"]\n",
    "cmd2 = [\"D 2\",\"C\",\"U 3\",\"C\",\"D 4\",\"C\",\"U 2\",\"Z\",\"Z\",\"U 1\",\"C\"]\n",
    "\n",
    "\n",
    "def solution(n,k,cmd):\n",
    "    delete = []\n",
    "    for item in cmd:\n",
    "        if len(item)>1: #U or D\n",
    "            alph, number = item.split()\n",
    "            num = int(number)\n",
    "            if alph == \"U\":\n",
    "                k -= num\n",
    "            else:\n",
    "                k += num\n",
    "        else: #C or Z\n",
    "            if item == \"C\":\n",
    "                #현재 행 삭제\n",
    "                delete.append(k)\n",
    "                #아래행 or 위의 행 선택\n",
    "                if k== n-1:\n",
    "                    k -= 1\n",
    "                else:\n",
    "                    k += 1\n",
    "                n-=1\n",
    "            else:\n",
    "                if delete:\n",
    "                    delete.pop()\n",
    "                    n+=1\n",
    "    result = \"\"                \n",
    "    for index in range(n+len(delete)):\n",
    "        if index in delete:\n",
    "            result +=\"X\"\n",
    "        else:\n",
    "            result +=\"O\"\n",
    "    return result\n",
    "    \n",
    "print(solution(n,k,cmd))"
   ]
  }
 ],
 "metadata": {
  "kernelspec": {
   "display_name": "Python 3 (ipykernel)",
   "language": "python",
   "name": "python3"
  },
  "language_info": {
   "codemirror_mode": {
    "name": "ipython",
    "version": 3
   },
   "file_extension": ".py",
   "mimetype": "text/x-python",
   "name": "python",
   "nbconvert_exporter": "python",
   "pygments_lexer": "ipython3",
   "version": "3.11.5"
  }
 },
 "nbformat": 4,
 "nbformat_minor": 5
}

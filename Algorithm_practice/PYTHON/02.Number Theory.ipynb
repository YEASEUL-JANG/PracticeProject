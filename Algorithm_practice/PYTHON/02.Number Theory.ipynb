{
 "cells": [
  {
   "cell_type": "code",
   "execution_count": 1,
   "id": "d586c15c",
   "metadata": {},
   "outputs": [
    {
     "name": "stdout",
     "output_type": "stream",
     "text": [
      "36\n",
      "6\n"
     ]
    }
   ],
   "source": [
    "## 제곱수를 구하는 문제\n",
    "num = int(input())\n",
    "answer = int(num**0.5)\n",
    "print(answer)"
   ]
  },
  {
   "cell_type": "code",
   "execution_count": 9,
   "id": "0c37a922",
   "metadata": {},
   "outputs": [
    {
     "name": "stdout",
     "output_type": "stream",
     "text": [
      "100\n",
      "2 50\n",
      "4 25\n",
      "5 20\n",
      "10 10\n",
      "[2, 4, 5, 10, 20, 25, 50]\n"
     ]
    }
   ],
   "source": [
    "## 약수 빠르게 구하기\n",
    "num = int(input())\n",
    "answer = set()\n",
    "for i in range(2,int(num**0.5)+1):\n",
    "    if num%i==0:\n",
    "        print(i,num//i)\n",
    "        answer.update([i,num//i])\n",
    "print(sorted(list(answer)))"
   ]
  },
  {
   "cell_type": "code",
   "execution_count": 15,
   "id": "37bb7b3f",
   "metadata": {},
   "outputs": [
    {
     "name": "stdout",
     "output_type": "stream",
     "text": [
      "18\n"
     ]
    }
   ],
   "source": [
    "## 20! 에는 2 가 몇번 곱해져 있을까? \n",
    "answer = 0\n",
    "for i in range(1,21):\n",
    "    j = i\n",
    "    while j%2== 0:\n",
    "        answer += 1\n",
    "        j = j//2\n",
    "print(answer)"
   ]
  },
  {
   "cell_type": "code",
   "execution_count": 11,
   "id": "004eef07",
   "metadata": {},
   "outputs": [
    {
     "data": {
      "text/plain": [
       "2.8284271247461903"
      ]
     },
     "execution_count": 11,
     "metadata": {},
     "output_type": "execute_result"
    }
   ],
   "source": [
    "\n"
   ]
  }
 ],
 "metadata": {
  "kernelspec": {
   "display_name": "Python 3 (ipykernel)",
   "language": "python",
   "name": "python3"
  },
  "language_info": {
   "codemirror_mode": {
    "name": "ipython",
    "version": 3
   },
   "file_extension": ".py",
   "mimetype": "text/x-python",
   "name": "python",
   "nbconvert_exporter": "python",
   "pygments_lexer": "ipython3",
   "version": "3.11.5"
  }
 },
 "nbformat": 4,
 "nbformat_minor": 5
}

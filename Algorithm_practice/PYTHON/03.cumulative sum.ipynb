{
 "cells": [
  {
   "cell_type": "code",
   "execution_count": 1,
   "id": "1ceb1582",
   "metadata": {},
   "outputs": [
    {
     "name": "stdout",
     "output_type": "stream",
     "text": [
      "28\n"
     ]
    }
   ],
   "source": [
    "##주어진 간격(B)만큼의 합을 구해서 가장 큰 수를 구하시오\n",
    "A,B = map(int,'10 3'.split())\n",
    "arr = list(map(int,'3 -2 -4 -9 0 3 7 13 8 -3'.split()))\n",
    "\n",
    "##prefix 만들기\n",
    "prefix = [0 for _ in range(A+1)]\n",
    "\n",
    "for i in range(A):\n",
    "    prefix[i+1] = prefix[i]+arr[i]\n",
    "    \n",
    "answer = []\n",
    "i=0\n",
    "for _ in range(int(A/B)):\n",
    "    answer.append(prefix[i+B]-prefix[i])\n",
    "    i += B\n",
    "\n",
    "print(max(answer))"
   ]
  },
  {
   "cell_type": "code",
   "execution_count": 2,
   "id": "8db637b6",
   "metadata": {},
   "outputs": [
    {
     "name": "stdout",
     "output_type": "stream",
     "text": [
      "33\n"
     ]
    }
   ],
   "source": [
    "## 2개이상 n개 이하 선택\n",
    "n=10\n",
    "arr = list(map(int,'10 -4 3 1 5 6 -35 12 21 -1'.split()))\n",
    "\n",
    "prefix = [0 for _ in range(n+1)]\n",
    "for i in range(n):\n",
    "    prefix[i+1] = prefix[i]+arr[i]\n",
    "answer = []\n",
    "for j in range(2,n+1):\n",
    "    for i in range(j,n+1):\n",
    "        answer.append(prefix[i]-prefix[i-j])\n",
    "print(max(answer))"
   ]
  },
  {
   "cell_type": "code",
   "execution_count": 3,
   "id": "0cbe14d4",
   "metadata": {},
   "outputs": [
    {
     "name": "stdout",
     "output_type": "stream",
     "text": [
      "[8, 10]\n"
     ]
    }
   ],
   "source": [
    "#arr = []\n",
    "arr = [[2,4],[4,6],[5,3],[15,8],[11,4],[8,10],[13,6]]\n",
    "#for _ in range(3):\n",
    "\n",
    "# arr.append(list(map(int,input().split())))\n",
    "\n",
    "arr.sort(key = lambda x:x[0])\n",
    "max_element = max(arr, key = lambda x:x[1])\n",
    "print(max_element)"
   ]
  }
 ],
 "metadata": {
  "kernelspec": {
   "display_name": "Python 3 (ipykernel)",
   "language": "python",
   "name": "python3"
  },
  "language_info": {
   "codemirror_mode": {
    "name": "ipython",
    "version": 3
   },
   "file_extension": ".py",
   "mimetype": "text/x-python",
   "name": "python",
   "nbconvert_exporter": "python",
   "pygments_lexer": "ipython3",
   "version": "3.11.5"
  }
 },
 "nbformat": 4,
 "nbformat_minor": 5
}

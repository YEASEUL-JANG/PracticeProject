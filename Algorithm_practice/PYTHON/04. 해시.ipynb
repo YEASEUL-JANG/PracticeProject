{
 "cells": [
  {
   "cell_type": "code",
   "execution_count": 7,
   "id": "35218672",
   "metadata": {},
   "outputs": [
    {
     "name": "stdout",
     "output_type": "stream",
     "text": [
      "False\n"
     ]
    }
   ],
   "source": [
    "#18. 두개의 수로 특정값 만들기\n",
    "from itertools import combinations\n",
    "\n",
    "arr = [2,3,4,9]\n",
    "target = 10\n",
    "\n",
    "def solution(arr,target):\n",
    "    com_list = list(combinations(arr,2))\n",
    "    sum_list = [sum(x) for x in com_list]\n",
    "    if target in sum_list:\n",
    "        return True\n",
    "    else:\n",
    "        return False\n",
    "\n",
    "\n",
    "print(solution(arr,target))\n"
   ]
  },
  {
   "cell_type": "code",
   "execution_count": 9,
   "id": "9e4277a1",
   "metadata": {},
   "outputs": [
    {
     "name": "stdout",
     "output_type": "stream",
     "text": [
      "[True, False, False, True]\n"
     ]
    }
   ],
   "source": [
    "#19. 문자열 해싱을 이용한 검색 함수 만들기\n",
    "\n",
    "def poly_hash(s, base=31, mod=10**9+7):\n",
    "    hash_val = 0\n",
    "    for char in s:\n",
    "        hash_val = (hash_val * base + ord(char)) % mod\n",
    "    return hash_val\n",
    "\n",
    "string_list = [\"apple\",\"banana\",\"cherry\"]\n",
    "query_list = [\"banana\",\"kiwi\",\"melon\",\"apple\"]\n",
    "\n",
    "def solution(string_list,query_list):\n",
    "    string_hash = [poly_hash(x) for x in string_list]\n",
    "    query_hash = [poly_hash(x) for x in query_list]\n",
    "    result = []\n",
    "    for h in query_hash:\n",
    "        if h in string_hash:\n",
    "            result.append(True)\n",
    "        else:\n",
    "            result.append(False)\n",
    "    return result\n",
    "            \n",
    "    \n",
    "print(solution(string_list,query_list))"
   ]
  },
  {
   "cell_type": "code",
   "execution_count": 15,
   "id": "ea369efe",
   "metadata": {},
   "outputs": [
    {
     "name": "stdout",
     "output_type": "stream",
     "text": [
      "leo\n"
     ]
    }
   ],
   "source": [
    "#20 완주하지 못한 선수 \n",
    "participant = [\"leo\",\"kiki\",\"eden\",\"leo\"]\n",
    "completion = [\"eden\",\"kiki\"]\n",
    "\n",
    "def solution(participant, completion):\n",
    "    dic = {}\n",
    "    for part in participant:\n",
    "        if part in dic:\n",
    "            dic[part] += 1\n",
    "        else:\n",
    "            dic[part] = 1\n",
    "    for com in completion:\n",
    "        if com in dic:\n",
    "            dic[com] -= 1\n",
    "\n",
    "    return [k for k,v in dic.items() if v != 0][0]\n",
    "    \n",
    "\n",
    "print(solution(participant, completion))\n"
   ]
  },
  {
   "cell_type": "code",
   "execution_count": 19,
   "id": "d3543f59",
   "metadata": {},
   "outputs": [
    {
     "name": "stdout",
     "output_type": "stream",
     "text": [
      "3\n"
     ]
    }
   ],
   "source": [
    "#21 할인 행사\n",
    "want = [\"banana\",\"apple\",\"rice\",\"pork\",\"pot\"]\n",
    "number = [3,2,2,2,1]\n",
    "discount = [\"chicken\",\"apple\",\"apple\",\"banana\",\"rice\",\"apple\",\"pork\",\"banana\",\"pork\",\"rice\",\"pot\",\"banana\",\"apple\",\"banana\"]\n",
    "\n",
    "def solution(want,number,discount):\n",
    "    dic = {}\n",
    "    result = 0\n",
    "    num = sum(number)\n",
    "    for index,w in enumerate(want):\n",
    "        dic[w]=number[index]\n",
    "    \n",
    "    for index,aa in enumerate(discount):\n",
    "    \n",
    "        if aa in dic:\n",
    "            dic[aa] -= 1\n",
    "        else:\n",
    "            if index<len(discount)-num:\n",
    "                continue\n",
    "            else:\n",
    "                return 0\n",
    "        #10번째가 넘으면 첫번째부터 다시 채우기\n",
    "        if index>=num:\n",
    "            if discount[index-num] in dic:\n",
    "                dic[discount[index-num]] += 1\n",
    "        #want 다 채웠는지 확인\n",
    "        if all(d<=0 for d in dic.values()):\n",
    "            result += 1    \n",
    "    return result\n",
    "\n",
    "print(solution(want,number,discount))"
   ]
  },
  {
   "cell_type": "code",
   "execution_count": 18,
   "id": "6b9e25e0",
   "metadata": {},
   "outputs": [
    {
     "name": "stdout",
     "output_type": "stream",
     "text": [
      "['Prodo님이 들어왔습니다.', 'Ryan님이 들어왔습니다.', 'Prodo님이 나갔습니다.', 'Prodo님이 들어왔습니다.']\n"
     ]
    }
   ],
   "source": [
    "#22 오픈 채팅방\n",
    "from collections import deque\n",
    "\n",
    "record = [\"Enter uid1234 Muzi\",\n",
    "         \"Enter uid4567 Prodo\",\n",
    "         \"Leave uid1234\",\n",
    "         \"Enter uid1234 Prodo\",\n",
    "         \"Change uid4567 Ryan\"]\n",
    "\n",
    "def solution(record):\n",
    "    dic = {}\n",
    "    q = deque([])\n",
    "    result = []\n",
    "    for re in record:\n",
    "        split_word = re.split(\" \")\n",
    "        if len(split_word)==2:#Leave\n",
    "            a,id = split_word\n",
    "            q.append((id,2))\n",
    "        else:\n",
    "            a,id,nick = split_word\n",
    "            dic[id]=nick\n",
    "            if a !=\"Change\":\n",
    "                q.append((id,1))\n",
    "    while q:\n",
    "        id,a = q.popleft()\n",
    "        if a == 1:\n",
    "            result.append(dic[id]+\"님이 들어왔습니다.\")\n",
    "        else:\n",
    "            result.append(dic[id]+\"님이 나갔습니다.\")\n",
    "    return result\n",
    "\n",
    "print(solution(record))"
   ]
  },
  {
   "cell_type": "code",
   "execution_count": 17,
   "id": "988f2547",
   "metadata": {},
   "outputs": [
    {
     "name": "stdout",
     "output_type": "stream",
     "text": [
      "[4, 1, 3, 0]\n"
     ]
    }
   ],
   "source": [
    "#23 베스트 앨범\n",
    "\n",
    "genres = [\"classic\",\"pop\",\"classic\",\"classic\",\"pop\"]\n",
    "plays = [500,600,150,800,2500]\n",
    "\n",
    "def solution(genres,plays):\n",
    "    dic = {}\n",
    "    for index, gen in enumerate(genres):\n",
    "        if gen in dic:\n",
    "            #재생횟수와 인덱스 저장\n",
    "            dic[gen].append((plays[index],index))\n",
    "        else:\n",
    "            dic[gen]=[(plays[index],index)]\n",
    "    \n",
    "    #value의 합계에 따라 정렬\n",
    "    sorted_dic = sorted(dic.items(), key=lambda x: sum([p for p,_ in x[1]]), reverse=True)\n",
    "    \n",
    "    result = []\n",
    "    for genre,playlist in sorted_dic:\n",
    "        #재생횟수 내림차순, 인덱스 오름차순\n",
    "        playlist.sort(key=lambda x:(-x[0],x[1]))\n",
    "        \n",
    "        result.append(playlist[0][1]) #인덱스저장\n",
    "        if len(playlist)>1:\n",
    "            result.append(playlist[1][1]) #인덱스저장\n",
    "    return result\n",
    "    \n",
    "print(solution(genres,plays))"
   ]
  },
  {
   "cell_type": "code",
   "execution_count": 16,
   "id": "5a7a0752",
   "metadata": {},
   "outputs": [
    {
     "name": "stdout",
     "output_type": "stream",
     "text": [
      "[2, 1, 1, 0]\n"
     ]
    }
   ],
   "source": [
    "#24 신고 결과 받기\n",
    "\n",
    "id_list = [\"muzi\",\"frodo\",\"apeach\",\"neo\"]\n",
    "report = [\"muzi frodo\",\"apeach frodo\",\"frodo neo\",\"muzi neo\",\"apeach muzi\"]\n",
    "k = 2\n",
    "\n",
    "def solution(id_list,report,k):\n",
    "    \n",
    "    #신고한사람과 신고받은사람 list\n",
    "    fire = {}\n",
    "    #신고 정보\n",
    "    de_fire = {}\n",
    "    for r in report:\n",
    "        #신고자 정보 저장\n",
    "        a,b = r.split(\" \")\n",
    "        if a not in fire:\n",
    "            fire[a]=[b]\n",
    "        else:\n",
    "            #같은 사람이 또 신고한경우\n",
    "            if b in fire[a]:\n",
    "                continue\n",
    "            else:\n",
    "                fire[a].append(b)\n",
    "        #신고정보 저장\n",
    "        if b not in de_fire:\n",
    "            de_fire[b]=1\n",
    "        else:\n",
    "            de_fire[b]+=1\n",
    "            \n",
    "    #k번 이상 신고된 유저\n",
    "    fireman = {user for user,count in de_fire.items() if count >= k}\n",
    "    \n",
    "    result = []\n",
    "    for id in id_list:\n",
    "        count = 0\n",
    "        if id in fire:#신고이력이 있고,\n",
    "            for f in fire[id]:\n",
    "                if f in fireman:#신고한 사람중에 정지대상이 있으면\n",
    "                    count+=1\n",
    "        result.append(count)\n",
    "    return result\n",
    "\n",
    "print(solution(id_list,report,k))\n",
    "    "
   ]
  },
  {
   "cell_type": "code",
   "execution_count": 40,
   "id": "c686d41f",
   "metadata": {},
   "outputs": [
    {
     "name": "stdout",
     "output_type": "stream",
     "text": [
      "['WX', 'XY']\n"
     ]
    }
   ],
   "source": [
    "#25 메뉴 리뉴얼\n",
    "from itertools import combinations\n",
    "\n",
    "orders = [\"XYZ\", \"XWY\", \"WXA\"]\n",
    "course = [2,3,4]\n",
    "\n",
    "def solution(orders,course):\n",
    "    reorders = [\"\".join(sorted(x)) for x in orders]\n",
    "    result = []\n",
    "    for num in course:\n",
    "        #코스별로 가장 많이 주문된 조합 저장\n",
    "        dic = {}\n",
    "        for order in reorders:\n",
    "            if len(order) < num:\n",
    "                continue\n",
    "            comb_list = [\"\".join(x) for x in combinations(order,num)]\n",
    "            for comb in comb_list:\n",
    "                if comb not in dic:\n",
    "                    dic[comb] = 1\n",
    "                else:\n",
    "                    dic[comb] += 1\n",
    "        sorted_dic = sorted(dic.items(),key=lambda x:x[1],reverse=True)\n",
    "        if sorted_dic:\n",
    "            max_count = sorted_dic[0][1]\n",
    "            for val,num in sorted_dic:\n",
    "                if max_count>1 and max_count== num:\n",
    "                    result.append(val)\n",
    "    return sorted(result)\n",
    "\n",
    "print(solution(orders,course))\n",
    "                    "
   ]
  },
  {
   "cell_type": "code",
   "execution_count": 30,
   "id": "bd0e204e",
   "metadata": {},
   "outputs": [
    {
     "name": "stdout",
     "output_type": "stream",
     "text": [
      "['ABCFG', 'AC', 'CDE', 'ACDE', 'BCFG', 'ACDEH']\n"
     ]
    }
   ],
   "source": [
    "orders = [\"ABCFG\", \"AC\", \"CDE\", \"ACDE\", \"BCFG\", \"ACDEH\"]\n",
    "reorders = [\"\".join(sorted(x)) for x in orders]\n",
    "print(reorders)"
   ]
  }
 ],
 "metadata": {
  "kernelspec": {
   "display_name": "Python 3 (ipykernel)",
   "language": "python",
   "name": "python3"
  },
  "language_info": {
   "codemirror_mode": {
    "name": "ipython",
    "version": 3
   },
   "file_extension": ".py",
   "mimetype": "text/x-python",
   "name": "python",
   "nbconvert_exporter": "python",
   "pygments_lexer": "ipython3",
   "version": "3.11.5"
  }
 },
 "nbformat": 4,
 "nbformat_minor": 5
}

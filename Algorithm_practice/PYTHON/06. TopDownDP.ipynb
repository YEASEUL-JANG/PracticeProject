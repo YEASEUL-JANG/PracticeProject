{
 "cells": [
  {
   "cell_type": "code",
   "execution_count": 3,
   "id": "e1dbc683",
   "metadata": {},
   "outputs": [
    {
     "name": "stdout",
     "output_type": "stream",
     "text": [
      "[95, 95, 75, 75, 35, 0, 0]\n"
     ]
    }
   ],
   "source": [
    "## N일 동안 상담을 할 수있을 때,가장 돈을 많이 받도록 상담을 하는 경우의 수 (금액출력)\n",
    "\n",
    "arr = [[4,10],[1,20],[3,30],[1,40],[2,35],[3,150],[2,10]]\n",
    "\n",
    "## 모든날에 대하여 상담을 받거나, 안받거나\n",
    "n = len(arr)\n",
    "answer = []\n",
    "def recur(index):\n",
    "    \n",
    "    ## 마지막 퇴사날이라면\n",
    "    if index == n:\n",
    "        return 0\n",
    "    if index > n:\n",
    "        return -99999\n",
    "    \n",
    "    # 해당날에 상담을 받거나, 안받거나 그중에서 더 많은 돈을 버는 경우를 내 DP테이블에 저장하겠다\n",
    "    dp[index] = max(recur(index+arr[index][0]) + arr[index][1]\n",
    "                  ,recur(index+1))\n",
    "    return dp[index]\n",
    "\n",
    "#dp table\n",
    "dp = [-1 for _ in range(n)]\n",
    "\n",
    "recur(0)\n",
    "print(dp)"
   ]
  },
  {
   "cell_type": "code",
   "execution_count": 6,
   "id": "9ce0f3fb",
   "metadata": {},
   "outputs": [
    {
     "name": "stdout",
     "output_type": "stream",
     "text": [
      "[14, 14, 12, 12]\n"
     ]
    }
   ],
   "source": [
    "## 배낭에 담은 물건의 가치가 가장 큰 경우\n",
    "A,B = (4,7) #물건의 수 A, 배낭의 무게 B\n",
    "arr = [[6,13],[4,8],[3,6],[5,12]] #물건의 무게와 가치\n",
    "\n",
    "## 물건을 담거나, 안담거나\n",
    "n = A\n",
    "answer = []\n",
    "def recur(index,weight):\n",
    "    \n",
    "     ## 무게가 배낭무게보다 클때\n",
    "    if weight > B:\n",
    "        return -9999\n",
    "    \n",
    "    ## 마지막 물건의 순서까지 왔을때\n",
    "    if index == n:\n",
    "        return 0\n",
    "    \n",
    "    # 물건을 담거나 안담거나 더 가치있는것을 dp에 저장하겠다.\n",
    "    dp[index] = max(recur(index+1, weight+arr[index][0])+arr[index][1]\n",
    "    ,recur(index+1,weight))\n",
    "    \n",
    "    return dp[index]\n",
    "\n",
    "#dp table\n",
    "dp = [-1 for _ in range(A)]\n",
    "\n",
    "recur(0,0)\n",
    "print(dp)"
   ]
  }
 ],
 "metadata": {
  "kernelspec": {
   "display_name": "Python 3 (ipykernel)",
   "language": "python",
   "name": "python3"
  },
  "language_info": {
   "codemirror_mode": {
    "name": "ipython",
    "version": 3
   },
   "file_extension": ".py",
   "mimetype": "text/x-python",
   "name": "python",
   "nbconvert_exporter": "python",
   "pygments_lexer": "ipython3",
   "version": "3.11.5"
  }
 },
 "nbformat": 4,
 "nbformat_minor": 5
}

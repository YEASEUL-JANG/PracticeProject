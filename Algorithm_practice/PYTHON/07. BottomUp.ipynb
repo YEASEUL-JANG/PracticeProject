{
 "cells": [
  {
   "cell_type": "code",
   "execution_count": 3,
   "id": "eda9c44e",
   "metadata": {},
   "outputs": [
    {
     "name": "stdout",
     "output_type": "stream",
     "text": [
      "[95, 95, 75, 75, 35, 0, 0, 0]\n"
     ]
    }
   ],
   "source": [
    "## N일 동안 상담을 할 수있을 때,가장 돈을 많이 받도록 상담을 하는 경우의 수 (금액출력)\n",
    "\n",
    "arr = [[4,10],[1,20],[3,30],[1,40],[2,35],[3,150],[2,10]]\n",
    "\n",
    "## 모든날에 대하여 상담을 받거나, 안받거나\n",
    "n = len(arr)\n",
    "\n",
    "#n일동안의 상담과 퇴사일을 포함하기 위해 n+1로 설정\n",
    "dp = [0 for _ in range(n+1)]\n",
    "\n",
    "for idx in range(n)[::-1]:\n",
    "    # 해당날에 상담을 못하면 현재날짜기준 최대수익은 다음날짜의 최대수익과 같다.\n",
    "    if idx+arr[idx][0] > n:\n",
    "        dp[idx] = dp[idx+1]\n",
    "        # 상담을 하거나, 안하거나, 더 높은 수익을 dp에 저장한다.\n",
    "    else:\n",
    "        dp[idx] = max(dp[idx + arr[idx][0]] + arr[idx][1], dp[idx+1])\n",
    "\n",
    "\n",
    "print(dp)"
   ]
  },
  {
   "cell_type": "code",
   "execution_count": 10,
   "id": "bdf0be24",
   "metadata": {},
   "outputs": [
    {
     "name": "stdout",
     "output_type": "stream",
     "text": [
      "55\n"
     ]
    }
   ],
   "source": [
    "#2xN 크기의 직사각형이 있습니다.\n",
    "\n",
    "#1x2, 2x1 크기의 타일로 채우는 방법의 수를 구하는 프로그램을 작성하시오.\n",
    "\n",
    "n = 9\n",
    "\n",
    "dp = [0 for _ in range(n+2)]\n",
    "dp[1] = 1\n",
    "for n in range(2,n+2):\n",
    "    dp[n] = dp[n-2]+dp[n-1]\n",
    "    \n",
    "print(dp[10])\n"
   ]
  },
  {
   "cell_type": "code",
   "execution_count": 13,
   "id": "2582c8d6",
   "metadata": {},
   "outputs": [
    {
     "name": "stdout",
     "output_type": "stream",
     "text": [
      "[99, 185, 96, 172, 178, 188, 110, 186, 221, 231, 156, 242]\n"
     ]
    }
   ],
   "source": [
    "# 건물의 개수 N과 건물을 R,G,B 로 색칠하는 비용이 주어졌을 때, \n",
    "# 모든 집을 칠하는 비용의 최솟값구하기 (단 연속된 색 중복 안됨)\n",
    "arr = [[26,40,83],[49,60,57],[13,89,99]]\n",
    "n = 3\n",
    "\n",
    "answer = []\n",
    "\n",
    "def recur(idx, price,last_color):\n",
    "    if idx == n:\n",
    "        answer.append(price)\n",
    "        return\n",
    "    \n",
    "    # R로 칠하거나, G로 칠하거나, B로 칠하거나\n",
    "    for color in range(3): #0,1,2\n",
    "        if color != last_color: #중복이 아닐경우만\n",
    "            recur(idx+1,price+arr[idx][color],color)\n",
    "    \n",
    "recur(0,0,-1)\n",
    "print(min(answer)"
   ]
  }
 ],
 "metadata": {
  "kernelspec": {
   "display_name": "Python 3 (ipykernel)",
   "language": "python",
   "name": "python3"
  },
  "language_info": {
   "codemirror_mode": {
    "name": "ipython",
    "version": 3
   },
   "file_extension": ".py",
   "mimetype": "text/x-python",
   "name": "python",
   "nbconvert_exporter": "python",
   "pygments_lexer": "ipython3",
   "version": "3.11.5"
  }
 },
 "nbformat": 4,
 "nbformat_minor": 5
}

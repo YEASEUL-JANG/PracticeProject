{
 "cells": [
  {
   "cell_type": "code",
   "execution_count": 19,
   "id": "a6ae0446",
   "metadata": {},
   "outputs": [
    {
     "name": "stdout",
     "output_type": "stream",
     "text": [
      "['A', 'B', 'D', 'E', 'F', 'C']\n"
     ]
    }
   ],
   "source": [
    "#38 깊이우선탐색\n",
    "\n",
    "graph = [['A','B'],['A','C'],['B','D'],['B','E'],['C','E'],['E','F']]\n",
    "start= 'A'\n",
    "\n",
    "def dfs(arr,result,start):\n",
    "    if start not in result:\n",
    "        result.append(start)\n",
    "    if start in arr:\n",
    "        for node in arr[start]: #'B','C'\n",
    "            dfs(arr,result,node)\n",
    "            \n",
    "    return result\n",
    "        \n",
    "\n",
    "def solutions(graph,start):\n",
    "    arr = {}\n",
    "    visited = {}\n",
    "    for a,b in graph:\n",
    "        if a in arr:\n",
    "            arr[a].append(b)\n",
    "        else:\n",
    "            arr[a]=[b]\n",
    "    result = []\n",
    "    return dfs(arr,result,start)\n",
    "\n",
    "print(solutions(graph,start))\n",
    "    "
   ]
  },
  {
   "cell_type": "code",
   "execution_count": 27,
   "id": "dca5ed86",
   "metadata": {},
   "outputs": [
    {
     "name": "stdout",
     "output_type": "stream",
     "text": [
      "dic {1: [2, 3], 2: [4, 5], 3: [6, 7], 4: [8], 5: [8], 6: [9], 7: [9]}\n",
      "[1, 2, 3, 4, 5, 6, 7, 8, 9]\n"
     ]
    }
   ],
   "source": [
    "#39 너비우선탐색\n",
    "from collections import deque\n",
    "\n",
    "graph = [(1,2),(1,3),(2,4),(2,5),(3,6),(3,7),(4,8),(5,8),(6,9),(7,9)]\n",
    "start= 1\n",
    "\n",
    "def solutions(graph,start):\n",
    "    \n",
    "    dic = {}\n",
    "    for a,b in graph:\n",
    "        if a in dic:\n",
    "            dic[a].append(b)\n",
    "        else:\n",
    "            dic[a]=[b]\n",
    "    q = deque([start])\n",
    "    visited=[start]\n",
    "    while q:\n",
    "        node = q.popleft()\n",
    "        if node in dic:\n",
    "            for n in dic[node]:\n",
    "                if n not in visited:\n",
    "                    visited.append(n)\n",
    "                    q.append(n)\n",
    "    return visited\n",
    "               \n",
    "    \n",
    "    \n",
    "    \n",
    "print(solutions(graph,start))"
   ]
  },
  {
   "cell_type": "code",
   "execution_count": 3,
   "id": "d1bf9f4e",
   "metadata": {},
   "outputs": [
    {
     "name": "stdout",
     "output_type": "stream",
     "text": [
      "({'A': 0, 'B': 4, 'C': 3}, {'A': ['A'], 'B': ['A', 'C', 'B'], 'C': ['A', 'C']})\n"
     ]
    }
   ],
   "source": [
    "#40 다익스트라 알고리즘\n",
    "import heapq\n",
    "graph = {'A':{'B':9,'C':3}, 'B':{'A':5},'C':{'B':1}}\n",
    "start = 'A'\n",
    "#각 노드까지 최소비용으로 가는 경로\n",
    "def solutions(graph,start):\n",
    "    INF = float('inf')\n",
    "    cost = {}#각 노드에 대한 가중치 저장\n",
    "    result = {}#각 노드까지 가는 경로 저장\n",
    "    for g in graph.keys():\n",
    "        cost[g]=INF\n",
    "        result[g] = []\n",
    "    \n",
    "    cost[start] = 0\n",
    "    result[start] = [start]\n",
    "    h = []\n",
    "    heapq.heappush(h,(0,start))\n",
    "    while h:\n",
    "        a,b = heapq.heappop(h)\n",
    "        if a > cost[b]:\n",
    "            continue\n",
    "        if b in graph:\n",
    "            for node,c in graph[b].items():\n",
    "                if cost[node]>a+c:\n",
    "                    cost[node]=a+c\n",
    "                    result[node] = result[b]+[node]\n",
    "                    heapq.heappush(h,(a+c,node))\n",
    "                    \n",
    "    return cost,result\n",
    "\n",
    "print(solutions(graph,start))\n"
   ]
  }
 ],
 "metadata": {
  "kernelspec": {
   "display_name": "Python 3 (ipykernel)",
   "language": "python",
   "name": "python3"
  },
  "language_info": {
   "codemirror_mode": {
    "name": "ipython",
    "version": 3
   },
   "file_extension": ".py",
   "mimetype": "text/x-python",
   "name": "python",
   "nbconvert_exporter": "python",
   "pygments_lexer": "ipython3",
   "version": "3.11.5"
  }
 },
 "nbformat": 4,
 "nbformat_minor": 5
}

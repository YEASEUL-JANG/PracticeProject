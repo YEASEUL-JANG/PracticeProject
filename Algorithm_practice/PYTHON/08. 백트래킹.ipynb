{
 "cells": [
  {
   "cell_type": "code",
   "execution_count": 1,
   "id": "b6c7a0d1",
   "metadata": {},
   "outputs": [
    {
     "name": "stdout",
     "output_type": "stream",
     "text": [
      "[[1, 2, 3, 4], [1, 4, 5], [2, 3, 5]]\n"
     ]
    }
   ],
   "source": [
    "#47. 1부터N까지 숫자 중 합이 10이 되는 조합구하기\n",
    "N = 5\n",
    "def backtrack(sum, selected_nums,start,N,result):\n",
    "    if sum == 10:\n",
    "        result.append(selected_nums)\n",
    "        return\n",
    "    for i in range(start,N+1):\n",
    "        if sum+i<=10:\n",
    "            backtrack(sum+i,selected_nums+[i],i+1,N,result)\n",
    "\n",
    "def solution(N):\n",
    "    result = []\n",
    "    backtrack(0,[],1,N,result)\n",
    "    return result\n",
    "\n",
    "print(solution(N))"
   ]
  },
  {
   "cell_type": "code",
   "execution_count": 2,
   "id": "da333aa5",
   "metadata": {},
   "outputs": [],
   "source": [
    "#48. 스도쿠 퍼즐\n",
    "def inrow(num,row,board):\n",
    "    return num in board[row]\n",
    "\n",
    "def incol(num,col,board):\n",
    "    return num in (board[i][col]for i in range(9))\n",
    "\n",
    "def inbox(num,row,col,board):\n",
    "    boxrow = (row//3) * 3\n",
    "    boxcol = (col//3) * 3\n",
    "    for i in range(boxrow,boxrow+3):\n",
    "        for j in range(boxcol,boxcol+3):\n",
    "            if board[i][j]==num:\n",
    "                return True\n",
    "    return False\n",
    "\n",
    "def isvalid(num,row,col,board):\n",
    "    return not(inrow(num,row,board) or incol(num,col,board) or inbox(num,row,col,board))\n",
    "\n",
    "def findempty(board):\n",
    "    for i in range(9):\n",
    "        for j in range(9):\n",
    "            if board[i][j]==0:\n",
    "                return i,j\n",
    "    return None\n",
    "\n",
    "def findsolution(board):\n",
    "    position = findempty(board)\n",
    "    if not position:\n",
    "        return True\n",
    "    a,b = position\n",
    "    for num in range(1,10):\n",
    "        if isvalid(num,row,col,board):\n",
    "            board[row][col]=num\n",
    "            if findsolution(board):\n",
    "                return True\n",
    "            board[row][col]=0\n",
    "    return False\n",
    "\n",
    "def solution(board):\n",
    "    findsolution(board)\n",
    "    return board\n",
    "\n",
    "    \n",
    "    "
   ]
  },
  {
   "cell_type": "code",
   "execution_count": 3,
   "id": "f22b4d60",
   "metadata": {},
   "outputs": [
    {
     "name": "stdout",
     "output_type": "stream",
     "text": [
      "3\n"
     ]
    }
   ],
   "source": [
    "#49. 피로도\n",
    "k = 80\n",
    "dungun = [[80,20],[50,40],[30,10]]\n",
    "\n",
    "def dfs(dungun,visited,k,result):\n",
    "    for dun in dungun:\n",
    "        a,b = dun\n",
    "        if dun not in visited and k>=a:\n",
    "            k -= b\n",
    "            visited.append(dun)\n",
    "            if dfs(dungun,visited,k,result):\n",
    "                result.append(visited.copy())\n",
    "            visited.remove(dun)\n",
    "            k += b\n",
    "        else:\n",
    "            continue\n",
    "    return True\n",
    "\n",
    "def solution(k,dungun):\n",
    "    result = []\n",
    "    dfs(dungun,[],k,result)\n",
    "    return max([len(x) for x in result])\n",
    "\n",
    "print(solution(k,dungun))\n",
    "            "
   ]
  },
  {
   "cell_type": "code",
   "execution_count": 6,
   "id": "bb71449e",
   "metadata": {},
   "outputs": [
    {
     "name": "stdout",
     "output_type": "stream",
     "text": [
      "2\n"
     ]
    }
   ],
   "source": [
    "#50. 퀸\n",
    "n = 4\n",
    "\n",
    "def not_attack(queens):\n",
    "    n = len(queens)\n",
    "    for i in range(n):\n",
    "        for j in range(i+1, n):\n",
    "            a, b = queens[i]\n",
    "            c, d = queens[j]\n",
    "            if a == c or b == d or abs(a - c) == abs(b - d):\n",
    "                return False\n",
    "    return True\n",
    "        \n",
    "\n",
    "def dfs(n,i,j,queen,result):\n",
    "    if len(queen)==n:\n",
    "        result.append(queen.copy())\n",
    "        return\n",
    "    \n",
    "    for a in range(i,n):\n",
    "        start_b = j if a == i else 0\n",
    "        for b in range(start_b,n):\n",
    "            queen.append((a,b))\n",
    "            if not_attack(queen):\n",
    "                new_i = a\n",
    "                new_j = b + 1\n",
    "                if new_j >= n:\n",
    "                    new_i += 1\n",
    "                    new_j = 0\n",
    "                dfs(n, new_i, new_j, queen, result)\n",
    "            queen.pop()\n",
    "    \n",
    "             \n",
    "\n",
    "def solution(n):\n",
    "    #(i, j)와 (k, l)에 퀸이 있을 때,\n",
    "    #i == k이거나 j == l이거나 |i - k| == |j - l|이면 안 됨.\n",
    "    result = []\n",
    "    dfs(n,0,0,[],result)\n",
    "    return len(result)\n",
    "\n",
    "print(solution(n))\n",
    "    \n",
    "            "
   ]
  }
 ],
 "metadata": {
  "kernelspec": {
   "display_name": "Python 3 (ipykernel)",
   "language": "python",
   "name": "python3"
  },
  "language_info": {
   "codemirror_mode": {
    "name": "ipython",
    "version": 3
   },
   "file_extension": ".py",
   "mimetype": "text/x-python",
   "name": "python",
   "nbconvert_exporter": "python",
   "pygments_lexer": "ipython3",
   "version": "3.11.5"
  }
 },
 "nbformat": 4,
 "nbformat_minor": 5
}

{
 "cells": [
  {
   "cell_type": "code",
   "execution_count": 7,
   "id": "926b1283-4b0f-4c21-8320-4be052555652",
   "metadata": {
    "tags": []
   },
   "outputs": [
    {
     "name": "stdout",
     "output_type": "stream",
     "text": [
      "4\n"
     ]
    }
   ],
   "source": [
    "## 수열의 가장 긴 증가하는 부분 수열의 길이를 계산\n",
    "\n",
    "N = 6 #수열의 길이\n",
    "#arr = list(map(int,input().split()))\n",
    "arr = [10,20,10,30,20,50]\n",
    "\n",
    "# 처음엔 다 1인 dp테이블\n",
    "dp = [1 for _ in range(N)]\n",
    "\n",
    "for i in range(N): #0,1,2,3,4,5\n",
    "    for j in range(i): #왼쪽에 있는 숫자까지\n",
    "        # 내 기준 내 왼쪽에 있는 숫자들이 나보다 작으면\n",
    "        if arr[i] > arr[j]:\n",
    "            dp[i] = max(dp[i],dp[j]+1)\n",
    "#최대값 출력\n",
    "print(max(dp))"
   ]
  },
  {
   "cell_type": "code",
   "execution_count": 15,
   "id": "ac577eb5-69ad-40e4-ac5e-2c026742d907",
   "metadata": {
    "tags": []
   },
   "outputs": [
    {
     "name": "stdout",
     "output_type": "stream",
     "text": [
      "4\n"
     ]
    }
   ],
   "source": [
    "## 두 수열에 포함되는 가장 긴 부분 문자열의 길이 계산\n",
    "##1. 완전탐색적 접근\n",
    "## - 첫번째 수열에서 만들 수 있는 모든 부분수열을 꺼내서 두번째 수열에 포함되었는지 비교\n",
    "##2. 아이디어 접근\n",
    "\n",
    "#M = list(str(input()))\n",
    "M = ['A', 'C', 'A', 'Y', 'K', 'P']\n",
    "N = ['C', 'A', 'P', 'C', 'A', 'K']\n",
    "\n",
    "dp = [[0 for _ in range(len(N)+1)] for _ in range(len(M)+1)]\n",
    "\n",
    "for i in range(1,len(M)+1): # M의 문자 하나 결정\n",
    "     for j in range(1,len(N)+1): #N의 문자를 돌면서 비교\n",
    "            #M의 문자가 N의 문자와 같다면 dp테이블 대각선 위의 값을 가져오고 +1\n",
    "            if M[i-1] == N[j-1]:\n",
    "                dp[i][j] = dp[i-1][j-1] +1\n",
    "            #M의 문자가 N의 문자와 다르다면 dp테이블 왼쪽과 위쪽을 가져와 더 큰값.\n",
    "            else:\n",
    "                dp[i][j] = max(dp[i-1][j],dp[i][j-1])\n",
    "\n",
    "print(dp[len(M)][len(N)])"
   ]
  }
 ],
 "metadata": {
  "kernelspec": {
   "display_name": "Python 3 (ipykernel)",
   "language": "python",
   "name": "python3"
  },
  "language_info": {
   "codemirror_mode": {
    "name": "ipython",
    "version": 3
   },
   "file_extension": ".py",
   "mimetype": "text/x-python",
   "name": "python",
   "nbconvert_exporter": "python",
   "pygments_lexer": "ipython3",
   "version": "3.11.5"
  }
 },
 "nbformat": 4,
 "nbformat_minor": 5
}

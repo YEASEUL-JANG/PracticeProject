{
 "cells": [
  {
   "cell_type": "code",
   "execution_count": 8,
   "id": "2fe6403b",
   "metadata": {},
   "outputs": [
    {
     "name": "stdout",
     "output_type": "stream",
     "text": [
      "[[13, 9, 5, 1], [14, 10, 6, 2], [15, 11, 7, 3], [16, 12, 8, 4]]\n"
     ]
    }
   ],
   "source": [
    "#62 배열 회전\n",
    "arr = [[1,2,3,4],[5,6,7,8],[9,10,11,12],[13,14,15,16]]\n",
    "n = 1\n",
    "def solution(arr,n):\n",
    "    #arr[0][0] -> arr[0][3]\n",
    "    #arr[a][b] -> arr[b][(len(arr)-1)-a]\n",
    "    l = len(arr)\n",
    "    \n",
    "    for _ in range(n):\n",
    "        new_arr = [[0]*l for _ in range(l)]\n",
    "        for i in range(l):\n",
    "            for j in range(l):\n",
    "                new_arr[j][(l-1)-i]=arr[i][j]\n",
    "        arr = new_arr\n",
    "    return arr\n",
    "\n",
    "print(solution(arr,n))\n",
    "        "
   ]
  },
  {
   "cell_type": "code",
   "execution_count": 11,
   "id": "34e920b5",
   "metadata": {},
   "outputs": [
    {
     "name": "stdout",
     "output_type": "stream",
     "text": [
      "[[30, 84, 138], [24, 69, 114], [18, 54, 90]]\n"
     ]
    }
   ],
   "source": [
    "#63 두 행렬을 곱한 후 전치행렬 만들기 \n",
    "m1 = [[1,2,3],[4,5,6],[7,8,9]]\n",
    "m2 = [[9,8,7],[6,5,4],[3,2,1]]\n",
    "\n",
    "def solution(m1,m2):\n",
    "    m = len(m1[0])\n",
    "    n = len(m2)\n",
    "    \n",
    "    result = [[0]*m for _ in range(n)]\n",
    "    for i in range(m):\n",
    "        for j in range(n):\n",
    "            for k in range(n):\n",
    "                result[i][j] += m1[i][k] * m2[k][j]\n",
    "                \n",
    "    transpose_result = [[0]*m for _ in range(n)]\n",
    "    \n",
    "    for i in range(m):\n",
    "        for j in range(n):\n",
    "            transpose_result[j][i] = result[i][j]\n",
    "    \n",
    "    return transpose_result\n",
    "\n",
    "print(solution(m1,m2))"
   ]
  },
  {
   "cell_type": "code",
   "execution_count": 9,
   "id": "43377398",
   "metadata": {},
   "outputs": [
    {
     "name": "stdout",
     "output_type": "stream",
     "text": [
      "[3, 8]\n"
     ]
    }
   ],
   "source": [
    "#65 이진 변환\n",
    "\n",
    "s = \"110010101001\"\n",
    "def getejin(s):\n",
    "    #4 -> 2 -> 1\n",
    "    result = []\n",
    "    while s!=1:\n",
    "        result.append(s%2)\n",
    "        s = s//2\n",
    "    result.append(1)\n",
    "    result.reverse()\n",
    "    return ''.join(list(map(str,result)))\n",
    "    \n",
    "\n",
    "def solution(s):\n",
    "    result = 0\n",
    "    count = 0\n",
    "    while \"1\" != s:\n",
    "        #1로만 구성된 문자열 변환 \n",
    "        result += s.count(\"0\")\n",
    "        count += 1\n",
    "        ejin = ''.join(s.split(\"0\"))\n",
    "        #이진법변환\n",
    "        s = getejin(len(ejin))\n",
    "    return [count,result]\n",
    "\n",
    "print(solution(s))\n",
    "    \n",
    "        "
   ]
  },
  {
   "cell_type": "code",
   "execution_count": 17,
   "id": "96934904",
   "metadata": {},
   "outputs": [
    {
     "name": "stdout",
     "output_type": "stream",
     "text": [
      "2\n"
     ]
    }
   ],
   "source": [
    "#66 롤케이크 먹고싶다\n",
    "from collections import Counter\n",
    "topping= [1,2,1,3,1,4,1,2]\n",
    "\n",
    "def solution(topping):\n",
    "    left = set()\n",
    "    counter = Counter(topping)\n",
    "    result = 0\n",
    "    for t in topping:\n",
    "        left.add(t)\n",
    "        if counter[t]>1:\n",
    "            counter[t]-=1\n",
    "        else:\n",
    "            del counter[t]\n",
    "            \n",
    "        \n",
    "        if len(left)==len(counter):\n",
    "            result +=1\n",
    "            \n",
    "    return result\n",
    "\n",
    "print(solution(topping))\n",
    "        "
   ]
  },
  {
   "cell_type": "code",
   "execution_count": 23,
   "id": "ae4af9b5",
   "metadata": {},
   "outputs": [
    {
     "name": "stdout",
     "output_type": "stream",
     "text": [
      "x,y: 3 4\n",
      "x,y: 4 3\n",
      "x,y: 5 2\n",
      "x,y: 6 2\n",
      "x,y: 7 1\n",
      "[4, 3]\n"
     ]
    }
   ],
   "source": [
    "#67 카펫\n",
    "b,w = 10,2\n",
    "\n",
    "def solution(b,w):\n",
    "    #x*y = b+w\n",
    "    result = []\n",
    "    for x in range(3,b-2): #3~7\n",
    "        y = (b+w)//x\n",
    "        print(\"x,y:\",x,y)\n",
    "        if (x-2)*(y-2)==w:\n",
    "            result.append([x,y])\n",
    "    return [a for a in result if a[0]>a[1]][0]\n",
    "\n",
    "print(solution(b,w))\n",
    "            \n",
    "        "
   ]
  },
  {
   "cell_type": "code",
   "execution_count": 40,
   "id": "94290fc0",
   "metadata": {},
   "outputs": [
    {
     "name": "stdout",
     "output_type": "stream",
     "text": [
      "5\n"
     ]
    }
   ],
   "source": [
    "#68 점프와 순간이동\n",
    "N = 5000\n",
    "def solution(N):\n",
    "    return bin(N).count('1')\n",
    "\n",
    "print(solution(N))\n",
    "    "
   ]
  },
  {
   "cell_type": "code",
   "execution_count": 44,
   "id": "5b31f2a4",
   "metadata": {},
   "outputs": [
    {
     "name": "stdout",
     "output_type": "stream",
     "text": [
      "[2, 1]\n"
     ]
    }
   ],
   "source": [
    "keyinput = [\"left\",\"right\",\"up\",\"right\",\"right\"]\n",
    "board = [11,11]\n",
    "\n",
    "def solution(keyinput,board):\n",
    "    direction = [\"left\",\"right\",\"up\",\"down\"]\n",
    "    campus = [[-1,0],[1,0],[0,1],[0,-1]]\n",
    "    x,y = 0,0\n",
    "    m = board[0]//2 #가로\n",
    "    n = board[1]//2 #세로\n",
    "    for k in keyinput:\n",
    "        mx,my = campus[direction.index(k)]\n",
    "        dx,dy = x+mx, y+my\n",
    "        if -m <= dx <= m and -n <= dy <= n:\n",
    "            x,y = dx,dy\n",
    "    return [x,y]\n",
    "\n",
    "print(solution(keyinput,board))"
   ]
  }
 ],
 "metadata": {
  "kernelspec": {
   "display_name": "Python 3 (ipykernel)",
   "language": "python",
   "name": "python3"
  },
  "language_info": {
   "codemirror_mode": {
    "name": "ipython",
    "version": 3
   },
   "file_extension": ".py",
   "mimetype": "text/x-python",
   "name": "python",
   "nbconvert_exporter": "python",
   "pygments_lexer": "ipython3",
   "version": "3.11.5"
  }
 },
 "nbformat": 4,
 "nbformat_minor": 5
}

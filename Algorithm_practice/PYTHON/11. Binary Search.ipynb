{
 "cells": [
  {
   "cell_type": "code",
   "execution_count": null,
   "id": "fde75331-4cf6-43f7-8e7b-92f093e6e763",
   "metadata": {},
   "outputs": [],
   "source": [
    "#1개의 수열과 찾아야 할 숫자들이 주어지면 첫번째 수열에 찾아야 할 숫자들이 포함되어 있는지를 출력\n",
    "\n",
    "#N = int(input())\n",
    "N = 5\n",
    "#arr1 = sorted(list(map(int,input().split())))\n",
    "arr1 = [-10,2,3,6,10]\n",
    "#M = int(input())\n",
    "M = 8\n",
    "#arr2 = list(map(int,input().split()))\n",
    "arr2 = [-10,-5,2,3,4,5,9,10]\n",
    "\n",
    "result = []\n",
    "for number in arr2:\n",
    "    s = 0\n",
    "    e = N-1\n",
    "    flag = False\n",
    "\n",
    "    while s<=e: # 교차되지 않았다면\n",
    "        mid = (s+e)//2\n",
    "\n",
    "        #업?다운?정답?\n",
    "        if arr1[mid] == number:\n",
    "            flag = True\n",
    "            break\n",
    "        elif arr1[mid] > number:\n",
    "            e = mid-1\n",
    "        elif arr1[mid] < number:\n",
    "            s = mid+1\n",
    "\n",
    "    if flag:\n",
    "        result.append(1)\n",
    "    else:\n",
    "        result.append(0)\n",
    "\n",
    "print(result)"
   ]
  },
  {
   "cell_type": "code",
   "execution_count": null,
   "id": "d268cc95-96f6-4197-a77b-67c77186ead6",
   "metadata": {},
   "outputs": [],
   "source": [
    "#나무수 : 4 \n",
    "#채취해야 할 나무 길이 : 7\n",
    "#20 15 10 17\n",
    "# 내가 필요한 만큼만 나무를 얻기 위한 컷팅기계 높이\n",
    "\n",
    "N = 7\n",
    "forest = [10,15,17,20]\n",
    "\n",
    "a = 1\n",
    "e = max(forest)\n",
    "\n",
    "while a <= e:\n",
    "    mid = (a+e)//2 #자르는 기준점을 mid값으로 정함.\n",
    "\n",
    "    wood = 0\n",
    "    for tree in forest:\n",
    "        if tree >= mid:\n",
    "            wood += tree - mid #자르고 남은 목재 더함\n",
    "\n",
    "    if wood >= N: # 기준점을 넘겼다면\n",
    "        a = mid+1\n",
    "    else:\n",
    "        e = mid-1\n",
    "\n",
    "#전부 다 돌고 투포인터가 교차되었을 때\n",
    "print(e)"
   ]
  }
 ],
 "metadata": {
  "kernelspec": {
   "display_name": "Python 3 (ipykernel)",
   "language": "python",
   "name": "python3"
  },
  "language_info": {
   "codemirror_mode": {
    "name": "ipython",
    "version": 3
   },
   "file_extension": ".py",
   "mimetype": "text/x-python",
   "name": "python",
   "nbconvert_exporter": "python",
   "pygments_lexer": "ipython3",
   "version": "3.11.5"
  }
 },
 "nbformat": 4,
 "nbformat_minor": 5
}

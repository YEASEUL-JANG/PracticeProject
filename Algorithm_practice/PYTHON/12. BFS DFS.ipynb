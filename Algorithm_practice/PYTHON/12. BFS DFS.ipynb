{
 "cells": [
  {
   "cell_type": "code",
   "execution_count": 9,
   "id": "58a076cb-3d4a-44e2-8046-7b800a591a75",
   "metadata": {
    "tags": []
   },
   "outputs": [
    {
     "name": "stdout",
     "output_type": "stream",
     "text": [
      "4\n"
     ]
    }
   ],
   "source": [
    "#1번 노드와 연결되어 있는 노드들의 수\n",
    "\n",
    "# N = int(input())\n",
    "# M = int(input())\n",
    "N = 7 #노드의 총 갯수\n",
    "M = 6 #연결된 관계의 수\n",
    "\n",
    "graph = [[] for _ in range(N+1)] # 0~N까지 빈 []\n",
    "#arr_list = []\n",
    "# for _ in range(M):\n",
    "#     arr = list(map(int,input().split()))\n",
    "#     arr_list.append(arr)\n",
    "arr_list = [[1, 2], [2, 3], [1, 5], [5, 2], [5, 6], [4, 7]]\n",
    "visited = [0 for _ in range(N+1)]\n",
    "\n",
    "for arr in arr_list:\n",
    "    graph[arr[0]].append(arr[1])\n",
    "    graph[arr[1]].append(arr[0])\n",
    "    \n",
    "#graph 를 돌면서 연결된 노드들을 재귀적으로 방문한다.\n",
    "#단, 역주행이 생긴다 (1-> 2, 2 <- 1)\n",
    "# 이를 방지하기 위해 visited 를 사용함.\n",
    "def recur(node):\n",
    "    #방문한 노드는 1로 바꿔준다.\n",
    "    visited[node] = 1\n",
    "    for n in graph[node]:\n",
    "        #방문한곳은 가지않는다. (continue)\n",
    "        if visited[n] == 1:\n",
    "            continue\n",
    "        recur(n)\n",
    "        \n",
    "        \n",
    "recur(1)\n",
    "\n",
    "#1번 노드와 연결된 노드의 수\n",
    "print(sum(visited)-1)"
   ]
  },
  {
   "cell_type": "code",
   "execution_count": 10,
   "id": "1b048f57-4814-409f-a537-a2730aeb4b1c",
   "metadata": {
    "tags": []
   },
   "outputs": [
    {
     "ename": "IndexError",
     "evalue": "list index out of range",
     "output_type": "error",
     "traceback": [
      "\u001b[0;31m---------------------------------------------------------------------------\u001b[0m",
      "\u001b[0;31mIndexError\u001b[0m                                Traceback (most recent call last)",
      "Cell \u001b[0;32mIn[10], line 9\u001b[0m\n\u001b[1;32m      7\u001b[0m \u001b[38;5;28;01mfor\u001b[39;00m y \u001b[38;5;129;01min\u001b[39;00m \u001b[38;5;28mrange\u001b[39m(Y):\n\u001b[1;32m      8\u001b[0m     \u001b[38;5;28;01mfor\u001b[39;00m x \u001b[38;5;129;01min\u001b[39;00m \u001b[38;5;28mrange\u001b[39m(X):\n\u001b[0;32m----> 9\u001b[0m         \u001b[38;5;28;01mif\u001b[39;00m graph[y][x] \u001b[38;5;241m==\u001b[39m \u001b[38;5;124m'\u001b[39m\u001b[38;5;124mL\u001b[39m\u001b[38;5;124m'\u001b[39m:\n\u001b[1;32m     10\u001b[0m             \u001b[38;5;66;03m#visited 와 거리(dist) 초기화\u001b[39;00m\n\u001b[1;32m     11\u001b[0m             visited \u001b[38;5;241m=\u001b[39m [[\u001b[38;5;241m0\u001b[39m \u001b[38;5;28;01mfor\u001b[39;00m _ \u001b[38;5;129;01min\u001b[39;00m \u001b[38;5;28mrange\u001b[39m(X)] \u001b[38;5;28;01mfor\u001b[39;00m _ \u001b[38;5;129;01min\u001b[39;00m \u001b[38;5;28mrange\u001b[39m(Y)]\n\u001b[1;32m     12\u001b[0m             dist \u001b[38;5;241m=\u001b[39m [[\u001b[38;5;241m0\u001b[39m \u001b[38;5;28;01mfor\u001b[39;00m _ \u001b[38;5;129;01min\u001b[39;00m \u001b[38;5;28mrange\u001b[39m(X)] \u001b[38;5;28;01mfor\u001b[39;00m _ \u001b[38;5;129;01min\u001b[39;00m \u001b[38;5;28mrange\u001b[39m(Y)]\n",
      "\u001b[0;31mIndexError\u001b[0m: list index out of range"
     ]
    }
   ],
   "source": [
    "from collections import deque\n",
    "\n",
    "Y,X = (5,7)\n",
    "\n",
    "maxi = 0\n",
    "\n",
    "for y in range(Y):\n",
    "    for x in range(X):\n",
    "        if graph[y][x] == 'L':\n",
    "            #visited 와 거리(dist) 초기화\n",
    "            visited = [[0 for _ in range(X)] for _ in range(Y)]\n",
    "            dist = [[0 for _ in range(X)] for _ in range(Y)]\n",
    "            \n",
    "            #BFS\n",
    "            q = deque()\n",
    "            q.append([y,x]) #시작점을 넣어줌\n",
    "            visited[y][x] = 1\n",
    "            \n",
    "            while q: # q안에 아무것도 없을 때까지 실행됨.\n",
    "                ey,ex = q.popleft()\n",
    "                \n",
    "                #4방향 탐색\n",
    "                for dy,dx in [[0,1],[1,0],[-1,0],[0,-1]]:\n",
    "                    ny,nx = ey+dy, ex+dx\n",
    "                    #조건1. 그래프 안에 있는지\n",
    "                    if 0 <= ny <Y and 0 <= nx < X:\n",
    "                        #조건2. 랜드인지\n",
    "                        if graph[ny][nx] == 'L':\n",
    "                            #조건3. 방문한적이 없는지\n",
    "                            if visited[ny][nx] == 0: #방문한적이 없는지\n",
    "                                visited[ny][nx] == 1\n",
    "                                # 거리는 현재 내가 있는 곳 +1\n",
    "                                dist[ny][nx] = dist[ey][ex] + 1\n",
    "                                maxi = max(maxi,dist[ny][nx])\n",
    "                                q.append((ny,nx))\n",
    "            \n",
    "            print(maxi)\n",
    "                                \n",
    "                                \n",
    "                                "
   ]
  }
 ],
 "metadata": {
  "kernelspec": {
   "display_name": "Python 3 (ipykernel)",
   "language": "python",
   "name": "python3"
  },
  "language_info": {
   "codemirror_mode": {
    "name": "ipython",
    "version": 3
   },
   "file_extension": ".py",
   "mimetype": "text/x-python",
   "name": "python",
   "nbconvert_exporter": "python",
   "pygments_lexer": "ipython3",
   "version": "3.11.5"
  }
 },
 "nbformat": 4,
 "nbformat_minor": 5
}

{
 "cells": [
  {
   "cell_type": "code",
   "execution_count": 6,
   "id": "58a076cb-3d4a-44e2-8046-7b800a591a75",
   "metadata": {
    "tags": []
   },
   "outputs": [
    {
     "name": "stdout",
     "output_type": "stream",
     "text": [
      "[[], [2, 5], [1, 3, 5], [2], [7], [1, 2, 6], [5], [4]]\n"
     ]
    }
   ],
   "source": [
    "#1번 노드와 연결되어 있는 노드들의 수\n",
    "\n",
    "# N = int(input())\n",
    "# M = int(input())\n",
    "N = 7 #노드의 총 갯수\n",
    "M = 6 #연결된 관계의 수\n",
    "\n",
    "graph = [[] for _ in range(N+1)] # 0~N까지 빈 []\n",
    "#arr_list = []\n",
    "# for _ in range(M):\n",
    "#     arr = list(map(int,input().split()))\n",
    "#     arr_list.append(arr)\n",
    "arr_list = [[1, 2], [2, 3], [1, 5], [5, 2], [5, 6], [4, 7]]\n",
    "\n",
    "for arr in arr_list:\n",
    "    graph[arr[0]].append(arr[1])\n",
    "    graph[arr[1]].append(arr[0])\n",
    "    \n",
    "print(graph)"
   ]
  },
  {
   "cell_type": "code",
   "execution_count": 3,
   "id": "9af308b7-1f97-4835-b084-783716bcbbff",
   "metadata": {
    "tags": []
   },
   "outputs": [
    {
     "name": "stdout",
     "output_type": "stream",
     "text": [
      "0\n",
      "1\n",
      "2\n",
      "3\n"
     ]
    }
   ],
   "source": [
    "for i in range(4):\n",
    "    print(i)"
   ]
  }
 ],
 "metadata": {
  "kernelspec": {
   "display_name": "Python 3 (ipykernel)",
   "language": "python",
   "name": "python3"
  },
  "language_info": {
   "codemirror_mode": {
    "name": "ipython",
    "version": 3
   },
   "file_extension": ".py",
   "mimetype": "text/x-python",
   "name": "python",
   "nbconvert_exporter": "python",
   "pygments_lexer": "ipython3",
   "version": "3.11.5"
  }
 },
 "nbformat": 4,
 "nbformat_minor": 5
}

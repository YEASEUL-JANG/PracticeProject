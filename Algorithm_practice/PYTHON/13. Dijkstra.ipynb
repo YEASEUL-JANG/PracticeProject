{
 "cells": [
  {
   "cell_type": "code",
   "execution_count": 2,
   "id": "524004b3-b161-4f34-a404-46f890b0d338",
   "metadata": {
    "tags": []
   },
   "outputs": [
    {
     "name": "stdout",
     "output_type": "stream",
     "text": [
      "[1000000000.0, 0, 2, 3, 7, 1000000000.0]\n"
     ]
    }
   ],
   "source": [
    "from collections import deque\n",
    "import heapq\n",
    "\n",
    "# N : 노드의 수 , M: 링크의 수\n",
    "N,M = (5,6)\n",
    "# 출발한 노드의 번호\n",
    "start = 1\n",
    "# A, B로 가는 링크의 가중치 c\n",
    "linkdata = [[5,1,1],[1,2,2],[1,3,3],[2,3,4],[2,4,5],[3,4,6]]\n",
    "\n",
    "links = [[] for _ in range(N+1)]\n",
    "#가장 큰 수를 넣어두어서 점점 작은수로 업데이트한다.\n",
    "dist = [1e9 for _ in range(N+1)]\n",
    "\n",
    "for l in linkdata:\n",
    "    A,B,C = map(int,l)\n",
    "    #A와 연결된 B노드와 그의 가중치 C를 넣는다.\n",
    "    links[A].append([B,C])\n",
    "\n",
    "q = []\n",
    "#q.append([거리,인덱스])\n",
    "heapq.heappush(q,[0,start])\n",
    "dist[start] = 0\n",
    "\n",
    "#거리들 중 가장 짧은거리 계산\n",
    "# def shortest_finder():\n",
    "#     mini = 1e9\n",
    "#     idx = 0\n",
    "#     for i in range(1,N+1):\n",
    "#         if dist[i] <= mini:\n",
    "#             idx = i\n",
    "#             mini = dist[i]\n",
    "#     return idx\n",
    "        \n",
    "\n",
    "\n",
    "while q: #q라는 배열이 없어질때까지 반복문을 돈다.\n",
    "    \n",
    "    #우선순위 큐를 이용해서 거리를보고 정렬할거다.\n",
    "    #힙한 상태(부모보다 작은 자식이 존재하지 않음)로 정렬됨.\n",
    "    _w,node = heapq.heappop(q)\n",
    "    \n",
    "    for nxt, weight in links[node]:\n",
    "        #1. 각각의 노드에 값 업데이트\n",
    "        #2. 만약에 여러경로가 있다면 min 비교\n",
    "        #3. 시작점으로부터 거리를 봐서, 짧은 순서대로 탐색\n",
    "        if dist[node] + weight < dist[nxt]:\n",
    "            dist[nxt] = dist[node] + weight\n",
    "            heapq.heappush(q,[dist[nxt],nxt])\n",
    "\n",
    "\n",
    "    \n",
    "\n",
    "print(dist)\n"
   ]
  }
 ],
 "metadata": {
  "kernelspec": {
   "display_name": "Python 3 (ipykernel)",
   "language": "python",
   "name": "python3"
  },
  "language_info": {
   "codemirror_mode": {
    "name": "ipython",
    "version": 3
   },
   "file_extension": ".py",
   "mimetype": "text/x-python",
   "name": "python",
   "nbconvert_exporter": "python",
   "pygments_lexer": "ipython3",
   "version": "3.11.5"
  }
 },
 "nbformat": 4,
 "nbformat_minor": 5
}

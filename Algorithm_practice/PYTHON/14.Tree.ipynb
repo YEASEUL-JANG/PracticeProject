{
 "cells": [
  {
   "cell_type": "code",
   "execution_count": null,
   "id": "7d522719-86fa-4064-ad91-68294056c42a",
   "metadata": {},
   "outputs": [],
   "source": [
    "N = 7\n",
    "#아스키 코드의 범위 \n",
    "graph = [[] for _ in range(127)]\n",
    "graphdata = ['A B C','B D .','C E F','E . .','F . G','D . .','G . .']\n",
    "for data in graphdata:\n",
    "    a,b,c = map(str,data.split())\n",
    "    # 아스키코드로 변환\n",
    "    a = ord(a)\n",
    "    b = ord(b)\n",
    "    c = ord(c)\n",
    "\n",
    "    #그래프에 넣기 (A 노드에 포함된 B, C노드)\n",
    "    graph[a].append(b)\n",
    "    graph[a].append(c)\n",
    "#print(graph) => . 은 숫자 46으로 들어감. \n",
    "\n",
    "def recur(node):\n",
    "    if node == 46:\n",
    "        return\n",
    "    #전위순회    \n",
    "    #print(chr(node), end = \"\")\n",
    "    recur(graph[node][0])\n",
    "    #중위순회\n",
    "    #print(chr(node), end = \"\")\n",
    "    recur(graph[node][1])\n",
    "    #후위순회\n",
    "    print(chr(node), end = \"\")\n",
    "    \n",
    "#시작점 : A(65)\n",
    "recur(65)"
   ]
  },
  {
   "cell_type": "code",
   "execution_count": null,
   "id": "0a5d3f20-f0c8-4c9c-8d06-9c41676ea7dd",
   "metadata": {},
   "outputs": [],
   "source": [
    "N = 7\n",
    "graph = [[] for _ in range(N+1)]\n",
    "graphdata = ['1 6','6 3','3 5','4 1','2 4','4 7']\n",
    "parent = [0 for _ in range(N+1)]\n",
    "for data in graphdata:\n",
    "    a,b = map(int,data.split())\n",
    "\n",
    "    #그래프에 넣기 (A 노드에 포함된 B, C노드)\n",
    "    #양방향적으로 넣기 (a와 b중 어느게 위쪽인지 모르니까)\n",
    "    graph[a].append(b)\n",
    "    graph[b].append(a)\n",
    "#print(graph) \n",
    "\n",
    "def recur(node,prv):\n",
    "    parent[node] = prv \n",
    "    for nxt in graph[node]:\n",
    "        #역주행 방지용\n",
    "        if nxt == prv:\n",
    "            continue\n",
    "        recur(nxt,node)\n",
    "\n",
    "\n",
    "recur(1,0)\n",
    "\n",
    "print(parent)\n",
    "\n",
    "\n"
   ]
  }
 ],
 "metadata": {
  "kernelspec": {
   "display_name": "Python 3 (ipykernel)",
   "language": "python",
   "name": "python3"
  },
  "language_info": {
   "codemirror_mode": {
    "name": "ipython",
    "version": 3
   },
   "file_extension": ".py",
   "mimetype": "text/x-python",
   "name": "python",
   "nbconvert_exporter": "python",
   "pygments_lexer": "ipython3",
   "version": "3.11.5"
  }
 },
 "nbformat": 4,
 "nbformat_minor": 5
}

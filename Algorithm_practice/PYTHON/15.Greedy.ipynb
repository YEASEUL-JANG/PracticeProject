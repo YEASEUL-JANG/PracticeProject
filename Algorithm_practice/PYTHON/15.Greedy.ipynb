{
 "cells": [
  {
   "cell_type": "code",
   "execution_count": null,
   "id": "f3ff8780-0b8f-47c1-a663-84f4c1049a5e",
   "metadata": {},
   "outputs": [],
   "source": [
    "## 1. 거스름돈\n",
    "\n",
    "카운터에 거스름돈으로 사용할 500원, 100원, 50원, 10원 동전이 무한히 존재할 때 \n",
    "손님에게 거슬러 줄 돈이 n원이라면 거슬러줘야 할 동전의 최소 갯수를 구해라. \n",
    "거슬러 줘야 할 돈은 항상 10의 배수이다."
   ]
  },
  {
   "cell_type": "code",
   "execution_count": 1,
   "id": "eda1c090-0f67-493b-9a44-cb844f40666f",
   "metadata": {
    "tags": []
   },
   "outputs": [
    {
     "name": "stdout",
     "output_type": "stream",
     "text": [
      "6\n"
     ]
    }
   ],
   "source": [
    "alist = [500,100,50,10]\n",
    "cost = 1260\n",
    "answer = 0\n",
    "\n",
    "for a in alist:\n",
    "    answer += cost //a\n",
    "    cost = cost % a\n",
    "    \n",
    "print(answer)"
   ]
  },
  {
   "cell_type": "code",
   "execution_count": null,
   "id": "ea31ae6c-5362-4e8d-a2a3-79a942045fa5",
   "metadata": {},
   "outputs": [],
   "source": [
    "## 2. 큰 수의 법칙\n",
    "\n",
    "배열이 주어질 때 주어진 수들을 M번 더하여 가장 큰 수를 만드는 법칙이다. \n",
    "\n",
    "단, 배열의 특정 인덱스에 해당하는 수가 연속해서 K번을 초과하여 더해질 수 없다. \n",
    "\n",
    "예를 들어 2,4,5,4,6 으로 이루어진 배열에 m이 8, k가 3 이라면\n",
    "\n",
    "6+6+6+5+6+6+6+5 = 46 이 정답이다. \n",
    "\n",
    "서로 다른 인덱스의 수가 같은 경우에도 서로 다른것으로 간주한다. \n",
    "\n",
    "예를들어 3,4,3,4,3 으로 이루어진 배열에서 m이 7 이고 k가 2 라면, \n",
    "\n",
    "4+4+4+4+4+4+4  로 두번째의 4와 네번째 4 를 연속으로 쓸 수 있다. \n",
    "\n",
    "숫자가 더해지는 횟수 m, k가 주어질 때 큰수의 법칙에 따른 결과를 출력하라\n",
    "\n",
    "입력예시\n",
    "\n",
    "8 3\n",
    "\n",
    "2 4 5 4 6\n",
    "\n",
    "정답\n",
    "\n",
    "46"
   ]
  },
  {
   "cell_type": "code",
   "execution_count": 3,
   "id": "c05f8ee0-6ff1-47c2-9f8a-055ba88e5ac3",
   "metadata": {
    "tags": []
   },
   "outputs": [
    {
     "name": "stdin",
     "output_type": "stream",
     "text": [
      " 8 3\n",
      " 2 4 5 4 6\n"
     ]
    },
    {
     "name": "stdout",
     "output_type": "stream",
     "text": [
      "add first answer =  6\n",
      "add first answer =  12\n",
      "add first answer =  18\n",
      "add second answer =  23\n",
      "add first answer =  29\n",
      "add first answer =  35\n",
      "add first answer =  41\n",
      "add second answer =  46\n",
      "46\n"
     ]
    }
   ],
   "source": [
    "M,K = map(int,input().split())\n",
    "arr_list = list(map(int,input().split()))\n",
    "\n",
    "##리스트 정렬\n",
    "arr_list.sort(reverse=True)\n",
    "##6,5,4,4,2\n",
    "##필요한수는 가장 큰수와 그 다음으로 큰 수 6,5\n",
    "first_max = arr_list[0]\n",
    "second_max = arr_list[1]\n",
    "\n",
    "k_count = 0\n",
    "answer = 0\n",
    "for i in range(M):\n",
    "    \n",
    "    k_count += 1\n",
    "    \n",
    "    if(k_count == K+1):\n",
    "        k_count = 0\n",
    "        answer += second_max\n",
    "        print(\"add second answer = \",answer)\n",
    "    else:\n",
    "        answer += first_max\n",
    "        print(\"add first answer = \",answer)\n",
    "\n",
    "print(answer)"
   ]
  },
  {
   "cell_type": "code",
   "execution_count": null,
   "id": "ccb5a048-6bcb-45ba-8fe2-a3c710e41210",
   "metadata": {},
   "outputs": [],
   "source": [
    "## 3. 숫자 카드 게임\n",
    "\n",
    "여러개의 숫자카드 중에서 가장 높은 숫자가 쓰인 카드 한장을 뽑는 게임이다. \n",
    "\n",
    "숫자가 쓰인 카드들이 N x M 형태로 놓여있고 이때 N은 행의 갯수, M은 열의 개수이다. \n",
    "\n",
    "먼저 뽑고자하는 카드가 포함되어 있는 행을 선택하고 그 행의 카드들 중 가장 숫자가 낮은 카드를 뽑아야 한다. \n",
    "\n",
    "따라서 처음 카드를 골라낼 행을 선택할 때, 해당 행에서 가장 낮은 숫자의 카드를 뽑아서 해당 수가 가장 큰 경우의 수를 뽑는것이다. \n",
    "\n",
    "카드들이 N x M 형태로 놓여있을 때 룰에 맞게 카드를 뽑는 프로그램을 만드시오\n",
    "\n",
    "입력예시\n",
    "\n",
    "3 3\n",
    "\n",
    "3 1 2\n",
    "\n",
    "4 1 4\n",
    "\n",
    "2 2 2\n",
    "\n",
    "출력\n",
    "\n",
    "2"
   ]
  },
  {
   "cell_type": "code",
   "execution_count": 4,
   "id": "3bb6d8f7-7ecb-4282-b736-8fc1195f134a",
   "metadata": {
    "tags": []
   },
   "outputs": [
    {
     "name": "stdin",
     "output_type": "stream",
     "text": [
      " 3 3\n",
      " 3 1 2\n",
      " 4 1 4\n",
      " 2 2 2\n"
     ]
    },
    {
     "name": "stdout",
     "output_type": "stream",
     "text": [
      "2\n"
     ]
    }
   ],
   "source": [
    "N,M = map(int,input().split())\n",
    "\n",
    "##list를 받으면서 그 안의 배열을 정렬하여 가장 맨앞에 작은수가 오게하자\n",
    "##작은수를 특정 배열에 모아놓고 마지막에 해당 배열에서 가장 큰수를 출력한다. \n",
    "\n",
    "small_list = []\n",
    "for _ in range(N):\n",
    "    in_list = list(map(int,input().split()))\n",
    "    ##가장 작은수 저장\n",
    "    small_list.append(min(in_list))\n",
    "##가장 작은수의 배열 중 가장 큰 수 출력    \n",
    "print(max(small_list))"
   ]
  },
  {
   "cell_type": "code",
   "execution_count": null,
   "id": "2e6ae3b4-e385-4982-bd86-fcc088d61411",
   "metadata": {},
   "outputs": [],
   "source": [
    "## 4. 1이 될 때까지\n",
    "\n",
    "어떤 수 N이 1이 될 때까지 다음 두 과정 중 하나를 반복적으로 선택하여 수행해야한다. \n",
    "\n",
    "단 두번째 연산은 N이 K로 나누어 떨어질 때만 선택할 수 있다. \n",
    "\n",
    "1) N에서 1을 뺀다.\n",
    "\n",
    "2) N을 K로 나눈다.\n",
    "\n",
    "N과 K가 주어질 때 N이 1이 될때까지 수행해야하는 선택의 최소 횟수를 구하자. \n",
    "\n",
    "입력 예시\n",
    "\n",
    "25 5\n",
    "\n",
    "출력\n",
    "\n",
    "2"
   ]
  },
  {
   "cell_type": "code",
   "execution_count": 7,
   "id": "7ecc52dd-eadb-4207-b790-6e4e280bff7d",
   "metadata": {
    "tags": []
   },
   "outputs": [
    {
     "name": "stdin",
     "output_type": "stream",
     "text": [
      " 25 5\n"
     ]
    },
    {
     "name": "stdout",
     "output_type": "stream",
     "text": [
      "N =  5\n",
      "N =  1\n",
      "2\n"
     ]
    }
   ],
   "source": [
    "N,K = map(int,input().split())\n",
    "\n",
    "##K로 나누어 떨어지면 (=나머지가 0) 나누기 -> 실행횟수 +1 \n",
    "##K로 나누어 떨어지지 않으면 -1 -> 실행횟수 +1\n",
    "## N이 1 이 될때까지 \n",
    "\n",
    "try_count = 0\n",
    "while N != 1:\n",
    "    if(N%K==0):\n",
    "        N = N // K\n",
    "    else:\n",
    "        N = N -1\n",
    "    try_count += 1\n",
    "    print(\"N = \",N)\n",
    "\n",
    "print(try_count)"
   ]
  },
  {
   "cell_type": "code",
   "execution_count": null,
   "id": "91ab5273-e6b2-471b-8a16-29e60b0db27b",
   "metadata": {},
   "outputs": [],
   "source": []
  }
 ],
 "metadata": {
  "kernelspec": {
   "display_name": "Python 3 (ipykernel)",
   "language": "python",
   "name": "python3"
  },
  "language_info": {
   "codemirror_mode": {
    "name": "ipython",
    "version": 3
   },
   "file_extension": ".py",
   "mimetype": "text/x-python",
   "name": "python",
   "nbconvert_exporter": "python",
   "pygments_lexer": "ipython3",
   "version": "3.11.5"
  }
 },
 "nbformat": 4,
 "nbformat_minor": 5
}

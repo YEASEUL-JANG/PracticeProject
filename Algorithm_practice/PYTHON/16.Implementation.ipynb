{
 "cells": [
  {
   "cell_type": "code",
   "execution_count": null,
   "id": "efd4f5be-0fe0-4bab-9274-ddc189010f1e",
   "metadata": {},
   "outputs": [],
   "source": [
    "## 1. 상하좌우\n",
    "\n",
    "N x N 크기의 정사각형 공간에서 가장 왼쪽 위 좌표는 (1,1) 이고 가장 오른쪽 아래 좌표는 (N,N) 에 해당된다. \n",
    "\n",
    "시작좌표는 항상 (1,1) 이고 아래와 같은 이동 규칙이 있다. \n",
    "\n",
    "- L : 왼쪽으로 한칸 이동\n",
    "- R : 오른쪽으로 한 칸 이동\n",
    "- U : 위로 한 칸 이동\n",
    "- D : 아래로 한 칸 이동\n",
    "\n",
    "계획서가 R - R - R - U - D - D 라면 오른쪽으로 세번 이동하고 위로 이동시에 공간에서 벗어나므로 해당 움직임은 무시된다.  그리고 아래로 두번 이동되어 최종 좌표는 (3,4) 이다. 이를 구하는 프로그램을 작성하시오\n",
    "\n",
    "입력예시\n",
    "\n",
    "5\n",
    "\n",
    "R R R U D D\n",
    "\n",
    "출력\n",
    "\n",
    "3 4"
   ]
  },
  {
   "cell_type": "code",
   "execution_count": null,
   "id": "6388f323-f5cb-4b4e-bfe2-f1f785591ebb",
   "metadata": {},
   "outputs": [],
   "source": [
    "def moveExEy(ex,ey,a):\n",
    "    if(a == 'L'):\n",
    "        ey -= 1\n",
    "    elif(a == 'R'):\n",
    "        ey += 1\n",
    "    elif(a == 'U'):\n",
    "        ex -= 1 \n",
    "    elif(a == 'D'):\n",
    "        ex += 1\n",
    "    return ex,ey\n",
    "\n",
    "\n",
    "N = 5\n",
    "arr_list = list(map(str,input().split()))\n",
    "ex, ey = (1,1)\n",
    "\n",
    "for a in arr_list:\n",
    "    ##이동된 좌표 확인\n",
    "    tx,ty = moveExEy(ex,ey,a)\n",
    "    \n",
    "    ##이동한 좌표가 범위를 벗어나지 않으면 실제이동\n",
    "    if 0<tx<N and 0<ty<N:\n",
    "        ex, ey = tx, ty\n",
    "    else:\n",
    "        continue\n",
    "\n",
    "print(\"ex,ey:\",ex,ey)    "
   ]
  },
  {
   "cell_type": "code",
   "execution_count": null,
   "id": "138d6119-7ca3-4f2e-a723-10ff553afe45",
   "metadata": {},
   "outputs": [],
   "source": [
    "## 2. 시각\n",
    "\n",
    "정수 N이 입력되면 0시 0분 0초 부터 N시 59분 59초까지의 모든 시각 중에서 3이 하나라도 포함되는 모든 경우의 수를 구하는 프로그램을 작성하시오. 예를들어 1을 입력하면 다음은 3이 하나라도 포함되어 있으므로 세어야하는 시각이다. \n",
    "\n",
    "- 0시 0분 3초\n",
    "- 0시 13분 30초"
   ]
  },
  {
   "cell_type": "code",
   "execution_count": null,
   "id": "65f6f019-5298-4c3d-9a44-6651224a7d06",
   "metadata": {},
   "outputs": [],
   "source": [
    "N = int(input())\n",
    "count = 0\n",
    "for a in range(N+1): ## 시\n",
    "    for b in range(60): ##분\n",
    "        for c in range(60): ##초\n",
    "            str_N = str(N)\n",
    "            if '3' in str(a) or '3' in str(b) or '3' in str(c):\n",
    "                count += 1\n",
    "\n",
    "print(count)\n",
    "    "
   ]
  },
  {
   "cell_type": "code",
   "execution_count": null,
   "id": "f2cca314-ad84-4661-b6ae-8fedf215551d",
   "metadata": {},
   "outputs": [],
   "source": [
    "## 3. 왕실의 나이트\n",
    "\n",
    "왕실의 정원은 체스판같은 8 x 8 좌표평면이다. 행의 위치를 표현할 땐 1 부터 8 까지이고 열의 위치는 a 부터 h 까지 이다. 나이트는 말을 타고 있기 때문에 이동을 할때는 L자 형태로만 이동가능하다. \n",
    "\n",
    "- 수평으로 두칸 이동하면 수직으로 한칸 이동 가능\n",
    "- 수직으로 두칸 이동하면 수평으로 한칸 이동 가능\n",
    "\n",
    "나이트가 위치한 곳의 좌표가 입력되면 해당 좌표에서 이동가능한 경우의 수를 구하시오 \n",
    "\n",
    "입력예시\n",
    "\n",
    "a1\n",
    "\n",
    "출력\n",
    "\n",
    "2"
   ]
  },
  {
   "cell_type": "code",
   "execution_count": 8,
   "id": "e8b27893-f235-4180-9a65-4ef7f99b444c",
   "metadata": {
    "tags": []
   },
   "outputs": [
    {
     "name": "stdin",
     "output_type": "stream",
     "text": [
      " c2\n"
     ]
    },
    {
     "name": "stdout",
     "output_type": "stream",
     "text": [
      "5 1\n",
      "5 3\n",
      "1 1\n",
      "1 3\n",
      "2 4\n",
      "4 4\n",
      "6\n"
     ]
    }
   ],
   "source": [
    "now = str(input())\n",
    "# dic1 = {'a':1,'b':2,'c':3,'d':4,\n",
    "#        'e':5,'f':6,'g':7,'h':8}\n",
    "\n",
    "##현재위치를 좌표화한다.\n",
    "ex = ord(now[0]) - ord('a') +1\n",
    "ey = int(now[1])\n",
    "\n",
    "##이동하는 경우의 수\n",
    "move = [[2,-1],[2,1],[-2,-1],[-2,1],\n",
    "        [-1,2],[1,2],[-1,-2],[1,-2]]\n",
    "\n",
    "count = 0\n",
    "for m in move:\n",
    "    if 0<ex+m[0]<=8 and 0<ey+m[1]<=8:\n",
    "        print(ex+m[0],ey+m[1])\n",
    "        count+=1\n",
    "        \n",
    "print(count)"
   ]
  },
  {
   "cell_type": "code",
   "execution_count": null,
   "id": "1089294d-6955-486d-9f3b-b0234929624e",
   "metadata": {},
   "outputs": [],
   "source": [
    "## 4. 게임 개발\n",
    "\n",
    "현민이는 맵안에서 움직이는 게임을 개발중이다. 캐릭터가 있는 장소는 1 x1 크기의 정사각형으로 이루어진 N x M 크기의 직사각형으로 각각의 칸은 육지 또는 바다이다. 맵의 각 칸은 (A,B) 로 나타낼 수 있고 A는 북쪽으로붙 떨어진 칸의 개수, B는 서쪽으로부터 떨어진 칸의 개수이다. 캐릭터는 상하좌우로 움질일 수 있고 바다에는 갈 수 없다.  캐릭터는 매뉴얼대로 움직이게 되는데 이는 아래와 같다. \n",
    "\n",
    "- 현재위치에서 현재 방향을 기준으로 왼쪽방향부터 차례대로 갈 곳을 정한다.\n",
    "- 캐릭터의 왼쪽방향에 아직 가보지 않은 칸이 존재한다면, 왼쪽방향으로 회전한 다음 왼쪽으로 한 칸 전진한다. 왼쪽 방향을 다 가봤다면 왼쪽방향으로 회전만 수행하고 1 단계로 돌어간다.\n",
    "- 만약 네 방향 모두 이미 가본 칸이거나 바다로 되어있으면 바라보는 방향을 유지한채 한칸 뒤로가고 1단계로 돌아간다. 단 이때 뒤쪽방향이 바다인 칸이라 뒤로 갈 수 없으면 움직임을 멈춘다.\n",
    "\n",
    "위의 매뉴얼대로 수행한 뒤에 캐릭터가 방문한 칸의 수를 출력하는 프로그램을 만드시오.\n",
    "\n",
    "*방향\n",
    "\n",
    "- 0: 북쪽\n",
    "- 1: 동쪽\n",
    "- 2: 남쪽\n",
    "- 3: 서쪽\n",
    "\n",
    "*육지/바다\n",
    "\n",
    "- 0: 육지\n",
    "- 1: 바다\n",
    "\n",
    "입력조건\n",
    "\n",
    "4 4  # 4x4인 맵 생성\n",
    "\n",
    "1 1 0 # (1,1) 에 북쪽을 바라보고 서있는 캐릭터\n",
    "\n",
    "1 1 1 1\n",
    "\n",
    "1 0 0 1\n",
    "\n",
    "1 1 0 1\n",
    "\n",
    "1 1 1 1"
   ]
  },
  {
   "cell_type": "code",
   "execution_count": 18,
   "id": "85c11525-5bba-4339-b37f-ad3e5e01bfb3",
   "metadata": {
    "tags": []
   },
   "outputs": [
    {
     "name": "stdout",
     "output_type": "stream",
     "text": [
      "3\n"
     ]
    }
   ],
   "source": [
    "N,M = 4,4\n",
    "A,B,d = 1,1,0\n",
    "## 차례로 방향이 0,1,2,3 일때의 왼쪽방향 이동좌표\n",
    "d_list = [[0,-1],[-1,0],[0,1],[1,0]]\n",
    "d_list_mapping = [3,0,1,2]\n",
    "## 왼쪽방향 기준 뒤쪽 좌표\n",
    "back = [[1,0],[0,-1],[-1,0],[0,1]]\n",
    "land=[[1,1,1,1],[1,0,0,1],[1,1,0,1],[1,1,1,1]]\n",
    "dp = [[0 for _ in range(N)]for _ in range(M)]\n",
    "\n",
    "answer = 1\n",
    "dp[A][B] = 1\n",
    "\n",
    "def recur(A,B,d,turn_time):\n",
    "    global answer\n",
    "    \n",
    "    ##현재위치의 왼쪽방향 좌표\n",
    "    eA = A + d_list[d][0]\n",
    "    eB = B + d_list[d][1]\n",
    "    ##방향 회전\n",
    "    d = d_list_mapping[d]\n",
    "    turn_time += 1\n",
    "    \n",
    "    ## 왼쪽방향을 가보지 않았고 육지라면\n",
    "    if land[eA][eB] == 0 and dp[eA][eB] == 0:\n",
    "        ##이동할 위치 dp저장\n",
    "        dp[eA][eB] = 1\n",
    "        answer += 1\n",
    "        recur(eA,eB,d,0)\n",
    "        return\n",
    "    else:\n",
    "        if turn_time < 4:\n",
    "            recur(A,B,d,turn_time)\n",
    "        else:\n",
    "            eA = A + back[d][0]\n",
    "            eB = B + back[d][1]\n",
    "            ##후진이 가능한지 확인 \n",
    "            if land[eA][eB] == 0:\n",
    "                recur(eA,eB,d,0)\n",
    "            else:\n",
    "                return\n",
    "        \n",
    "            \n",
    "\n",
    "\n",
    "recur(A,B,d,0)\n",
    "print(answer)\n",
    "            \n"
   ]
  }
 ],
 "metadata": {
  "kernelspec": {
   "display_name": "Python 3 (ipykernel)",
   "language": "python",
   "name": "python3"
  },
  "language_info": {
   "codemirror_mode": {
    "name": "ipython",
    "version": 3
   },
   "file_extension": ".py",
   "mimetype": "text/x-python",
   "name": "python",
   "nbconvert_exporter": "python",
   "pygments_lexer": "ipython3",
   "version": "3.11.5"
  }
 },
 "nbformat": 4,
 "nbformat_minor": 5
}

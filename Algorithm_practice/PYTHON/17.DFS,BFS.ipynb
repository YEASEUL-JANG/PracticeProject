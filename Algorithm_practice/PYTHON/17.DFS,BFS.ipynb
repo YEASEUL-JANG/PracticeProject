{
 "cells": [
  {
   "cell_type": "code",
   "execution_count": 2,
   "id": "b6ea0500-97f1-4b3a-9d61-8779185e441b",
   "metadata": {
    "tags": []
   },
   "outputs": [
    {
     "name": "stdout",
     "output_type": "stream",
     "text": [
      "[1, 2, 7, 6, 8, 3, 4, 5]\n"
     ]
    }
   ],
   "source": [
    "##DFS 를 이용해서 \n",
    "##연결된 노드들을 탐색하고 방문한 노드를 순서대로 입력하시오 \n",
    "\n",
    "graph = [\n",
    "[],\n",
    "    [2,3,8],\n",
    "    [1,7],\n",
    "    [1,4,5],\n",
    "    [3,5],\n",
    "    [3,4],\n",
    "    [7],\n",
    "    [2,6,8],\n",
    "    [1,7]\n",
    "]\n",
    "visited = [0]*9\n",
    "answer = []\n",
    "def dfs(node):\n",
    "    # 현재 노드를 방문처리 \n",
    "    visited[node] = 1\n",
    "    answer.append(node)\n",
    "    \n",
    "    # 현재 노드와 연결된 다른 노드 방문\n",
    "    for n in graph[node]:\n",
    "        if(visited[n] != 1):\n",
    "            dfs(n)\n",
    "dfs(1)\n",
    "print(answer)\n",
    "    "
   ]
  },
  {
   "cell_type": "code",
   "execution_count": 3,
   "id": "fa77493f-fc92-4bbe-823f-2375ad1a6cb5",
   "metadata": {
    "tags": []
   },
   "outputs": [
    {
     "name": "stdout",
     "output_type": "stream",
     "text": [
      "[1, 2, 3, 8, 7, 4, 5, 6]\n"
     ]
    }
   ],
   "source": [
    "##BFS를 이용해서 \n",
    "##연결된 노드들을 탐색하고 방문한 노드를 순서대로 입력하시오\n",
    "\n",
    "from collections import deque\n",
    "\n",
    "graph = [\n",
    "[],\n",
    "    [2,3,8],\n",
    "    [1,7],\n",
    "    [1,4,5],\n",
    "    [3,5],\n",
    "    [3,4],\n",
    "    [7],\n",
    "    [2,6,8],\n",
    "    [1,7]\n",
    "]\n",
    "visited = [0]*9\n",
    "answer = []\n",
    "\n",
    "def bfs(node):\n",
    "    ##큐에 방문한 노드 삽입\n",
    "    queue = deque([node])\n",
    "    #현재 노드 방문처리\n",
    "    visited[node] = 1\n",
    "    \n",
    "    #큐가 빌때까지 반복\n",
    "    while queue:\n",
    "        v = queue.popleft()\n",
    "        answer.append(v)\n",
    "        for n in graph[v]:\n",
    "            if visited[n] != 1:\n",
    "                queue.append(n)\n",
    "                visited[n] = 1\n",
    "                \n",
    "            \n",
    "bfs(1)\n",
    "print(answer)\n",
    "            \n",
    "\n"
   ]
  },
  {
   "cell_type": "code",
   "execution_count": null,
   "id": "e0193cee-ba24-43ef-9e06-aab95f927b1b",
   "metadata": {},
   "outputs": [],
   "source": [
    "N x M 크기의 얼음 틀이 있다. 구멍이 뚫려있는 부분은 0 , 칸막이가 존재하는 부분은 1로 표시된다. 구멍이 뚫려있는 부분끼리 상, 하, 좌, 우로 붙어있는 경우 서로 연결되어 있는 것으로 간주한다. 이때 얼음 틀의 모양이 주어졌을 때 생성되는 총 아이스크림의 개수를 구하는 프로그램을 작성하시오. 예를 들어 다음의 4 x 5 얼음 틀 예시에서는 아이스크림이 총 3개 생성된다. \n",
    "\n",
    "0 0 1 1 0\n",
    "\n",
    "0 0 0 1 1\n",
    "\n",
    "1 1 1 1 1\n",
    "\n",
    "0 0 0 0 0\n"
   ]
  },
  {
   "cell_type": "code",
   "execution_count": 6,
   "id": "b27dc83a-bc75-4a83-a45d-7505c600b465",
   "metadata": {
    "tags": []
   },
   "outputs": [
    {
     "name": "stdin",
     "output_type": "stream",
     "text": [
      " 00110\n",
      " 00011\n",
      " 11111\n",
      " 00000\n"
     ]
    },
    {
     "name": "stdout",
     "output_type": "stream",
     "text": [
      "3\n"
     ]
    }
   ],
   "source": [
    "n,m = (4,5)\n",
    "\n",
    "graph = []\n",
    "for i in range(n):\n",
    "    graph.append(list(map(int,input())))\n",
    "\n",
    "# dfs 로 특정 노드와 연결된 노드들을 모두 탐방\n",
    "def dfs(x,y):\n",
    "    if x<= -1 or x >= n or y <=-1 or y >= m:\n",
    "        return False\n",
    "    #얼음 틀이라면\n",
    "    if graph[x][y] == 0:\n",
    "        graph[x][y] = 1 #방문했으니까 메꿈\n",
    "        #상,하,좌,우 탐방\n",
    "        dfs(x+1,y)\n",
    "        dfs(x-1,y)\n",
    "        dfs(x,y-1)\n",
    "        dfs(x,y+1)\n",
    "        #모두 탐방한 뒤 카운트\n",
    "        return True\n",
    "    else:\n",
    "        return False\n",
    "        \n",
    "result = 0     \n",
    "for i in range(n):\n",
    "    for j in range(m):\n",
    "        if dfs(i,j) == True:\n",
    "            result += 1\n",
    "            \n",
    "print(result)"
   ]
  },
  {
   "cell_type": "code",
   "execution_count": null,
   "id": "d10c5b15-d5fd-43d4-a9b2-5511025be836",
   "metadata": {},
   "outputs": [],
   "source": [
    "N x M 크기의 미로가 있다. \n",
    "미로에는 괴물이 있어 이를 피해 탈출해야 한다. \n",
    "시작 위치는 (1,1)이고 미로의 출구는 (N,M)의 위치에 존재하며 \n",
    "한번에 한칸씩 이동할 수 있다. 이때 괴물이 있는 부분은 0 으로, \n",
    "괴물이 없는 부분은 1 로 표시되어 있다. \n",
    "미로는 반드시 탈출할 수 있는 구조이며 \n",
    "이때 시작위치에서 탈출하기 위해 움직여야 하는 최소 칸의 개수를 구하시오. 칸을 셀 때는 시작칸과 마지막칸을 모두 포함해서 계산한다. \n",
    "\n",
    "입력예시\n",
    "\n",
    "5 6\n",
    "\n",
    "101010\n",
    "\n",
    "111111\n",
    "\n",
    "000001\n",
    "\n",
    "111111\n",
    "\n",
    "111111"
   ]
  },
  {
   "cell_type": "code",
   "execution_count": 18,
   "id": "ef1752a1-ba14-4f93-85de-d9e4f3cebee7",
   "metadata": {
    "tags": []
   },
   "outputs": [
    {
     "name": "stdout",
     "output_type": "stream",
     "text": [
      "[10, 12, 14, 16, 18, 20]\n"
     ]
    }
   ],
   "source": [
    "n,m = (5,6)\n",
    "\n",
    "# graph = []\n",
    "# for _ in range(n):\n",
    "#     graph.append(list(map(int,input())))\n",
    "graph = [\n",
    "    [1, 0, 1, 0, 1, 0],\n",
    "    [1, 1, 1, 1, 1, 1],\n",
    "    [0, 0, 0, 0, 0, 1],\n",
    "    [1, 1, 1, 1, 1, 1],\n",
    "    [1, 1, 1, 1, 1, 1]\n",
    "]\n",
    "    \n",
    "answer = []\n",
    "visited = [[False] * m for _ in range(n)]\n",
    "def dfs(x,y,count):\n",
    "    if x<= -1 or x >= n or y <=-1 or y >= m:\n",
    "        return \n",
    "    \n",
    "    #괴물이 있는곳이 아니고 방문한적이 없다면 방문\n",
    "    if graph[x][y] == 1 and visited[x][y]==False:\n",
    "        visited[x][y] = True\n",
    "        \n",
    "        #상,하,좌,우 탐방\n",
    "        dfs(x+1,y,count+1)\n",
    "        dfs(x-1,y,count+1)\n",
    "        dfs(x,y-1,count+1)\n",
    "        dfs(x,y+1,count+1)\n",
    "        #재귀호출이 끝난 후에는 다시 방문할 수 있게 함\n",
    "        visited[x][y] = False\n",
    "        \n",
    "        if x == n-1 and y == m-1:\n",
    "            answer.append(count+1)\n",
    "            return\n",
    "    else:\n",
    "        return\n",
    "        \n",
    "    \n",
    "\n",
    "dfs(0,0,0)\n",
    "print(answer)"
   ]
  }
 ],
 "metadata": {
  "kernelspec": {
   "display_name": "Python 3 (ipykernel)",
   "language": "python",
   "name": "python3"
  },
  "language_info": {
   "codemirror_mode": {
    "name": "ipython",
    "version": 3
   },
   "file_extension": ".py",
   "mimetype": "text/x-python",
   "name": "python",
   "nbconvert_exporter": "python",
   "pygments_lexer": "ipython3",
   "version": "3.11.5"
  }
 },
 "nbformat": 4,
 "nbformat_minor": 5
}

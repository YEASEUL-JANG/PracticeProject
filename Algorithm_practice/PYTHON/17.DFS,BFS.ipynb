{
 "cells": [
  {
   "cell_type": "code",
   "execution_count": 2,
   "id": "b6ea0500-97f1-4b3a-9d61-8779185e441b",
   "metadata": {
    "tags": []
   },
   "outputs": [
    {
     "name": "stdout",
     "output_type": "stream",
     "text": [
      "[1, 2, 7, 6, 8, 3, 4, 5]\n"
     ]
    }
   ],
   "source": [
    "##DFS 를 이용해서 \n",
    "##연결된 노드들을 탐색하고 방문한 노드를 순서대로 입력하시오 \n",
    "\n",
    "graph = [\n",
    "[],\n",
    "    [2,3,8],\n",
    "    [1,7],\n",
    "    [1,4,5],\n",
    "    [3,5],\n",
    "    [3,4],\n",
    "    [7],\n",
    "    [2,6,8],\n",
    "    [1,7]\n",
    "]\n",
    "visited = [0]*9\n",
    "answer = []\n",
    "def dfs(node):\n",
    "    # 현재 노드를 방문처리 \n",
    "    visited[node] = 1\n",
    "    answer.append(node)\n",
    "    \n",
    "    # 현재 노드와 연결된 다른 노드 방문\n",
    "    for n in graph[node]:\n",
    "        if(visited[n] != 1):\n",
    "            dfs(n)\n",
    "dfs(1)\n",
    "print(answer)\n",
    "    "
   ]
  },
  {
   "cell_type": "code",
   "execution_count": 3,
   "id": "fa77493f-fc92-4bbe-823f-2375ad1a6cb5",
   "metadata": {
    "tags": []
   },
   "outputs": [
    {
     "name": "stdout",
     "output_type": "stream",
     "text": [
      "[1, 2, 3, 8, 7, 4, 5, 6]\n"
     ]
    }
   ],
   "source": [
    "##BFS를 이용해서 \n",
    "##연결된 노드들을 탐색하고 방문한 노드를 순서대로 입력하시오\n",
    "\n",
    "from collections import deque\n",
    "\n",
    "graph = [\n",
    "[],\n",
    "    [2,3,8],\n",
    "    [1,7],\n",
    "    [1,4,5],\n",
    "    [3,5],\n",
    "    [3,4],\n",
    "    [7],\n",
    "    [2,6,8],\n",
    "    [1,7]\n",
    "]\n",
    "visited = [0]*9\n",
    "answer = []\n",
    "\n",
    "def bfs(node):\n",
    "    ##큐에 방문한 노드 삽입\n",
    "    queue = deque([node])\n",
    "    #현재 노드 방문처리\n",
    "    visited[node] = 1\n",
    "    \n",
    "    #큐가 빌때까지 반복\n",
    "    while queue:\n",
    "        v = queue.popleft()\n",
    "        answer.append(v)\n",
    "        for n in graph[v]:\n",
    "            if visited[n] != 1:\n",
    "                queue.append(n)\n",
    "                visited[n] = 1\n",
    "                \n",
    "            \n",
    "bfs(1)\n",
    "print(answer)\n",
    "            \n",
    "\n"
   ]
  }
 ],
 "metadata": {
  "kernelspec": {
   "display_name": "Python 3 (ipykernel)",
   "language": "python",
   "name": "python3"
  },
  "language_info": {
   "codemirror_mode": {
    "name": "ipython",
    "version": 3
   },
   "file_extension": ".py",
   "mimetype": "text/x-python",
   "name": "python",
   "nbconvert_exporter": "python",
   "pygments_lexer": "ipython3",
   "version": "3.11.5"
  }
 },
 "nbformat": 4,
 "nbformat_minor": 5
}

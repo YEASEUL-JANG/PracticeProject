{
 "cells": [
  {
   "cell_type": "code",
   "execution_count": 6,
   "id": "33214f1f-1bd5-46e8-b0bf-da609a448148",
   "metadata": {
    "tags": []
   },
   "outputs": [
    {
     "name": "stdout",
     "output_type": "stream",
     "text": [
      "[1, 2, 3, 4, 5, 6, 7, 8, 9]\n"
     ]
    }
   ],
   "source": [
    "## 선택정렬\n",
    "\n",
    "array = [2,3,6,1,4,9,5,7,8]\n",
    "\n",
    "for i in range(len(array)):\n",
    "    small_index = i\n",
    "    for j in range(i+1,len(array)):\n",
    "        if array[small_index] > array[j]:\n",
    "            small_index = j\n",
    "            \n",
    "    ##i 인덱스와 small_index 값 교체하기\n",
    "    array[i],array[small_index] = array[small_index],array[i]\n",
    "                    \n",
    "print(array)"
   ]
  },
  {
   "cell_type": "code",
   "execution_count": 9,
   "id": "09cd57e8-20b9-423d-b6d2-4dd42b7b8815",
   "metadata": {
    "tags": []
   },
   "outputs": [
    {
     "name": "stdout",
     "output_type": "stream",
     "text": [
      "[1, 2, 3, 4, 5, 6, 7, 8, 9]\n"
     ]
    }
   ],
   "source": [
    "## 삽입정렬\n",
    "\n",
    "array = [2,3,6,1,4,9,5,7,8]\n",
    "\n",
    "for i in range(1,len(array)):\n",
    "    for j in range(i,0,-1): #i에서 시작해서 0을향해 1씩감소\n",
    "        if array[j] < array[j-1]: # 왼쪽 > 오른쪽\n",
    "            array[j],array[j-1] = array[j-1],array[j]\n",
    "        else: # 왼쪽 < 오른쪽\n",
    "            break\n",
    "print(array)"
   ]
  }
 ],
 "metadata": {
  "kernelspec": {
   "display_name": "Python 3 (ipykernel)",
   "language": "python",
   "name": "python3"
  },
  "language_info": {
   "codemirror_mode": {
    "name": "ipython",
    "version": 3
   },
   "file_extension": ".py",
   "mimetype": "text/x-python",
   "name": "python",
   "nbconvert_exporter": "python",
   "pygments_lexer": "ipython3",
   "version": "3.11.5"
  }
 },
 "nbformat": 4,
 "nbformat_minor": 5
}

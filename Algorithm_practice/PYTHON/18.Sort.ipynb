{
 "cells": [
  {
   "cell_type": "code",
   "execution_count": 6,
   "id": "33214f1f-1bd5-46e8-b0bf-da609a448148",
   "metadata": {
    "tags": []
   },
   "outputs": [
    {
     "name": "stdout",
     "output_type": "stream",
     "text": [
      "[1, 2, 3, 4, 5, 6, 7, 8, 9]\n"
     ]
    }
   ],
   "source": [
    "## 선택정렬\n",
    "\n",
    "array = [2,3,6,1,4,9,5,7,8]\n",
    "\n",
    "for i in range(len(array)):\n",
    "    small_index = i\n",
    "    for j in range(i+1,len(array)):\n",
    "        if array[small_index] > array[j]:\n",
    "            small_index = j\n",
    "            \n",
    "    ##i 인덱스와 small_index 값 교체하기\n",
    "    array[i],array[small_index] = array[small_index],array[i]\n",
    "                    \n",
    "print(array)"
   ]
  },
  {
   "cell_type": "code",
   "execution_count": 9,
   "id": "09cd57e8-20b9-423d-b6d2-4dd42b7b8815",
   "metadata": {
    "tags": []
   },
   "outputs": [
    {
     "name": "stdout",
     "output_type": "stream",
     "text": [
      "[1, 2, 3, 4, 5, 6, 7, 8, 9]\n"
     ]
    }
   ],
   "source": [
    "## 삽입정렬\n",
    "\n",
    "array = [2,3,6,1,4,9,5,7,8]\n",
    "\n",
    "for i in range(1,len(array)):\n",
    "    for j in range(i,0,-1): #i에서 시작해서 0을향해 1씩감소\n",
    "        if array[j] < array[j-1]: # 왼쪽 > 오른쪽\n",
    "            array[j],array[j-1] = array[j-1],array[j]\n",
    "        else: # 왼쪽 < 오른쪽\n",
    "            break\n",
    "print(array)"
   ]
  },
  {
   "cell_type": "code",
   "execution_count": 13,
   "id": "b72b1d35-8259-4304-ae23-c5637c830dbe",
   "metadata": {
    "tags": []
   },
   "outputs": [
    {
     "name": "stdout",
     "output_type": "stream",
     "text": [
      "0 1 1 3 3 5 6 6 6 7 7 8 9 9 "
     ]
    }
   ],
   "source": [
    "## 계수정렬\n",
    "\n",
    "array = [7,5,9,0,3,1,6,3,6,8,9,7,6,1]\n",
    "##인덱스 0~9까지의 값이 0인 리스트 선언\n",
    "count = [0]* (max(array)+1)\n",
    "\n",
    "for i in range(len(array)):\n",
    "    count[array[i]] += 1\n",
    "\n",
    "for i in range(len(count)):\n",
    "    for j in range(count[i]):\n",
    "        print(i,end=\" \")"
   ]
  },
  {
   "cell_type": "code",
   "execution_count": 18,
   "id": "875d1f31-fdc4-49ea-a1ed-cf9a064c3d4d",
   "metadata": {
    "tags": []
   },
   "outputs": [
    {
     "name": "stdout",
     "output_type": "stream",
     "text": [
      "[0, 2, 3, 3, 4, 6, 7, 8, 8]\n",
      "[0, 2, 3, 3, 4, 6, 7, 8, 8]\n",
      "[8, 8, 7, 6, 4, 3, 3, 2, 0]\n",
      "[('사과', 1), ('바나나', 2), ('블루베리', 3)]\n"
     ]
    }
   ],
   "source": [
    "##파이썬 정렬 라이브러리\n",
    "\n",
    "array = [3,4,6,2,3,8,0,8,7]\n",
    "\n",
    "\n",
    "sorted_array = sorted(array)\n",
    "print(sorted_array)\n",
    "\n",
    "array.sort()\n",
    "print(array)\n",
    "\n",
    "array.sort(reverse=True)\n",
    "print(array)\n",
    "\n",
    "## 키값을 기준으로 정렬하기\n",
    "array2 = [('바나나',2),('사과',1),('블루베리',3)]\n",
    "\n",
    "def setting(data):\n",
    "    return data[1]\n",
    "\n",
    "\n",
    "result = sorted(array2,key=setting)\n",
    "print(result)\n"
   ]
  },
  {
   "cell_type": "code",
   "execution_count": null,
   "id": "fa994fda-b157-4144-95cd-8781b461537d",
   "metadata": {},
   "outputs": [],
   "source": [
    "하나의 수열에는 다양한 수가 존재한다. \n",
    "이러한 수는 크기에 상관없이 나열되어 있다.\n",
    "이 수를 큰 수부터 작은 수의 순서대로 정렬해야 한다. \n",
    "수열을 내림차순으로 정렬하는 프로그램을 만드시오"
   ]
  },
  {
   "cell_type": "code",
   "execution_count": null,
   "id": "2e41be65-f080-4e36-b1dc-7a277fc6fa09",
   "metadata": {},
   "outputs": [],
   "source": [
    "N = 3\n",
    "array = []\n",
    "for _ in range(N):\n",
    "    array.append(int(input()))\n",
    "\n",
    "array.sort(reverse=True)\n",
    "print(array)"
   ]
  },
  {
   "cell_type": "code",
   "execution_count": null,
   "id": "a3e99195-9999-4b84-9c37-bdc21ce9c6ce",
   "metadata": {},
   "outputs": [],
   "source": [
    "N명의 학생 정보가 있다. \n",
    "학생 정보는 학생의 이름과 학생의 성적으로 구분된다. \n",
    "각 학생의 이름과 성적 정보가 주어졌을 때\n",
    "성적이 낮은 순서대로 학생의 이름을 출력하는 프로그램을 작성하시오. "
   ]
  },
  {
   "cell_type": "code",
   "execution_count": null,
   "id": "26415db0-f50c-4c33-88e4-3ddfb62a0b83",
   "metadata": {},
   "outputs": [],
   "source": [
    "N = 2\n",
    "array = []\n",
    "for _ in range(N):\n",
    "    array.append(list(map(str,input().split())))\n",
    "\n",
    "\n",
    "def setting(data):\n",
    "    return data[1]\n",
    "\n",
    "new_array = sorted(array,key = setting)\n",
    "print(new_array)"
   ]
  },
  {
   "cell_type": "code",
   "execution_count": null,
   "id": "ec7682c5-e41b-474f-90f4-49dcde3fa3de",
   "metadata": {},
   "outputs": [],
   "source": [
    "동빈이는 두개의 배열 A와 B를 가지고 있다.\n",
    "두 배열은 N개의 원소로 구성되어 있으며, \n",
    "배열의 원소는 모두 자연수이다. \n",
    "동빈이는 최대 K번의 바꿔치기 연산을 수행할 수 있는데, \n",
    "바꿔치기 연산이란 배열 A에 있는 원소 \n",
    "하나와 배열 B에 있는 원소 하나를 골라 \n",
    "두 원소를 서로 바꾸는것이다. \n",
    "동빈이의 최종 목표는 배열 A의 모든 원소의 합이 최대가 \n",
    "되도록 하는 것이다. \n",
    "\n",
    "\n",
    "최대 K번의 바꿔치기 연산을 수행하여 만들 수 있는\n",
    "배열 A의 모든 원소의 합이 최댓값을 출력하는 프로그램을 작성하시오"
   ]
  },
  {
   "cell_type": "code",
   "execution_count": null,
   "id": "31c8586a-abde-40a0-847a-c4594b6ef4c1",
   "metadata": {},
   "outputs": [],
   "source": [
    "N = 5\n",
    "K = 3\n",
    "\n",
    "list_a = list(map(int,input().split()))\n",
    "list_b = list(map(int,input().split()))\n",
    "\n",
    "##a배열은 내림차순 정렬\n",
    "list_a.sort()\n",
    "#b배열은 오름차순 정렬\n",
    "list_b.sort(reverse=True)\n",
    "\n",
    "for i in range(K):\n",
    "    if(list_a[0]<list_b[i]):\n",
    "        del list_a[0]\n",
    "        list_a.append(list_b[i])\n",
    "     \n",
    "\n",
    "print(sum(list_a))"
   ]
  }
 ],
 "metadata": {
  "kernelspec": {
   "display_name": "Python 3 (ipykernel)",
   "language": "python",
   "name": "python3"
  },
  "language_info": {
   "codemirror_mode": {
    "name": "ipython",
    "version": 3
   },
   "file_extension": ".py",
   "mimetype": "text/x-python",
   "name": "python",
   "nbconvert_exporter": "python",
   "pygments_lexer": "ipython3",
   "version": "3.11.5"
  }
 },
 "nbformat": 4,
 "nbformat_minor": 5
}

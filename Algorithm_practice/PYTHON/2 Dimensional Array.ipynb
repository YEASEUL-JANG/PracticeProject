{
 "cells": [
  {
   "cell_type": "code",
   "execution_count": 1,
   "id": "f8a4ad27-9731-40fb-8cca-9bf95c3d830d",
   "metadata": {
    "tags": []
   },
   "outputs": [
    {
     "name": "stdout",
     "output_type": "stream",
     "text": [
      "4\n"
     ]
    }
   ],
   "source": [
    "## 많이 이동하기 \n",
    "## 가장 많이 이동한 경우 몇 회 이동했는지 계산 (이동은 반드시 현재 좌표의 값보다 더 큰 곳으로만 이동)\n",
    "\n",
    "n = 4\n",
    "graph = [[14,9,12,10],\n",
    "        [1,11,5,4],\n",
    "        [7,15,2,13],\n",
    "        [6,3,16,8]]\n",
    "\n",
    "# 모든 점을 방문한다.\n",
    "# 방문한 뒤 이동할 수 있는 모든 경우의 수를 재귀로 구현한다.\n",
    "# 재귀로 구현한 뒤 dp로 바꾼다\n",
    "\n",
    "def recur(y,x):\n",
    "\n",
    "    if dp[y][x] != 0:\n",
    "        return dp[y][x]\n",
    "    # 4가지 경우로 이동할 경우의 수\n",
    "    for dy,dx in[[0,1],[0,-1],[1,0],[-1,0]]:\n",
    "        ey = y + dy\n",
    "        ex = x + dx\n",
    "        # 표의 범위 안이고,이동한 수가 더 큰 경우 이동\n",
    "        if 0<= ey < n and 0<= ex < n:\n",
    "            if graph[y][x] < graph[ey][ex]:\n",
    "                dp[y][x] = max(dp[y][x],recur(ey,ex)+1)\n",
    "    #이동 불가/ 이동이 다 끝남\n",
    "    return dp[y][x]\n",
    "\n",
    "dp = [list(0 for _ in range(4)) for _ in range(4)]\n",
    "\n",
    "for y in range(n):\n",
    "    for x in range(n):\n",
    "        recur(y,x)\n",
    "# 각 행의 최댓값의 리스트중 최댓값 max(map(max,dp)) + 1(이동시작지점 포함)\n",
    "print(max(map(max,dp))+1)"
   ]
  },
  {
   "cell_type": "code",
   "execution_count": 2,
   "id": "8b5500f3-1f64-4805-8086-026ac27b86a0",
   "metadata": {
    "tags": []
   },
   "outputs": [
    {
     "name": "stdout",
     "output_type": "stream",
     "text": [
      "ey,ex: 0 1\n",
      "ey,ex: 0 2\n",
      "ey,ex: 0 3\n",
      "ey,ex: 0 4\n",
      "ey,ex: 1 4\n",
      "ey,ex: 1 3\n",
      "ey,ex: 2 3\n",
      "ey,ex: 3 3\n",
      "ey,ex: 3 4\n",
      "ey,ex: 1 3\n",
      "ey,ex: 2 3\n",
      "ey,ex: 3 3\n",
      "ey,ex: 3 4\n",
      "ey,ex: 1 0\n",
      "ey,ex: 2 0\n",
      "ey,ex: 3 0\n",
      "ey,ex: 3 1\n",
      "ey,ex: 3 2\n",
      "ey,ex: 3 3\n",
      "ey,ex: 3 4\n",
      "3\n"
     ]
    }
   ],
   "source": [
    "## 끝까지 이동하기\n",
    "##좌측 위에서 우측 하단까지 도달 할 수 있는 경로의 수 (이동은 현재 좌표보다 더 작은 곳으로만 이동가능)\n",
    "\n",
    "b,a = (4,5)\n",
    "graph = [[50,45,37,32,30],\n",
    "        [35,50,40,20,25],\n",
    "        [30,30,25,17,28],\n",
    "        [27,24,22,15,10]]\n",
    "\n",
    "answer = 0\n",
    "def recur(y,x):\n",
    "    global answer\n",
    "    # 우측 하단 도착\n",
    "    if y == b-1 and x == a-1:\n",
    "        answer += 1\n",
    "        return \n",
    "    # 이동하는 경우의 수 : 오른쪽, 아래, 왼쪽, 위\n",
    "    for dy,dx in [[0,1],[1,0],[-1,0],[0,-1]]:\n",
    "        ey = y + dy\n",
    "        ex = x + dx\n",
    "        if 0<= ey <b and 0<= ex <a:\n",
    "            if graph[ey][ex] < graph[y][x]:\n",
    "                recur(ey,ex)\n",
    "\n",
    "\n",
    "recur(0,0)\n",
    "print(answer)"
   ]
  }
 ],
 "metadata": {
  "kernelspec": {
   "display_name": "Python 3 (ipykernel)",
   "language": "python",
   "name": "python3"
  },
  "language_info": {
   "codemirror_mode": {
    "name": "ipython",
    "version": 3
   },
   "file_extension": ".py",
   "mimetype": "text/x-python",
   "name": "python",
   "nbconvert_exporter": "python",
   "pygments_lexer": "ipython3",
   "version": "3.11.5"
  }
 },
 "nbformat": 4,
 "nbformat_minor": 5
}

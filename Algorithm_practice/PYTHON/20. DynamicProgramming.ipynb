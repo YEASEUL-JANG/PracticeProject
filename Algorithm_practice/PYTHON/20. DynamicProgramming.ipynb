{
 "cells": [
  {
   "cell_type": "code",
   "execution_count": null,
   "id": "e4d58442-45b2-4a48-9715-7ab4fbc5cefb",
   "metadata": {},
   "outputs": [],
   "source": [
    "#피보나치수열\n",
    "def fibo(x):\n",
    "    if x ==1 or x==2:\n",
    "        return 1\n",
    "    return fibo(x-1)+fibo(x-2)\n",
    "    \n",
    "\n",
    "print(fibo(4))"
   ]
  },
  {
   "cell_type": "code",
   "execution_count": null,
   "id": "a7663e2e-517f-408a-9468-8a8744e226f0",
   "metadata": {},
   "outputs": [],
   "source": [
    "## 다이나믹 프로그래밍\n",
    "\n",
    ": 다음 조건을 만족하면 다이다믹 프로그래밍을 생각해 볼 수 있다. \n",
    "\n",
    "1. 큰 문제를 작은 문제로 나눌 수 있다. \n",
    "2. 작은 문제에서 구한 정답은 그것을 포함하는 큰 문제에서도 동일하다."
   ]
  },
  {
   "cell_type": "code",
   "execution_count": null,
   "id": "b9f282c0-eeec-4b95-aaf9-0f6338e6fd32",
   "metadata": {},
   "outputs": [],
   "source": [
    "##탑다운\n",
    "#계산한 결과를 저장할 리스트\n",
    "d = [0] * 100\n",
    "\n",
    "\n",
    "def fibo(x):\n",
    "    #이미 계산한적이 있음\n",
    "    if d[x] != 0 : \n",
    "        return d[x]\n",
    "    \n",
    "    if x ==1 or x==2:\n",
    "        return 1\n",
    "    d[x]= fibo(x-1)+fibo(x-2)\n",
    "    return d[x]\n",
    "\n",
    "print(fibo(99))\n"
   ]
  },
  {
   "cell_type": "code",
   "execution_count": null,
   "id": "2a1d4686-6cb0-4697-bb1d-72f6592f6f3e",
   "metadata": {},
   "outputs": [],
   "source": [
    "#바텀업\n",
    "d = [0] * 100\n",
    "\n",
    "d[1] = 1\n",
    "d[2] = 1\n",
    "n = 100\n",
    "\n",
    "for i in range(3,n):\n",
    "    d[i] = d[i-1]+d[i-2]\n",
    "    \n",
    "print(d[99])"
   ]
  },
  {
   "cell_type": "code",
   "execution_count": null,
   "id": "230d3b66-2d25-459f-9ca7-e09c7aa058e9",
   "metadata": {},
   "outputs": [],
   "source": [
    "##1로만들기\n",
    "정수 x가 주어질 때 정수 x에 사용할 수 있는 연산은 다음 4가지이다. \n",
    "\n",
    "1. x가 5로 나누어 떨어지면 5로 나눈다.\n",
    "2. x가 3으로 나누어 떨어지면 3으로 나눈다.\n",
    "3. x가 2로 나누어 떨어지면 2로나눈다.\n",
    "4. x에서 1을 뺀다.\n",
    "\n",
    "정수x가 주어졌을 때 연산 4개를 적절히 사용해서 1을 만들려고한다. \n",
    "연산을 사용하는 횟수의 최솟값을 출력하시오."
   ]
  },
  {
   "cell_type": "code",
   "execution_count": null,
   "id": "74accb89-1c21-4db0-afea-da4187910109",
   "metadata": {},
   "outputs": [],
   "source": [
    "dp = [0]*10000\n",
    "i = 26\n",
    "for x in range(2,i+1):\n",
    "    #처음(2)은 1을 빼는것으로 연산시작\n",
    "    dp[x] = dp[x-1]+1\n",
    "    ## -1을 하는것과 나누는것중의 최솟값 저장\n",
    "    if x % 5 == 0:\n",
    "        dp[x] = min(dp[x-1]+1,dp[x//5]+1)\n",
    "    if x % 3 == 0:\n",
    "        dp[x] = min(dp[x-1]+1,dp[x//3]+1)\n",
    "    if x % 2 == 0:\n",
    "        dp[x] = min(dp[x-1]+1,dp[x//2]+1)\n",
    "    \n",
    "    \n",
    "\n",
    "print(dp[i])"
   ]
  },
  {
   "cell_type": "code",
   "execution_count": null,
   "id": "903e2f8f-1662-4b89-93fc-7dd680637b0b",
   "metadata": {},
   "outputs": [],
   "source": [
    "##개미전사\n",
    "메뚜기마을의 식량창고는 일직선상에 존재하고 서로 인접한 식량창고가 공격받으면 바로 알아챌 수 있다. 따라서 개미전사가 정찰병에게 들키지 않고 식량창고를 약탈하기 위해선 최소 한 칸 이상 떨어진 식량창고를 약탈해야한다. 예를들어 다음과 같은 식량창고가 존재할 때\n",
    "\n",
    "(1,3,1,5)\n",
    "\n",
    "개미전사는 두번째 식량창고와 네번째 식량창고를 선택했을때 최댓값인 총 8개의 식량을 빼앗을 수 있다. \n",
    "\n",
    "식량창고 n개에 대한 정보가 주어졌을 때 얻을 수 있는 식량의 최댓값을 구하는 프로그램을 작성하시오 \n",
    "\n",
    "⇒ dp 테이블을 구현하고 i번째 인덱스에 해당되는 최적의 해를 찾기위한 알고리즘을 짜보자.\n",
    "\n",
    "선택사항은 i 번째를 1) 취하느냐, 2) 안취하느냐 이다. \n",
    "\n",
    "1) 취할경우\n",
    "\n",
    " → 취하게 되면 i-1 번째는 당연히 선택할 수 없게 된다. 즉 dp[i] = dp[i-2] + arr[i]\n",
    "\n",
    "2) 안취하는 경우\n",
    "\n",
    " → 안취하면 i-1 번째를 취할 수 있다. 즉 dp[i] = dp[i-1]"
   ]
  },
  {
   "cell_type": "code",
   "execution_count": null,
   "id": "5dcbf260-dbcb-4e18-aa22-d50c87534af6",
   "metadata": {},
   "outputs": [],
   "source": [
    "n = 4\n",
    "arr = list(map(int,input().split()))\n",
    "\n",
    "dp = [0]*100\n",
    "dp[0] = arr[0]\n",
    "dp[1] = max(arr[0],arr[1]) \n",
    "\n",
    "for i in range(2,n):\n",
    "    #dp[i]는 i번째 식량창고에 대한 최적의 해\n",
    "    dp[i] = max(dp[i-1],dp[i-2]+arr[i])\n",
    "    \n",
    "print(dp[n-1]) ##8"
   ]
  },
  {
   "cell_type": "code",
   "execution_count": null,
   "id": "e847289c-4282-4a0b-864a-76a880425ac3",
   "metadata": {},
   "outputs": [],
   "source": [
    "##바닥공사\n",
    "가로길이가 N, 세로길이가 2 인 직사각형 형태의 얇은 바닥을\n",
    "1x2, 2x1 , 2x2의 덮개를 이용해 채우고자 한다. \n",
    "이때 바닥을 채우는 모든 경우의 수를 구하는 프로그램을 작성하시오. \n",
    "예를들어 2x3 크기의 바닥을 채우는 경우의 수는 5가지이다. "
   ]
  },
  {
   "cell_type": "code",
   "execution_count": null,
   "id": "4938b2fe-d61a-40ee-9c97-da92038ccd38",
   "metadata": {},
   "outputs": [],
   "source": [
    "n = 3\n",
    "dp = [0] * 1000\n",
    "\n",
    "dp[0] = 1\n",
    "dp[1] = 3\n",
    "for i in range(2,n):\n",
    "    dp[i] = dp[i-1] + dp[i-2]*2\n",
    "\n",
    "\n",
    "print(dp[n-2]) ## 5\n",
    "    "
   ]
  },
  {
   "cell_type": "code",
   "execution_count": null,
   "id": "a8686ccc-2481-4ef5-a1f9-77e31f0c255d",
   "metadata": {},
   "outputs": [],
   "source": [
    "##효율적인 화폐구성\n",
    "n가지 종류의 화폐가 있다. \n",
    "이 화폐들의 개수를 최소한으로 이용해서 그 가치의 합이 \n",
    "m원이 되도록 하려한다. 이때 각 화폐는 몇개라도 사용할 수 있으며, \n",
    "사용한 화폐의 구성은 같지만 순서만 다른것은 같은경우로 구분한다. \n",
    "예를들어 2원 3원 단위의 화폐가 있을 때 15원을 만들기 위해\n",
    "3원 5개를 사용하는것이 가장 최소한의 화폐개수이다. \n",
    "m원을 만들기 위한 최소한의 화폐개수를 출력하라. \n",
    "불가능하다면 -1 을 출력한다.  "
   ]
  },
  {
   "cell_type": "code",
   "execution_count": null,
   "id": "d5a75541-e169-472f-8755-41494f26bf72",
   "metadata": {},
   "outputs": [],
   "source": [
    "n,m = (3,4)\n",
    "arr=[3,5,7]\n",
    "\n",
    "dp = [999999]*30\n",
    "\n",
    "\n",
    "# 1원을 만들기 위해서는\n",
    "def recur(i,count,answer):\n",
    "    if i == 0:\n",
    "        return count\n",
    "    elif i < 0:\n",
    "        return 999999\n",
    "    else:\n",
    "        for a in arr:\n",
    "            answer.append(recur(i-a,count+1,answer))\n",
    "        return min(answer)\n",
    "\n",
    "#m원을 만들기 위한 최소 화폐갯수\n",
    "for i in range(1,m+1): #1~15\n",
    "    count = 0\n",
    "    answer = []\n",
    "    dp[i] = recur(i,count,answer) \n",
    "        \n",
    "\n",
    "        \n",
    "if dp[m] == 999999:\n",
    "    print(-1)\n",
    "else:\n",
    "    print(dp[m])st"
   ]
  }
 ],
 "metadata": {
  "kernelspec": {
   "display_name": "Python 3 (ipykernel)",
   "language": "python",
   "name": "python3"
  },
  "language_info": {
   "codemirror_mode": {
    "name": "ipython",
    "version": 3
   },
   "file_extension": ".py",
   "mimetype": "text/x-python",
   "name": "python",
   "nbconvert_exporter": "python",
   "pygments_lexer": "ipython3",
   "version": "3.11.5"
  }
 },
 "nbformat": 4,
 "nbformat_minor": 5
}

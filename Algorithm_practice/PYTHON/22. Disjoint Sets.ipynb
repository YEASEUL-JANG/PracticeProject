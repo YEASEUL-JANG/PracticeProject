{
 "cells": [
  {
   "cell_type": "code",
   "execution_count": 5,
   "id": "7b6f6b53-f715-48fc-8b34-312471162a32",
   "metadata": {
    "tags": []
   },
   "outputs": [
    {
     "name": "stdin",
     "output_type": "stream",
     "text": [
      " 6 4\n",
      " 1 4\n",
      " 2 3\n",
      " 2 4\n",
      " 5 6\n"
     ]
    },
    {
     "name": "stdout",
     "output_type": "stream",
     "text": [
      "[0, 1, 1, 1, 1, 5, 5]\n"
     ]
    }
   ],
   "source": [
    "##서로소 집합 알고리즘\n",
    "\n",
    "#v:노드의 갯수, e: 간선(union)의 갯수\n",
    "v,e = map(int,input().split())\n",
    "#부모노드 테이블\n",
    "parent = [0] * (v+1)\n",
    "\n",
    "#각 노드의 부모를 자기자신으로 초기화\n",
    "for i in range(1,v+1):\n",
    "    parent[i] = i\n",
    "    \n",
    "## 특정 원소가 속한 집합찾기\n",
    "def find_parent(parent,a):\n",
    "    #루트노드가 아니라면 찾을때까지 재귀적 호출\n",
    "    if parent[a]!=a: ##부모노드가 자기자신과 같다면 최종부모\n",
    "        parent[a] = find_parent(parent,parent[a])\n",
    "    return parent[a]\n",
    "    \n",
    "    \n",
    "## 두 원소가 속한 집합합치기\n",
    "def union_parent(parent,a,b):\n",
    "    a = find_parent(parent,a)\n",
    "    b = find_parent(parent,b)\n",
    "    if a < b:\n",
    "        parent[b] = a\n",
    "    else:\n",
    "        parent[a] = b\n",
    "    \n",
    "    \n",
    "#union연산을 수행\n",
    "for i in range(e):\n",
    "    a,b = map(int,input().split())\n",
    "    union_parent(parent,a,b)\n",
    "\n",
    "# 각 노드의 최종 부모를 찾기\n",
    "for i in range(1, v + 1):\n",
    "    parent[i] = find_parent(parent, i)\n",
    "\n",
    "    \n",
    "\n",
    "print(parent)"
   ]
  },
  {
   "cell_type": "code",
   "execution_count": 6,
   "id": "21eee493-7057-4846-b2e5-5a5787fada73",
   "metadata": {
    "tags": []
   },
   "outputs": [
    {
     "name": "stdin",
     "output_type": "stream",
     "text": [
      " 7 9\n",
      " 1 2 29\n",
      " 1 5 75\n",
      " 2 3 35\n",
      " 2 6 34\n",
      " 3 4 7\n",
      " 4 6 23\n",
      " 4 7 13\n",
      " 5 6 53\n",
      " 6 7 25\n"
     ]
    },
    {
     "name": "stdout",
     "output_type": "stream",
     "text": [
      "159\n"
     ]
    }
   ],
   "source": [
    "## 크루스칼 알고리즘\n",
    "\n",
    "#v:노드의 갯수, e: 간선(union)의 갯수\n",
    "v,e = map(int,input().split())\n",
    "#부모노드 테이블\n",
    "parent = [0] * (v+1)\n",
    "\n",
    "#각 노드의 부모를 자기자신으로 초기화\n",
    "for i in range(1,v+1):\n",
    "    parent[i] = i\n",
    "\n",
    "    \n",
    "## 특정 원소가 속한 집합찾기\n",
    "def find_parent(parent,a):\n",
    "    #루트노드가 아니라면 찾을때까지 재귀적 호출\n",
    "    if parent[a]!=a: ##부모노드가 자기자신과 같다면 최종부모\n",
    "        parent[a] = find_parent(parent,parent[a])\n",
    "    return parent[a]\n",
    "    \n",
    "    \n",
    "## 두 원소가 속한 집합합치기\n",
    "def union_parent(parent,a,b):\n",
    "    a = find_parent(parent,a)\n",
    "    b = find_parent(parent,b)\n",
    "    if a < b:\n",
    "        parent[b] = a\n",
    "    else:\n",
    "        parent[a] = b\n",
    "    \n",
    "\n",
    "#모든 간선을 담을 리스트와 최종비용 변수\n",
    "edges = []\n",
    "result = 0\n",
    "\n",
    "#모든 간선에 대한 정보 입력받기\n",
    "for _ in range(e):\n",
    "    a,b,cost = map(int,input().split())\n",
    "    edges.append((cost,a,b))\n",
    "\n",
    "#비용순 정렬\n",
    "edges.sort()\n",
    "    \n",
    "#간선을 확인하면서 사이클이 발생않는 경우에만 집합에 포함\n",
    "for edge in edges:\n",
    "    cost,a,b = edge\n",
    "    if find_parent(parent,a) != find_parent(parent,b):\n",
    "        union_parent(parent,a,b)\n",
    "        result += cost\n",
    "\n",
    "\n",
    "print(result)\n"
   ]
  },
  {
   "cell_type": "code",
   "execution_count": 8,
   "id": "55f23110-06ca-4537-959a-7206a134d7a0",
   "metadata": {
    "tags": []
   },
   "outputs": [
    {
     "name": "stdin",
     "output_type": "stream",
     "text": [
      " 7 8\n",
      " 1 2\n",
      " 1 5\n",
      " 2 3\n",
      " 2 6\n",
      " 3 4\n",
      " 4 7\n",
      " 5 6\n",
      " 6 4\n"
     ]
    },
    {
     "name": "stdout",
     "output_type": "stream",
     "text": [
      "1 2 5 3 6 4 7 "
     ]
    }
   ],
   "source": [
    "from collections import deque\n",
    "\n",
    "#v:노드의 갯수, e:간선의 갯수\n",
    "v,e = map(int,input().split())\n",
    "\n",
    "# 노드들에 대한 진입차수 테이블 (0으로 초기화)\n",
    "indegree = [0] * (v+1)\n",
    "\n",
    "#각 노드에 연결된 간선 정보\n",
    "graph = [[]for _ in range(v+1)]\n",
    "\n",
    "for _ in range(e):\n",
    "    a,b = map(int,input().split())\n",
    "    graph[a].append(b) # a-> b순서\n",
    "    indegree[b] += 1 #b의 진입차수가 증가\n",
    "    \n",
    "def topology_sort():\n",
    "    q = deque()\n",
    "    result = []\n",
    "    \n",
    "    #큐에 진입차수가 0 인값을 먼저 넣음\n",
    "    for i in range(1,v+1):\n",
    "        if indegree[i] == 0:\n",
    "            q.append(i)\n",
    "    \n",
    "    #큐가 빌때까지 실행\n",
    "    while q:\n",
    "        now = q.popleft()\n",
    "        result.append(now)\n",
    "        #연결된 원소의 진입차수 하나 빼기\n",
    "        for i in graph[now]:\n",
    "            indegree[i] -= 1\n",
    "            if indegree[i] == 0:\n",
    "                q.append(i)\n",
    "                \n",
    "    for i in result:\n",
    "        print(i,end=' ')\n",
    "        \n",
    "topology_sort()\n"
   ]
  }
 ],
 "metadata": {
  "kernelspec": {
   "display_name": "Python 3 (ipykernel)",
   "language": "python",
   "name": "python3"
  },
  "language_info": {
   "codemirror_mode": {
    "name": "ipython",
    "version": 3
   },
   "file_extension": ".py",
   "mimetype": "text/x-python",
   "name": "python",
   "nbconvert_exporter": "python",
   "pygments_lexer": "ipython3",
   "version": "3.11.5"
  }
 },
 "nbformat": 4,
 "nbformat_minor": 5
}

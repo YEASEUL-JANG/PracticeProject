{
 "cells": [
  {
   "cell_type": "code",
   "execution_count": 6,
   "id": "ddd587a0",
   "metadata": {},
   "outputs": [
    {
     "name": "stdout",
     "output_type": "stream",
     "text": [
      "5\n",
      "2 3 1 2 2\n",
      "2\n"
     ]
    }
   ],
   "source": [
    "N = int(input())\n",
    "arr = list(map(int,input().split()))\n",
    "\n",
    "#공포도를 오름차순으로 정렬\n",
    "arr.sort()\n",
    "result = 0\n",
    "count = 0\n",
    "\n",
    "for fear in arr: #1,2,2,2,3\n",
    "    count+=1\n",
    "    #그룹의 크기가 모험가들의 공포도보다 높아야함.\n",
    "    if fear <=count:\n",
    "        result +=1\n",
    "        count =0\n",
    "print(result)\n",
    "    "
   ]
  },
  {
   "cell_type": "code",
   "execution_count": 7,
   "id": "1ec370e2",
   "metadata": {},
   "outputs": [
    {
     "name": "stdout",
     "output_type": "stream",
     "text": [
      "02984\n",
      "576\n"
     ]
    }
   ],
   "source": [
    "arr = input()\n",
    "st_arr = int(arr[0])\n",
    "for a in range(1,len(arr)):\n",
    "    num = int(arr[a])\n",
    "    if st_arr==0 or num == 0:\n",
    "        st_arr = st_arr + num\n",
    "    else:\n",
    "        st_arr = st_arr * num\n",
    "print(st_arr)"
   ]
  },
  {
   "cell_type": "code",
   "execution_count": 12,
   "id": "9223d300",
   "metadata": {},
   "outputs": [
    {
     "name": "stdout",
     "output_type": "stream",
     "text": [
      "0001100\n",
      "1\n"
     ]
    }
   ],
   "source": [
    "arr = input()\n",
    "zero = 0\n",
    "one = 0\n",
    "left = int(arr[0])\n",
    "if left==0:\n",
    "    zero+=1 \n",
    "else:\n",
    "    one+=1 \n",
    "for i in range(1,len(arr)):\n",
    "    num = int(arr[i])\n",
    "    if left != num:\n",
    "        if left==0:\n",
    "            zero+=1 \n",
    "        else:\n",
    "            one+=1 \n",
    "    left = num\n",
    "print(zero) if zero<one else print(one)\n",
    "    "
   ]
  },
  {
   "cell_type": "code",
   "execution_count": 15,
   "id": "23cb0972",
   "metadata": {},
   "outputs": [
    {
     "name": "stdout",
     "output_type": "stream",
     "text": [
      "5\n",
      "3 2 1 1 9\n",
      "8\n"
     ]
    }
   ],
   "source": [
    "n = int(input())\n",
    "arr = list(map(int,input().split()))\n",
    "arr.sort()\n",
    "result = 0\n",
    "answer = 1\n",
    "for a in arr:\n",
    "    if a >answer:\n",
    "        print(answer)\n",
    "        break\n",
    "    answer+=a\n",
    "    "
   ]
  },
  {
   "cell_type": "code",
   "execution_count": 18,
   "id": "cc32e559",
   "metadata": {},
   "outputs": [
    {
     "name": "stdout",
     "output_type": "stream",
     "text": [
      "8\n"
     ]
    }
   ],
   "source": [
    "from itertools import combinations\n",
    "\n",
    "arr = [1,3,2,3,2]\n",
    "com_arr = list(combinations(arr,2))\n",
    "answer = 0\n",
    "for a,b in com_arr:\n",
    "    if a!=b:\n",
    "        answer +=1\n",
    "print(answer)"
   ]
  },
  {
   "cell_type": "code",
   "execution_count": 19,
   "id": "3c3ccd0c",
   "metadata": {},
   "outputs": [
    {
     "name": "stdout",
     "output_type": "stream",
     "text": [
      "1\n"
     ]
    }
   ],
   "source": [
    "\n",
    "food_times = [3,1,2] \n",
    "k = 5 ##5초에 네트워크 장애발생\n",
    "result = 0 ##먹어야 하는 음식번호 \n",
    "x = 0\n",
    "last= 0\n",
    "while x<5:\n",
    "    \n",
    "    if food_times[last]>0:\n",
    "        #먹는다. \n",
    "        food_times[last]-=1\n",
    "        x+=1\n",
    "    if sum(food_times)==0:\n",
    "        print(-1)\n",
    "        break\n",
    "        \n",
    "    last= (last+1)%3\n",
    "while food_times[last]==0:\n",
    "    last = (last+1)%3\n",
    "\n",
    "print(last+1)\n",
    "    \n",
    "        "
   ]
  }
 ],
 "metadata": {
  "kernelspec": {
   "display_name": "Python 3 (ipykernel)",
   "language": "python",
   "name": "python3"
  },
  "language_info": {
   "codemirror_mode": {
    "name": "ipython",
    "version": 3
   },
   "file_extension": ".py",
   "mimetype": "text/x-python",
   "name": "python",
   "nbconvert_exporter": "python",
   "pygments_lexer": "ipython3",
   "version": "3.11.5"
  }
 },
 "nbformat": 4,
 "nbformat_minor": 5
}

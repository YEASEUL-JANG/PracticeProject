{
 "cells": [
  {
   "cell_type": "code",
   "execution_count": 6,
   "id": "122c8818",
   "metadata": {},
   "outputs": [
    {
     "name": "stdout",
     "output_type": "stream",
     "text": [
      "5\n",
      "2 3 1 2 2\n",
      "result :  1\n",
      "result :  2\n",
      "2\n"
     ]
    }
   ],
   "source": [
    "from collections import deque\n",
    "n = int(input())\n",
    "array = list(map(int,input().split()))\n",
    "array.sort(reverse=True)\n",
    "\n",
    "\n",
    "q = deque()\n",
    "for i in array:\n",
    "    q.append(i)\n",
    "    \n",
    "result = 0\n",
    "while q:\n",
    "    a = q.popleft()\n",
    "    result += 1\n",
    "    print('result : ',result)\n",
    "    for _ in range(a-1):\n",
    "        q.pop()\n",
    "        \n",
    "\n",
    "print(result)\n",
    "    "
   ]
  },
  {
   "cell_type": "code",
   "execution_count": 15,
   "id": "1db7f1ef",
   "metadata": {},
   "outputs": [
    {
     "name": "stdout",
     "output_type": "stream",
     "text": [
      "567\n",
      "210\n"
     ]
    }
   ],
   "source": [
    "array = str(input())\n",
    "num_array = []\n",
    "for i in array:\n",
    "    num_array.append(int(i))\n",
    "\n",
    "\n",
    "result = num_array[0]\n",
    "for a in range(1,len(num_array)):\n",
    "    if result == 0:\n",
    "        result += num_array[a]\n",
    "    elif num_array[a]>0:\n",
    "        result *= num_array[a]\n",
    "    else:\n",
    "        result += num_array[a]\n",
    "\n",
    "print(result)\n",
    "\n"
   ]
  },
  {
   "cell_type": "code",
   "execution_count": 30,
   "id": "033efb98",
   "metadata": {},
   "outputs": [
    {
     "name": "stdout",
     "output_type": "stream",
     "text": [
      "000110000110001100\n",
      "3\n"
     ]
    }
   ],
   "source": [
    "array = str(input())\n",
    "num_array = []\n",
    "for i in array:\n",
    "    num_array.append(int(i))\n",
    "n = len(num_array)\n",
    "count_1 = 0\n",
    "count_0 = 0\n",
    "\n",
    "for i in range(n-1):\n",
    "\n",
    "    if num_array[i]!= num_array[i+1]:\n",
    "        if num_array[i] == 1:\n",
    "            count_1 +=1\n",
    "        else:\n",
    "            count_0 +=1\n",
    "\n",
    "if num_array[n-1]== 1:\n",
    "    count_1 +=1\n",
    "else:\n",
    "    count_0 +=1\n",
    "\n",
    "print(min(count_1,count_0))\n",
    "\n",
    "\n",
    "\n"
   ]
  },
  {
   "cell_type": "code",
   "execution_count": 23,
   "id": "27a4c454",
   "metadata": {},
   "outputs": [
    {
     "name": "stdout",
     "output_type": "stream",
     "text": [
      "5\n",
      "1 2 8 9\n",
      "4\n"
     ]
    }
   ],
   "source": [
    "n = int(input())\n",
    "array = list(map(int,input().split()))\n",
    "array.sort() ##오름차순\n",
    "\n",
    "small_one = 1\n",
    "for i in array: ##만들 양의 정수금액\n",
    "    if i>small_one:\n",
    "        print(small_one)\n",
    "        break\n",
    "    \n",
    "    small_one += i\n",
    "    \n",
    "    "
   ]
  },
  {
   "cell_type": "code",
   "execution_count": 33,
   "id": "529554ca",
   "metadata": {},
   "outputs": [
    {
     "name": "stdout",
     "output_type": "stream",
     "text": [
      "8 5\n",
      "1 5 4 3 2 4 5 2\n",
      "25\n"
     ]
    }
   ],
   "source": [
    "n,m = map(int,input().split())\n",
    "array =list(map(int,input().split()))\n",
    "\n",
    "result = 0\n",
    "for i in range(n):\n",
    "    for j in range(i+1,n):\n",
    "        if array[i]==array[j]:\n",
    "            continue\n",
    "        else:\n",
    "            result+=1\n",
    "            \n",
    "print(result)"
   ]
  },
  {
   "cell_type": "code",
   "execution_count": 43,
   "id": "2db5de0c",
   "metadata": {},
   "outputs": [
    {
     "name": "stdout",
     "output_type": "stream",
     "text": [
      "1\n"
     ]
    }
   ],
   "source": [
    "food_times = [3,1,2] \n",
    "k = 5 ##5초에 네트워크 장애발생\n",
    "result = 0 ##먹어야 하는 음식번호 \n",
    "\n",
    "\n",
    "def solution(food_times,k):\n",
    "    count = 0\n",
    "    index = 0\n",
    "    food_num = len(food_times)\n",
    "    \n",
    "    if sum(food_times)<k:\n",
    "        return -1\n",
    "    \n",
    "    #네트워크 장애구간\n",
    "    while count<k:\n",
    "        #현재 음식이 0이 아니면 먹음\n",
    "        if food_times[index] != 0:\n",
    "            food_times[i] -= 1\n",
    "            count+=1\n",
    "        index =(index+1)%food_num\n",
    "                \n",
    "        if sum(food_times) == 0:\n",
    "            return -1\n",
    "            \n",
    "    #장애 이후 다음 먹을 음식 찾음            \n",
    "    while food_times[index] == 0:\n",
    "        index = (index+1) % food_num\n",
    "        \n",
    "    return index+1\n",
    "\n",
    "print(solution(food_times,k))"
   ]
  }
 ],
 "metadata": {
  "kernelspec": {
   "display_name": "Python 3 (ipykernel)",
   "language": "python",
   "name": "python3"
  },
  "language_info": {
   "codemirror_mode": {
    "name": "ipython",
    "version": 3
   },
   "file_extension": ".py",
   "mimetype": "text/x-python",
   "name": "python",
   "nbconvert_exporter": "python",
   "pygments_lexer": "ipython3",
   "version": "3.11.5"
  }
 },
 "nbformat": 4,
 "nbformat_minor": 5
}

{
 "cells": [
  {
   "cell_type": "code",
   "execution_count": 1,
   "id": "08348f0c",
   "metadata": {},
   "outputs": [
    {
     "name": "stdout",
     "output_type": "stream",
     "text": [
      "5\n",
      "R R R U D D\n",
      "3 4\n"
     ]
    }
   ],
   "source": [
    "N = int(input())\n",
    "arr = list(map(str,input().split()))\n",
    "x,y = 1,1\n",
    "for a in arr:\n",
    "    m,n = x,y\n",
    "    if a=='R':\n",
    "        n+=1\n",
    "    elif a=='U':\n",
    "        m-=1\n",
    "    elif a=='D':\n",
    "        m+=1\n",
    "    else:\n",
    "        n-=1\n",
    "    if 0<m<=N and 0<n<=N:\n",
    "        x,y = m,n\n",
    "print(x,y)\n",
    "        "
   ]
  },
  {
   "cell_type": "code",
   "execution_count": 5,
   "id": "9a921d39",
   "metadata": {},
   "outputs": [
    {
     "name": "stdout",
     "output_type": "stream",
     "text": [
      "5\n",
      "11475\n"
     ]
    }
   ],
   "source": [
    "N = int(input())\n",
    "count = 0\n",
    "for a in range(N+1):\n",
    "    for b in range(60):\n",
    "        for c in range(60):\n",
    "            if '3' in str(a)+str(b)+str(c):\n",
    "                count+=1\n",
    "print(count)"
   ]
  },
  {
   "cell_type": "code",
   "execution_count": 15,
   "id": "ae50c3d3",
   "metadata": {},
   "outputs": [
    {
     "name": "stdout",
     "output_type": "stream",
     "text": [
      "4 4\n",
      "1 1 0\n",
      "1 1 1 1\n",
      "1 0 0 1\n",
      "1 1 0 1\n",
      "1 1 1 1\n",
      "3\n"
     ]
    }
   ],
   "source": [
    "N, M = map(int, input().split())\n",
    "a, b, index = map(int, input().split())\n",
    "direction = [(-1, 0), (0, 1), (1, 0), (0, -1)]  # 북동남서\n",
    "back = [(1, 0), (0, -1), (-1, 0), (0, 1)]  # 반대방향\n",
    "mmaapp = [[0] * M for _ in range(N)]\n",
    "for i in range(N):\n",
    "    mmaapp[i] = list(map(int, input().split()))\n",
    "visited = [[0] * M for _ in range(N)]\n",
    "\n",
    "def go(a, b, index):\n",
    "    # 현재위치 방문처리\n",
    "    visited[a][b] = 1\n",
    "    # 왼쪽부터 방향탐색\n",
    "    turn_time = 0\n",
    "    while True:\n",
    "        index = (index - 1) % 4  # 왼쪽으로 회전\n",
    "        ma, mb = a + direction[index][0], b + direction[index][1]\n",
    "        # 방문하지 않았고 바다가 아니라면\n",
    "        if 0 <= ma < N and 0 <= mb < M and mmaapp[ma][mb] != 1 and visited[ma][mb] != 1:\n",
    "            a, b = ma, mb\n",
    "            visited[a][b] = 1\n",
    "            turn_time = 0  # 회전 횟수 초기화\n",
    "            continue\n",
    "        else:\n",
    "            turn_time += 1\n",
    "\n",
    "        # 네 방향 모두 갈 수 없는 경우\n",
    "        if turn_time == 4:\n",
    "            ma, mb = a + back[index][0], b + back[index][1]\n",
    "            if 0 <= ma < N and 0 <= mb < M and mmaapp[ma][mb] != 1:  # 뒤로 갈 수 있는 경우\n",
    "                a, b = ma, mb\n",
    "                turn_time = 0  # 뒤로 이동했으니 다시 탐색\n",
    "            else:\n",
    "                break  # 뒤가 바다이거나 더 이상 갈 수 없는 경우 종료\n",
    "    return\n",
    "\n",
    "go(a, b, index)\n",
    "\n",
    "# 방문한 칸의 수를 출력\n",
    "result = sum(sum(row) for row in visited)\n",
    "print(result)\n"
   ]
  }
 ],
 "metadata": {
  "kernelspec": {
   "display_name": "Python 3 (ipykernel)",
   "language": "python",
   "name": "python3"
  },
  "language_info": {
   "codemirror_mode": {
    "name": "ipython",
    "version": 3
   },
   "file_extension": ".py",
   "mimetype": "text/x-python",
   "name": "python",
   "nbconvert_exporter": "python",
   "pygments_lexer": "ipython3",
   "version": "3.11.5"
  }
 },
 "nbformat": 4,
 "nbformat_minor": 5
}

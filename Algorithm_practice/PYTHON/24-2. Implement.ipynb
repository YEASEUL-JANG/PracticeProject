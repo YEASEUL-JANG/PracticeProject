{
 "cells": [
  {
   "cell_type": "code",
   "execution_count": 1,
   "id": "6af386c8",
   "metadata": {},
   "outputs": [
    {
     "name": "stdout",
     "output_type": "stream",
     "text": [
      "5\n",
      "R R R U D D\n",
      "3 4\n"
     ]
    }
   ],
   "source": [
    "N = int(input())\n",
    "arr = list(map(str,input().split()))\n",
    "x,y = 1,1\n",
    "for a in arr:\n",
    "    m,n = x,y\n",
    "    if a=='R':\n",
    "        n+=1\n",
    "    elif a=='U':\n",
    "        m-=1\n",
    "    elif a=='D':\n",
    "        m+=1\n",
    "    else:\n",
    "        n-=1\n",
    "    if 0<m<=N and 0<n<=N:\n",
    "        x,y = m,n\n",
    "print(x,y)\n",
    "        "
   ]
  },
  {
   "cell_type": "code",
   "execution_count": 5,
   "id": "7487b326",
   "metadata": {},
   "outputs": [
    {
     "name": "stdout",
     "output_type": "stream",
     "text": [
      "5\n",
      "11475\n"
     ]
    }
   ],
   "source": [
    "N = int(input())\n",
    "count = 0\n",
    "for a in range(N+1):\n",
    "    for b in range(60):\n",
    "        for c in range(60):\n",
    "            if '3' in str(a)+str(b)+str(c):\n",
    "                count+=1\n",
    "print(count)"
   ]
  },
  {
   "cell_type": "code",
   "execution_count": 15,
   "id": "9c1aec3c",
   "metadata": {},
   "outputs": [
    {
     "name": "stdout",
     "output_type": "stream",
     "text": [
      "4 4\n",
      "1 1 0\n",
      "1 1 1 1\n",
      "1 0 0 1\n",
      "1 1 0 1\n",
      "1 1 1 1\n",
      "3\n"
     ]
    }
   ],
   "source": [
    "N, M = map(int, input().split())\n",
    "a, b, index = map(int, input().split())\n",
    "direction = [(-1, 0), (0, 1), (1, 0), (0, -1)]  # 북동남서\n",
    "back = [(1, 0), (0, -1), (-1, 0), (0, 1)]  # 반대방향\n",
    "mmaapp = [[0] * M for _ in range(N)]\n",
    "for i in range(N):\n",
    "    mmaapp[i] = list(map(int, input().split()))\n",
    "visited = [[0] * M for _ in range(N)]\n",
    "\n",
    "def go(a, b, index):\n",
    "    # 현재위치 방문처리\n",
    "    visited[a][b] = 1\n",
    "    # 왼쪽부터 방향탐색\n",
    "    turn_time = 0\n",
    "    while True:\n",
    "        index = (index - 1) % 4  # 왼쪽으로 회전\n",
    "        ma, mb = a + direction[index][0], b + direction[index][1]\n",
    "        # 방문하지 않았고 바다가 아니라면\n",
    "        if 0 <= ma < N and 0 <= mb < M and mmaapp[ma][mb] != 1 and visited[ma][mb] != 1:\n",
    "            a, b = ma, mb\n",
    "            visited[a][b] = 1\n",
    "            turn_time = 0  # 회전 횟수 초기화\n",
    "            continue\n",
    "        else:\n",
    "            turn_time += 1\n",
    "\n",
    "        # 네 방향 모두 갈 수 없는 경우\n",
    "        if turn_time == 4:\n",
    "            ma, mb = a + back[index][0], b + back[index][1]\n",
    "            if 0 <= ma < N and 0 <= mb < M and mmaapp[ma][mb] != 1:  # 뒤로 갈 수 있는 경우\n",
    "                a, b = ma, mb\n",
    "                turn_time = 0  # 뒤로 이동했으니 다시 탐색\n",
    "            else:\n",
    "                break  # 뒤가 바다이거나 더 이상 갈 수 없는 경우 종료\n",
    "    return\n",
    "\n",
    "go(a, b, index)\n",
    "\n",
    "# 방문한 칸의 수를 출력\n",
    "result = sum(sum(row) for row in visited)\n",
    "print(result)\n"
   ]
  },
  {
   "cell_type": "code",
   "execution_count": 17,
   "id": "4f397fb7",
   "metadata": {},
   "outputs": [
    {
     "name": "stdout",
     "output_type": "stream",
     "text": [
      "7755\n",
      "READY\n"
     ]
    }
   ],
   "source": [
    "N = input()\n",
    "mid = len(N)//2 #3\n",
    "left = N[:mid]\n",
    "right = N[mid:]\n",
    "\n",
    "def get_sum(arr):\n",
    "    arr_sum = 0\n",
    "    for a in arr:\n",
    "        arr_sum+=int(a)\n",
    "    return arr_sum\n",
    "\n",
    "if get_sum(left)==get_sum(right):\n",
    "    print(\"LUCKY\")\n",
    "else:\n",
    "    print(\"READY\")\n"
   ]
  },
  {
   "cell_type": "code",
   "execution_count": 27,
   "id": "c536cdca",
   "metadata": {},
   "outputs": [
    {
     "name": "stdout",
     "output_type": "stream",
     "text": [
      "K1KA5CB7\n",
      "ABCKK13\n"
     ]
    }
   ],
   "source": [
    "arr = input()\n",
    "num = 0\n",
    "answer = []\n",
    "for a in arr:\n",
    "    if a.isdigit():\n",
    "        num+=int(a)\n",
    "    else:\n",
    "        answer.append(a)\n",
    "        \n",
    "answer.sort()\n",
    "print(\"\".join(answer)+str(num))"
   ]
  },
  {
   "cell_type": "code",
   "execution_count": 52,
   "id": "b6692e23",
   "metadata": {},
   "outputs": [
    {
     "name": "stdout",
     "output_type": "stream",
     "text": [
      "abcabcdede 10\n",
      "abcabc2de 9\n",
      "2abcdede 8\n",
      "8\n"
     ]
    }
   ],
   "source": [
    "arr = \"abcabcdede\"\n",
    "\n",
    "answer = len(arr)\n",
    "#2개단위부터 자르기\n",
    "cut = 1\n",
    "\n",
    "while cut<(answer//2): \n",
    "    last = arr[0:cut] #첫번째 부분 문자열\n",
    "    num = 1\n",
    "    str_arr = ''\n",
    "    \n",
    "    for i in range(cut,len(arr),cut):#2,4,6\n",
    "        part = arr[i:i+cut]#현재부분 문자열\n",
    "        \n",
    "        if last==part: #이전문자열과 같다면\n",
    "            num+=1\n",
    "            \n",
    "        else: \n",
    "            #이전까지의 압축 문자열 처리\n",
    "            if num>1:\n",
    "                str_arr+= str(num)+last\n",
    "            else:\n",
    "                str_arr+=last\n",
    "            num=1\n",
    "            last = part  \n",
    "    if num>1:\n",
    "        str_arr+=str(num)+last\n",
    "    else:\n",
    "        str_arr+=last\n",
    "    print(str_arr, len(str_arr))\n",
    "    cut+=1\n",
    "    answer = min(len(str_arr),answer)\n",
    "    \n",
    "print(answer)"
   ]
  },
  {
   "cell_type": "code",
   "execution_count": 3,
   "id": "9233f97f",
   "metadata": {},
   "outputs": [
    {
     "name": "stdout",
     "output_type": "stream",
     "text": [
      "True\n"
     ]
    }
   ],
   "source": [
    "import copy\n",
    "\n",
    "key = [[0, 0, 0], [1, 0, 0], [0, 1, 1]]\n",
    "lock = [[1, 1, 1], [1, 1, 0], [1, 0, 1]]\n",
    "M = len(key)\n",
    "\n",
    "#lock 확장하기 \n",
    "new_lock_size = len(lock) + 2 * (M - 1)\n",
    "new_lock = [[0]*new_lock_size for _ in range(new_lock_size)]\n",
    "N = len(new_lock)\n",
    "for i in range(len(lock)):\n",
    "    for j in range(len(lock)):\n",
    "        new_lock[i+(M-1)][j+(M-1)]= lock[i][j]\n",
    "\n",
    "#90도 회전\n",
    "def rotate(key):\n",
    "    new_key = [[0]*(M)for _ in range(M)]\n",
    "    for i in range(M):\n",
    "        for j in range(M):\n",
    "            new_key[j][M-i-1] = key[i][j]\n",
    "    return new_key\n",
    "\n",
    "def get_match(x,y,key,new_lock):\n",
    "    L = len(lock)\n",
    "    p_lock = copy.deepcopy(new_lock)\n",
    "    \n",
    "    #확장된 new_lock에 new_key를 더함\n",
    "    for i in range(M):\n",
    "        for j in range(M):\n",
    "            p_lock[x+i][y+j] += key[i][j]\n",
    "            \n",
    "    #lock의 중앙부분이 모두 1인지 확인\n",
    "    for i in range(L):\n",
    "        for j in range(L):\n",
    "            if p_lock[i+M-1][j+M-1] != 1:\n",
    "                return False\n",
    "    return True\n",
    "\n",
    "#Lock내에서 이동하는 모든 경우 \n",
    "def get_move(key):\n",
    "    for n in range(4):# 90도씩 4번 회전\n",
    "        key = rotate(key)\n",
    "        \n",
    "        #확장 Lock에서 이동\n",
    "        for i in range(N-(M-1)):\n",
    "            for j in range(N-(M-1)):\n",
    "                #i와 j만큼 key를 이동\n",
    "                if get_match(i,j,key,new_lock):\n",
    "                    return True\n",
    "    return False\n",
    "\n",
    "print(get_move(key))\n",
    "    "
   ]
  },
  {
   "cell_type": "code",
   "execution_count": 25,
   "id": "d1719193",
   "metadata": {},
   "outputs": [
    {
     "name": "stdout",
     "output_type": "stream",
     "text": [
      "6\n",
      "3\n",
      "3 4\n",
      "2 5\n",
      "5 3\n",
      "3\n",
      "3 D\n",
      "15 L\n",
      "17 D\n",
      "9\n"
     ]
    }
   ],
   "source": [
    "from collections import deque\n",
    "\n",
    "N = int(input())\n",
    "K = int(input())\n",
    "apple = []\n",
    "for _ in range(K):\n",
    "    apple.append(list(map(int,input().split())))\n",
    "L = int(input())\n",
    "rotate = {}\n",
    "for _ in range(L):#a초 후 L:왼쪽, D:오른쪽 90도\n",
    "    a,b = map(str,input().split())\n",
    "    rotate[int(a)]=b\n",
    "    \n",
    "direction = [(0,1),(1,0),(0,-1),(-1,0)] #동,남,서,북\n",
    "\n",
    "#방향 회전\n",
    "def get_rotate(index,direct):\n",
    "    \n",
    "    if direct=='L': #왼쪽\n",
    "        index = (index-1)%4\n",
    "    else:\n",
    "        index = (index+1)%4\n",
    "    return index\n",
    "\n",
    "\n",
    "\n",
    "def get_move(a,b):\n",
    "    time = 0\n",
    "    index = 0\n",
    "    q = deque([[a,b]]) #최초위치 넣기\n",
    "    while True:\n",
    "        #현재 방향으로 뱀의 머리 이동 (c,d)\n",
    "        dx,dy = direction[index][0]+q[-1][0],direction[index][1]+q[-1][1]\n",
    "\n",
    "        #시간증가 \n",
    "        time +=1\n",
    "\n",
    "        #-> 이동위치(c,d)가 queue에 속해있거나 벽에 부딫혔는지 확인 : 시간반환\n",
    "        if [dx,dy] not in q and (1<=dx<=N and 1<=dy<=N):\n",
    "            #위치이동\n",
    "            q.append([dx,dy])\n",
    "        else:\n",
    "            return time\n",
    "\n",
    "        #사과확인 : 있으면 사과없앰\n",
    "        #       : 없으면 이전머리 queue에서 삭제 -(a,b)\n",
    "        if [dx,dy] in apple:\n",
    "            apple.remove([dx,dy])\n",
    "        else:\n",
    "            q.popleft()\n",
    "            \n",
    "\n",
    "        #증가시간이 rotate.key()안에 있으면 방향전환\n",
    "        if time in rotate.keys():\n",
    "            d = rotate[time]\n",
    "            index = get_rotate(index,d)\n",
    "        \n",
    "print(get_move(1,1))"
   ]
  },
  {
   "cell_type": "code",
   "execution_count": 28,
   "id": "3d3f414a",
   "metadata": {
    "scrolled": true
   },
   "outputs": [
    {
     "name": "stdout",
     "output_type": "stream",
     "text": [
      "5 3\n",
      "0 0 1 0 0\n",
      "0 0 2 0 1\n",
      "0 1 2 0 0\n",
      "0 0 1 0 0\n",
      "0 0 0 0 2\n",
      "5\n"
     ]
    }
   ],
   "source": [
    "from itertools import combinations\n",
    "N,M = map(int,input().split())\n",
    "arr = [[0]*N for _ in range(N)]\n",
    "for i in range(N):\n",
    "    arr[i] = list(map(int,input().split()))\n",
    "    \n",
    "#치킨집과 집 위치 구하기 \n",
    "all_chicken = []\n",
    "house = []\n",
    "for i in range(N):\n",
    "    for j in range(N):\n",
    "        if arr[i][j]==2:\n",
    "            all_chicken.append((i,j))\n",
    "        elif arr[i][j]==1:\n",
    "            house.append((i,j))\n",
    "            \n",
    "#치킨집중 M개를 고르는 경우의 리스트\n",
    "chichken = list(combinations(all_chicken,M))\n",
    "\n",
    "#도시의 치킨거리의 최솟값\n",
    "def solution():\n",
    "    answer = int(1e9)\n",
    "    for c in chichken: #치킨집 select\n",
    "        result = 0\n",
    "        for m,n in house: #집별로 치킨거리 계산\n",
    "            distance = int(1e9)\n",
    "            for a,b in c:\n",
    "                #집에서 가장 가까운 치킨집을 치킨거리로 저장\n",
    "                distance = min(distance,abs(m-a)+abs(n-b))\n",
    "            result += distance\n",
    "        answer = min(answer,result)\n",
    "    return answer\n",
    "\n",
    "print(solution())"
   ]
  }
 ],
 "metadata": {
  "kernelspec": {
   "display_name": "Python 3 (ipykernel)",
   "language": "python",
   "name": "python3"
  },
  "language_info": {
   "codemirror_mode": {
    "name": "ipython",
    "version": 3
   },
   "file_extension": ".py",
   "mimetype": "text/x-python",
   "name": "python",
   "nbconvert_exporter": "python",
   "pygments_lexer": "ipython3",
   "version": "3.11.5"
  }
 },
 "nbformat": 4,
 "nbformat_minor": 5
}

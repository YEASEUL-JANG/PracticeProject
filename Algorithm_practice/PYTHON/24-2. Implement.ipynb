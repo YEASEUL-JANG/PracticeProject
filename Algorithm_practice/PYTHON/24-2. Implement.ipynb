{
 "cells": [
  {
   "cell_type": "code",
   "execution_count": 1,
   "id": "6af386c8",
   "metadata": {},
   "outputs": [
    {
     "name": "stdout",
     "output_type": "stream",
     "text": [
      "5\n",
      "R R R U D D\n",
      "3 4\n"
     ]
    }
   ],
   "source": [
    "N = int(input())\n",
    "arr = list(map(str,input().split()))\n",
    "x,y = 1,1\n",
    "for a in arr:\n",
    "    m,n = x,y\n",
    "    if a=='R':\n",
    "        n+=1\n",
    "    elif a=='U':\n",
    "        m-=1\n",
    "    elif a=='D':\n",
    "        m+=1\n",
    "    else:\n",
    "        n-=1\n",
    "    if 0<m<=N and 0<n<=N:\n",
    "        x,y = m,n\n",
    "print(x,y)\n",
    "        "
   ]
  },
  {
   "cell_type": "code",
   "execution_count": 5,
   "id": "7487b326",
   "metadata": {},
   "outputs": [
    {
     "name": "stdout",
     "output_type": "stream",
     "text": [
      "5\n",
      "11475\n"
     ]
    }
   ],
   "source": [
    "N = int(input())\n",
    "count = 0\n",
    "for a in range(N+1):\n",
    "    for b in range(60):\n",
    "        for c in range(60):\n",
    "            if '3' in str(a)+str(b)+str(c):\n",
    "                count+=1\n",
    "print(count)"
   ]
  },
  {
   "cell_type": "code",
   "execution_count": 15,
   "id": "9c1aec3c",
   "metadata": {},
   "outputs": [
    {
     "name": "stdout",
     "output_type": "stream",
     "text": [
      "4 4\n",
      "1 1 0\n",
      "1 1 1 1\n",
      "1 0 0 1\n",
      "1 1 0 1\n",
      "1 1 1 1\n",
      "3\n"
     ]
    }
   ],
   "source": [
    "N, M = map(int, input().split())\n",
    "a, b, index = map(int, input().split())\n",
    "direction = [(-1, 0), (0, 1), (1, 0), (0, -1)]  # 북동남서\n",
    "back = [(1, 0), (0, -1), (-1, 0), (0, 1)]  # 반대방향\n",
    "mmaapp = [[0] * M for _ in range(N)]\n",
    "for i in range(N):\n",
    "    mmaapp[i] = list(map(int, input().split()))\n",
    "visited = [[0] * M for _ in range(N)]\n",
    "\n",
    "def go(a, b, index):\n",
    "    # 현재위치 방문처리\n",
    "    visited[a][b] = 1\n",
    "    # 왼쪽부터 방향탐색\n",
    "    turn_time = 0\n",
    "    while True:\n",
    "        index = (index - 1) % 4  # 왼쪽으로 회전\n",
    "        ma, mb = a + direction[index][0], b + direction[index][1]\n",
    "        # 방문하지 않았고 바다가 아니라면\n",
    "        if 0 <= ma < N and 0 <= mb < M and mmaapp[ma][mb] != 1 and visited[ma][mb] != 1:\n",
    "            a, b = ma, mb\n",
    "            visited[a][b] = 1\n",
    "            turn_time = 0  # 회전 횟수 초기화\n",
    "            continue\n",
    "        else:\n",
    "            turn_time += 1\n",
    "\n",
    "        # 네 방향 모두 갈 수 없는 경우\n",
    "        if turn_time == 4:\n",
    "            ma, mb = a + back[index][0], b + back[index][1]\n",
    "            if 0 <= ma < N and 0 <= mb < M and mmaapp[ma][mb] != 1:  # 뒤로 갈 수 있는 경우\n",
    "                a, b = ma, mb\n",
    "                turn_time = 0  # 뒤로 이동했으니 다시 탐색\n",
    "            else:\n",
    "                break  # 뒤가 바다이거나 더 이상 갈 수 없는 경우 종료\n",
    "    return\n",
    "\n",
    "go(a, b, index)\n",
    "\n",
    "# 방문한 칸의 수를 출력\n",
    "result = sum(sum(row) for row in visited)\n",
    "print(result)\n"
   ]
  },
  {
   "cell_type": "code",
   "execution_count": 17,
   "id": "4f397fb7",
   "metadata": {},
   "outputs": [
    {
     "name": "stdout",
     "output_type": "stream",
     "text": [
      "7755\n",
      "READY\n"
     ]
    }
   ],
   "source": [
    "N = input()\n",
    "mid = len(N)//2 #3\n",
    "left = N[:mid]\n",
    "right = N[mid:]\n",
    "\n",
    "def get_sum(arr):\n",
    "    arr_sum = 0\n",
    "    for a in arr:\n",
    "        arr_sum+=int(a)\n",
    "    return arr_sum\n",
    "\n",
    "if get_sum(left)==get_sum(right):\n",
    "    print(\"LUCKY\")\n",
    "else:\n",
    "    print(\"READY\")\n"
   ]
  },
  {
   "cell_type": "code",
   "execution_count": 27,
   "id": "c536cdca",
   "metadata": {},
   "outputs": [
    {
     "name": "stdout",
     "output_type": "stream",
     "text": [
      "K1KA5CB7\n",
      "ABCKK13\n"
     ]
    }
   ],
   "source": [
    "arr = input()\n",
    "num = 0\n",
    "answer = []\n",
    "for a in arr:\n",
    "    if a.isdigit():\n",
    "        num+=int(a)\n",
    "    else:\n",
    "        answer.append(a)\n",
    "        \n",
    "answer.sort()\n",
    "print(\"\".join(answer)+str(num))"
   ]
  },
  {
   "cell_type": "code",
   "execution_count": 52,
   "id": "b6692e23",
   "metadata": {},
   "outputs": [
    {
     "name": "stdout",
     "output_type": "stream",
     "text": [
      "abcabcdede 10\n",
      "abcabc2de 9\n",
      "2abcdede 8\n",
      "8\n"
     ]
    }
   ],
   "source": [
    "arr = \"abcabcdede\"\n",
    "\n",
    "answer = len(arr)\n",
    "#2개단위부터 자르기\n",
    "cut = 1\n",
    "\n",
    "while cut<(answer//2): \n",
    "    last = arr[0:cut] #첫번째 부분 문자열\n",
    "    num = 1\n",
    "    str_arr = ''\n",
    "    \n",
    "    for i in range(cut,len(arr),cut):#2,4,6\n",
    "        part = arr[i:i+cut]#현재부분 문자열\n",
    "        \n",
    "        if last==part: #이전문자열과 같다면\n",
    "            num+=1\n",
    "            \n",
    "        else: \n",
    "            #이전까지의 압축 문자열 처리\n",
    "            if num>1:\n",
    "                str_arr+= str(num)+last\n",
    "            else:\n",
    "                str_arr+=last\n",
    "            num=1\n",
    "            last = part  \n",
    "    if num>1:\n",
    "        str_arr+=str(num)+last\n",
    "    else:\n",
    "        str_arr+=last\n",
    "    print(str_arr, len(str_arr))\n",
    "    cut+=1\n",
    "    answer = min(len(str_arr),answer)\n",
    "    \n",
    "print(answer)"
   ]
  }
 ],
 "metadata": {
  "kernelspec": {
   "display_name": "Python 3 (ipykernel)",
   "language": "python",
   "name": "python3"
  },
  "language_info": {
   "codemirror_mode": {
    "name": "ipython",
    "version": 3
   },
   "file_extension": ".py",
   "mimetype": "text/x-python",
   "name": "python",
   "nbconvert_exporter": "python",
   "pygments_lexer": "ipython3",
   "version": "3.11.5"
  }
 },
 "nbformat": 4,
 "nbformat_minor": 5
}

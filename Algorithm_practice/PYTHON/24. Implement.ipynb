{
 "cells": [
  {
   "cell_type": "code",
   "execution_count": 5,
   "id": "0b50038e",
   "metadata": {},
   "outputs": [
    {
     "name": "stdout",
     "output_type": "stream",
     "text": [
      "7755\n",
      "[7, 7] [5, 5]\n",
      "READY\n"
     ]
    }
   ],
   "source": [
    "num_str = str(input())\n",
    "num = len(num_str)//2\n",
    "group_left = []\n",
    "group_right=[]\n",
    "for j in range(num):\n",
    "    group_left.append(int(num_str[j]))\n",
    "for j in range(num,len(num_str)):\n",
    "    group_right.append(int(num_str[j]))\n",
    "\n",
    "print(group_left,group_right)\n",
    "if sum(group_left)==sum(group_right):\n",
    "    print(\"LUCKY\")\n",
    "else:\n",
    "    print(\"READY\")\n",
    "\n",
    "    "
   ]
  },
  {
   "cell_type": "code",
   "execution_count": 21,
   "id": "622ab257",
   "metadata": {},
   "outputs": [
    {
     "name": "stdout",
     "output_type": "stream",
     "text": [
      "K1KA5CB7\n",
      "13\n",
      "ABCKK13\n"
     ]
    }
   ],
   "source": [
    "array = str(input())\n",
    "num_result = 0\n",
    "str_result = []\n",
    "for i in array:\n",
    "    if i.isdigit():#숫자인지\n",
    "        num_result += int(i)\n",
    "    else: #문자이면\n",
    "        str_result.append(i)\n",
    "        \n",
    "str_result.sort()\n",
    "print(''.join(str_result)+str(num_result))"
   ]
  }
 ],
 "metadata": {
  "kernelspec": {
   "display_name": "Python 3 (ipykernel)",
   "language": "python",
   "name": "python3"
  },
  "language_info": {
   "codemirror_mode": {
    "name": "ipython",
    "version": 3
   },
   "file_extension": ".py",
   "mimetype": "text/x-python",
   "name": "python",
   "nbconvert_exporter": "python",
   "pygments_lexer": "ipython3",
   "version": "3.11.5"
  }
 },
 "nbformat": 4,
 "nbformat_minor": 5
}

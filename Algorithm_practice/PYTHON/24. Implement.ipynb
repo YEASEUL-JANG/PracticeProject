{
 "cells": [
  {
   "cell_type": "code",
   "execution_count": 5,
   "id": "98224426",
   "metadata": {},
   "outputs": [
    {
     "name": "stdout",
     "output_type": "stream",
     "text": [
      "7755\n",
      "[7, 7] [5, 5]\n",
      "READY\n"
     ]
    }
   ],
   "source": [
    "num_str = str(input())\n",
    "num = len(num_str)//2\n",
    "group_left = []\n",
    "group_right=[]\n",
    "for j in range(num):\n",
    "    group_left.append(int(num_str[j]))\n",
    "for j in range(num,len(num_str)):\n",
    "    group_right.append(int(num_str[j]))\n",
    "\n",
    "print(group_left,group_right)\n",
    "if sum(group_left)==sum(group_right):\n",
    "    print(\"LUCKY\")\n",
    "else:\n",
    "    print(\"READY\")\n",
    "\n",
    "    "
   ]
  },
  {
   "cell_type": "code",
   "execution_count": 21,
   "id": "d71a34fe",
   "metadata": {
    "scrolled": true
   },
   "outputs": [
    {
     "name": "stdout",
     "output_type": "stream",
     "text": [
      "K1KA5CB7\n",
      "13\n",
      "ABCKK13\n"
     ]
    }
   ],
   "source": [
    "array = str(input())\n",
    "num_result = 0\n",
    "str_result = []\n",
    "for i in array:\n",
    "    if i.isdigit():#숫자인지\n",
    "        num_result += int(i)\n",
    "    else: #문자이면\n",
    "        str_result.append(i)\n",
    "        \n",
    "str_result.sort()\n",
    "print(''.join(str_result)+str(num_result))"
   ]
  },
  {
   "cell_type": "code",
   "execution_count": 9,
   "id": "1fc1bab4",
   "metadata": {},
   "outputs": [
    {
     "name": "stdout",
     "output_type": "stream",
     "text": [
      "asdasdff\n",
      "compressed asdasd2f\n",
      "compressed asdasdff\n",
      "compressed 2asdff\n",
      "compressed asdasdff\n",
      "compressed asdasdff\n",
      "compressed asdasdff\n",
      "compressed asdasdff\n",
      "compressed asdasdff\n",
      "6\n"
     ]
    }
   ],
   "source": [
    "array = str(input())\n",
    "num_array = len(array)\n",
    "result = num_array\n",
    "\n",
    "#문자열의 길이까지 하나씩 늘려가며 앞에서 부터 자른다. \n",
    "for i in range(1,num_array+1): #자르는 길이의 수\n",
    "    sliced = []\n",
    "    compressed = \"\"\n",
    "    j = 0\n",
    "    while (j+i) <= num_array:\n",
    "        sliced.append(array[j:j+i])\n",
    "        j+=i\n",
    "    #slice된 배열을 for문을 돌면서 중복체크 \n",
    "    #중복된 숫자\n",
    "    num = 1\n",
    "    for i in range(len(sliced)-1):\n",
    "        if sliced[i] == sliced[i+1]:\n",
    "            num+=1\n",
    "        else:\n",
    "            if num >1:\n",
    "                compressed += str(num)+sliced[i]\n",
    "            else:\n",
    "                compressed += sliced[i]\n",
    "            num=1\n",
    "    #마지막 조각 처리\n",
    "    if num >1:\n",
    "        compressed += str(num)+sliced[len(sliced)-1]\n",
    "    else:\n",
    "        compressed += sliced[len(sliced)-1]\n",
    "        \n",
    "    #남은 문자열 추가\n",
    "    compressed += array[j:]\n",
    "    result= min(result,len(compressed))   \n",
    "    \n",
    "print(result)"
   ]
  },
  {
   "cell_type": "code",
   "execution_count": 27,
   "id": "9c375619",
   "metadata": {},
   "outputs": [
    {
     "name": "stdout",
     "output_type": "stream",
     "text": [
      "11bb1ccc\n"
     ]
    }
   ],
   "source": [
    "array = \"aabbaccc\"\n",
    "slice = array[0:1]\n",
    "print(array.replace(slice,\"1\"))\n"
   ]
  },
  {
   "cell_type": "code",
   "execution_count": 15,
   "id": "5b9db5c5",
   "metadata": {},
   "outputs": [
    {
     "name": "stdout",
     "output_type": "stream",
     "text": [
      "True\n"
     ]
    }
   ],
   "source": [
    "key = [[0, 0, 0], [1, 0, 0], [0, 1, 1]]\n",
    "lock = [[1, 1, 1], [1, 1, 0], [1, 0, 1]]\n",
    "\n",
    "\n",
    "def rotate(key):\n",
    "    M = len(key)\n",
    "    result = [[0]*M for _ in range(M)]\n",
    "    for i in range(M):\n",
    "         for j in range(M):\n",
    "                result[j][M-1-i]=key[i][j]\n",
    "    return result\n",
    "\n",
    "def matching(new_key,lock,dy,dx):\n",
    "    M = len(lock)\n",
    "    N = len(new_key)\n",
    "    for i in range(M):\n",
    "        for j in range(M):\n",
    "            ey = i+dy\n",
    "            ex = j+dx\n",
    "            if 0<=ey<N and 0<=ex<N:\n",
    "                if lock[i][j]+new_key[ey][ex] != 1:\n",
    "                    return False\n",
    "            elif lock[i][j] == 0: #자물쇠의 홈이 채워지지 않은 경우\n",
    "                return False\n",
    "    return True\n",
    "\n",
    "\n",
    "def roof(key,lock):\n",
    "    M = len(key)\n",
    "    N = len(lock)\n",
    "    \n",
    "    #key는 90도씩 4번회전가능 \n",
    "    for _ in range(4):\n",
    "        \n",
    "        #90도 회전\n",
    "        key = rotate(key)\n",
    "        \n",
    "        # m은 -M + 1부터 N - 1까지 가능\n",
    "        for dy in range(-N + 1, N):\n",
    "            for dx in range(-N + 1, N):\n",
    "                if matching(key,lock,dy,dx):\n",
    "                    return True\n",
    "    \n",
    "    return False\n",
    "            \n",
    "\n",
    "print(roof(key,lock))\n",
    "        \n",
    "    "
   ]
  },
  {
   "cell_type": "code",
   "execution_count": 29,
   "id": "258f91ea",
   "metadata": {},
   "outputs": [
    {
     "name": "stdout",
     "output_type": "stream",
     "text": [
      "9\n"
     ]
    }
   ],
   "source": [
    "from collections import deque\n",
    "\n",
    "N = 6 #보드크기\n",
    "K = 3 #사과갯수\n",
    "apple = [[3,4],[2,5],[5,3]] #사과위치\n",
    "L = 3\n",
    "rotate = [[3,\"D\"],[15,\"L\"],[17,\"D\"]] #X초 후 L:왼쪽, D:오른쪽 90도\n",
    "#뱀의 방향 (0:오른쪽,1:아래,2:왼쪽,3:위)\n",
    "directions = [(0,1),(1,0),(0,-1),(-1,0)]\n",
    "board = [[0]*(N+1)for _ in range(N+1)]\n",
    "\n",
    "for i in apple:\n",
    "    (a,b) = i\n",
    "    board[a][b] = 1\n",
    "    \n",
    "#처음위치\n",
    "(a,b) = (1,1)\n",
    "x = 0\n",
    "direction = 0 #처음 오른쪽\n",
    "q = deque([a,b])\n",
    "\n",
    "while True:\n",
    "    #시간증가\n",
    "    x+=1\n",
    "            \n",
    "    #이동\n",
    "    (da,db) = directions[direction]\n",
    "    aa,bb = (a+da,b+db)\n",
    "    \n",
    "    #게임 종료조건\n",
    "    if not (1 <= aa <= N and 1 <= bb <= N) or (aa, bb) in q:\n",
    "        break\n",
    "    \n",
    "    \n",
    "    #몸과 만났는지 확인 : 만났으면 시간 반환\n",
    "    if (aa,bb) in q:\n",
    "        break\n",
    "    \n",
    "    #사과있는지 확인\n",
    "    if board[aa][bb] == 1:\n",
    "        #사과먹기\n",
    "        board[aa][bb] = 0\n",
    "    else:\n",
    "        #없으면 꼬리제거\n",
    "        q.popleft()\n",
    "        \n",
    "    #새로운 머리 위치 추가\n",
    "    q.append((aa,bb))\n",
    "    a,b = aa,bb\n",
    "    \n",
    "    #회전\n",
    "    if rotate and rotate[0][0]==x:\n",
    "        _,c = rotate.pop(0)\n",
    "        if c==\"D\":\n",
    "            direction = (direction+1) % 4 #오른쪽\n",
    "        else:\n",
    "            direction = (direction-1) % 4 #왼쪽\n",
    "    \n",
    "\n",
    "print(x)\n",
    "        "
   ]
  },
  {
   "cell_type": "code",
   "execution_count": 45,
   "id": "d5ecb000",
   "metadata": {},
   "outputs": [
    {
     "name": "stdout",
     "output_type": "stream",
     "text": [
      "11\n"
     ]
    }
   ],
   "source": [
    "N = 5\n",
    "M = 1\n",
    "city = [[1,2,0,0,0],\n",
    "        [1,2,0,0,0],\n",
    "        [1,2,0,0,0],\n",
    "        [1,2,0,0,0],\n",
    "        [1,2,0,0,0]]\n",
    "house = []\n",
    "chicken = []\n",
    "selected_chicken = []\n",
    "result = []\n",
    "for i in range(N):\n",
    "    for j in range(N):\n",
    "        #집일때\n",
    "        if city[i][j]== 1:\n",
    "            house.append((i,j))\n",
    "        #치킨집일때\n",
    "        elif city[i][j] == 2:\n",
    "            chicken.append((i,j))\n",
    "            \n",
    "def select_chicken(depth,start):\n",
    "    if depth == M:\n",
    "        chicken_dist = [100]*(len(house))\n",
    "        #치킨집과 집의 거리 계산\n",
    "        for i in range(len(house)):\n",
    "            (a,b) = house[i]\n",
    "            for c in selected_chicken:\n",
    "                (c,d) = c\n",
    "                #치킨집 거리\n",
    "                distance = abs(a-c)+abs(b-d)\n",
    "                chicken_dist[i]=min(chicken_dist[i],distance)\n",
    "        result.append(sum(chicken_dist))\n",
    "        return\n",
    "    \n",
    "    \n",
    "    for i in range(start,len(chicken)):\n",
    "        selected_chicken.append(chicken[i])\n",
    "        select_chicken(depth+1,i+1)\n",
    "        selected_chicken.pop()\n",
    "        \n",
    "    \n",
    "\n",
    "select_chicken(0,0)\n",
    "print(min(result))\n",
    "            "
   ]
  }
 ],
 "metadata": {
  "kernelspec": {
   "display_name": "Python 3 (ipykernel)",
   "language": "python",
   "name": "python3"
  },
  "language_info": {
   "codemirror_mode": {
    "name": "ipython",
    "version": 3
   },
   "file_extension": ".py",
   "mimetype": "text/x-python",
   "name": "python",
   "nbconvert_exporter": "python",
   "pygments_lexer": "ipython3",
   "version": "3.11.5"
  }
 },
 "nbformat": 4,
 "nbformat_minor": 5
}

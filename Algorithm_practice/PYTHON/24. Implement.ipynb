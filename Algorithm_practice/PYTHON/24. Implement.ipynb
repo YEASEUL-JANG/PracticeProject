{
 "cells": [
  {
   "cell_type": "code",
   "execution_count": 5,
   "id": "1cd963cb",
   "metadata": {},
   "outputs": [
    {
     "name": "stdout",
     "output_type": "stream",
     "text": [
      "7755\n",
      "[7, 7] [5, 5]\n",
      "READY\n"
     ]
    }
   ],
   "source": [
    "num_str = str(input())\n",
    "num = len(num_str)//2\n",
    "group_left = []\n",
    "group_right=[]\n",
    "for j in range(num):\n",
    "    group_left.append(int(num_str[j]))\n",
    "for j in range(num,len(num_str)):\n",
    "    group_right.append(int(num_str[j]))\n",
    "\n",
    "print(group_left,group_right)\n",
    "if sum(group_left)==sum(group_right):\n",
    "    print(\"LUCKY\")\n",
    "else:\n",
    "    print(\"READY\")\n",
    "\n",
    "    "
   ]
  },
  {
   "cell_type": "code",
   "execution_count": 21,
   "id": "ae3022f1",
   "metadata": {
    "scrolled": true
   },
   "outputs": [
    {
     "name": "stdout",
     "output_type": "stream",
     "text": [
      "K1KA5CB7\n",
      "13\n",
      "ABCKK13\n"
     ]
    }
   ],
   "source": [
    "array = str(input())\n",
    "num_result = 0\n",
    "str_result = []\n",
    "for i in array:\n",
    "    if i.isdigit():#숫자인지\n",
    "        num_result += int(i)\n",
    "    else: #문자이면\n",
    "        str_result.append(i)\n",
    "        \n",
    "str_result.sort()\n",
    "print(''.join(str_result)+str(num_result))"
   ]
  },
  {
   "cell_type": "code",
   "execution_count": 9,
   "id": "9e347d00",
   "metadata": {},
   "outputs": [
    {
     "name": "stdout",
     "output_type": "stream",
     "text": [
      "asdasdff\n",
      "compressed asdasd2f\n",
      "compressed asdasdff\n",
      "compressed 2asdff\n",
      "compressed asdasdff\n",
      "compressed asdasdff\n",
      "compressed asdasdff\n",
      "compressed asdasdff\n",
      "compressed asdasdff\n",
      "6\n"
     ]
    }
   ],
   "source": [
    "array = str(input())\n",
    "num_array = len(array)\n",
    "result = num_array\n",
    "\n",
    "#문자열의 길이까지 하나씩 늘려가며 앞에서 부터 자른다. \n",
    "for i in range(1,num_array+1): #자르는 길이의 수\n",
    "    sliced = []\n",
    "    compressed = \"\"\n",
    "    j = 0\n",
    "    while (j+i) <= num_array:\n",
    "        sliced.append(array[j:j+i])\n",
    "        j+=i\n",
    "    #slice된 배열을 for문을 돌면서 중복체크 \n",
    "    #중복된 숫자\n",
    "    num = 1\n",
    "    for i in range(len(sliced)-1):\n",
    "        if sliced[i] == sliced[i+1]:\n",
    "            num+=1\n",
    "        else:\n",
    "            if num >1:\n",
    "                compressed += str(num)+sliced[i]\n",
    "            else:\n",
    "                compressed += sliced[i]\n",
    "            num=1\n",
    "    #마지막 조각 처리\n",
    "    if num >1:\n",
    "        compressed += str(num)+sliced[len(sliced)-1]\n",
    "    else:\n",
    "        compressed += sliced[len(sliced)-1]\n",
    "        \n",
    "    #남은 문자열 추가\n",
    "    compressed += array[j:]\n",
    "    result= min(result,len(compressed))   \n",
    "    \n",
    "print(result)"
   ]
  },
  {
   "cell_type": "code",
   "execution_count": 27,
   "id": "62b353c0",
   "metadata": {},
   "outputs": [
    {
     "name": "stdout",
     "output_type": "stream",
     "text": [
      "11bb1ccc\n"
     ]
    }
   ],
   "source": [
    "array = \"aabbaccc\"\n",
    "slice = array[0:1]\n",
    "print(array.replace(slice,\"1\"))\n"
   ]
  },
  {
   "cell_type": "code",
   "execution_count": 14,
   "id": "c650ab5b",
   "metadata": {},
   "outputs": [
    {
     "name": "stdout",
     "output_type": "stream",
     "text": [
      "True\n"
     ]
    }
   ],
   "source": [
    "key = [[0, 0, 0], [1, 0, 0], [0, 1, 1]]\n",
    "lock = [[1, 1, 1], [1, 1, 0], [1, 0, 1]]\n",
    "\n",
    "\n",
    "def rotate(key):\n",
    "    M = len(key)\n",
    "    result = [[0]*M for _ in range(M)]\n",
    "    for i in range(M):\n",
    "         for j in range(M):\n",
    "                result[j][M-1-i]=key[i][j]\n",
    "    return result\n",
    "\n",
    "def matching(new_key,lock,dy,dx):\n",
    "    M = len(lock)\n",
    "    N = len(new_key)\n",
    "    for i in range(M):\n",
    "        for j in range(M):\n",
    "            ey = i+dy\n",
    "            ex = j+dx\n",
    "            if 0<=ey<N and 0<=ex<N:\n",
    "                if lock[i][j]+new_key[ey][ex] != 1:\n",
    "                    return False\n",
    "            elif lock[i][j] == 0: #자물쇠의 홈이 채워지지 않은 경우\n",
    "                return False\n",
    "    return True\n",
    "\n",
    "\n",
    "def roof(key,lock):\n",
    "    M = len(key)\n",
    "    N = len(lock)\n",
    "    \n",
    "    #key는 90도씩 4번회전가능 \n",
    "    for _ in range(4):\n",
    "        \n",
    "        #90도 회전\n",
    "        key = rotate(key)\n",
    "        \n",
    "        # m은 -M + 1부터 N - 1까지 가능\n",
    "        for dy in range(-M + 1, N):\n",
    "            for dx in range(-M + 1, N):\n",
    "                if matching(key,lock,dy,dx):\n",
    "                    return True\n",
    "    \n",
    "    return False\n",
    "            \n",
    "\n",
    "print(roof(key,lock))\n",
    "        \n",
    "    "
   ]
  },
  {
   "cell_type": "code",
   "execution_count": 13,
   "id": "1233e116",
   "metadata": {},
   "outputs": [
    {
     "name": "stdout",
     "output_type": "stream",
     "text": [
      "True\n"
     ]
    }
   ],
   "source": [
    "key = [[0, 0, 0], [1, 0, 0], [0, 1, 1]]\n",
    "lock = [[1, 1, 1], [1, 1, 0], [1, 0, 1]]\n",
    "\n",
    "def rotate(key):\n",
    "    M = len(key)\n",
    "    result = [[0] * M for _ in range(M)]\n",
    "    for i in range(M):\n",
    "        for j in range(M):\n",
    "            result[j][M - 1 - i] = key[i][j]\n",
    "    return result\n",
    "\n",
    "def can_unlock(new_key, lock, start_y, start_x):\n",
    "    M = len(lock)\n",
    "    N = len(new_key)\n",
    "    for i in range(M):\n",
    "        for j in range(M):\n",
    "            ey = i + start_y\n",
    "            ex = j + start_x\n",
    "            if 0 <= ey < N and 0 <= ex < N:\n",
    "                if lock[i][j] + new_key[ey][ex] != 1:\n",
    "                    return False\n",
    "            elif lock[i][j] == 0:  # 자물쇠의 홈이 채워지지 않은 경우\n",
    "                return False\n",
    "    return True\n",
    "\n",
    "def solution(key, lock):\n",
    "    N = len(lock)\n",
    "    \n",
    "    for _ in range(4):  # key를 90도씩 4번 회전\n",
    "        key = rotate(key)\n",
    "        for y in range(-M + 1, N):\n",
    "            for x in range(-M + 1, N):\n",
    "                if can_unlock(key, lock, y, x):\n",
    "                    return True\n",
    "    return False\n",
    "\n",
    "print(solution(key, lock))  # 결과: True\n"
   ]
  }
 ],
 "metadata": {
  "kernelspec": {
   "display_name": "Python 3 (ipykernel)",
   "language": "python",
   "name": "python3"
  },
  "language_info": {
   "codemirror_mode": {
    "name": "ipython",
    "version": 3
   },
   "file_extension": ".py",
   "mimetype": "text/x-python",
   "name": "python",
   "nbconvert_exporter": "python",
   "pygments_lexer": "ipython3",
   "version": "3.11.5"
  }
 },
 "nbformat": 4,
 "nbformat_minor": 5
}

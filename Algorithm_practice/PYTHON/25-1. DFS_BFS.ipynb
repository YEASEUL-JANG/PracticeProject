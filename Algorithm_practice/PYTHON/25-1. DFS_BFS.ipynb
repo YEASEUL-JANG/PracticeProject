{
 "cells": [
  {
   "cell_type": "code",
   "execution_count": 21,
   "id": "2b0b7acd",
   "metadata": {},
   "outputs": [
    {
     "name": "stdout",
     "output_type": "stream",
     "text": [
      "4\n"
     ]
    }
   ],
   "source": [
    "from collections import deque\n",
    "# N,M,K,X = map(int,input().split())\n",
    "N,M,K,X = 4,4,2,1\n",
    "# graph = [[]for _ in range(N+1)]\n",
    "graph = [[], [2, 3], [3, 4], [], []]\n",
    "distance = [int(1e9) for _ in range(N+1)]\n",
    "visited = [False for _ in range(N+1)]\n",
    "\n",
    "\n",
    "# for i in range(M):\n",
    "#     a,b = map(int,input().split())\n",
    "#     graph[a].append(b)\n",
    "\n",
    "def getDistance(node,dist):\n",
    "    visited[node] = True\n",
    "    q = deque([(node,dist)])\n",
    "    distance[node] = dist\n",
    "    while q:\n",
    "        a,b = q.popleft()\n",
    "        for n in graph[a]:\n",
    "            if not visited[n] or distance[n]>b+1:\n",
    "                distance[n] = b+1\n",
    "                q.append((n,b+1))\n",
    "                visited[n] = True\n",
    "    found = False\n",
    "    for i in range(1,N+1):\n",
    "        if distance[i]==K:\n",
    "            print(i)\n",
    "            found = True\n",
    "    if not found:\n",
    "        print(\"-1\")\n",
    "    \n",
    "getDistance(X,0)\n",
    "            \n",
    "        "
   ]
  },
  {
   "cell_type": "code",
   "execution_count": 3,
   "id": "7876e917",
   "metadata": {},
   "outputs": [
    {
     "name": "stdout",
     "output_type": "stream",
     "text": [
      "27\n"
     ]
    }
   ],
   "source": [
    "import copy\n",
    "from itertools import combinations\n",
    "from collections import deque\n",
    "# 벽 3개를 세우는 모든 조합\n",
    "N,M = (7,7)\n",
    "graph = []\n",
    "answer = 0\n",
    "# for _ in range(N):\n",
    "#     graph.append(list(map(int,input().split())))\n",
    "graph = [[2, 0, 0, 0, 1, 1, 0], [0, 0, 1, 0, 1, 2, 0], [0, 1, 1, 0, 1, 0, 0], [0, 1, 0, 0, 0, 0, 0], [0, 0, 0, 0, 0, 1, 1], [0, 1, 0, 0, 0, 0, 0], [0, 1, 0, 0, 0, 0, 0]]\n",
    "virus = []\n",
    "safety = []\n",
    "for a in range(N):\n",
    "    for b in range(N):\n",
    "        if graph[a][b]==2:\n",
    "            virus.append((a,b))\n",
    "        elif graph[a][b]==0:\n",
    "            safety.append((a,b))\n",
    "\n",
    "# 바이러스 퍼뜨리기    \n",
    "def go_virus(graph):\n",
    "    new_graph = copy.deepcopy(graph)\n",
    "    for ax,bx in virus:\n",
    "        q = deque([(ax,bx)])\n",
    "        while q:\n",
    "            a,b = q.popleft()\n",
    "            dx = [0,0,-1,1]\n",
    "            dy = [-1,1,0,0]\n",
    "            for i in range(4):\n",
    "                mx = dx[i]+a\n",
    "                my = dy[i]+b\n",
    "                if 0<=mx<N and 0<=my<M and new_graph[mx][my]==0:\n",
    "                    new_graph[mx][my]=2\n",
    "                    q.append((mx,my))\n",
    "    return new_graph\n",
    "        \n",
    "#안전영역 구하기\n",
    "def get_safezone(new_graph):\n",
    "    count = 0\n",
    "    for a in range(N):\n",
    "        for b in range(N):\n",
    "            if new_graph[a][b]==0:\n",
    "                count+=1\n",
    "    return count\n",
    "#벽 3개 세우기\n",
    "def roof():\n",
    "    global answer\n",
    "    #3개의 벽을 세우는 모든 조합\n",
    "    for walls in combinations(safety,3):\n",
    "        temp_graph = copy.deepcopy(graph)\n",
    "        for x,y in walls:\n",
    "            temp_graph[x][y]=1\n",
    "            \n",
    "        new_graph = go_virus(temp_graph)\n",
    "        #안전영역의 수 구하기 (최대값 저장)\n",
    "        answer = max(answer,get_safezone(new_graph))\n",
    "    return answer\n",
    "        \n",
    "            \n",
    "    \n",
    "\n",
    "answer = roof()\n",
    "print(answer)\n",
    "            \n",
    "            \n",
    "           \n",
    "\n",
    "            \n"
   ]
  },
  {
   "cell_type": "code",
   "execution_count": 14,
   "id": "6700e36b",
   "metadata": {},
   "outputs": [
    {
     "name": "stdout",
     "output_type": "stream",
     "text": [
      "1 초: [[1, 1, 2], [1, 0, 0], [3, 0, 0]]\n",
      "1 초: [[1, 1, 2], [1, 0, 2], [3, 0, 0]]\n",
      "1 초: [[1, 1, 2], [1, 0, 2], [3, 3, 0]]\n",
      "2 초: [[1, 1, 2], [1, 1, 2], [3, 3, 0]]\n",
      "2 초: [[1, 1, 2], [1, 1, 2], [3, 3, 0]]\n",
      "2 초: [[1, 1, 2], [1, 1, 2], [3, 3, 2]]\n",
      "2 초: [[1, 1, 2], [1, 1, 2], [3, 3, 2]]\n",
      "3\n"
     ]
    }
   ],
   "source": [
    "import heapq\n",
    "N,K = (3,3)\n",
    "testing = [[1,0,2],[0,0,0],[3,0,0]]\n",
    "S,X,Y = (2,3,2) #2초뒤에 (3,2)에 존재하는 바이러스\n",
    "\n",
    "h = []\n",
    "for a in range(N):\n",
    "    for b in range(K):\n",
    "        if testing[a][b]!=0:\n",
    "            heapq.heappush(h,(0,testing[a][b],a,b))\n",
    "\n",
    "def roof(testing):\n",
    "    while h:\n",
    "        time,virus,a,b=heapq.heappop(h)\n",
    "        if time==S:\n",
    "            break\n",
    "        dx = [0,0,-1,1]\n",
    "        dy = [-1,1,0,0]\n",
    "        for i in range(4):\n",
    "            mx,my = dx[i]+a, dy[i]+b\n",
    "            if 0<=mx<N and 0<=my<K and testing[mx][my]==0:\n",
    "                testing[mx][my]=virus\n",
    "                heapq.heappush(h,(time+1,testing[mx][my],mx,my))\n",
    "\n",
    "roof(testing)\n",
    "print(testing[X-1][Y-1])\n",
    "                \n",
    "     "
   ]
  }
 ],
 "metadata": {
  "kernelspec": {
   "display_name": "Python 3 (ipykernel)",
   "language": "python",
   "name": "python3"
  },
  "language_info": {
   "codemirror_mode": {
    "name": "ipython",
    "version": 3
   },
   "file_extension": ".py",
   "mimetype": "text/x-python",
   "name": "python",
   "nbconvert_exporter": "python",
   "pygments_lexer": "ipython3",
   "version": "3.11.5"
  }
 },
 "nbformat": 4,
 "nbformat_minor": 5
}

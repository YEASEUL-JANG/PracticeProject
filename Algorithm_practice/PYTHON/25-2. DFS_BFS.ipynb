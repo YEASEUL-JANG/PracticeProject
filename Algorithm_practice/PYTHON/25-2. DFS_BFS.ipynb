{
 "cells": [
  {
   "cell_type": "code",
   "execution_count": null,
   "id": "de7af392",
   "metadata": {},
   "outputs": [],
   "source": [
    "N, M = map(int,input().split())\n",
    "arr = [list(map(int,input().split())) for _ in range(N)]\n",
    "visited = [[False]*M for _ in range(N)]\n",
    "\n",
    "def get_spread(x,y):\n",
    "    #방문처리\n",
    "    visited[x][y] = True\n",
    "    direction = [(1,0),(-1,0),(0,1),(0,-1)]\n",
    "    for i in range(4):\n",
    "        mx,my = direction[i][0]+x,direction[i][1]+y\n",
    "        if 0<=mx<N and 0<=my<M and not visited[mx][my] and arr[mx][my]==0:\n",
    "            get_spread(mx,my)\n",
    "        \n",
    "\n",
    "def solution():\n",
    "    answer = 0\n",
    "    for i in range(N):\n",
    "        for j in range(M):\n",
    "            if arr[i][j]==0 and not visited[i][j]:\n",
    "                get_spread(i,j)\n",
    "                answer+=1\n",
    "    return answer\n",
    "\n",
    "print(solution())\n",
    "        \n",
    "    "
   ]
  },
  {
   "cell_type": "code",
   "execution_count": null,
   "id": "6ca3594f",
   "metadata": {},
   "outputs": [],
   "source": [
    "##BFS 방식(큐)\n",
    "from collections import deque\n",
    "N,M = map(int,input().split())\n",
    "#시작위치 (0,0) 출구 (N-1,M-1)\n",
    "arr = [list(map(int,input().split())) for _ in range(N)]\n",
    "\n",
    "def solution(a,b):\n",
    "    q = deque([(a,b)])\n",
    "    direction = [(1,0),(-1,0),(0,1),(0,-1)]\n",
    "    \n",
    "    while q:\n",
    "        a,b = q.popleft()\n",
    "        for i in range(4):\n",
    "            mx,my= direction[i][0]+a, direction[i][1]+b\n",
    "            if 0<=mx<N and 0<=my<M and arr[mx][my]==1:\n",
    "                arr[mx][my] = arr[a][b]+1\n",
    "                q.append((mx,my))\n",
    "    return arr[N-1][M-1]\n",
    "print(solution(0,0))"
   ]
  },
  {
   "cell_type": "code",
   "execution_count": null,
   "id": "25ff7e9b",
   "metadata": {},
   "outputs": [],
   "source": [
    "##DFS방식(재귀)\n",
    "\n",
    "N,M = map(int,input().split())\n",
    "#시작위치 (0,0) 출구 (N-1,M-1)\n",
    "arr = [list(map(int,input().split())) for _ in range(N)]\n",
    "visited = [[False]*M for _ in range(N)]\n",
    "answer = int(1e9)\n",
    "\n",
    "def solution(a,b,dist):\n",
    "    global answer\n",
    "    \n",
    "    visited[a][b]= True\n",
    "    direction = [(1,0),(-1,0),(0,1),(0,-1)] \n",
    "    for i in range(4):\n",
    "        mx,my= direction[i][0]+a, direction[i][1]+b\n",
    "        if 0<=mx<N and 0<=my<M and arr[mx][my]!=0 and not visited[mx][my]:\n",
    "            if mx==N-1 and my == M-1:#출구도착\n",
    "                answer= min(answer,dist+1)\n",
    "            else:\n",
    "                solution(mx,my,dist+1)\n",
    "solution(0,0,1)\n",
    "print(answer)"
   ]
  }
 ],
 "metadata": {
  "kernelspec": {
   "display_name": "Python 3 (ipykernel)",
   "language": "python",
   "name": "python3"
  },
  "language_info": {
   "codemirror_mode": {
    "name": "ipython",
    "version": 3
   },
   "file_extension": ".py",
   "mimetype": "text/x-python",
   "name": "python",
   "nbconvert_exporter": "python",
   "pygments_lexer": "ipython3",
   "version": "3.11.5"
  }
 },
 "nbformat": 4,
 "nbformat_minor": 5
}

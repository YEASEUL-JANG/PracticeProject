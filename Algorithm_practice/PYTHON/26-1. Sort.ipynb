{
 "cells": [
  {
   "cell_type": "code",
   "execution_count": 4,
   "id": "00c65107",
   "metadata": {},
   "outputs": [
    {
     "name": "stdout",
     "output_type": "stream",
     "text": [
      "[['Donghyuk', 80, 60, 100], ['Sangkeun', 80, 60, 50], ['Sunyoung', 80, 70, 100], ['nsj', 80, 80, 80], ['Wonseob', 70, 70, 90], ['Sanghyun', 70, 70, 80], ['Sei', 70, 70, 70], ['Kangsoo', 60, 80, 100], ['Haebin', 50, 60, 100], ['Junkyu', 50, 60, 100], ['Soong', 50, 60, 90], ['Taewhan', 50, 60, 90]]\n"
     ]
    }
   ],
   "source": [
    "N = 12\n",
    "student = [['Junkyu', 50, 60, 100],\n",
    "          ['Sangkeun', 80, 60, 50],\n",
    "          ['Sunyoung', 80, 70, 100],\n",
    "          ['Soong', 50, 60, 90],\n",
    "          ['Haebin', 50, 60, 100],\n",
    "          ['Kangsoo', 60, 80, 100],\n",
    "          ['Donghyuk', 80, 60, 100],\n",
    "          ['Sei', 70, 70, 70],\n",
    "          ['Wonseob', 70, 70, 90],\n",
    "          ['Sanghyun', 70, 70, 80],\n",
    "          ['nsj', 80 ,80 ,80],\n",
    "          ['Taewhan', 50, 60, 90]]\n",
    "\n",
    "student.sort(key=lambda x:(-x[1],x[2],-x[3],x[0]))\n",
    "print(student)"
   ]
  },
  {
   "cell_type": "code",
   "execution_count": null,
   "id": "3e140ed7",
   "metadata": {},
   "outputs": [],
   "source": [
    "N = 12\n",
    "student = [['Junkyu', 50, 60, 100],\n",
    "          ['Sangkeun', 80, 60, 50],\n",
    "          ['Sunyoung', 80, 70, 100],\n",
    "          ['Soong', 50, 60, 90],\n",
    "          ['Haebin', 50, 60, 100],\n",
    "          ['Kangsoo', 60, 80, 100],\n",
    "          ['Donghyuk', 80, 60, 100],\n",
    "          ['Sei', 70, 70, 70],\n",
    "          ['Wonseob', 70, 70, 90],\n",
    "          ['Sanghyun', 70, 70, 80],\n",
    "          ['nsj', 80 ,80 ,80],\n",
    "          ['Taewhan', 50, 60, 90]]\n",
    "\n",
    "#수 비교\n",
    "def compare(st1,st2):\n",
    "    if st1[1] != st2[1]:\n",
    "        return st2[1]-st1[1]\n",
    "    if st1[2] != st2[2]:\n",
    "        return st1[2] - st2[2] #영어점수가 작은 순서\n",
    "    if st1[3] != st2[3]: \n",
    "        return st2[3] - st1[3] #수학점수가 큰 순서\n",
    "    \n",
    "    return (st1[0]>st2[0]) - (st1[0]<st2[0]) #이름사전순\n",
    "\n",
    "#병합정렬 나누기\n",
    "def merge_sort(student):\n",
    "    if len(student)<=1:\n",
    "        return student\n",
    "    mid = len(student)//2\n",
    "    left = student[:mid]\n",
    "    right = student[mid:]\n",
    "    return merge(left,right)\n",
    "\n",
    "\n",
    "\n",
    "#병합정렬 합치기\n",
    "def merge(left,right):\n",
    "    sorted_list = []\n",
    "    while left and right:\n",
    "        if compare(left[0],right[0])<=0:\n",
    "            sorted_list.append(left.pop(0))\n",
    "        else:\n",
    "            sorted_list.append(right.pop(0))\n",
    "    sorted_list.append(left)\n",
    "    sorted_list.append(right)\n",
    "    return sorted_list\n"
   ]
  },
  {
   "cell_type": "code",
   "execution_count": 8,
   "id": "993c4d2f",
   "metadata": {},
   "outputs": [
    {
     "name": "stdout",
     "output_type": "stream",
     "text": [
      "[(10, 5), (10, 7), (14, 9), (18, 1)]\n"
     ]
    }
   ],
   "source": [
    "N = 4\n",
    "house = [5,1,7,9]\n",
    "answer = []\n",
    "result_list = []\n",
    "for i in range(len(house)): #집 선택\n",
    "    result = 0\n",
    "    for j in range(len(house)):#집들간의 거리계산\n",
    "        result += abs(house[j]-house[i])\n",
    "    result_list.append((result,house[i]))\n",
    "result_list.sort(key=lambda x:(x[0],x[1]))\n",
    "print(result_list)        \n",
    "        "
   ]
  },
  {
   "cell_type": "code",
   "execution_count": 20,
   "id": "b45286b4",
   "metadata": {
    "scrolled": false
   },
   "outputs": [
    {
     "name": "stdout",
     "output_type": "stream",
     "text": [
      "[(0.5, 3), (0.5, 4), (0.42857142857142855, 2), (0.125, 1), (0, 0), (0.0, 5)]\n",
      "[3, 4, 2, 1, 5]\n"
     ]
    }
   ],
   "source": [
    "N = 5\n",
    "stages = [2,1,2,6,2,4,3,3]\n",
    "\n",
    "fail = [(0,0)]*(N+1)\n",
    "stages.sort() #1,2,2,2,3,3,4,6\n",
    "stagenum = len(stages)\n",
    "index = 0\n",
    "for i in range(1,N+1):\n",
    "    land_stage = 0\n",
    "    not_clear = 0\n",
    "    while index<stagenum:#6<7\n",
    "        if stages[index]==i:\n",
    "            not_clear+=1\n",
    "            index+=1\n",
    "        elif stages[index]>i:\n",
    "            land_stage=stagenum-index+not_clear #8-4+3\n",
    "            fail[i]=(not_clear/land_stage,i)\n",
    "            break\n",
    "        else:\n",
    "            fail[i]=(0,i)\n",
    "            \n",
    "fail.sort(key=lambda x:(-x[0],x[1]))  \n",
    "result = []\n",
    "for i in range(len(fail)):\n",
    "    if fail[i][1]!=0:\n",
    "        result.append(fail[i][1])\n",
    "print(result)\n",
    "    "
   ]
  },
  {
   "cell_type": "code",
   "execution_count": 29,
   "id": "a2959dc5",
   "metadata": {},
   "outputs": [
    {
     "name": "stdout",
     "output_type": "stream",
     "text": [
      "165\n"
     ]
    }
   ],
   "source": [
    "#포인트는 합산의 과정에서 항상 가장 작은 두 묶음을 선택해야함 => 최소힙\n",
    "import heapq\n",
    "arr=[5,10,15,20,25]\n",
    "heapq.heapify(arr)\n",
    "answer = 0\n",
    "while len(arr)>1:\n",
    "    first = heapq.heappop(arr)\n",
    "    second = heapq.heappop(arr)\n",
    "    sum_result = first+second\n",
    "    answer+=sum_result\n",
    "    heapq.heappush(arr,sum_result)\n",
    "print(answer)\n",
    "    "
   ]
  }
 ],
 "metadata": {
  "kernelspec": {
   "display_name": "Python 3 (ipykernel)",
   "language": "python",
   "name": "python3"
  },
  "language_info": {
   "codemirror_mode": {
    "name": "ipython",
    "version": 3
   },
   "file_extension": ".py",
   "mimetype": "text/x-python",
   "name": "python",
   "nbconvert_exporter": "python",
   "pygments_lexer": "ipython3",
   "version": "3.11.5"
  }
 },
 "nbformat": 4,
 "nbformat_minor": 5
}

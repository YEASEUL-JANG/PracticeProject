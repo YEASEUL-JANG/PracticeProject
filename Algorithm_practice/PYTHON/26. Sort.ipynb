{
 "cells": [
  {
   "cell_type": "code",
   "execution_count": 9,
   "id": "e9ad2c5a",
   "metadata": {},
   "outputs": [
    {
     "name": "stdout",
     "output_type": "stream",
     "text": [
      "[['Donghyuk', 80, 60, 100], ['Sei', 70, 70, 70], ['Wonseob', 70, 70, 90], ['Sanghyun', 70, 70, 80], ['nsj', 80, 80, 80], ['Junkyu', 50, 60, 100], ['Sangkeun', 80, 60, 50], ['Sunyoung', 80, 70, 100], ['Soong', 50, 60, 90], ['Haebin', 50, 60, 100], ['Kangsoo', 60, 80, 100], [], [['Taewhan', 50, 60, 90]]]\n"
     ]
    }
   ],
   "source": [
    "N = 12\n",
    "student = [['Junkyu', 50, 60, 100],\n",
    "          ['Sangkeun', 80, 60, 50],\n",
    "          ['Sunyoung', 80, 70, 100],\n",
    "          ['Soong', 50, 60, 90],\n",
    "          ['Haebin', 50, 60, 100],\n",
    "          ['Kangsoo', 60, 80, 100],\n",
    "          ['Donghyuk', 80, 60, 100],\n",
    "          ['Sei', 70, 70, 70],\n",
    "          ['Wonseob', 70, 70, 90],\n",
    "          ['Sanghyun', 70, 70, 80],\n",
    "          ['nsj', 80 ,80 ,80],\n",
    "          ['Taewhan', 50, 60, 90]]\n",
    "\n",
    "#sorted_student = sorted(student,key=lambda x: (-x[1],x[2],-x[3],x[0]))\n",
    "\n",
    "#비교\n",
    "def compare(st1,st2): #st1 < st2 가 ㄷ\n",
    "    if st1[1] != st2[1]: \n",
    "        return st2[1] - st1[1] #국어점수가 큰 순서\n",
    "    if st1[2] != st2[2]: \n",
    "        return st1[2] - st2[2] #영어점수가 작은 순서\n",
    "    if st1[3] != st2[3]: \n",
    "        return st2[3] - st1[3] #수학점수가 큰 순서\n",
    "    \n",
    "    return (st1[0]>st2[0]) - (st1[0]<st2[0]) #이름사전순\n",
    "\n",
    "#병합정렬 (나누기)\n",
    "def merge_sort(student):\n",
    "    if len(student) <=1:\n",
    "        return student\n",
    "    \n",
    "    mid = len(student)//2\n",
    "    left = student[:mid]\n",
    "    right = student[mid:]\n",
    "    \n",
    "    return merge(left,right)\n",
    "\n",
    "#병합정렬 합치기\n",
    "def merge(left,right):\n",
    "    sorted_list = []\n",
    "    while left and right:\n",
    "        if compare(left[0],right[0])<=0:\n",
    "            sorted_list.append(left.pop(0))\n",
    "        else:\n",
    "            sorted_list.append(right.pop(0))\n",
    "    sorted_list.append(left)\n",
    "    sorted_list.append(right)\n",
    "    return sorted_list\n",
    "\n",
    "#정렬\n",
    "sorted_students = merge_sort(student)\n",
    "print(sorted_students)\n",
    "\n"
   ]
  },
  {
   "cell_type": "code",
   "execution_count": 14,
   "id": "aa88d16a",
   "metadata": {},
   "outputs": [
    {
     "name": "stdout",
     "output_type": "stream",
     "text": [
      "5\n"
     ]
    }
   ],
   "source": [
    "N = 4\n",
    "house = [5,1,7,9]\n",
    "answer = []\n",
    "\n",
    "def 거리(where):\n",
    "    answer = 0\n",
    "    for i in house:\n",
    "        answer+=abs(i-where)\n",
    "    return answer\n",
    "        \n",
    "\n",
    "for i in range(N):\n",
    "    #집을 하나씩 돌면서 해당 위치로부터 모든 집까지의 거리 구함\n",
    "    distance = 거리(house[i])\n",
    "    answer.append([distance,house[i]])\n",
    "sorted_answer = sorted(answer,key=lambda x: (x[0],x[1]))\n",
    "print(sorted_answer[0][1])"
   ]
  },
  {
   "cell_type": "code",
   "execution_count": 26,
   "id": "4b1cfb89",
   "metadata": {
    "scrolled": true
   },
   "outputs": [
    {
     "name": "stdout",
     "output_type": "stream",
     "text": [
      "[4, 1, 2, 3]\n"
     ]
    }
   ],
   "source": [
    "N = 4\n",
    "stages = [4,4,4,4,4]\n",
    "\n",
    "fail = [0]*(N+1)\n",
    "stages.sort() #1,2,2,2,3,3,4,6\n",
    "answer = []\n",
    "\n",
    "def get_fail(num,stages):\n",
    "    count=0\n",
    "    not_count = 0\n",
    "    people = len(stages)\n",
    "    for i in range(people):\n",
    "        if stages[i]<num:\n",
    "            not_count+=1\n",
    "            continue\n",
    "        if stages[i]==num:\n",
    "            count+=1\n",
    "        if stages[i]>num:\n",
    "            break\n",
    "    if people-not_count == 0:\n",
    "        return 0\n",
    "    fail = count/(people-not_count)\n",
    "    return fail\n",
    "\n",
    "for i in range(1,N+1): #1~5\n",
    "    #i와 같은번호/i보다 크거나 같은 번호\n",
    "    fail = get_fail(i,stages)\n",
    "    answer.append((fail,i))\n",
    "    \n",
    "sorted_answer = sorted(answer,key=lambda x: -x[0])\n",
    "print_answer = []\n",
    "for a,b in sorted_answer:\n",
    "    print_answer.append(b)\n",
    "print(print_answer)"
   ]
  },
  {
   "cell_type": "code",
   "execution_count": 32,
   "id": "10637ac9",
   "metadata": {},
   "outputs": [
    {
     "name": "stdout",
     "output_type": "stream",
     "text": [
      "100\n"
     ]
    }
   ],
   "source": [
    "from itertools import permutations\n",
    "\n",
    "arr = [10,20,40]\n",
    "permu_arr = permutations(arr)\n",
    "answer = []\n",
    "for p in permu_arr:\n",
    "    a,b,c = p[0],p[1],p[2]\n",
    "    answer.append(2*(a+b)+c)\n",
    "print(min(answer))\n"
   ]
  },
  {
   "cell_type": "code",
   "execution_count": 34,
   "id": "8b40afed",
   "metadata": {},
   "outputs": [
    {
     "name": "stdout",
     "output_type": "stream",
     "text": [
      "100\n"
     ]
    }
   ],
   "source": [
    "import heapq\n",
    "card = [10,20,40]\n",
    "\n",
    "\n",
    "def 합치기(card):\n",
    "    #heapq에 카드묶음 넣기\n",
    "    h = []\n",
    "    for i in card:\n",
    "        heapq.heappush(h,i)\n",
    "    total = 0\n",
    "    #카드묶음을 다 없앨때까지 합치기\n",
    "    while len(h)>1:\n",
    "        first = heapq.heappop(h)\n",
    "        second = heapq.heappop(h)\n",
    "        comp = first+second\n",
    "        total += comp\n",
    "        heapq.heappush(h,comp)\n",
    "    return total\n",
    "\n",
    "print(합치기(card))"
   ]
  }
 ],
 "metadata": {
  "kernelspec": {
   "display_name": "Python 3 (ipykernel)",
   "language": "python",
   "name": "python3"
  },
  "language_info": {
   "codemirror_mode": {
    "name": "ipython",
    "version": 3
   },
   "file_extension": ".py",
   "mimetype": "text/x-python",
   "name": "python",
   "nbconvert_exporter": "python",
   "pygments_lexer": "ipython3",
   "version": "3.11.5"
  }
 },
 "nbformat": 4,
 "nbformat_minor": 5
}

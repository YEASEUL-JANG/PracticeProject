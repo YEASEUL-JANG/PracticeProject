{
 "cells": [
  {
   "cell_type": "code",
   "execution_count": 4,
   "id": "b60b8269",
   "metadata": {},
   "outputs": [
    {
     "name": "stdout",
     "output_type": "stream",
     "text": [
      "19\n"
     ]
    }
   ],
   "source": [
    "n,m = (3,4)\n",
    "arr = [[1,3,3,2],\n",
    "       [2,1,4,1],\n",
    "       [0,6,4,7]]\n",
    "\n",
    "def move(a,b,count,answer):\n",
    "    if count == m-1:\n",
    "        return answer\n",
    "    dx = [-1, 0, 1]\n",
    "    dy = [1, 1, 1]\n",
    "    max_gold = 0\n",
    "    \n",
    "    for i in range(3):\n",
    "        cx = a+dx[i]\n",
    "        cy = b+dy[i]\n",
    "        if 0<=cx<n and 0<=cy<m:\n",
    "            max_gold = max(max_gold,move(cx,cy,count+1,answer+arr[cx][cy]))\n",
    "    return max_gold\n",
    "        \n",
    "max_answer = 0\n",
    "for i in range(n):\n",
    "    max_answer =max(max_answer, move(i,0,0,arr[i][0]))\n",
    "    \n",
    "print(max_answer)\n",
    "    \n"
   ]
  },
  {
   "cell_type": "code",
   "execution_count": 5,
   "id": "2189bec9",
   "metadata": {},
   "outputs": [
    {
     "name": "stdout",
     "output_type": "stream",
     "text": [
      "19\n"
     ]
    }
   ],
   "source": [
    "n, m = (3, 4)\n",
    "arr = [[1, 3, 3, 2],\n",
    "       [2, 1, 4, 1],\n",
    "       [0, 6, 4, 7]]\n",
    "\n",
    "# DP 테이블 초기화\n",
    "dp = [[0] * m for _ in range(n)]\n",
    "\n",
    "#첫번째 열 초기화 \n",
    "for i in range(n):\n",
    "    dp[i][0] = arr[i][0]\n",
    "    \n",
    "#dp테이블 업데이트\n",
    "for j in range(1,m):#가로 (1,2,3)\n",
    "    for i in range(n):#세로 (0,1,2)\n",
    "        if i>0:\n",
    "            dp[i][j] = max(dp[i][j],dp[i-1][j-1]+arr[i][j])\n",
    "        dp[i][j] = max(dp[i][j],dp[i][j-1]+arr[i][j])\n",
    "        if i+1<n:\n",
    "            dp[i][j] = max(dp[i][j],dp[i+1][j-1]+arr[i][j])\n",
    "        \n",
    "#마지막 열에서 최대 금의 양 찾기\n",
    "result = 0\n",
    "for i in range(n):\n",
    "    result = max(result,dp[i][m-1])\n",
    "    \n",
    "print(result)\n",
    "    \n",
    "        "
   ]
  },
  {
   "cell_type": "code",
   "execution_count": 11,
   "id": "9294afa8",
   "metadata": {},
   "outputs": [
    {
     "name": "stdout",
     "output_type": "stream",
     "text": [
      "30\n"
     ]
    }
   ],
   "source": [
    "n = 5\n",
    "# graph = [[0]*n for _ in range(n)]\n",
    "# for i in range(n):\n",
    "#     arr = list(map(int,input().split()))\n",
    "#     for j in range(len(arr)):\n",
    "#         graph[i][j] = arr[j]\n",
    "graph = [[7, 0, 0, 0, 0], \n",
    "[3, 8, 0, 0, 0], \n",
    "[8, 1, 0, 0, 0], \n",
    "[2, 7, 4, 4, 0], \n",
    "[4, 5, 2, 6, 5]]\n",
    "        \n",
    "#현재위치의 합의 최대값        \n",
    "dp = [[0]*n for _ in range(n)]   \n",
    "\n",
    "def goDown(x,y):\n",
    "    #현재 위치의 바로 아래나 오른쪽 아래만 갈 수 있음. \n",
    "    \n",
    "    #출발지\n",
    "    dp[x][y] = graph[x][y]\n",
    "    for i in range(1,n):\n",
    "        for j in range(n):\n",
    "            #위에서 올라온 경우\n",
    "            dp[i][j] = max(dp[i][j],dp[i-1][j]+graph[i][j])\n",
    "            #왼쪽 위에서 올라온 경우\n",
    "            if j-1>=0:\n",
    "                dp[i][j] = max(dp[i][j],dp[i-1][j-1]+graph[i][j])\n",
    "    \n",
    "    \n",
    "\n",
    "goDown(0,0)\n",
    "print(max(max(dp)))"
   ]
  },
  {
   "cell_type": "code",
   "execution_count": 25,
   "id": "65c95fa3",
   "metadata": {},
   "outputs": [
    {
     "name": "stdout",
     "output_type": "stream",
     "text": [
      "[55, 54, 52, 49, 45, 40, 34, 27, 19, 10]\n"
     ]
    }
   ],
   "source": [
    "n = 10\n",
    "arr = [(1,1),(1,2),(1,3),(1,4),(1,5),(1,6),(1,7),(1,8),(1,9),(1,10)]\n",
    "dp = [0]*(n)\n",
    "\n",
    "def recur(index):\n",
    "    ## 마지막날이거나 퇴사일 이후라면\n",
    "    if index >= n:\n",
    "        return 0\n",
    "    \n",
    "    a,b = arr[index]\n",
    "    \n",
    "    #상담을 하거나 안하거나\n",
    "    dp[index] = max(recur(index+a)+b,\n",
    "                   recur(index+1))\n",
    "    \n",
    "    return dp[index]\n",
    "    \n",
    "    \n",
    "recur(0)\n",
    "print(dp)"
   ]
  },
  {
   "cell_type": "code",
   "execution_count": 24,
   "id": "55071af7",
   "metadata": {},
   "outputs": [
    {
     "name": "stdout",
     "output_type": "stream",
     "text": [
      "[55, 54, 52, 49, 45, 40, 34, 27, 19, 10]\n"
     ]
    }
   ],
   "source": []
  }
 ],
 "metadata": {
  "kernelspec": {
   "display_name": "Python 3 (ipykernel)",
   "language": "python",
   "name": "python3"
  },
  "language_info": {
   "codemirror_mode": {
    "name": "ipython",
    "version": 3
   },
   "file_extension": ".py",
   "mimetype": "text/x-python",
   "name": "python",
   "nbconvert_exporter": "python",
   "pygments_lexer": "ipython3",
   "version": "3.11.5"
  }
 },
 "nbformat": 4,
 "nbformat_minor": 5
}

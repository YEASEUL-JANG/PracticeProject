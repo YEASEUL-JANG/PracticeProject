{
 "cells": [
  {
   "cell_type": "code",
   "execution_count": 4,
   "id": "52e32fca",
   "metadata": {},
   "outputs": [
    {
     "name": "stdout",
     "output_type": "stream",
     "text": [
      "19\n"
     ]
    }
   ],
   "source": [
    "n,m = (3,4)\n",
    "arr = [[1,3,3,2],\n",
    "       [2,1,4,1],\n",
    "       [0,6,4,7]]\n",
    "\n",
    "def move(a,b,count,answer):\n",
    "    if count == m-1:\n",
    "        return answer\n",
    "    dx = [-1, 0, 1]\n",
    "    dy = [1, 1, 1]\n",
    "    max_gold = 0\n",
    "    \n",
    "    for i in range(3):\n",
    "        cx = a+dx[i]\n",
    "        cy = b+dy[i]\n",
    "        if 0<=cx<n and 0<=cy<m:\n",
    "            max_gold = max(max_gold,move(cx,cy,count+1,answer+arr[cx][cy]))\n",
    "    return max_gold\n",
    "        \n",
    "max_answer = 0\n",
    "for i in range(n):\n",
    "    max_answer =max(max_answer, move(i,0,0,arr[i][0]))\n",
    "    \n",
    "print(max_answer)\n",
    "    \n"
   ]
  },
  {
   "cell_type": "code",
   "execution_count": 5,
   "id": "a4da853f",
   "metadata": {},
   "outputs": [
    {
     "name": "stdout",
     "output_type": "stream",
     "text": [
      "19\n"
     ]
    }
   ],
   "source": [
    "n, m = (3, 4)\n",
    "arr = [[1, 3, 3, 2],\n",
    "       [2, 1, 4, 1],\n",
    "       [0, 6, 4, 7]]\n",
    "\n",
    "# DP 테이블 초기화\n",
    "dp = [[0] * m for _ in range(n)]\n",
    "\n",
    "#첫번째 열 초기화 \n",
    "for i in range(n):\n",
    "    dp[i][0] = arr[i][0]\n",
    "    \n",
    "#dp테이블 업데이트\n",
    "for j in range(1,m):#가로 (1,2,3)\n",
    "    for i in range(n):#세로 (0,1,2)\n",
    "        if i>0:\n",
    "            dp[i][j] = max(dp[i][j],dp[i-1][j-1]+arr[i][j])\n",
    "        dp[i][j] = max(dp[i][j],dp[i][j-1]+arr[i][j])\n",
    "        if i+1<n:\n",
    "            dp[i][j] = max(dp[i][j],dp[i+1][j-1]+arr[i][j])\n",
    "        \n",
    "#마지막 열에서 최대 금의 양 찾기\n",
    "result = 0\n",
    "for i in range(n):\n",
    "    result = max(result,dp[i][m-1])\n",
    "    \n",
    "print(result)\n",
    "    \n",
    "        "
   ]
  }
 ],
 "metadata": {
  "kernelspec": {
   "display_name": "Python 3 (ipykernel)",
   "language": "python",
   "name": "python3"
  },
  "language_info": {
   "codemirror_mode": {
    "name": "ipython",
    "version": 3
   },
   "file_extension": ".py",
   "mimetype": "text/x-python",
   "name": "python",
   "nbconvert_exporter": "python",
   "pygments_lexer": "ipython3",
   "version": "3.11.5"
  }
 },
 "nbformat": 4,
 "nbformat_minor": 5
}

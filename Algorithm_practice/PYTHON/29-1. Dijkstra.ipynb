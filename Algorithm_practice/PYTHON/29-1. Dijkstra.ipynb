{
 "cells": [
  {
   "cell_type": "code",
   "execution_count": 1,
   "id": "dbf0ef7e",
   "metadata": {},
   "outputs": [
    {
     "name": "stdout",
     "output_type": "stream",
     "text": [
      "5\n",
      "14\n",
      "1 2 2\n",
      "1 3 3\n",
      "1 4 1\n",
      "1 5 10\n",
      "2 4 2\n",
      "3 4 1\n",
      "3 5 1\n",
      "4 5 3\n",
      "3 5 10\n",
      "3 1 8\n",
      "1 4 2\n",
      "5 1 7\n",
      "3 4 2\n",
      "5 2 4\n"
     ]
    },
    {
     "ename": "NameError",
     "evalue": "name 'graph' is not defined",
     "output_type": "error",
     "traceback": [
      "\u001b[0;31m---------------------------------------------------------------------------\u001b[0m",
      "\u001b[0;31mNameError\u001b[0m                                 Traceback (most recent call last)",
      "Cell \u001b[0;32mIn[1], line 14\u001b[0m\n\u001b[1;32m     12\u001b[0m     \u001b[38;5;28;01mfor\u001b[39;00m b \u001b[38;5;129;01min\u001b[39;00m \u001b[38;5;28mrange\u001b[39m(\u001b[38;5;241m1\u001b[39m,n\u001b[38;5;241m+\u001b[39m\u001b[38;5;241m1\u001b[39m):\n\u001b[1;32m     13\u001b[0m         \u001b[38;5;28;01mif\u001b[39;00m a\u001b[38;5;241m==\u001b[39mb:\n\u001b[0;32m---> 14\u001b[0m             graph[a][b] \u001b[38;5;241m=\u001b[39m\u001b[38;5;241m0\u001b[39m\n\u001b[1;32m     16\u001b[0m \u001b[38;5;66;03m#k인덱스는 거치게되는 도시            \u001b[39;00m\n\u001b[1;32m     17\u001b[0m \u001b[38;5;28;01mfor\u001b[39;00m k \u001b[38;5;129;01min\u001b[39;00m \u001b[38;5;28mrange\u001b[39m(\u001b[38;5;241m1\u001b[39m,n\u001b[38;5;241m+\u001b[39m\u001b[38;5;241m1\u001b[39m):\n",
      "\u001b[0;31mNameError\u001b[0m: name 'graph' is not defined"
     ]
    }
   ],
   "source": [
    "n = int(input())\n",
    "m = int(input())\n",
    "INF = int(1e9)\n",
    "graph = [[INF]*(n+1) for _ in range(n+1)]\n",
    "\n",
    "for _ in range(m):\n",
    "    a,b,c =map(int,input().split())\n",
    "    # 같은 경로가 여러 번 주어질 수 있으므로, 더 작은 값만 반영\n",
    "    if c < graph[a][b]:\n",
    "        graph[a][b] = c\n",
    "    \n",
    "#중간대각선 0으로 초기화(같은도시가 출발지와 목적지일 수 없음)    \n",
    "for a in range(1,n+1):\n",
    "    graph[a][a] =0\n",
    "    \n",
    "            \n",
    "#k인덱스는 거치게되는 도시            \n",
    "for k in range(1,n+1):\n",
    "    for a in range(1,n+1):\n",
    "        for b in range(1,n+1):\n",
    "            graph[a][b] = min(graph[a][b], graph[a][k]+graph[k][b])\n",
    "\n",
    "#출력\n",
    "for i in range(1,n+1):\n",
    "    for j in range(1,n+1):\n",
    "        if graph[i][j]==INF:\n",
    "            print(0,end=\" \")\n",
    "        else:\n",
    "            print(graph[i][j],end=\" \")\n",
    "    print()\n",
    "                \n",
    "                \n",
    "    "
   ]
  },
  {
   "cell_type": "code",
   "execution_count": 6,
   "id": "b3a7421b",
   "metadata": {},
   "outputs": [
    {
     "name": "stdout",
     "output_type": "stream",
     "text": [
      "1\n"
     ]
    }
   ],
   "source": [
    "from collections import deque\n",
    "n = 6\n",
    "# lower = [[]for _ in range(n+1)]\n",
    "# higher = [[]for _ in range(n+1)]\n",
    "# for _ in range(n):\n",
    "#     a,b = map(int,input().split())\n",
    "#     lower[b].append(a)\n",
    "#     higher[a].append(b)\n",
    "\n",
    "lower = [[], [], [4, 5], [], [3, 5], [1], [4]]\n",
    "higher = [[], [5], [], [4], [2, 6], [2, 4], []]\n",
    "\n",
    "answer = 0\n",
    "\n",
    "\n",
    "def round(i,graph):\n",
    "    q = deque([i])\n",
    "    count=0\n",
    "    visited = [False] * (n+1)\n",
    "    visited[i] = True\n",
    "    while q:\n",
    "        num = q.popleft()\n",
    "        for l in graph[num]:\n",
    "            if visited[l]!=True:\n",
    "                visited[l]=True\n",
    "                q.append(l)\n",
    "                count+=1\n",
    "    return count\n",
    "        \n",
    "def getAnswer(lower,higher):\n",
    "    answer = 0\n",
    "    for i in range(1,n+1):\n",
    "        l_count=round(i,lower)\n",
    "        h_count=round(i,higher)\n",
    "        if l_count+h_count==n-1:\n",
    "            answer +=1\n",
    "    return answer\n",
    "    \n",
    "        \n",
    "print(getAnswer(lower,higher))"
   ]
  },
  {
   "cell_type": "code",
   "execution_count": 14,
   "id": "13ebf5a8",
   "metadata": {},
   "outputs": [
    {
     "name": "stdout",
     "output_type": "stream",
     "text": [
      "20\n"
     ]
    }
   ],
   "source": [
    "import heapq\n",
    "N = 3\n",
    "INF = int(1e9)\n",
    "graph = [[5,5,4],\n",
    "         [3,9,1],\n",
    "         [3,2,7]]\n",
    "dp = [[INF]*(N)for _ in range(N)]\n",
    "\n",
    "def roof(a,b):\n",
    "    h = []\n",
    "    visited = [[False]*N for _ in range(N)]\n",
    "    cost = graph[a][b]\n",
    "    dp[a][b] = cost\n",
    "    heapq.heappush(h,(cost,a,b))\n",
    "    visited[a][b]=True\n",
    "    \n",
    "    #오른쪽이나 오른쪽 아래 이동가능\n",
    "    while h:\n",
    "        cost,aa,bb = heapq.heappop(h)\n",
    "        da = [1,0]\n",
    "        db = [0,1]\n",
    "        for i in range(2):\n",
    "            ma,mb = aa+da[i],bb+db[i]\n",
    "            if 0<=ma<N and 0<=mb<N and not visited[ma][mb]:\n",
    "                new_cost = cost+graph[ma][mb]\n",
    "                if dp[ma][mb] > new_cost:\n",
    "                    dp[ma][mb] = cost+graph[ma][mb]\n",
    "                heapq.heappush(h,(new_cost,ma,mb))\n",
    "                visited[ma][mb] = True\n",
    "    print(dp[N-1][N-1])\n",
    "    \n",
    "roof(0,0)\n",
    "            "
   ]
  },
  {
   "cell_type": "code",
   "execution_count": 16,
   "id": "ea9941a2",
   "metadata": {},
   "outputs": [
    {
     "name": "stdout",
     "output_type": "stream",
     "text": [
      "3 6\n",
      "4 3\n",
      "3 2\n",
      "1 3\n",
      "1 2\n",
      "2 4\n",
      "5 2\n"
     ]
    }
   ],
   "source": [
    "import heapq\n",
    "\n",
    "INF = int(1e9)\n",
    "N = 6\n",
    "graph = [[]for _ in range(N+1)]\n",
    "for _ in range(N+1):\n",
    "    a,b = map(int,input().split())\n",
    "    graph[a].append(b)\n",
    "    graph[b].append(a)\n",
    "dp = [INF]*(N+1)\n",
    "def roof(start):\n",
    "    h = []\n",
    "    heapq.heappush(h,(0,start))\n",
    "    dp[start] = 0\n",
    "    while h:\n",
    "        cost,node = heapq.heappop(h)#1, 3/1/4/5\n",
    "        if dp[node]<cost:\n",
    "            continue\n",
    "        for new in graph[node]: #3,2\n",
    "            if dp[new]>cost+1:\n",
    "                dp[new] = cost + 1\n",
    "                heapq.heappush(h,(cost+1,new))\n",
    "    \n",
    "    \n",
    "roof(1)\n"
   ]
  }
 ],
 "metadata": {
  "kernelspec": {
   "display_name": "Python 3 (ipykernel)",
   "language": "python",
   "name": "python3"
  },
  "language_info": {
   "codemirror_mode": {
    "name": "ipython",
    "version": 3
   },
   "file_extension": ".py",
   "mimetype": "text/x-python",
   "name": "python",
   "nbconvert_exporter": "python",
   "pygments_lexer": "ipython3",
   "version": "3.11.5"
  }
 },
 "nbformat": 4,
 "nbformat_minor": 5
}

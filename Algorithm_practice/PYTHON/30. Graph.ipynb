{
 "cells": [
  {
   "cell_type": "code",
   "execution_count": 6,
   "id": "47ec9ebb",
   "metadata": {},
   "outputs": [
    {
     "name": "stdout",
     "output_type": "stream",
     "text": [
      "True\n"
     ]
    }
   ],
   "source": [
    "from collections import deque\n",
    "\n",
    "N = 5\n",
    "graph = [[0,1,0,1,1],\n",
    "         [1,0,1,1,0],\n",
    "         [0,1,0,0,0],\n",
    "         [1,1,0,0,0],\n",
    "         [1,0,0,0,0]]\n",
    "dist = [2,3,4,3]\n",
    "parents = [0] * (N+1)\n",
    "\n",
    "#각 노드의 부모를 자기자신으로 초기화 \n",
    "for i in range(1,N+1):\n",
    "    parents[i] = i\n",
    "\n",
    "    \n",
    "\n",
    "connection = [[]for _ in range(N+1)]\n",
    "\n",
    "def find(parents,a):\n",
    "    if parents[a] != a:\n",
    "        parents[a]=find(parents,parents[a])\n",
    "    return parents[a]\n",
    "        \n",
    "def union(parents,a,b):\n",
    "    par_a = find(parents,a)\n",
    "    par_b = find(parents,b)\n",
    "    if par_a<par_b:\n",
    "        #각 조상을 하나로 합침\n",
    "        parents[par_b] = par_a\n",
    "    else:\n",
    "        parents[par_a] = par_b\n",
    "        \n",
    "\n",
    "for i in range(N):\n",
    "    for j in range(N):\n",
    "        if graph[i][j]==1:\n",
    "            union(parents,i+1,j+1)\n",
    "result = True\n",
    "for i in range(len(dist)-1):\n",
    "    if find(parents,dist[i]) != find(parents, dist[i + 1]):\n",
    "        result = False\n",
    "        break\n",
    "\n",
    "        \n",
    "print(result)\n",
    "            \n",
    "\n",
    "\n",
    "\n"
   ]
  },
  {
   "cell_type": "code",
   "execution_count": 12,
   "id": "da2c43a3",
   "metadata": {},
   "outputs": [
    {
     "name": "stdout",
     "output_type": "stream",
     "text": [
      "2\n"
     ]
    }
   ],
   "source": [
    "G = 4\n",
    "P = 3\n",
    "planes = [4,1,1]\n",
    "success_plane = [False]*(P)\n",
    "docked = [False]*(G)\n",
    "docking_result = 0\n",
    "\n",
    "def docking(index,docked,result):\n",
    "    global docking_result\n",
    "    if index>=P:\n",
    "        return result\n",
    "        \n",
    "    possible = planes[index]\n",
    "    for i in range(possible): #0,1,2,3번 탑승구 도킹가능\n",
    "        if not docked[i]:\n",
    "            docked[i] = True\n",
    "            result += 1\n",
    "            total_result = docking(index+1,docked,result)\n",
    "            docking_result = max(docking_result,total_result)\n",
    "            result -= 1\n",
    "            docked[i] = False\n",
    "    return result\n",
    "\n",
    "docking(0,docked,0)\n",
    "print(docking_result)\n",
    "\n",
    "\n",
    "\n",
    "        \n",
    "        "
   ]
  },
  {
   "cell_type": "code",
   "execution_count": 2,
   "id": "a629bb6d",
   "metadata": {},
   "outputs": [
    {
     "name": "stdout",
     "output_type": "stream",
     "text": [
      "0 1 7\n",
      "0 3 5\n",
      "1 2 8\n",
      "1 3 9\n",
      "1 4 7\n",
      "2 4 5\n",
      "3 4 15\n",
      "3 5 6\n",
      "4 5 8\n",
      "4 6 9\n",
      "5 6 11\n",
      "51\n"
     ]
    }
   ],
   "source": [
    "N = 7 #집의 수\n",
    "M = 11 #도로의 수\n",
    "parent = [0] * N\n",
    "\n",
    "#각 집의 부모를 자기자신으로 초기화 \n",
    "for i in range(N):\n",
    "    parent[i] = i\n",
    "    \n",
    "#간선정보\n",
    "edges = []    \n",
    "for _ in range(M):\n",
    "    a,b,cost = map(int,input().split())\n",
    "    edges.append((cost,a,b))\n",
    "edges.sort()\n",
    "    \n",
    "#부모찾기\n",
    "def find(parent,a):\n",
    "    if parent[a]!=a:\n",
    "        parent[a] = find(parent,parent[a])\n",
    "    return parent[a]\n",
    "\n",
    "#부모합치기\n",
    "def union(parent,a,b):\n",
    "    par_a = find(parent,a)\n",
    "    par_b = find(parent,b)\n",
    "    if par_a<par_b:\n",
    "        parent[par_b] = par_a\n",
    "    else:\n",
    "        parent[par_a] = par_b\n",
    "        \n",
    "result = 0 \n",
    "total_cost = 0\n",
    "#간선을 확인하면서 사이클이 발생하지 않는 경우에만 집합에 포함시킴\n",
    "for edge in edges:\n",
    "    cost,a,b = edge\n",
    "    total_cost += cost\n",
    "    if find(parent,a)!= find(parent,b):\n",
    "        union(parent,a,b)\n",
    "        result += cost\n",
    "        \n",
    "print(total_cost - result)\n",
    "        \n"
   ]
  },
  {
   "cell_type": "code",
   "execution_count": 4,
   "id": "1df0d480",
   "metadata": {},
   "outputs": [
    {
     "name": "stdout",
     "output_type": "stream",
     "text": [
      "4\n"
     ]
    }
   ],
   "source": [
    "N = 5\n",
    "universe = [[11,-15,-15],[14,-5,-15],[-1,-1,-5],[10,-4,-1],[19,-4,19]]\n",
    "edges = []\n",
    "parent = [0]*N\n",
    "\n",
    "for i in range(N):\n",
    "    parent[i] = i\n",
    "\n",
    "#간선 추가(x,y,z 각각 오름차순 정렬)\n",
    "for i in range(3):\n",
    "    universe.sort(key=lambda x:x[i])\n",
    "    for j in range(N-1):#0,1,2,3\n",
    "        cost = abs(universe[j][i]-universe[j+1][i])\n",
    "        edges.append((cost,j,j+1))\n",
    "        \n",
    "edges.sort()\n",
    "\n",
    "#find\n",
    "def find(parent,a):\n",
    "    if parent[a]!=a:\n",
    "        parent[a] = find(parent,parent[a])\n",
    "    return parent[a]\n",
    "\n",
    "#union\n",
    "def union(parent,a,b):\n",
    "    root_a = find(parent,a)\n",
    "    root_b = find(parent,b)\n",
    "    if root_a<root_b:\n",
    "        parent[root_b] = root_a\n",
    "    else:\n",
    "        parent[root_a] = root_b\n",
    "\n",
    "result = 0\n",
    "for edge in edges:\n",
    "    cost,a,b = edge\n",
    "    if find(parent,a)!=find(parent,b):\n",
    "        union(parent,a,b)\n",
    "        result += cost\n",
    "        \n",
    "print(result)"
   ]
  }
 ],
 "metadata": {
  "kernelspec": {
   "display_name": "Python 3 (ipykernel)",
   "language": "python",
   "name": "python3"
  },
  "language_info": {
   "codemirror_mode": {
    "name": "ipython",
    "version": 3
   },
   "file_extension": ".py",
   "mimetype": "text/x-python",
   "name": "python",
   "nbconvert_exporter": "python",
   "pygments_lexer": "ipython3",
   "version": "3.11.5"
  }
 },
 "nbformat": 4,
 "nbformat_minor": 5
}

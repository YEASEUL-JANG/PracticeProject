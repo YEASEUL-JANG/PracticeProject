{
 "cells": [
  {
   "cell_type": "code",
   "execution_count": 6,
   "id": "d1c23fcc",
   "metadata": {},
   "outputs": [
    {
     "name": "stdout",
     "output_type": "stream",
     "text": [
      "True\n"
     ]
    }
   ],
   "source": [
    "def primeNumber(x):\n",
    "    for i in range(2,x):\n",
    "        if x % i == 0:\n",
    "            return False\n",
    "    return True\n",
    "\n",
    "print(primeNumber(2))"
   ]
  },
  {
   "cell_type": "code",
   "execution_count": 9,
   "id": "b442b9fa",
   "metadata": {},
   "outputs": [
    {
     "name": "stdout",
     "output_type": "stream",
     "text": [
      "True\n"
     ]
    }
   ],
   "source": [
    "import math\n",
    "\n",
    "def primeNumber(x):\n",
    "    for i in range(2,int(math.sqrt(x)+1)):\n",
    "        if x % i == 0:\n",
    "            return False #소수아님\n",
    "    return True #소수\n",
    "\n",
    "print(primeNumber(19))"
   ]
  },
  {
   "cell_type": "code",
   "execution_count": 10,
   "id": "b555ac5e",
   "metadata": {},
   "outputs": [
    {
     "name": "stdout",
     "output_type": "stream",
     "text": [
      "2\n",
      "3\n",
      "5\n",
      "7\n",
      "11\n",
      "13\n",
      "17\n",
      "19\n",
      "23\n",
      "29\n",
      "31\n",
      "37\n",
      "41\n",
      "43\n",
      "47\n",
      "53\n",
      "59\n",
      "61\n",
      "67\n",
      "71\n",
      "73\n",
      "79\n",
      "83\n",
      "89\n",
      "97\n",
      "101\n",
      "103\n",
      "107\n",
      "109\n",
      "113\n",
      "127\n",
      "131\n",
      "137\n",
      "139\n",
      "149\n",
      "151\n",
      "157\n",
      "163\n",
      "167\n",
      "173\n",
      "179\n",
      "181\n",
      "191\n",
      "193\n",
      "197\n",
      "199\n",
      "211\n",
      "223\n",
      "227\n",
      "229\n",
      "233\n",
      "239\n",
      "241\n",
      "251\n",
      "257\n",
      "263\n",
      "269\n",
      "271\n",
      "277\n",
      "281\n",
      "283\n",
      "293\n",
      "307\n",
      "311\n",
      "313\n",
      "317\n",
      "331\n",
      "337\n",
      "347\n",
      "349\n",
      "353\n",
      "359\n",
      "367\n",
      "373\n",
      "379\n",
      "383\n",
      "389\n",
      "397\n",
      "401\n",
      "409\n",
      "419\n",
      "421\n",
      "431\n",
      "433\n",
      "439\n",
      "443\n",
      "449\n",
      "457\n",
      "461\n",
      "463\n",
      "467\n",
      "479\n",
      "487\n",
      "491\n",
      "499\n",
      "503\n",
      "509\n",
      "521\n",
      "523\n",
      "541\n",
      "547\n",
      "557\n",
      "563\n",
      "569\n",
      "571\n",
      "577\n",
      "587\n",
      "593\n",
      "599\n",
      "601\n",
      "607\n",
      "613\n",
      "617\n",
      "619\n",
      "631\n",
      "641\n",
      "643\n",
      "647\n",
      "653\n",
      "659\n",
      "661\n",
      "673\n",
      "677\n",
      "683\n",
      "691\n",
      "701\n",
      "709\n",
      "719\n",
      "727\n",
      "733\n",
      "739\n",
      "743\n",
      "751\n",
      "757\n",
      "761\n",
      "769\n",
      "773\n",
      "787\n",
      "797\n",
      "809\n",
      "811\n",
      "821\n",
      "823\n",
      "827\n",
      "829\n",
      "839\n",
      "853\n",
      "857\n",
      "859\n",
      "863\n",
      "877\n",
      "881\n",
      "883\n",
      "887\n",
      "907\n",
      "911\n",
      "919\n",
      "929\n",
      "937\n",
      "941\n",
      "947\n",
      "953\n",
      "967\n",
      "971\n",
      "977\n",
      "983\n",
      "991\n",
      "997\n",
      "1000\n"
     ]
    }
   ],
   "source": [
    "import math\n",
    "n = 1000\n",
    "array = [True for _ in range(n+1)]\n",
    "\n",
    "for i in range(2,int(math.sqrt(n))+1):\n",
    "    if array[i]==True:\n",
    "        j = 2\n",
    "        while i*j<n:\n",
    "            array[i*j] = False\n",
    "            j+=1\n",
    "\n",
    "for i in range(2,n+1):\n",
    "    if array[i]:\n",
    "        print(i)"
   ]
  },
  {
   "cell_type": "code",
   "execution_count": 4,
   "id": "6b0bf2c9",
   "metadata": {},
   "outputs": [
    {
     "name": "stdout",
     "output_type": "stream",
     "text": [
      "2\n"
     ]
    }
   ],
   "source": [
    "arr = [1,2,3,2,5]\n",
    "make = 5\n",
    "start = 0\n",
    "end = 0\n",
    "count = 0\n",
    "result = 0\n",
    "while end<len(arr):\n",
    "    result += arr[end]\n",
    "    \n",
    "    end += 1\n",
    "        \n",
    "print(count)\n",
    "        "
   ]
  },
  {
   "cell_type": "code",
   "execution_count": 14,
   "id": "719d2fd4",
   "metadata": {},
   "outputs": [
    {
     "name": "stdout",
     "output_type": "stream",
     "text": [
      "[1, 2, 3, 4, 5, 6, 8]\n"
     ]
    }
   ],
   "source": [
    "n,m = 3,4\n",
    "a = [1,3,5]\n",
    "b = [2,4,6,8]\n",
    "\n",
    "i = 0\n",
    "j = 0\n",
    "\n",
    "result = []\n",
    "while i<n and j<m:\n",
    "    if a[i]<=b[j]:\n",
    "        result.append(a[i])\n",
    "        i+=1\n",
    "    else:\n",
    "        result.append(b[j])\n",
    "        j+=1\n",
    "if i<n:\n",
    "    result.extend(a[i:]) #남은요소들을 하나씩 추가\n",
    "if j<m:\n",
    "    result.extend(b[j:])\n",
    "        \n",
    "        \n",
    "print(result)"
   ]
  },
  {
   "cell_type": "code",
   "execution_count": 16,
   "id": "d0de010d",
   "metadata": {},
   "outputs": [
    {
     "name": "stdout",
     "output_type": "stream",
     "text": [
      "90\n"
     ]
    }
   ],
   "source": [
    "arr = [10,20,30,40,50]\n",
    "sum_arr = []\n",
    "append_arr = 0\n",
    "for i in arr:\n",
    "    append_arr += i\n",
    "    sum_arr.append(append_arr)\n",
    "    \n",
    "print(sum_arr[4]-sum_arr[2])\n"
   ]
  },
  {
   "cell_type": "code",
   "execution_count": 23,
   "id": "59c004da",
   "metadata": {},
   "outputs": [
    {
     "name": "stdout",
     "output_type": "stream",
     "text": [
      "acis\n",
      "acit\n",
      "aciw\n",
      "acst\n",
      "acsw\n",
      "actw\n",
      "aist\n",
      "aisw\n",
      "aitw\n",
      "astw\n",
      "cist\n",
      "cisw\n",
      "citw\n",
      "istw\n"
     ]
    }
   ],
   "source": [
    "from itertools import combinations\n",
    "L = 4\n",
    "C = 6\n",
    "arr = ['a','t','c','i','s','w']\n",
    "vowel = ['a','e','i','o','u']\n",
    "\n",
    "arr.sort()\n",
    "result = list(combinations(arr,4))\n",
    "for r in result:\n",
    "    vowel_count = 0\n",
    "    consonant_count = 0\n",
    "    for i in r:\n",
    "        if i in vowel:\n",
    "            vowel_count+=1\n",
    "        else:\n",
    "            consonant_count+=1\n",
    "    if vowel_count>=1 and consonant_count>=2:\n",
    "        print(''.join(r))\n",
    "    \n"
   ]
  }
 ],
 "metadata": {
  "kernelspec": {
   "display_name": "Python 3 (ipykernel)",
   "language": "python",
   "name": "python3"
  },
  "language_info": {
   "codemirror_mode": {
    "name": "ipython",
    "version": 3
   },
   "file_extension": ".py",
   "mimetype": "text/x-python",
   "name": "python",
   "nbconvert_exporter": "python",
   "pygments_lexer": "ipython3",
   "version": "3.11.5"
  }
 },
 "nbformat": 4,
 "nbformat_minor": 5
}

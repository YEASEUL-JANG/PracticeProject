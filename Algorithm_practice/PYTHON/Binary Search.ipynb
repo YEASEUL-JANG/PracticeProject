{
 "cells": [
  {
   "cell_type": "code",
   "execution_count": null,
   "id": "fffcbc39-7adc-469b-af13-fec32b62081e",
   "metadata": {},
   "outputs": [],
   "source": [
    "## 재귀함수로 이진탐색 구현\n",
    "n,target = list(map(int,input().split()))\n",
    "\n",
    "array = list(map(int,input().split()))\n",
    "array.sort()\n",
    "\n",
    "def binary(array,target,start,end):\n",
    "    if start > end:\n",
    "        return -1\n",
    "    mid = (start + end) // 2\n",
    "    \n",
    "    #중간값과 target 비교 \n",
    "    if target<array[mid]:\n",
    "        return binary(array,target,start,mid-1)\n",
    "    elif target>array[mid]:\n",
    "        return binary(array,target,mid+1,end)\n",
    "    elif target==array[mid]:\n",
    "        return mid\n",
    "\n",
    "\n",
    "answer = binary(array,target,0,n-1)\n",
    "print(answer)"
   ]
  },
  {
   "cell_type": "code",
   "execution_count": null,
   "id": "9ea5fb02-0cb5-4609-9302-d7a593bd29f4",
   "metadata": {},
   "outputs": [],
   "source": [
    "array1에 array2의 요소들이 포함되어있는지 확인하는 코드를 짜시오\n",
    "\n",
    "입력코드\n",
    "\n",
    "8 3 7 9 2\n",
    "5 7 9"
   ]
  },
  {
   "cell_type": "code",
   "execution_count": null,
   "id": "fec4abf5-0c42-4da1-8c60-2aa811ce625e",
   "metadata": {},
   "outputs": [],
   "source": [
    "array1=[8,3,7,9,2]\n",
    "array2=[5,7,9]\n",
    "\n",
    "##array1에 array2가 있는지 확인\n",
    "answer = []\n",
    "\n",
    "array1.sort()\n",
    "\n",
    "def binary(array1,target,start,end):\n",
    "    if start>end:\n",
    "        return \"no\"\n",
    "    mid = (start+end)//2 \n",
    "    \n",
    "    if target == array1[mid] :\n",
    "        return \"yes\"\n",
    "    if target < array1[mid] :\n",
    "        return binary(array1,target,start,mid-1)\n",
    "    else :\n",
    "        return binary(array1,target,mid+1,end)\n",
    "        \n",
    "for a in array2:\n",
    "    answer.append(binary(array1,a,0,len(array1)-1))\n",
    "    \n",
    "    \n",
    "print(answer)\n",
    "    "
   ]
  },
  {
   "cell_type": "code",
   "execution_count": null,
   "id": "e369c1bc-f22f-4351-9383-bd6ea9bae6b2",
   "metadata": {},
   "outputs": [],
   "source": [
    "#집합자료형 이용\n",
    "array=[8,3,7,9,2]\n",
    "array2=[5,7,9]\n",
    "\n",
    "array1 = set(array)\n",
    "\n",
    "##array1에 array2가 있는지 확인\n",
    "answer = []\n",
    "\n",
    "for a in array2:\n",
    "    if a in array1:\n",
    "        answer.append('yes')\n",
    "    else:\n",
    "        answer.append('no')\n",
    "    \n",
    "    \n",
    "print(answer)"
   ]
  },
  {
   "cell_type": "code",
   "execution_count": null,
   "id": "025cc088-9690-40e7-92ab-f4d0609a2a8e",
   "metadata": {},
   "outputs": [],
   "source": [
    "동빈이네 떡볶이 떡은 떡의 길이가 일정하지 않지만 한 봉지 안에 들어가는 떡의 총 길이는 절단기로 잘라서 맞춘다. 절단기의 높이를 H로 지정하면 줄지어진 떡을 한번에 절단한다. 높이가 H보다 긴 떡은 위의 부분이 잘릴것이고, 낮은 떡은 잘리지 않는다. \n",
    "\n",
    "예를들어 높이가 19,14,10,17 인 떡이있고 절단기 높이를 15로 지정하면 자른 뒤 높이는\n",
    "\n",
    "15,14,10,15 가 될것이다. 그리고 잘린떡의 길이는 차례로 4,0,0,2 이다. 이때 손님은 6만큼의 길이를 가져간다. \n",
    "\n",
    "손님이 왔을 때 요청한 총 길이가 M일 때 적어도 M만큼의 떡을 얻기 위해 절단기에 설정할 수 있는 높이의 최댓값을 구하는 프로그램을 작성하라\n",
    "\n",
    "입력예시\n",
    "\n",
    "4 (떡의 개수n) 6(요청한 떡의 길이)\n",
    "\n",
    "19 15 10 17\n"
   ]
  }
 ],
 "metadata": {
  "kernelspec": {
   "display_name": "Python 3 (ipykernel)",
   "language": "python",
   "name": "python3"
  },
  "language_info": {
   "codemirror_mode": {
    "name": "ipython",
    "version": 3
   },
   "file_extension": ".py",
   "mimetype": "text/x-python",
   "name": "python",
   "nbconvert_exporter": "python",
   "pygments_lexer": "ipython3",
   "version": "3.11.5"
  }
 },
 "nbformat": 4,
 "nbformat_minor": 5
}

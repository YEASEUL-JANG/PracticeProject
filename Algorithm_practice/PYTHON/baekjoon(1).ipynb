{
 "cells": [
  {
   "cell_type": "code",
   "execution_count": 13,
   "id": "c93415e6",
   "metadata": {},
   "outputs": [
    {
     "name": "stdout",
     "output_type": "stream",
     "text": [
      "([6, 13], [4, 8], [3, 6], [5, 12])\n",
      "18\n",
      "([6, 13], [4, 8], [3, 6])\n",
      "13\n",
      "([6, 13], [4, 8], [5, 12])\n",
      "15\n",
      "([6, 13], [3, 6], [5, 12])\n",
      "14\n",
      "([4, 8], [3, 6], [5, 12])\n",
      "12\n",
      "([6, 13], [4, 8])\n",
      "10\n",
      "([6, 13], [3, 6])\n",
      "9\n",
      "([6, 13], [5, 12])\n",
      "11\n",
      "([4, 8], [3, 6])\n",
      "7\n",
      "([4, 8], [5, 12])\n",
      "9\n",
      "([3, 6], [5, 12])\n",
      "8\n",
      "([6, 13],)\n",
      "6\n",
      "([4, 8],)\n",
      "4\n",
      "([3, 6],)\n",
      "3\n",
      "([5, 12],)\n",
      "5\n",
      "14\n"
     ]
    }
   ],
   "source": [
    "from itertools import combinations\n",
    "N,K = map(int,input().split()) #물건의 수, 버틸수있는 무게\n",
    "stuff = [[]for _ in range(N)]\n",
    "for i in range(N):\n",
    "    stuff[i]=list(map(int,input().split()))\n",
    "#물건의 무게와 가치\n",
    "#stuff = [[6, 13], [4, 8], [3, 6], [5, 12]]\n",
    "#무게가 K를 넘지 않는 선에서 가치의 최댓값\n",
    "loyal = []\n",
    "for i in range(1,N+1)[::-1]:#물건의 갯수 4,3,2,1\n",
    "    stuff_list = list(combinations(stuff,i))\n",
    "    for st in stuff_list:\n",
    "        print(st)\n",
    "        loyal_sum = sum(x[0]for x in st)\n",
    "        print(loyal_sum)\n",
    "        if loyal_sum<=K:\n",
    "            loyal.append(sum(x[1]for x in st))\n",
    "print(max(loyal))"
   ]
  },
  {
   "cell_type": "code",
   "execution_count": null,
   "id": "c3784551",
   "metadata": {},
   "outputs": [],
   "source": [
    "stuff = [[6, 13], [4, 8], [3, 6], [5, 12]]\n",
    "K = 7\n",
    "stuff.sort()# [3,6],[4,8],[5,12],[6,13]\n",
    "result = 0\n",
    "n = 2\n",
    "def get_sum(weight,count,start):\n",
    "     #stuff를 start부터 넣음 (count+=1)\n",
    "        # count == n개가 되면 무게계산 -> K보다 작으면 max_result 갱신\n",
    "        #-> start+=1, count초기화\n",
    "        #어느순간 n개의 합산이 K보다 크면 앞으로는 계속 큰 값만 나올것이므로 break\n",
    "        #=> max_result 반환 \n",
    "    \n",
    "        \n",
    "        \n",
    "        \n",
    "    "
   ]
  }
 ],
 "metadata": {
  "kernelspec": {
   "display_name": "Python 3 (ipykernel)",
   "language": "python",
   "name": "python3"
  },
  "language_info": {
   "codemirror_mode": {
    "name": "ipython",
    "version": 3
   },
   "file_extension": ".py",
   "mimetype": "text/x-python",
   "name": "python",
   "nbconvert_exporter": "python",
   "pygments_lexer": "ipython3",
   "version": "3.11.5"
  }
 },
 "nbformat": 4,
 "nbformat_minor": 5
}

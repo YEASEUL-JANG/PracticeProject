{
 "cells": [
  {
   "cell_type": "code",
   "execution_count": null,
   "id": "c5d5e67a",
   "metadata": {
    "scrolled": true
   },
   "outputs": [],
   "source": [
    "A, B = map(int, input().split())  # 물건의 수 A, 배낭의 최대 무게 B\n",
    "arr = []\n",
    "for i in range(A):\n",
    "    arr.append(list(map(int, input().split())))\n",
    "\n",
    "# DP 테이블 초기화: dp[i]는 무게 i일 때의 최대 가치를 저장\n",
    "dp = [0] * (B + 1)\n",
    "\n",
    "# 물건 하나씩 처리\n",
    "for weight, value in arr:\n",
    "    # 무게를 뒤에서부터 탐색하여 dp 테이블 갱신 (중복 사용 방지)\n",
    "    for i in range(B, weight - 1, -1):#7,6,5,4\n",
    "        #max(물건을 안넣을경우, 넣을경우(넣기전 최대가치 + 새물건가치)\n",
    "        dp[i] = max(dp[i], dp[i - weight] + value)\n",
    "\n",
    "# 답은 dp 테이블에서 배낭의 최대 무게 B까지 채울 수 있는 최대 가치\n",
    "print(dp[B])"
   ]
  },
  {
   "cell_type": "code",
   "execution_count": null,
   "id": "9f7ef7bd",
   "metadata": {},
   "outputs": [],
   "source": [
    "import bisect\n",
    "\n",
    "N = int(input())\n",
    "array = []#1,2,5,2\n",
    "answer = []\n",
    "for i in range(N):\n",
    "    num = int(input())\n",
    "    bisect.insort(array,num)\n",
    "    half = len(array)//2\n",
    "    if len(array)%2==0:#짝수\n",
    "        half -= 1\n",
    "    answer.append(array[half])\n",
    "    \n",
    "for a in answer:\n",
    "    print(a)"
   ]
  },
  {
   "cell_type": "code",
   "execution_count": null,
   "id": "a7384639",
   "metadata": {},
   "outputs": [],
   "source": [
    "H,W,N,M = 5,4,1,1\n",
    "\n",
    "graph = [[0]*W for _ in range(H)]\n",
    "dp = [[0]*W for _ in range(H)]\n",
    "\n",
    "def roof(graph,a,b,people):\n",
    "    if a>=H or b>=W:\n",
    "        return \n",
    "    #이미 앉았으면 리턴\n",
    "    if graph[a][b] == 1:\n",
    "        return\n",
    "    \n",
    "    \n",
    "            #앉는경우\n",
    "            graph[a][b] = 1\n",
    "            dp[a][b] = people+1\n",
    "            #세로 N칸\n",
    "            roof(graph,a+N+1,b,dp[i][j])\n",
    "            #가로 M칸\n",
    "            roof(graph,a,b+M+1,dp[i][j])\n",
    "            #앉지않을경우\n",
    "            graph[i][j] = 0\n",
    "            \n",
    "roof(graph,0,0,0)\n",
    "print(dp)\n",
    "        "
   ]
  },
  {
   "cell_type": "code",
   "execution_count": null,
   "id": "c4b7a101",
   "metadata": {},
   "outputs": [],
   "source": [
    "arrlist = []\n",
    "while True:\n",
    "    a,b,c = map(int,input().split())\n",
    "    if a==0 and b == 0 and c == 0:\n",
    "        break\n",
    "    arrlist.append([a,b,c])\n",
    "for arr in arrlist:\n",
    "    arr.sort()\n",
    "    max_d = arr[-1]\n",
    "    if sum(arr)-max_d>max_d:\n",
    "        \n",
    "        if arr[0]==arr[1]==arr[2]:\n",
    "            print(\"Equilateral\")\n",
    "        elif arr[0] == arr[1] or arr[1] == arr[2] or arr[0] == arr[2]:\n",
    "            print(\"Isosceles\")\n",
    "        else:\n",
    "            print(\"Scalene\")\n",
    "    else:\n",
    "        print(\"Invalid\")"
   ]
  },
  {
   "cell_type": "code",
   "execution_count": null,
   "id": "95e09ebc",
   "metadata": {},
   "outputs": [],
   "source": [
    "x = int(input())\n",
    "\n",
    "def get_answer(x):\n",
    "    if x == 1:\n",
    "        return 1  \n",
    "    room = 1  \n",
    "    k = 1  \n",
    "    i = 1  \n",
    "    \n",
    "    while k < x:\n",
    "        k += 6 * i  \n",
    "        room += 1\n",
    "        i += 1\n",
    "    \n",
    "    return room\n",
    "\n",
    "print(get_answer(x))\n"
   ]
  },
  {
   "cell_type": "code",
   "execution_count": null,
   "id": "e6acf494",
   "metadata": {},
   "outputs": [],
   "source": [
    "word = input()\n",
    "dic1 = {}\n",
    "def answer(word,dic1):\n",
    "    new_word = []\n",
    "    for a in word:\n",
    "        if a.islower():\n",
    "            upword = a.upper()\n",
    "        else:\n",
    "            upword = a\n",
    "        new_word.append(upword)\n",
    "        if upword in dic1:\n",
    "            dic1[upword]+=1\n",
    "        else:\n",
    "            dic1[upword] =1\n",
    "            \n",
    "answer(word,dic1)\n",
    "sorted_dic1 = sorted(dic1.items(),key=lambda x:x[1],reverse=True)\n",
    "max_value = sorted_dic1[0][1]\n",
    "max_key= []\n",
    "for a,b in dic1.items():\n",
    "    if b == max_value:\n",
    "        max_key.append(a)\n",
    "        \n",
    "if len(max_key)>1:\n",
    "    print(\"?\")\n",
    "else:\n",
    "    print(max_key[0])\n",
    "        \n",
    "    \n",
    "    \n",
    "    "
   ]
  },
  {
   "cell_type": "code",
   "execution_count": null,
   "id": "b28be7bd",
   "metadata": {},
   "outputs": [],
   "source": [
    "S = set()\n",
    "for i in range(int(input())):\n",
    "    something = list(input().split())\n",
    "    if something[0]=='all':\n",
    "        S = set(range(1,21))\n",
    "    elif something[0]=='empty':\n",
    "        S.clear()\n",
    "    else:\n",
    "        a,b = something[0], int(something[1])\n",
    "        if a=='add':\n",
    "            S.add(b)\n",
    "        elif a=='remove':\n",
    "            S.discard(b)\n",
    "        elif a=='check':\n",
    "            print(1 if b in S else 0)\n",
    "        elif a=='toggle':\n",
    "            if b in S:\n",
    "                S.remove(b)\n",
    "            else:\n",
    "                S.add(b)\n",
    "        \n",
    "\n",
    "        "
   ]
  },
  {
   "cell_type": "code",
   "execution_count": 3,
   "id": "d506651e",
   "metadata": {},
   "outputs": [
    {
     "name": "stdout",
     "output_type": "stream",
     "text": [
      "5\n",
      "SK\n"
     ]
    }
   ],
   "source": [
    "N = int(input())\n",
    "\n",
    "if N % 2 == 1:\n",
    "    print(\"SK\")  # N이 홀수면 상근이가 승리\n",
    "else:\n",
    "    print(\"CY\")  # N이 짝수면 창영이가 승리\n"
   ]
  },
  {
   "cell_type": "code",
   "execution_count": 11,
   "id": "55fd5102",
   "metadata": {
    "scrolled": true
   },
   "outputs": [
    {
     "name": "stdout",
     "output_type": "stream",
     "text": [
      "4\n",
      "1 900 901 902 903 904 905 906 907 908 909 910 911 912 913 914 915 916 917 918 919\n",
      "2 919 918 917 916 915 914 913 912 911 910 909 908 907 906 905 904 903 902 901 900\n",
      "3 901 902 903 904 905 906 907 908 909 910 911 912 913 914 915 916 917 918 919 900\n",
      "4 918 917 916 915 914 913 912 911 910 909 908 907 906 905 904 903 902 901 900 919\n",
      "1 0\n",
      "2 189\n",
      "3 19\n",
      "4 170\n"
     ]
    }
   ],
   "source": [
    "from bisect import bisect_left\n",
    "\n",
    "P = int(input())\n",
    "answer = [0]*(P+1)\n",
    "for i in range(P):\n",
    "    make = []\n",
    "    arr = list(map(int,input().split()))\n",
    "    arr.pop(0)\n",
    "    back_count = 0\n",
    "    for j in range(20):\n",
    "        index = bisect_left(make,arr[j])\n",
    "        if index != len(make): #맨끝에서지 않은것\n",
    "            back_count+=len(make) - index\n",
    "        make.insert(index,arr[j])\n",
    "    \n",
    "    answer[i+1]=back_count\n",
    "for i in range(1,len(answer)):\n",
    "    print(i,answer[i])\n"
   ]
  },
  {
   "cell_type": "code",
   "execution_count": 18,
   "id": "fa52b9fe",
   "metadata": {},
   "outputs": [
    {
     "name": "stdout",
     "output_type": "stream",
     "text": [
      "4 2\n",
      "1 3 0 0\n",
      "3 0 0 2\n",
      "4 0 2 0\n",
      "2 0 2 0\n",
      "2\n"
     ]
    }
   ],
   "source": [
    "N,K = map(int,input().split())\n",
    "arr = []\n",
    "for i in range(N):\n",
    "    map(int,input().split())\n",
    "arr.sort(key=lambda x: (x[1],x[2],x[3]))\n",
    "index = arr.index()\n",
    "print(arr)"
   ]
  },
  {
   "cell_type": "code",
   "execution_count": 22,
   "id": "0fbd8706",
   "metadata": {},
   "outputs": [
    {
     "name": "stdout",
     "output_type": "stream",
     "text": [
      "5\n",
      "55 185\n",
      "58 183\n",
      "88 186\n",
      "60 175\n",
      "46 155\n",
      "2\n",
      "2\n",
      "1\n",
      "2\n",
      "5\n"
     ]
    }
   ],
   "source": [
    "N = int(input())\n",
    "arr = []\n",
    "for i in range(N):\n",
    "    arr.append(tuple(map(int,input().split())))\n",
    "#1차 몸무게별 정렬\n",
    "sortlist = sorted(arr,key = lambda x:x[0])\n",
    "# [(46, 155), (55, 185), (58, 183), (60, 175), (88, 186)]\n",
    "sortrank = {}\n",
    "\n",
    "for i in range(N-1):\n",
    "    rank = 1\n",
    "    for j in range(i+1,N):\n",
    "        if sortlist[i][0]<sortlist[j][0] and sortlist[i][1]<sortlist[j][1]:\n",
    "            rank += 1\n",
    "            if j == N-1:\n",
    "                sortrank[sortlist[j]]=1\n",
    "    sortrank[sortlist[i]]=rank\n",
    "    \n",
    "        \n",
    "ranklist = []\n",
    "for a in arr:\n",
    "    print(sortrank[a])"
   ]
  },
  {
   "cell_type": "code",
   "execution_count": 29,
   "id": "f5bb0efd",
   "metadata": {
    "collapsed": true
   },
   "outputs": [
    {
     "name": "stdout",
     "output_type": "stream",
     "text": [
      "<a> is acceptable\n",
      "<tv> is not acceptable\n",
      "<ptoui> is not acceptable\n",
      "<bontres> is not acceptable\n",
      "<zoggax> is not acceptable\n",
      "<wiinq> is not acceptable\n",
      "<eep> is acceptable\n",
      "<houctuh> is acceptable\n"
     ]
    }
   ],
   "source": [
    "arr =[]\n",
    "vowels = \"aeiou\"\n",
    "while True:\n",
    "    str_input = input()\n",
    "    if str_input=='end':\n",
    "        break\n",
    "    arr.append(str_input)\n",
    "\n",
    "for word in arr:\n",
    "    vowel = []\n",
    "    vowel_count = 0\n",
    "    cons_count = 0\n",
    "    cons = []\n",
    "    one = False\n",
    "    two = True\n",
    "    three = True\n",
    "    for a in word:\n",
    "        if a in vowels:\n",
    "            one = True\n",
    "            cons_count = 0\n",
    "            vowel_count +=1\n",
    "            if vowel_count==3:\n",
    "                three = False\n",
    "                break\n",
    "            if vowel_count==2 and vowel[-1]==a and a not in ['e','o']:\n",
    "                two = False\n",
    "                break\n",
    "            \n",
    "            vowel.append(a)\n",
    "        else:\n",
    "            vowel_count = 0\n",
    "            cons_count +=1\n",
    "            if cons_count==2 and cons[-1]==a:\n",
    "                two = False\n",
    "                break\n",
    "            if cons_count==3:\n",
    "                three = False\n",
    "                break\n",
    "            cons.append(a)\n",
    "    if one and two and three:#모두 만족하면 \n",
    "        print('<'+word+'> is acceptable')\n",
    "    else:\n",
    "        print('<'+word+'> is not acceptable')\n",
    "        \n",
    "            "
   ]
  },
  {
   "cell_type": "code",
   "execution_count": 32,
   "id": "da599c70",
   "metadata": {
    "scrolled": true
   },
   "outputs": [
    {
     "name": "stdout",
     "output_type": "stream",
     "text": [
      "7 Y\n",
      "lms0806\n",
      "lms0806\n",
      "exponentiale\n",
      "lms0806\n",
      "jthis\n",
      "lms0806\n",
      "leo020630\n",
      "4\n"
     ]
    }
   ],
   "source": [
    "dic1 = {'Y':2,'F':3,'O':4}\n",
    "N, game = map(str,input().split())\n",
    "playpeople = dic1[game]-1\n",
    "names = set()\n",
    "for i in range(int(N)):\n",
    "    names.add(input())\n",
    "print(len(names)//playpeople)"
   ]
  },
  {
   "cell_type": "code",
   "execution_count": 35,
   "id": "9a17fa80",
   "metadata": {},
   "outputs": [
    {
     "name": "stdout",
     "output_type": "stream",
     "text": [
      "5\n",
      "_____\n",
      "__*__\n",
      "_***_\n",
      "__*__\n",
      "_*_*_\n",
      "[[0, 0, 0, 0, 0], [0, 0, 1, 0, 0], [0, 1, 1, 1, 0], [0, 0, 1, 0, 0], [0, 1, 0, 1, 0]]\n",
      "1\n"
     ]
    }
   ],
   "source": [
    "N = int(input())\n",
    "body = [[]*N for _ in range(N)]\n",
    "for i in range(N):\n",
    "    part = input()\n",
    "    for p in part:\n",
    "        if p=='*':\n",
    "            body[i].append(1)\n",
    "        else:\n",
    "            body[i].append(0)\n",
    "#머리\n",
    "def head_heart():\n",
    "    for i in range(N):\n",
    "        for j in range(N):\n",
    "            if body[i][j]==1:\n",
    "                head = (i,j)\n",
    "                heart = (i+1,j)\n",
    "                return head,heart\n",
    "def getleg():\n",
    "    head,heart = head_heart()\n",
    "    #팔길이\n",
    "    \n",
    "    \n",
    "\n",
    "        \n",
    "        "
   ]
  },
  {
   "cell_type": "code",
   "execution_count": 45,
   "id": "02214604",
   "metadata": {},
   "outputs": [
    {
     "name": "stdout",
     "output_type": "stream",
     "text": [
      "5\n",
      "_____\n",
      "__*__\n",
      "_***_\n",
      "__*__\n",
      "_*_*_\n",
      "3 3\n",
      "1 1 1 1 1\n"
     ]
    }
   ],
   "source": [
    "N = int(input())\n",
    "heart = (N,N)\n",
    "head = False\n",
    "left,right,left_l,right_l,waist = 0,0,0,0,0\n",
    "for i in range(N):\n",
    "    part = input()\n",
    "    #머리,심장\n",
    "    if not head and '*' in part:\n",
    "        index = part.find('*')\n",
    "        head = (i,index)\n",
    "        heart = (i+1,index)\n",
    "    #팔\n",
    "    if i == heart[0]:\n",
    "        left= heart[1] - part.find('*')\n",
    "        right = part.rfind('*')-heart[1]\n",
    "        \n",
    "    #다리\n",
    "    if i > heart[0]:\n",
    "        if part.find('*')<heart[1]:\n",
    "            left_l+=1\n",
    "        if part.rfind('*')>heart[1]:\n",
    "            right_l+=1\n",
    "        if part.find('*')== heart[1]:\n",
    "            waist+=1\n",
    "print(heart[0]+1,heart[1]+1)\n",
    "print(left,right,waist,left_l,right_l)\n",
    "        \n",
    "        \n",
    "        \n",
    "\n"
   ]
  },
  {
   "cell_type": "code",
   "execution_count": 39,
   "id": "89c0b996",
   "metadata": {},
   "outputs": [
    {
     "name": "stdout",
     "output_type": "stream",
     "text": [
      "1\n",
      "3\n"
     ]
    }
   ],
   "source": [
    "arr = '_***_'\n",
    "print(arr.find('*'))\n",
    "print(arr.rfind('*'))"
   ]
  },
  {
   "cell_type": "code",
   "execution_count": 73,
   "id": "fd6f334d",
   "metadata": {},
   "outputs": [
    {
     "name": "stdout",
     "output_type": "stream",
     "text": [
      "10 1 10\n",
      "10 9 8 7 6 5 4 3 2 1\n",
      "-1\n"
     ]
    }
   ],
   "source": [
    "n, new, p = map(int,input().split())\n",
    "if n:\n",
    "    score = list(map(int,input().split()))\n",
    "    score.append(new)\n",
    "    score.sort(reverse=True) #10,9,8,..\n",
    "    idx = score.index(new)+1\n",
    "    if idx > p:\n",
    "        print(-1)\n",
    "    else:\n",
    "        if n == p and new == score[-1]:\n",
    "            print(-1)\n",
    "        else:\n",
    "            print(idx)\n",
    "else:\n",
    "    print(1)"
   ]
  }
 ],
 "metadata": {
  "kernelspec": {
   "display_name": "Python 3 (ipykernel)",
   "language": "python",
   "name": "python3"
  },
  "language_info": {
   "codemirror_mode": {
    "name": "ipython",
    "version": 3
   },
   "file_extension": ".py",
   "mimetype": "text/x-python",
   "name": "python",
   "nbconvert_exporter": "python",
   "pygments_lexer": "ipython3",
   "version": "3.11.5"
  }
 },
 "nbformat": 4,
 "nbformat_minor": 5
}

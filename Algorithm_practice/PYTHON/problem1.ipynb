{
 "cells": [
  {
   "cell_type": "code",
   "execution_count": 2,
   "id": "9cb2716d",
   "metadata": {},
   "outputs": [
    {
     "name": "stdout",
     "output_type": "stream",
     "text": [
      "1500035500153\n",
      "NO\n"
     ]
    }
   ],
   "source": [
    "## 모든 소인수가 1,000,000 보다 크다면 'YES'그렇지 않으면 'NO'\n",
    "\n",
    "TC = int(input()) # 1000036000099\n",
    "\n",
    "for i in range(2,1_000_001):\n",
    "    if TC % i ==0:\n",
    "        print('NO')\n",
    "        break\n",
    "    if i == 1_000_000:\n",
    "        print('YES')\n",
    "        break"
   ]
  },
  {
   "cell_type": "code",
   "execution_count": 6,
   "id": "24036067",
   "metadata": {},
   "outputs": [
    {
     "name": "stdout",
     "output_type": "stream",
     "text": [
      "6\n",
      "1\n"
     ]
    }
   ],
   "source": [
    "## 6개의 사탕 분배하기\n",
    "\n",
    "candy = int(input()) #6\n",
    "answer = 0\n",
    "for A in range(0,candy+1):\n",
    "    for B in range(0,candy+1):\n",
    "        for C in range(0,candy+1):\n",
    "            if A+B+C==candy:\n",
    "                if A >= B+2 :\n",
    "                    if A != 0 and B !=0 and C !=0 :\n",
    "                        if C%2==0:\n",
    "                            answer+=1\n",
    "print(answer)"
   ]
  },
  {
   "cell_type": "code",
   "execution_count": 3,
   "id": "3ea4fb05",
   "metadata": {},
   "outputs": [
    {
     "name": "stdout",
     "output_type": "stream",
     "text": [
      "2 -1\n"
     ]
    }
   ],
   "source": [
    "dict1 = {'A':1,'B':3,'C':-1,'D':4,'E':1,'F':7}\n",
    "\n",
    "for x in range(-10000,10001):\n",
    "    for y in range(-10000,10001):\n",
    "        if dict1['A']*x + dict1['B']*y == dict1['C']:\n",
    "            if dict1['D'] * x + dict1['E'] * y == dict1['F']:\n",
    "                print(x,y)\n"
   ]
  },
  {
   "cell_type": "code",
   "execution_count": null,
   "id": "0fa799ec",
   "metadata": {},
   "outputs": [
    {
     "name": "stdout",
     "output_type": "stream",
     "text": [
      "123 1 1\n",
      "356 1 0\n"
     ]
    }
   ],
   "source": [
    "counter = 4\n",
    "numbers = [list(map(int, input().split())) for _ in range(counter)]\n",
    "\n",
    "count = 0\n",
    "answer = 0\n",
    "\n",
    "for a in range(1, 10):\n",
    "    for b in range(1, 10):\n",
    "        for c in range(1, 10):\n",
    "            if a == b or b == c or c == a:\n",
    "                continue\n",
    "                \n",
    "            # 각 경우마다 count 값 초기화    \n",
    "            count = 0\n",
    "            \n",
    "            for array in numbers:\n",
    "                num, strike, ball = array\n",
    "                num_str = str(num)\n",
    "                strike_count = 0\n",
    "                ball_count = 0\n",
    "                \n",
    "                # 정답에 포함되어 있고, 자리도 동일하다면 1 Strike\n",
    "                if int(num_str[0]) == a:\n",
    "                    strike_count += 1\n",
    "                if int(num_str[1]) == b:\n",
    "                    strike_count += 1\n",
    "                if int(num_str[2]) == c:\n",
    "                    strike_count += 1\n",
    "                    \n",
    "                # 정답에 포함되어 있다면 1 Ball\n",
    "                if a in [int(num_str[0]), int(num_str[1]), int(num_str[2])] and a != int(num_str[0]):\n",
    "                    ball_count += 1\n",
    "                if b in [int(num_str[0]), int(num_str[1]), int(num_str[2])] and b != int(num_str[1]):\n",
    "                    ball_count += 1\n",
    "                if c in [int(num_str[0]), int(num_str[1]), int(num_str[2])] and c != int(num_str[2]):\n",
    "                    ball_count += 1\n",
    "                    \n",
    "                if strike == strike_count and ball == ball_count:\n",
    "                    count += 1\n",
    "                \n",
    "            if counter == count:\n",
    "                answer += 1\n",
    "\n",
    "print(answer)\n"
   ]
  },
  {
   "cell_type": "code",
   "execution_count": 15,
   "id": "771e04cd",
   "metadata": {},
   "outputs": [
    {
     "ename": "TypeError",
     "evalue": "'int' object is not subscriptable",
     "output_type": "error",
     "traceback": [
      "\u001b[0;31m---------------------------------------------------------------------------\u001b[0m",
      "\u001b[0;31mTypeError\u001b[0m                                 Traceback (most recent call last)",
      "Cell \u001b[0;32mIn[15], line 2\u001b[0m\n\u001b[1;32m      1\u001b[0m num \u001b[38;5;241m=\u001b[39m \u001b[38;5;241m123\u001b[39m\n\u001b[0;32m----> 2\u001b[0m \u001b[38;5;28mprint\u001b[39m(num[\u001b[38;5;241m0\u001b[39m])\n",
      "\u001b[0;31mTypeError\u001b[0m: 'int' object is not subscriptable"
     ]
    }
   ],
   "source": [
    "num = 123\n",
    "print(num[0])"
   ]
  }
 ],
 "metadata": {
  "kernelspec": {
   "display_name": "Python 3 (ipykernel)",
   "language": "python",
   "name": "python3"
  },
  "language_info": {
   "codemirror_mode": {
    "name": "ipython",
    "version": 3
   },
   "file_extension": ".py",
   "mimetype": "text/x-python",
   "name": "python",
   "nbconvert_exporter": "python",
   "pygments_lexer": "ipython3",
   "version": "3.11.5"
  }
 },
 "nbformat": 4,
 "nbformat_minor": 5
}

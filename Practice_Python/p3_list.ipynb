{
 "cells": [
  {
   "cell_type": "code",
   "execution_count": 2,
   "id": "e5889a5f",
   "metadata": {},
   "outputs": [],
   "source": [
    "location= ['서울시','경기도','인천시']"
   ]
  },
  {
   "cell_type": "code",
   "execution_count": 3,
   "id": "7d6803a8",
   "metadata": {},
   "outputs": [
    {
     "name": "stdout",
     "output_type": "stream",
     "text": [
      "['서울시', '경기도', '인천시']\n"
     ]
    }
   ],
   "source": [
    "print(location)"
   ]
  },
  {
   "cell_type": "code",
   "execution_count": 3,
   "id": "cfee180f",
   "metadata": {},
   "outputs": [],
   "source": [
    "location.append('부산시')"
   ]
  },
  {
   "cell_type": "code",
   "execution_count": 7,
   "id": "b8170eb8",
   "metadata": {},
   "outputs": [
    {
     "name": "stdout",
     "output_type": "stream",
     "text": [
      "['서울시', '경기도', '인천시', '부산시']\n",
      "서울시\n",
      "부산시\n"
     ]
    }
   ],
   "source": [
    "print(location)\n",
    "print(location[0])\n",
    "print(location[-1])"
   ]
  },
  {
   "cell_type": "code",
   "execution_count": 4,
   "id": "03041bf9",
   "metadata": {},
   "outputs": [],
   "source": [
    "location.remove('경기도')"
   ]
  },
  {
   "cell_type": "code",
   "execution_count": 5,
   "id": "2e6e8d20",
   "metadata": {},
   "outputs": [
    {
     "name": "stdout",
     "output_type": "stream",
     "text": [
      "['서울시', '인천시', '부산시']\n"
     ]
    }
   ],
   "source": [
    "print(location)"
   ]
  },
  {
   "cell_type": "code",
   "execution_count": 6,
   "id": "b0435cc4",
   "metadata": {},
   "outputs": [],
   "source": [
    "del location[-1]"
   ]
  },
  {
   "cell_type": "code",
   "execution_count": 7,
   "id": "2db35f0b",
   "metadata": {},
   "outputs": [
    {
     "name": "stdout",
     "output_type": "stream",
     "text": [
      "['서울시', '인천시']\n"
     ]
    }
   ],
   "source": [
    "print(location)"
   ]
  },
  {
   "cell_type": "code",
   "execution_count": 9,
   "id": "75fea88f",
   "metadata": {},
   "outputs": [],
   "source": [
    "location = list()"
   ]
  },
  {
   "cell_type": "code",
   "execution_count": 10,
   "id": "a23f9c68",
   "metadata": {},
   "outputs": [],
   "source": [
    "location.append('서울시')"
   ]
  },
  {
   "cell_type": "code",
   "execution_count": 12,
   "id": "bcc07332",
   "metadata": {},
   "outputs": [],
   "source": [
    "location.append('인천시')"
   ]
  },
  {
   "cell_type": "code",
   "execution_count": 14,
   "id": "0a0db32e",
   "metadata": {},
   "outputs": [],
   "source": [
    "location.append(2)"
   ]
  },
  {
   "cell_type": "code",
   "execution_count": 15,
   "id": "b4eb8e4e",
   "metadata": {},
   "outputs": [],
   "source": [
    "location.append(False)"
   ]
  },
  {
   "cell_type": "code",
   "execution_count": 16,
   "id": "39ee409b",
   "metadata": {},
   "outputs": [
    {
     "name": "stdout",
     "output_type": "stream",
     "text": [
      "['서울시', '인천시', 2, False]\n"
     ]
    }
   ],
   "source": [
    "print(location)"
   ]
  },
  {
   "cell_type": "code",
   "execution_count": 17,
   "id": "f2a89a63",
   "metadata": {},
   "outputs": [
    {
     "name": "stdout",
     "output_type": "stream",
     "text": [
      "[1, 2, 4, 5]\n"
     ]
    }
   ],
   "source": [
    "numbers = [2,1,4,5]\n",
    "numbers.sort()\n",
    "print(numbers)"
   ]
  },
  {
   "cell_type": "code",
   "execution_count": 18,
   "id": "b150b45c",
   "metadata": {},
   "outputs": [
    {
     "name": "stdout",
     "output_type": "stream",
     "text": [
      "[5, 4, 2, 1]\n"
     ]
    }
   ],
   "source": [
    "numbers.reverse()\n",
    "print(numbers)"
   ]
  },
  {
   "cell_type": "code",
   "execution_count": 26,
   "id": "9925a4cf",
   "metadata": {},
   "outputs": [
    {
     "data": {
      "text/plain": [
       "['python', 'is', 'easy']"
      ]
     },
     "execution_count": 26,
     "metadata": {},
     "output_type": "execute_result"
    }
   ],
   "source": [
    "my_string = \"python is easy\"\n",
    "my_string.split(\"s\")\n",
    "my_string.split()\n"
   ]
  },
  {
   "cell_type": "code",
   "execution_count": null,
   "id": "868e2761",
   "metadata": {},
   "outputs": [],
   "source": []
  }
 ],
 "metadata": {
  "kernelspec": {
   "display_name": "Python 3 (ipykernel)",
   "language": "python",
   "name": "python3"
  },
  "language_info": {
   "codemirror_mode": {
    "name": "ipython",
    "version": 3
   },
   "file_extension": ".py",
   "mimetype": "text/x-python",
   "name": "python",
   "nbconvert_exporter": "python",
   "pygments_lexer": "ipython3",
   "version": "3.11.5"
  }
 },
 "nbformat": 4,
 "nbformat_minor": 5
}

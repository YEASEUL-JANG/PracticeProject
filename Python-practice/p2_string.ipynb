{
 "cells": [
  {
   "cell_type": "code",
   "execution_count": 7,
   "id": "2947eeab",
   "metadata": {},
   "outputs": [],
   "source": [
    "article = \"\"\"\n",
    "The winner of the best picture Oscar has taken a total of £11.5m at the box office since its release on 7 February.\n",
    "\n",
    "Its success ends the reign of The Passion of the Christ, which had held the top spot with £11.1m since 2004.\n",
    "\n",
    "Bong Joon Ho's black comedy made history as the first international film to win the best picture Oscar.\n",
    "\"\"\""
   ]
  },
  {
   "cell_type": "code",
   "execution_count": 11,
   "id": "d6824bee",
   "metadata": {},
   "outputs": [
    {
     "name": "stdout",
     "output_type": "stream",
     "text": [
      "332\n",
      "1\n",
      "\n",
      "The winner of the best picture Oscar has taken a total of £11.5m at the box office since its release on 7 February.\n",
      "\n",
      "Its success ends the reign of The Passion of the Christ, which had held the top spot with £11.1m since 2004.\n",
      "\n",
      "Jang Joon Ho's black comedy made history as the first international film to win the best picture Oscar.\n",
      "\n"
     ]
    }
   ],
   "source": [
    "print(len(article))\n",
    "print(article.count(\"Joon\"))\n",
    "print(article.replace(\"Bong\",\"Jang\"))"
   ]
  },
  {
   "cell_type": "code",
   "execution_count": 13,
   "id": "c437f693",
   "metadata": {},
   "outputs": [
    {
     "data": {
      "text/plain": [
       "'n'"
      ]
     },
     "execution_count": 13,
     "metadata": {},
     "output_type": "execute_result"
    }
   ],
   "source": [
    "some_string = \"python\"\n",
    "some_string[-1]"
   ]
  },
  {
   "cell_type": "code",
   "execution_count": 15,
   "id": "ffca6ff2",
   "metadata": {},
   "outputs": [
    {
     "data": {
      "text/plain": [
       "'ho'"
      ]
     },
     "execution_count": 15,
     "metadata": {},
     "output_type": "execute_result"
    }
   ],
   "source": [
    "some_string[3:5]"
   ]
  },
  {
   "cell_type": "code",
   "execution_count": 16,
   "id": "88185664",
   "metadata": {},
   "outputs": [
    {
     "name": "stdout",
     "output_type": "stream",
     "text": [
      "computer\n",
      "DaveLee...\n",
      ",,,DaveLee\n"
     ]
    }
   ],
   "source": [
    "some_string = \"   computer     \"\n",
    "print(some_string.strip())\n",
    "some_string = \",,,DaveLee...\"\n",
    "print(some_string.strip(\",\"))\n",
    "print(some_string.strip(\".\"))"
   ]
  },
  {
   "cell_type": "code",
   "execution_count": 17,
   "id": "f295c1a2",
   "metadata": {},
   "outputs": [
    {
     "name": "stdout",
     "output_type": "stream",
     "text": [
      "I have a pen, I have an apple\n"
     ]
    }
   ],
   "source": [
    "print(\"I have a {}, I have an {}\".format(\"pen\",\"apple\"))"
   ]
  },
  {
   "cell_type": "code",
   "execution_count": 18,
   "id": "f24102c7",
   "metadata": {},
   "outputs": [
    {
     "name": "stdout",
     "output_type": "stream",
     "text": [
      "0.09\n"
     ]
    }
   ],
   "source": [
    "interest = 0.087\n",
    "print(format(interest,\".2f\"))"
   ]
  }
 ],
 "metadata": {
  "kernelspec": {
   "display_name": "Python 3 (ipykernel)",
   "language": "python",
   "name": "python3"
  },
  "language_info": {
   "codemirror_mode": {
    "name": "ipython",
    "version": 3
   },
   "file_extension": ".py",
   "mimetype": "text/x-python",
   "name": "python",
   "nbconvert_exporter": "python",
   "pygments_lexer": "ipython3",
   "version": "3.11.5"
  }
 },
 "nbformat": 4,
 "nbformat_minor": 5
}

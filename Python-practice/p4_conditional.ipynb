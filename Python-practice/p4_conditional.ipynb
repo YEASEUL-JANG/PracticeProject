{
 "cells": [
  {
   "cell_type": "code",
   "execution_count": 1,
   "metadata": {},
   "outputs": [
    {
     "name": "stdin",
     "output_type": "stream",
     "text": [
      "나이? 50\n"
     ]
    },
    {
     "name": "stdout",
     "output_type": "stream",
     "text": [
      "당신은 성인입니다.\n"
     ]
    }
   ],
   "source": [
    "age = int(input(\"나이?\"))\n",
    "if age>=20:\n",
    "    print(\"당신은 성인입니다.\")"
   ]
  },
  {
   "cell_type": "code",
   "execution_count": 2,
   "metadata": {},
   "outputs": [
    {
     "name": "stdin",
     "output_type": "stream",
     "text": [
      "철수나이? 17\n",
      "영희나이? 20\n"
     ]
    }
   ],
   "source": [
    "age1 = int(input(\"철수나이?\"))\n",
    "age2 = int(input(\"영희나이?\"))\n",
    "if age1>=19 and age2>=19:\n",
    "    print(\"두명 다 19 세 이상입니다.\")"
   ]
  },
  {
   "cell_type": "code",
   "execution_count": 3,
   "metadata": {},
   "outputs": [
    {
     "name": "stdin",
     "output_type": "stream",
     "text": [
      "철수나이? 18\n"
     ]
    },
    {
     "name": "stdout",
     "output_type": "stream",
     "text": [
      "19 세 미만입니다.\n"
     ]
    }
   ],
   "source": [
    "age1 = int(input(\"철수나이?\"))\n",
    "if not age1>20:\n",
    "    print(\"19 세 미만입니다.\")"
   ]
  },
  {
   "cell_type": "code",
   "execution_count": 4,
   "metadata": {},
   "outputs": [
    {
     "name": "stdin",
     "output_type": "stream",
     "text": [
      "철수나이? 40\n"
     ]
    },
    {
     "name": "stdout",
     "output_type": "stream",
     "text": [
      "당신은 성인입니다.\n"
     ]
    }
   ],
   "source": [
    "age = int(input(\"철수나이?\"))\n",
    "if  age>=19:\n",
    "    print(\"당신은 성인입니다.\")\n",
    "elif age >=13 and age<19:\n",
    "\t\tprint(\"당신은 청소년입니다.\")\n",
    "else:\n",
    "    print(\"당신은 유아입니다.\")"
   ]
  },
  {
   "cell_type": "code",
   "execution_count": 5,
   "metadata": {},
   "outputs": [
    {
     "name": "stdout",
     "output_type": "stream",
     "text": [
      "go home\n"
     ]
    }
   ],
   "source": [
    "cash = 3000\n",
    "\n",
    "if cash > 1000000:\n",
    "    print(\"go to restaurant\")\n",
    "else:\n",
    "    if cash > 5000:\n",
    "        print(\"go to 김밥천국\")\n",
    "    else:\n",
    "        print(\"go home\")"
   ]
  },
  {
   "cell_type": "code",
   "execution_count": null,
   "metadata": {},
   "outputs": [],
   "source": []
  }
 ],
 "metadata": {
  "kernelspec": {
   "display_name": "Python 3 (ipykernel)",
   "language": "python",
   "name": "python3"
  },
  "language_info": {
   "codemirror_mode": {
    "name": "ipython",
    "version": 3
   },
   "file_extension": ".py",
   "mimetype": "text/x-python",
   "name": "python",
   "nbconvert_exporter": "python",
   "pygments_lexer": "ipython3",
   "version": "3.11.0"
  }
 },
 "nbformat": 4,
 "nbformat_minor": 4
}

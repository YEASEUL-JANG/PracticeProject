{
 "cells": [
  {
   "cell_type": "code",
   "execution_count": 2,
   "id": "564166cc",
   "metadata": {},
   "outputs": [],
   "source": [
    "def func1():\n",
    "    print(\"Hello!\")"
   ]
  },
  {
   "cell_type": "code",
   "execution_count": 3,
   "id": "5f339eec",
   "metadata": {},
   "outputs": [
    {
     "name": "stdout",
     "output_type": "stream",
     "text": [
      "Hello!\n"
     ]
    }
   ],
   "source": [
    "func1()"
   ]
  },
  {
   "cell_type": "code",
   "execution_count": 6,
   "id": "f89fd71d",
   "metadata": {},
   "outputs": [],
   "source": [
    "def func1(parameter):\n",
    "    print(\"Hello!\",parameter)"
   ]
  },
  {
   "cell_type": "code",
   "execution_count": 7,
   "id": "eb1435d0",
   "metadata": {},
   "outputs": [
    {
     "name": "stdout",
     "output_type": "stream",
     "text": [
      "Hello! jang\n"
     ]
    }
   ],
   "source": [
    "func1(\"jang\")"
   ]
  },
  {
   "cell_type": "code",
   "execution_count": 10,
   "id": "2cb070fb",
   "metadata": {},
   "outputs": [],
   "source": [
    "def func2(data1,data2):\n",
    "    y = data1+data2\n",
    "    return y"
   ]
  },
  {
   "cell_type": "code",
   "execution_count": 11,
   "id": "7fa573d6",
   "metadata": {},
   "outputs": [
    {
     "name": "stdout",
     "output_type": "stream",
     "text": [
      "7\n"
     ]
    }
   ],
   "source": [
    "x = func2(3,4)\n",
    "print(x)"
   ]
  },
  {
   "cell_type": "code",
   "execution_count": 14,
   "id": "1d922cab",
   "metadata": {},
   "outputs": [],
   "source": [
    "def func_return(a):\n",
    "    print(\"This is function with return\"+str(a))"
   ]
  },
  {
   "cell_type": "code",
   "execution_count": 15,
   "id": "9c2b4513",
   "metadata": {},
   "outputs": [
    {
     "name": "stdout",
     "output_type": "stream",
     "text": [
      "This is function with return3\n"
     ]
    }
   ],
   "source": [
    "func_return(3)"
   ]
  },
  {
   "cell_type": "code",
   "execution_count": null,
   "id": "ec0a4a27",
   "metadata": {},
   "outputs": [],
   "source": [
    "def mal_return(a):\n",
    "    b = a+1\n",
    "    return a,b"
   ]
  },
  {
   "cell_type": "code",
   "execution_count": 17,
   "id": "b091b0f1",
   "metadata": {},
   "outputs": [],
   "source": [
    "def id_check(id):\n",
    "\tif id == \"admin\":\n",
    "\t\tprint(\"invalid id: admin\")\n",
    "\t\treturn\n",
    "\tprint(\"valid id : \",id)"
   ]
  },
  {
   "cell_type": "code",
   "execution_count": 19,
   "id": "22d4f35c",
   "metadata": {},
   "outputs": [
    {
     "name": "stdout",
     "output_type": "stream",
     "text": [
      "valid id :  user\n"
     ]
    }
   ],
   "source": [
    "id_check(\"user\")"
   ]
  }
 ],
 "metadata": {
  "kernelspec": {
   "display_name": "Python 3 (ipykernel)",
   "language": "python",
   "name": "python3"
  },
  "language_info": {
   "codemirror_mode": {
    "name": "ipython",
    "version": 3
   },
   "file_extension": ".py",
   "mimetype": "text/x-python",
   "name": "python",
   "nbconvert_exporter": "python",
   "pygments_lexer": "ipython3",
   "version": "3.11.5"
  }
 },
 "nbformat": 4,
 "nbformat_minor": 5
}

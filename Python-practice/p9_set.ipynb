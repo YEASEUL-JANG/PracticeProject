{
 "cells": [
  {
   "cell_type": "code",
   "execution_count": 1,
   "id": "0ed4d621",
   "metadata": {},
   "outputs": [],
   "source": [
    "set1 = {'apple','del'}"
   ]
  },
  {
   "cell_type": "code",
   "execution_count": 3,
   "id": "729bed19",
   "metadata": {},
   "outputs": [],
   "source": [
    "set2= set('apple')"
   ]
  },
  {
   "cell_type": "code",
   "execution_count": 4,
   "id": "417acbe6",
   "metadata": {},
   "outputs": [
    {
     "data": {
      "text/plain": [
       "{'a', 'e', 'l', 'p'}"
      ]
     },
     "execution_count": 4,
     "metadata": {},
     "output_type": "execute_result"
    }
   ],
   "source": [
    "set2"
   ]
  },
  {
   "cell_type": "code",
   "execution_count": 5,
   "id": "e581dabf",
   "metadata": {},
   "outputs": [
    {
     "data": {
      "text/plain": [
       "{'apple', 'del'}"
      ]
     },
     "execution_count": 5,
     "metadata": {},
     "output_type": "execute_result"
    }
   ],
   "source": [
    "set1"
   ]
  },
  {
   "cell_type": "code",
   "execution_count": 6,
   "id": "faa5eebb",
   "metadata": {},
   "outputs": [
    {
     "name": "stdout",
     "output_type": "stream",
     "text": [
      "p\n",
      "e\n",
      "a\n",
      "l\n"
     ]
    }
   ],
   "source": [
    "for a in set2:\n",
    "    print(a)"
   ]
  },
  {
   "cell_type": "code",
   "execution_count": 7,
   "id": "77409c11",
   "metadata": {},
   "outputs": [],
   "source": [
    "set1 = {'apple','samsung','del','lg'}"
   ]
  },
  {
   "cell_type": "code",
   "execution_count": 8,
   "id": "1e72f3d9",
   "metadata": {},
   "outputs": [],
   "source": [
    "data1 = {'apple','samsung','lg'}"
   ]
  },
  {
   "cell_type": "code",
   "execution_count": 9,
   "id": "3d46224d",
   "metadata": {},
   "outputs": [],
   "source": [
    "data2 = {'xaiomi','samsung','lg'}"
   ]
  },
  {
   "cell_type": "code",
   "execution_count": 10,
   "id": "1184d1c2",
   "metadata": {},
   "outputs": [
    {
     "data": {
      "text/plain": [
       "{'lg', 'samsung'}"
      ]
     },
     "execution_count": 10,
     "metadata": {},
     "output_type": "execute_result"
    }
   ],
   "source": [
    "data1 & data2"
   ]
  },
  {
   "cell_type": "code",
   "execution_count": 11,
   "id": "4c3b029c",
   "metadata": {},
   "outputs": [
    {
     "data": {
      "text/plain": [
       "{'apple', 'lg', 'samsung', 'xaiomi'}"
      ]
     },
     "execution_count": 11,
     "metadata": {},
     "output_type": "execute_result"
    }
   ],
   "source": [
    "data1 | data2"
   ]
  },
  {
   "cell_type": "code",
   "execution_count": 12,
   "id": "e37f90b0",
   "metadata": {},
   "outputs": [
    {
     "data": {
      "text/plain": [
       "{'apple'}"
      ]
     },
     "execution_count": 12,
     "metadata": {},
     "output_type": "execute_result"
    }
   ],
   "source": [
    "data1 - data2"
   ]
  },
  {
   "cell_type": "code",
   "execution_count": 13,
   "id": "d66c6b84",
   "metadata": {},
   "outputs": [
    {
     "data": {
      "text/plain": [
       "{'xaiomi'}"
      ]
     },
     "execution_count": 13,
     "metadata": {},
     "output_type": "execute_result"
    }
   ],
   "source": [
    "data2 - data1"
   ]
  },
  {
   "cell_type": "code",
   "execution_count": 17,
   "id": "3705dbe9",
   "metadata": {},
   "outputs": [
    {
     "name": "stdout",
     "output_type": "stream",
     "text": [
      "['del', 'samsung', 'lg', 'apple']\n"
     ]
    }
   ],
   "source": [
    "set1 = {'apple','samsung','del','lg','apple','samsung','del','lg'}\n",
    "print(list(set1))"
   ]
  },
  {
   "cell_type": "code",
   "execution_count": 18,
   "id": "e6125302",
   "metadata": {},
   "outputs": [
    {
     "name": "stdout",
     "output_type": "stream",
     "text": [
      "del\n",
      "samsung\n",
      "lg\n",
      "apple\n"
     ]
    }
   ],
   "source": [
    "for a in set1:\n",
    "    print(a)"
   ]
  }
 ],
 "metadata": {
  "kernelspec": {
   "display_name": "Python 3 (ipykernel)",
   "language": "python",
   "name": "python3"
  },
  "language_info": {
   "codemirror_mode": {
    "name": "ipython",
    "version": 3
   },
   "file_extension": ".py",
   "mimetype": "text/x-python",
   "name": "python",
   "nbconvert_exporter": "python",
   "pygments_lexer": "ipython3",
   "version": "3.11.5"
  }
 },
 "nbformat": 4,
 "nbformat_minor": 5
}
